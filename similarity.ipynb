{
 "cells": [
  {
   "cell_type": "markdown",
   "metadata": {},
   "source": [
    "Визуализация линейных разделителей и векторов коэффициентов"
   ]
  },
  {
   "cell_type": "code",
   "execution_count": 1,
   "metadata": {},
   "outputs": [],
   "source": [
    "import matplotlib.pyplot as plt\n",
    "import numpy as np"
   ]
  },
  {
   "cell_type": "code",
   "execution_count": 2,
   "metadata": {},
   "outputs": [],
   "source": [
    "from sklearn.datasets import make_blobs\n",
    "from sklearn.linear_model import LogisticRegression"
   ]
  },
  {
   "cell_type": "code",
   "execution_count": 3,
   "metadata": {},
   "outputs": [],
   "source": [
    "np.random.seed(1443)"
   ]
  },
  {
   "cell_type": "markdown",
   "metadata": {},
   "source": [
    "Сгенерируем двумерные точки, которые необходимо классифицировать на два класса"
   ]
  },
  {
   "cell_type": "code",
   "execution_count": 4,
   "metadata": {},
   "outputs": [],
   "source": [
    "X,y = make_blobs(n_samples=20, centers=2)"
   ]
  },
  {
   "cell_type": "code",
   "execution_count": 5,
   "metadata": {},
   "outputs": [
    {
     "name": "stdout",
     "output_type": "stream",
     "text": [
      "[0 1 1 0 1 0 1 1 1 0 1 1 1 0 0 0 0 0 1 0]\n",
      "[[  3.42524647 -10.29195818]\n",
      " [  4.96386009   7.35207107]\n",
      " [  4.87420651   8.76849274]\n",
      " [  0.42299662  -8.19892494]\n",
      " [  4.66246308   8.0488778 ]\n",
      " [  2.35888287 -10.07907724]\n",
      " [  5.65360266   6.44923396]\n",
      " [  5.08614132   7.86093946]\n",
      " [  6.18501243   6.62938243]\n",
      " [  2.33795142  -9.29514493]\n",
      " [  6.29548353   9.52057808]\n",
      " [  6.33303799   7.1637598 ]\n",
      " [  6.79900874   6.0735903 ]\n",
      " [  2.59361786 -11.66658405]\n",
      " [  1.46789252 -10.45087826]\n",
      " [  3.62023073 -11.26110036]\n",
      " [  4.07776176 -11.10505408]\n",
      " [  1.02405117 -10.09418457]\n",
      " [  7.65423998   8.48828069]\n",
      " [  2.72311971 -10.28194693]]\n"
     ]
    }
   ],
   "source": [
    "print(y)\n",
    "print(X)"
   ]
  },
  {
   "cell_type": "code",
   "execution_count": 6,
   "metadata": {},
   "outputs": [],
   "source": [
    "from matplotlib.colors import ListedColormap"
   ]
  },
  {
   "cell_type": "code",
   "execution_count": 7,
   "metadata": {},
   "outputs": [],
   "source": [
    "cm = ListedColormap(['blue', 'green'])"
   ]
  },
  {
   "cell_type": "markdown",
   "metadata": {},
   "source": [
    "Отобразим их на плоскости. Экземпляры класса 1 показаны зелёным цветом, класса 0 - синим."
   ]
  },
  {
   "cell_type": "code",
   "execution_count": 8,
   "metadata": {},
   "outputs": [
    {
     "data": {
      "text/plain": [
       "<matplotlib.collections.PathCollection at 0x7f5fb04b82e8>"
      ]
     },
     "execution_count": 8,
     "metadata": {},
     "output_type": "execute_result"
    },
    {
     "data": {
      "image/png": "[encoded data removed]",
      "text/plain": [
       "<Figure size 432x288 with 1 Axes>"
      ]
     },
     "metadata": {
      "needs_background": "light"
     },
     "output_type": "display_data"
    }
   ],
   "source": [
    "plt.scatter(X[:,0], X[:,1], c=y, cmap=cm)"
   ]
  },
  {
   "cell_type": "markdown",
   "metadata": {},
   "source": [
    "Натренируем модель логистической регрессии. Она предсказывает вероятность класса 1 для данного экземпляра данных $\\vec{x}$ и имеет вид:\n",
    "\n",
    "$$P(c=1|\\vec{x}) = \\sigma(z)$$\n",
    "$$z = w_1x_1 + w_2x_2 + b$$\n",
    "Где функция:\n",
    "$$\\sigma(z) = \\frac{1}{1 + e^{-z}}$$ \n",
    "монотонно преобразует произвольное число $z$ в интервал $[0,1]$ (вероятность)"
   ]
  },
  {
   "cell_type": "code",
   "execution_count": 10,
   "metadata": {},
   "outputs": [],
   "source": [
    "def sigmoid(x):\n",
    "    return 1 / (1 + np.exp(-x))"
   ]
  },
  {
   "cell_type": "code",
   "execution_count": 11,
   "metadata": {},
   "outputs": [
    {
     "data": {
      "image/png": "[encoded data removed]",
      "text/plain": [
       "<Figure size 432x288 with 1 Axes>"
      ]
     },
     "metadata": {
      "needs_background": "light"
     },
     "output_type": "display_data"
    }
   ],
   "source": [
    "sigmoid_input = np.linspace(-10,10, 100)\n",
    "plt.plot(sigmoid_input, sigmoid(sigmoid_input))\n",
    "plt.show()"
   ]
  },
  {
   "cell_type": "markdown",
   "metadata": {},
   "source": [
    "Построим и обучим модель. <br>\n",
    "Под обучением подразумевается поиск таких значений параметров $w_1, w_2, b$, при которых вероятность класса 1 для экземпляров класса 1 максимизируется и наоборот, максимизируется вероятность класса 0 для экземпляров класса 0.\n",
    "Поскольку у нас всего два класса, то $P(c=0|\\vec{x}) = 1 - P(c=1|\\vec{x})$.<br>\n",
    "Вместе $p_0 = P(c=0|\\vec{x})$ и $p_1 = P(c=1|\\vec{x})$ составляют распределение вероятности над классом $P(c|\\vec{x}) = [p_0, p_1]$.\n",
    "\n",
    "Чтобы найти значение параметров при помощи градиентного спуска, нужен дифференцируемый минизируемый критерий. Один из таких критериев - кросс-энтропия распределения. Для каждого экземпляра $\\vec{x}$ имеется истинное распределение вероятности "
   ]
  },
  {
   "cell_type": "code",
   "execution_count": 12,
   "metadata": {},
   "outputs": [
    {
     "name": "stderr",
     "output_type": "stream",
     "text": [
      "/root/.pyenv/versions/3.7.3/envs/general37/lib/python3.7/site-packages/sklearn/linear_model/logistic.py:432: FutureWarning: Default solver will be changed to 'lbfgs' in 0.22. Specify a solver to silence this warning.\n",
      "  FutureWarning)\n"
     ]
    }
   ],
   "source": [
    "logr = LogisticRegression().fit(X,y)"
   ]
  },
  {
   "cell_type": "markdown",
   "metadata": {},
   "source": [
    "Вытащим её параметры."
   ]
  },
  {
   "cell_type": "code",
   "execution_count": 13,
   "metadata": {},
   "outputs": [],
   "source": [
    "w1, w2 = logr.coef_[0]\n",
    "b = logr.intercept_[0]\n",
    "# w1x1 + w2x2 + b = 0 ; x2 = -(w1x1 + b) / w2"
   ]
  },
  {
   "cell_type": "code",
   "execution_count": 14,
   "metadata": {},
   "outputs": [
    {
     "name": "stdout",
     "output_type": "stream",
     "text": [
      "[0.17178027 0.60966286]\n"
     ]
    }
   ],
   "source": [
    "print(logr.coef_[0])"
   ]
  },
  {
   "cell_type": "code",
   "execution_count": 15,
   "metadata": {},
   "outputs": [],
   "source": [
    "x_range = np.array([X[:,0].min() - .5, X[:,0].max() + .5])\n",
    "y_range = np.array([X[:,1].min() - .5, X[:,1].max() + .5])\n",
    "x_min, x_max = x_range\n",
    "y_min, y_max = y_range\n",
    "grid_x_min, grid_x_max = min(x_min, w1-1), max(x_max, w1+1)\n",
    "grid_y_min, grid_y_max = min(y_min, w2-1), max(y_max, w2+1)"
   ]
  },
  {
   "cell_type": "code",
   "execution_count": 16,
   "metadata": {},
   "outputs": [],
   "source": [
    "xx, yy = np.mgrid[grid_x_min:grid_x_max:100j, grid_y_min:grid_y_max:100j]"
   ]
  },
  {
   "cell_type": "code",
   "execution_count": 17,
   "metadata": {},
   "outputs": [
    {
     "name": "stdout",
     "output_type": "stream",
     "text": [
      "(100, 100)\n"
     ]
    }
   ],
   "source": [
    "print(xx.shape)"
   ]
  },
  {
   "cell_type": "markdown",
   "metadata": {},
   "source": [
    "Исследуем свойства модели:\n",
    "$$P(c=1|\\vec{x}) = \\sigma(z)$$\n",
    "$$z = w_1x_1 + w_2x_2 + b$$"
   ]
  },
  {
   "cell_type": "code",
   "execution_count": 18,
   "metadata": {},
   "outputs": [],
   "source": [
    "zz = w1 * xx + w2 * yy + b"
   ]
  },
  {
   "cell_type": "code",
   "execution_count": 19,
   "metadata": {},
   "outputs": [],
   "source": [
    "y_sep = -(w1 * x_range + b) / w2"
   ]
  },
  {
   "cell_type": "code",
   "execution_count": 21,
   "metadata": {},
   "outputs": [
    {
     "data": {
      "image/png": "[encoded data removed]",
      "text/plain": [
       "<Figure size 576x576 with 1 Axes>"
      ]
     },
     "metadata": {
      "needs_background": "light"
     },
     "output_type": "display_data"
    }
   ],
   "source": [
    "fig = plt.figure(figsize=(8,8))\n",
    "ax = fig.add_subplot('111')\n",
    "ax.pcolormesh(xx,yy,zz.reshape(xx.shape))\n",
    "for x1, x2 in X:\n",
    "    ax.plot([0,x1],[0,x2], color='grey')\n",
    "\n",
    "ax.plot(x_range, y_sep, color='orange')\n",
    "ax.plot([0, w1], [0, w2], color='red')\n",
    "ax.scatter(X[:,0], X[:,1], c=y, cmap=cm)\n",
    "ax.set_aspect('equal')\n",
    "plt.show()\n"
   ]
  },
  {
   "cell_type": "markdown",
   "metadata": {},
   "source": [
    "Небинарная классификация"
   ]
  },
  {
   "cell_type": "code",
   "execution_count": null,
   "metadata": {},
   "outputs": [],
   "source": [
    "X,y = make_blobs(n_samples=30, centers=4)"
   ]
  },
  {
   "cell_type": "code",
   "execution_count": null,
   "metadata": {},
   "outputs": [],
   "source": [
    "cm = ListedColormap(['red', 'green', 'blue', 'black'])"
   ]
  },
  {
   "cell_type": "code",
   "execution_count": null,
   "metadata": {},
   "outputs": [],
   "source": [
    "plt.scatter(X[:,0], X[:,1], c=y, cmap=cm)"
   ]
  },
  {
   "cell_type": "code",
   "execution_count": null,
   "metadata": {},
   "outputs": [],
   "source": [
    "logr = LogisticRegression().fit(X,y)"
   ]
  },
  {
   "cell_type": "code",
   "execution_count": null,
   "metadata": {},
   "outputs": [],
   "source": [
    "# print(X.dot(logr.coef_.T) + logr.intercept_)"
   ]
  },
  {
   "cell_type": "code",
   "execution_count": null,
   "metadata": {},
   "outputs": [],
   "source": [
    "cm.colors[1]"
   ]
  },
  {
   "cell_type": "code",
   "execution_count": null,
   "metadata": {},
   "outputs": [],
   "source": [
    "normalized_coef = logr.coef_ / np.linalg.norm(logr.coef_, axis=1).reshape(-1,1)"
   ]
  },
  {
   "cell_type": "code",
   "execution_count": null,
   "metadata": {},
   "outputs": [],
   "source": [
    "x_range = np.array([X[:,0].min() - .5, X[:,0].max() + .5])\n",
    "y_range = np.array([X[:,1].min() - .5, X[:,1].max() + .5])\n",
    "x_min, x_max = x_range\n",
    "y_min, y_max = y_range\n",
    "grid_x_min, grid_x_max = min(x_min, w1-1), max(x_max, w1+1)\n",
    "grid_y_min, grid_y_max = min(y_min, w2-1), max(y_max, w2+1)"
   ]
  },
  {
   "cell_type": "code",
   "execution_count": null,
   "metadata": {},
   "outputs": [],
   "source": [
    "xx, yy = np.mgrid[grid_x_min:grid_x_max:200j, grid_y_min:grid_y_max:200j]"
   ]
  },
  {
   "cell_type": "code",
   "execution_count": null,
   "metadata": {},
   "outputs": [],
   "source": [
    "zz = logr.predict(np.column_stack((xx.ravel(),yy.ravel()))).reshape(xx.shape)\n",
    "# zz = np.column_stack((xx.ravel(),yy.ravel())).dot(logr.coef_.T).argmax(1)\n",
    "# zz = np.column_stack((xx.ravel(),yy.ravel())).dot(normalized_coef.T).argmax(1)\n",
    "print(zz.shape)"
   ]
  },
  {
   "cell_type": "code",
   "execution_count": null,
   "metadata": {},
   "outputs": [],
   "source": [
    "fig = plt.figure(figsize=(8,8))\n",
    "ax = fig.add_subplot('111')\n",
    "ax.pcolormesh(xx,yy,zz.reshape(xx.shape), cmap=cm, alpha=0.2)\n",
    "ax.scatter(X[:,0], X[:,1], c=y, cmap=cm)\n",
    "for x1, x2 in X:\n",
    "    ax.plot([0,x1],[0,x2], color='grey', linestyle='--')\n",
    "for c,w in enumerate(normalized_coef * 5):\n",
    "    ax.plot([0, w[0]], [0, w[1]], color=cm.colors[c], linestyle='--')\n",
    "    ax.plot([0, logr.coef_[c,0]],[0, logr.coef_[c,1]], color=cm.colors[c], linewidth=3)\n",
    "ax.set_aspect('equal')"
   ]
  },
  {
   "cell_type": "code",
   "execution_count": null,
   "metadata": {},
   "outputs": [],
   "source": []
  }
 ],
 "metadata": {
  "kernelspec": {
   "display_name": "Python 3",
   "language": "python",
   "name": "python3"
  },
  "language_info": {
   "codemirror_mode": {
    "name": "ipython",
    "version": 3
   },
   "file_extension": ".py",
   "mimetype": "text/x-python",
   "name": "python",
   "nbconvert_exporter": "python",
   "pygments_lexer": "ipython3",
   "version": "3.7.3"
  }
 },
 "nbformat": 4,
 "nbformat_minor": 2
}
