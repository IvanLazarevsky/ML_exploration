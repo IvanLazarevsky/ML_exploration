{
 "cells": [
  {
   "cell_type": "code",
   "execution_count": 1,
   "metadata": {},
   "outputs": [],
   "source": [
    "import pandas as pd\n",
    "import numpy as np\n",
    "import matplotlib.pyplot as plt\n",
    "from sklearn.linear_model import LinearRegression, LogisticRegression"
   ]
  },
  {
   "cell_type": "markdown",
   "metadata": {},
   "source": [
    "<b>Переобучение</b> (overfitting) - ситуация, при которой результативность модели на обучающей выборке значительно превосходит таковую на общих данных (тестовая выборка). <br>\n",
    "<b>Недообучение</b> (underfitting) - ситуация, при которой модель не показывает приемлемых результатов даже на обучающей выборке."
   ]
  },
  {
   "cell_type": "markdown",
   "metadata": {},
   "source": [
    "Почему происходит переобучение? Для этого рассмотрим процесс с формальной стороны. Обучаемую модель можно охарактеризовать тремя основными компонентами: <br>\n",
    "1) Пространство гипотез (представление). Это множество всех функций, которые могут быть представлены данной моделью. Например, в модели линейной регрессии, это пространство включает в себя различные линейные функции от m переменных, где m - размерность данных. В модели деревьев решений - множество деревьев, получаемое в результате различных вариантов разбиений и заданных ограничений (максимальная высота дерева, минимальное число данных в поддеревьях и т.п.).\n",
    "<br> \n",
    "2) Критерий оценки модели, позволяющий предпочесть одну гипотезу другой. Стоит учитывать, что критерий, используемой моделью, может отличаться от того критерия, который мы стремимся оптимизировать. Например, в задаче классификации внутренним критерием может являться кросс-энтропия предсказанного распределения вероятности над классами с эталонным распределением, в то время, как фактически, мы стремимся чтобы модель как можно чаще предсказывала верный класс. <br>\n",
    "3) Оптимизация - алгоритм, при помощи которого из пространства гипотез выбирается наиболее подходящая (или они все оцениваются с точки зрения правдопобности).\n",
    "\n",
    "Источник: https://homes.cs.washington.edu/~pedrod/papers/cacm12.pdf\n",
    "\n",
    "Следовательно, чтобы модель переобучилась, должна быть выбрана гипотеза, которая хорошо работает на данных для обучения, однако плохо показывает себя за пределами этой выборки.\n",
    "\n",
    "Рассмотрим простой пример:"
   ]
  },
  {
   "cell_type": "code",
   "execution_count": 2,
   "metadata": {},
   "outputs": [],
   "source": [
    "regression_data = pd.DataFrame({'x': [0, 1, 2., 3, 4], 'y':[5, 2.6, 1., 3.2, 4.7]})"
   ]
  },
  {
   "cell_type": "code",
   "execution_count": 3,
   "metadata": {},
   "outputs": [
    {
     "data": {
      "text/html": [
       "<div>\n",
       "<style scoped>\n",
       "    .dataframe tbody tr th:only-of-type {\n",
       "        vertical-align: middle;\n",
       "    }\n",
       "\n",
       "    .dataframe tbody tr th {\n",
       "        vertical-align: top;\n",
       "    }\n",
       "\n",
       "    .dataframe thead th {\n",
       "        text-align: right;\n",
       "    }\n",
       "</style>\n",
       "<table border=\"1\" class=\"dataframe\">\n",
       "  <thead>\n",
       "    <tr style=\"text-align: right;\">\n",
       "      <th></th>\n",
       "      <th>x</th>\n",
       "      <th>y</th>\n",
       "    </tr>\n",
       "  </thead>\n",
       "  <tbody>\n",
       "    <tr>\n",
       "      <th>0</th>\n",
       "      <td>0.0</td>\n",
       "      <td>5.0</td>\n",
       "    </tr>\n",
       "    <tr>\n",
       "      <th>1</th>\n",
       "      <td>1.0</td>\n",
       "      <td>2.6</td>\n",
       "    </tr>\n",
       "    <tr>\n",
       "      <th>2</th>\n",
       "      <td>2.0</td>\n",
       "      <td>1.0</td>\n",
       "    </tr>\n",
       "    <tr>\n",
       "      <th>3</th>\n",
       "      <td>3.0</td>\n",
       "      <td>3.2</td>\n",
       "    </tr>\n",
       "    <tr>\n",
       "      <th>4</th>\n",
       "      <td>4.0</td>\n",
       "      <td>4.7</td>\n",
       "    </tr>\n",
       "  </tbody>\n",
       "</table>\n",
       "</div>"
      ],
      "text/plain": [
       "     x    y\n",
       "0  0.0  5.0\n",
       "1  1.0  2.6\n",
       "2  2.0  1.0\n",
       "3  3.0  3.2\n",
       "4  4.0  4.7"
      ]
     },
     "execution_count": 3,
     "metadata": {},
     "output_type": "execute_result"
    }
   ],
   "source": [
    "regression_data"
   ]
  },
  {
   "cell_type": "code",
   "execution_count": 4,
   "metadata": {},
   "outputs": [
    {
     "data": {
      "text/plain": [
       "<matplotlib.collections.PathCollection at 0x7fec010c9278>"
      ]
     },
     "execution_count": 4,
     "metadata": {},
     "output_type": "execute_result"
    },
    {
     "data": {
      "image/png": "[encoded data removed]",
      "text/plain": [
       "<Figure size 432x288 with 1 Axes>"
      ]
     },
     "metadata": {
      "needs_background": "light"
     },
     "output_type": "display_data"
    }
   ],
   "source": [
    "plt.scatter(regression_data.x, regression_data.y)"
   ]
  },
  {
   "cell_type": "markdown",
   "metadata": {},
   "source": [
    "Исходя из этой таблицы и того, что искомая функция является гладкой, мы можем предложить бесконечное количество решений (функций от x), точно или достаточно близко совпадающих с данными.\n",
    "Предположим, что искомая функция является полиномом n-й степени и выведем наиболее подходящие гипотезы для различных n."
   ]
  },
  {
   "cell_type": "code",
   "execution_count": 5,
   "metadata": {},
   "outputs": [],
   "source": [
    "def powers_of(x, begin, end):\n",
    "    powers = []\n",
    "    for i in range(begin, end+1):\n",
    "        powers.append(x ** i)\n",
    "    return np.column_stack(powers)"
   ]
  },
  {
   "cell_type": "code",
   "execution_count": 6,
   "metadata": {},
   "outputs": [],
   "source": [
    "X_powers = powers_of(regression_data.x, 1, 5)"
   ]
  },
  {
   "cell_type": "code",
   "execution_count": 7,
   "metadata": {},
   "outputs": [
    {
     "data": {
      "text/html": [
       "<div>\n",
       "<style scoped>\n",
       "    .dataframe tbody tr th:only-of-type {\n",
       "        vertical-align: middle;\n",
       "    }\n",
       "\n",
       "    .dataframe tbody tr th {\n",
       "        vertical-align: top;\n",
       "    }\n",
       "\n",
       "    .dataframe thead th {\n",
       "        text-align: right;\n",
       "    }\n",
       "</style>\n",
       "<table border=\"1\" class=\"dataframe\">\n",
       "  <thead>\n",
       "    <tr style=\"text-align: right;\">\n",
       "      <th></th>\n",
       "      <th>1</th>\n",
       "      <th>2</th>\n",
       "      <th>3</th>\n",
       "      <th>4</th>\n",
       "      <th>5</th>\n",
       "    </tr>\n",
       "  </thead>\n",
       "  <tbody>\n",
       "    <tr>\n",
       "      <th>0</th>\n",
       "      <td>0.0</td>\n",
       "      <td>0.0</td>\n",
       "      <td>0.0</td>\n",
       "      <td>0.0</td>\n",
       "      <td>0.0</td>\n",
       "    </tr>\n",
       "    <tr>\n",
       "      <th>1</th>\n",
       "      <td>1.0</td>\n",
       "      <td>1.0</td>\n",
       "      <td>1.0</td>\n",
       "      <td>1.0</td>\n",
       "      <td>1.0</td>\n",
       "    </tr>\n",
       "    <tr>\n",
       "      <th>2</th>\n",
       "      <td>2.0</td>\n",
       "      <td>4.0</td>\n",
       "      <td>8.0</td>\n",
       "      <td>16.0</td>\n",
       "      <td>32.0</td>\n",
       "    </tr>\n",
       "    <tr>\n",
       "      <th>3</th>\n",
       "      <td>3.0</td>\n",
       "      <td>9.0</td>\n",
       "      <td>27.0</td>\n",
       "      <td>81.0</td>\n",
       "      <td>243.0</td>\n",
       "    </tr>\n",
       "    <tr>\n",
       "      <th>4</th>\n",
       "      <td>4.0</td>\n",
       "      <td>16.0</td>\n",
       "      <td>64.0</td>\n",
       "      <td>256.0</td>\n",
       "      <td>1024.0</td>\n",
       "    </tr>\n",
       "  </tbody>\n",
       "</table>\n",
       "</div>"
      ],
      "text/plain": [
       "     1     2     3      4       5\n",
       "0  0.0   0.0   0.0    0.0     0.0\n",
       "1  1.0   1.0   1.0    1.0     1.0\n",
       "2  2.0   4.0   8.0   16.0    32.0\n",
       "3  3.0   9.0  27.0   81.0   243.0\n",
       "4  4.0  16.0  64.0  256.0  1024.0"
      ]
     },
     "execution_count": 7,
     "metadata": {},
     "output_type": "execute_result"
    }
   ],
   "source": [
    "pd.DataFrame(X_powers, columns=np.arange(1,6))"
   ]
  },
  {
   "cell_type": "code",
   "execution_count": null,
   "metadata": {},
   "outputs": [],
   "source": []
  },
  {
   "cell_type": "code",
   "execution_count": 53,
   "metadata": {},
   "outputs": [
    {
     "data": {
      "image/png": "[encoded data removed]",
      "text/plain": [
       "<Figure size 576x432 with 1 Axes>"
      ]
     },
     "metadata": {
      "needs_background": "light"
     },
     "output_type": "display_data"
    }
   ],
   "source": [
    "plt.figure(figsize=(8,6))\n",
    "x_range = np.linspace(-1, 5)\n",
    "x_range_powers = powers_of(x_range, 1, 5)\n",
    "\n",
    "plt.scatter(regression_data.x, regression_data.y, s=40, marker='o', c='green', edgecolors='black')\n",
    "for i in range(1, 6):\n",
    "    lreg = LinearRegression().fit(X_powers[:,:i], regression_data.y)\n",
    "    pred = lreg.predict(x_range_powers[:,:i])\n",
    "    plt.plot(x_range, pred, label='Степень {}'.format(i))\n",
    "plt.legend()\n",
    "plt.show()"
   ]
  },
  {
   "cell_type": "markdown",
   "metadata": {},
   "source": [
    "Какие наблюдения можно отсюда вынести?\n",
    "<br>\n",
    "\n",
    "Практически все модели, кроме первой, проводят полином очень близко к точкам, модели 4-й и 5-й степени - проводят его ровно через точки. Подобно тому, как через 2 точки проходит только одна прямая, через 3 проходит только одна парабола, через n - полином n-1 степени. Однако, если степень полинома равна или превышает число точек, точно проходящих полиномов становится бесконечное количество. В частности, существует бесконечное множество полиномов 5й степени, ровно проходящих через точки на графике.\n",
    "\n",
    "Какая из этих моделей верная - вообще говоря, мы не можем сказать. Мы не видели остальных точек. Можно с уверенностью сказать, что это не модель 5, потому что вероятность, что случайно взятый полином 5й степени, точно проходящий через точки, является искомым - равна нулю. Однако та или иная модель может быть близкой к правде или далекой от неё, и это куда более жизнеспособный критерий. Например, мы не знаем точного значения гравитационной постоянной, но тем не менее, классический закон тяготения обладает значительной предсказательной силой. \n",
    "\n",
    "Может ли быть так, что модель 1 ближе к правде, чем остальные? Вполне возможно. Нужно учитывать, что значение $y$ не обязательно зависит от $x$ или зависит только от $x$. Ошибка модели, не связанная с её неточностью, а происходящая от случайных факторов или факторов, с которыми она незнакома, называется <b>несократимой ошибкой</b>. В таком случае, $y$ можно представить как сумму значения истинной закономерности $f(x)$ и случайного шума $\\epsilon$ (сумма неучтенных факторов), среднее значение которого равно нулю:\n",
    "$$y = f(x) + \\epsilon$$\n",
    "\n",
    "Наша задача заключается в поиске подходящего приближения $\\hat{f}(x)$ к $f(x)$. Лучшее, что мы может сделать с ненаблюдаемыми факторами - это настроить модель так, чтобы в среднем они суммировались в ноль. Модель 1 именно это и делает, путем настройки свободного коэффициента $b$ (смещения)."
   ]
  },
  {
   "cell_type": "markdown",
   "metadata": {},
   "source": [
    "### Составляющие ошибки модели\n",
    "Ошибку обучаемой модели (не конкретной уже обученной) на общих данных можно разложить на три компонента:\n",
    "* Несократимая ошибка - ошибка связанная с недостаточностью данных для точного предсказания\n",
    "* Смещение модели - ожидаемая ошибка модели, независящая от того, какая выборка использовалась в качестве обучающей.\n",
    "* Дисперсия модели - насколько модель изменяет свои предсказания в зависимости от выборки, использованной для обучения."
   ]
  },
  {
   "cell_type": "markdown",
   "metadata": {},
   "source": [
    "П. Домингос в статье <a href=\"https://homes.cs.washington.edu/~pedrod/papers/mlc00a.pdf\">\"A Unified Bias-Variance Decomposition and its Applications\"</a> формализует и обобщает эти понятия через использование функции потерь.\n",
    "\n",
    "Пусть имеется тестовый экземпляр данных $(x,t)$, где $x$ - входные данные, $t$ - истинный ответ. <br>\n",
    "Модель, в зависимости от использованных для тренировки данных, предсказывает ответ $y$. <br>\n",
    "Функция потерь $L$ замеряет, насколько данный ответ отклоняется от эталонного. Т.е. $L(t, y) = 0$  если  $y = t$.<br>\n",
    "Для регрессии можно использовать критерий MSE $(t-y)^2$ <br>\n",
    "Для классификации можно критерий 0-1. $L(t,y)$ = 0, если $y=t$, и 1 в противном случае. Отметим, что обычно классификаторы не обучаются на этой функции, поскольку она недифференцируема, но мы можем свободно использовать её в нашем анализе.\n",
    "\n",
    "Обозначим через $D$ множество возможных обучающих выборок.\n",
    "Основным предсказанием модели для данных $x$ называется величина:\n",
    "$$y_m = \\underset{y'}{\\operatorname{argmin}}\\mathbb{E}_D[L(y, y')]$$\n",
    "Т.е. это величина, для которой отклонение (по $L$) от предсказания на $x$, полученного после обучения модели на случайно взятой обучающей выборке из $D$, в среднем минимально. <br>\n",
    "В такой формулировке, $y_m$ для регрессии (при использовании MSE) равно среднему предсказанию на данных $x$ по всем обучающим выборкам. Для классификации $y_m$ - это наиболее часто встречающее предсказание (мода) на $x$ по всем обучающим выборкам."
   ]
  },
  {
   "cell_type": "markdown",
   "metadata": {},
   "source": [
    "Рассмотрим это всё на примере. Сгенерируем данные для классификации используя формулу:\n",
    "$$z = |x|-|y| + \\mathcal{N}(0,1)$$\n",
    "$$y = 1~ \\text{if}~z \\ge 0~\\text{else}~0$$\n",
    "\n",
    "где $\\mathcal{N}(0,1)$ - случайный шум, распределенный нормально вокруг нуля со среднеквадратичным отклонением 1"
   ]
  },
  {
   "cell_type": "code",
   "execution_count": 54,
   "metadata": {},
   "outputs": [],
   "source": [
    "x = np.linspace(-5,5,100)\n",
    "y = np.linspace(-5,5,100)\n",
    "\n",
    "xx, yy = np.meshgrid(x, y)"
   ]
  },
  {
   "cell_type": "code",
   "execution_count": 55,
   "metadata": {},
   "outputs": [],
   "source": [
    "def true_curve(x,y):\n",
    "    return np.abs(x) - np.abs(y)"
   ]
  },
  {
   "cell_type": "code",
   "execution_count": 56,
   "metadata": {},
   "outputs": [],
   "source": [
    "zz = true_curve(xx,yy)"
   ]
  },
  {
   "cell_type": "code",
   "execution_count": 57,
   "metadata": {},
   "outputs": [],
   "source": [
    "%matplotlib notebook"
   ]
  },
  {
   "cell_type": "code",
   "execution_count": 58,
   "metadata": {},
   "outputs": [],
   "source": [
    "from mpl_toolkits.mplot3d import Axes3D"
   ]
  },
  {
   "cell_type": "markdown",
   "metadata": {},
   "source": [
    "Отобразим зависимость $z$ от $x$ и $y$ (без шума)"
   ]
  },
  {
   "cell_type": "code",
   "execution_count": 59,
   "metadata": {},
   "outputs": [
    {
     "data": {
      "application/javascript": [
       "/* Put everything inside the global mpl namespace */\n",
       "window.mpl = {};\n",
       "\n",
       "\n",
       "mpl.get_websocket_type = function() {\n",
       "    if (typeof(WebSocket) !== 'undefined') {\n",
       "        return WebSocket;\n",
       "    } else if (typeof(MozWebSocket) !== 'undefined') {\n",
       "        return MozWebSocket;\n",
       "    } else {\n",
       "        alert('Your browser does not have WebSocket support. ' +\n",
       "              'Please try Chrome, Safari or Firefox ≥ 6. ' +\n",
       "              'Firefox 4 and 5 are also supported but you ' +\n",
       "              'have to enable WebSockets in about:config.');\n",
       "    };\n",
       "}\n",
       "\n",
       "mpl.figure = function(figure_id, websocket, ondownload, parent_element) {\n",
       "    this.id = figure_id;\n",
       "\n",
       "    this.ws = websocket;\n",
       "\n",
       "    this.supports_binary = (this.ws.binaryType != undefined);\n",
       "\n",
       "    if (!this.supports_binary) {\n",
       "        var warnings = document.getElementById(\"mpl-warnings\");\n",
       "        if (warnings) {\n",
       "            warnings.style.display = 'block';\n",
       "            warnings.textContent = (\n",
       "                \"This browser does not support binary websocket messages. \" +\n",
       "                    \"Performance may be slow.\");\n",
       "        }\n",
       "    }\n",
       "\n",
       "    this.imageObj = new Image();\n",
       "\n",
       "    this.context = undefined;\n",
       "    this.message = undefined;\n",
       "    this.canvas = undefined;\n",
       "    this.rubberband_canvas = undefined;\n",
       "    this.rubberband_context = undefined;\n",
       "    this.format_dropdown = undefined;\n",
       "\n",
       "    this.image_mode = 'full';\n",
       "\n",
       "    this.root = $('<div/>');\n",
       "    this._root_extra_style(this.root)\n",
       "    this.root.attr('style', 'display: inline-block');\n",
       "\n",
       "    $(parent_element).append(this.root);\n",
       "\n",
       "    this._init_header(this);\n",
       "    this._init_canvas(this);\n",
       "    this._init_toolbar(this);\n",
       "\n",
       "    var fig = this;\n",
       "\n",
       "    this.waiting = false;\n",
       "\n",
       "    this.ws.onopen =  function () {\n",
       "            fig.send_message(\"supports_binary\", {value: fig.supports_binary});\n",
       "            fig.send_message(\"send_image_mode\", {});\n",
       "            if (mpl.ratio != 1) {\n",
       "                fig.send_message(\"set_dpi_ratio\", {'dpi_ratio': mpl.ratio});\n",
       "            }\n",
       "            fig.send_message(\"refresh\", {});\n",
       "        }\n",
       "\n",
       "    this.imageObj.onload = function() {\n",
       "            if (fig.image_mode == 'full') {\n",
       "                // Full images could contain transparency (where diff images\n",
       "                // almost always do), so we need to clear the canvas so that\n",
       "                // there is no ghosting.\n",
       "                fig.context.clearRect(0, 0, fig.canvas.width, fig.canvas.height);\n",
       "            }\n",
       "            fig.context.drawImage(fig.imageObj, 0, 0);\n",
       "        };\n",
       "\n",
       "    this.imageObj.onunload = function() {\n",
       "        fig.ws.close();\n",
       "    }\n",
       "\n",
       "    this.ws.onmessage = this._make_on_message_function(this);\n",
       "\n",
       "    this.ondownload = ondownload;\n",
       "}\n",
       "\n",
       "mpl.figure.prototype._init_header = function() {\n",
       "    var titlebar = $(\n",
       "        '<div class=\"ui-dialog-titlebar ui-widget-header ui-corner-all ' +\n",
       "        'ui-helper-clearfix\"/>');\n",
       "    var titletext = $(\n",
       "        '<div class=\"ui-dialog-title\" style=\"width: 100%; ' +\n",
       "        'text-align: center; padding: 3px;\"/>');\n",
       "    titlebar.append(titletext)\n",
       "    this.root.append(titlebar);\n",
       "    this.header = titletext[0];\n",
       "}\n",
       "\n",
       "\n",
       "\n",
       "mpl.figure.prototype._canvas_extra_style = function(canvas_div) {\n",
       "\n",
       "}\n",
       "\n",
       "\n",
       "mpl.figure.prototype._root_extra_style = function(canvas_div) {\n",
       "\n",
       "}\n",
       "\n",
       "mpl.figure.prototype._init_canvas = function() {\n",
       "    var fig = this;\n",
       "\n",
       "    var canvas_div = $('<div/>');\n",
       "\n",
       "    canvas_div.attr('style', 'position: relative; clear: both; outline: 0');\n",
       "\n",
       "    function canvas_keyboard_event(event) {\n",
       "        return fig.key_event(event, event['data']);\n",
       "    }\n",
       "\n",
       "    canvas_div.keydown('key_press', canvas_keyboard_event);\n",
       "    canvas_div.keyup('key_release', canvas_keyboard_event);\n",
       "    this.canvas_div = canvas_div\n",
       "    this._canvas_extra_style(canvas_div)\n",
       "    this.root.append(canvas_div);\n",
       "\n",
       "    var canvas = $('<canvas/>');\n",
       "    canvas.addClass('mpl-canvas');\n",
       "    canvas.attr('style', \"left: 0; top: 0; z-index: 0; outline: 0\")\n",
       "\n",
       "    this.canvas = canvas[0];\n",
       "    this.context = canvas[0].getContext(\"2d\");\n",
       "\n",
       "    var backingStore = this.context.backingStorePixelRatio ||\n",
       "\tthis.context.webkitBackingStorePixelRatio ||\n",
       "\tthis.context.mozBackingStorePixelRatio ||\n",
       "\tthis.context.msBackingStorePixelRatio ||\n",
       "\tthis.context.oBackingStorePixelRatio ||\n",
       "\tthis.context.backingStorePixelRatio || 1;\n",
       "\n",
       "    mpl.ratio = (window.devicePixelRatio || 1) / backingStore;\n",
       "\n",
       "    var rubberband = $('<canvas/>');\n",
       "    rubberband.attr('style', \"position: absolute; left: 0; top: 0; z-index: 1;\")\n",
       "\n",
       "    var pass_mouse_events = true;\n",
       "\n",
       "    canvas_div.resizable({\n",
       "        start: function(event, ui) {\n",
       "            pass_mouse_events = false;\n",
       "        },\n",
       "        resize: function(event, ui) {\n",
       "            fig.request_resize(ui.size.width, ui.size.height);\n",
       "        },\n",
       "        stop: function(event, ui) {\n",
       "            pass_mouse_events = true;\n",
       "            fig.request_resize(ui.size.width, ui.size.height);\n",
       "        },\n",
       "    });\n",
       "\n",
       "    function mouse_event_fn(event) {\n",
       "        if (pass_mouse_events)\n",
       "            return fig.mouse_event(event, event['data']);\n",
       "    }\n",
       "\n",
       "    rubberband.mousedown('button_press', mouse_event_fn);\n",
       "    rubberband.mouseup('button_release', mouse_event_fn);\n",
       "    // Throttle sequential mouse events to 1 every 20ms.\n",
       "    rubberband.mousemove('motion_notify', mouse_event_fn);\n",
       "\n",
       "    rubberband.mouseenter('figure_enter', mouse_event_fn);\n",
       "    rubberband.mouseleave('figure_leave', mouse_event_fn);\n",
       "\n",
       "    canvas_div.on(\"wheel\", function (event) {\n",
       "        event = event.originalEvent;\n",
       "        event['data'] = 'scroll'\n",
       "        if (event.deltaY < 0) {\n",
       "            event.step = 1;\n",
       "        } else {\n",
       "            event.step = -1;\n",
       "        }\n",
       "        mouse_event_fn(event);\n",
       "    });\n",
       "\n",
       "    canvas_div.append(canvas);\n",
       "    canvas_div.append(rubberband);\n",
       "\n",
       "    this.rubberband = rubberband;\n",
       "    this.rubberband_canvas = rubberband[0];\n",
       "    this.rubberband_context = rubberband[0].getContext(\"2d\");\n",
       "    this.rubberband_context.strokeStyle = \"#000000\";\n",
       "\n",
       "    this._resize_canvas = function(width, height) {\n",
       "        // Keep the size of the canvas, canvas container, and rubber band\n",
       "        // canvas in synch.\n",
       "        canvas_div.css('width', width)\n",
       "        canvas_div.css('height', height)\n",
       "\n",
       "        canvas.attr('width', width * mpl.ratio);\n",
       "        canvas.attr('height', height * mpl.ratio);\n",
       "        canvas.attr('style', 'width: ' + width + 'px; height: ' + height + 'px;');\n",
       "\n",
       "        rubberband.attr('width', width);\n",
       "        rubberband.attr('height', height);\n",
       "    }\n",
       "\n",
       "    // Set the figure to an initial 600x600px, this will subsequently be updated\n",
       "    // upon first draw.\n",
       "    this._resize_canvas(600, 600);\n",
       "\n",
       "    // Disable right mouse context menu.\n",
       "    $(this.rubberband_canvas).bind(\"contextmenu\",function(e){\n",
       "        return false;\n",
       "    });\n",
       "\n",
       "    function set_focus () {\n",
       "        canvas.focus();\n",
       "        canvas_div.focus();\n",
       "    }\n",
       "\n",
       "    window.setTimeout(set_focus, 100);\n",
       "}\n",
       "\n",
       "mpl.figure.prototype._init_toolbar = function() {\n",
       "    var fig = this;\n",
       "\n",
       "    var nav_element = $('<div/>');\n",
       "    nav_element.attr('style', 'width: 100%');\n",
       "    this.root.append(nav_element);\n",
       "\n",
       "    // Define a callback function for later on.\n",
       "    function toolbar_event(event) {\n",
       "        return fig.toolbar_button_onclick(event['data']);\n",
       "    }\n",
       "    function toolbar_mouse_event(event) {\n",
       "        return fig.toolbar_button_onmouseover(event['data']);\n",
       "    }\n",
       "\n",
       "    for(var toolbar_ind in mpl.toolbar_items) {\n",
       "        var name = mpl.toolbar_items[toolbar_ind][0];\n",
       "        var tooltip = mpl.toolbar_items[toolbar_ind][1];\n",
       "        var image = mpl.toolbar_items[toolbar_ind][2];\n",
       "        var method_name = mpl.toolbar_items[toolbar_ind][3];\n",
       "\n",
       "        if (!name) {\n",
       "            // put a spacer in here.\n",
       "            continue;\n",
       "        }\n",
       "        var button = $('<button/>');\n",
       "        button.addClass('ui-button ui-widget ui-state-default ui-corner-all ' +\n",
       "                        'ui-button-icon-only');\n",
       "        button.attr('role', 'button');\n",
       "        button.attr('aria-disabled', 'false');\n",
       "        button.click(method_name, toolbar_event);\n",
       "        button.mouseover(tooltip, toolbar_mouse_event);\n",
       "\n",
       "        var icon_img = $('<span/>');\n",
       "        icon_img.addClass('ui-button-icon-primary ui-icon');\n",
       "        icon_img.addClass(image);\n",
       "        icon_img.addClass('ui-corner-all');\n",
       "\n",
       "        var tooltip_span = $('<span/>');\n",
       "        tooltip_span.addClass('ui-button-text');\n",
       "        tooltip_span.html(tooltip);\n",
       "\n",
       "        button.append(icon_img);\n",
       "        button.append(tooltip_span);\n",
       "\n",
       "        nav_element.append(button);\n",
       "    }\n",
       "\n",
       "    var fmt_picker_span = $('<span/>');\n",
       "\n",
       "    var fmt_picker = $('<select/>');\n",
       "    fmt_picker.addClass('mpl-toolbar-option ui-widget ui-widget-content');\n",
       "    fmt_picker_span.append(fmt_picker);\n",
       "    nav_element.append(fmt_picker_span);\n",
       "    this.format_dropdown = fmt_picker[0];\n",
       "\n",
       "    for (var ind in mpl.extensions) {\n",
       "        var fmt = mpl.extensions[ind];\n",
       "        var option = $(\n",
       "            '<option/>', {selected: fmt === mpl.default_extension}).html(fmt);\n",
       "        fmt_picker.append(option);\n",
       "    }\n",
       "\n",
       "    // Add hover states to the ui-buttons\n",
       "    $( \".ui-button\" ).hover(\n",
       "        function() { $(this).addClass(\"ui-state-hover\");},\n",
       "        function() { $(this).removeClass(\"ui-state-hover\");}\n",
       "    );\n",
       "\n",
       "    var status_bar = $('<span class=\"mpl-message\"/>');\n",
       "    nav_element.append(status_bar);\n",
       "    this.message = status_bar[0];\n",
       "}\n",
       "\n",
       "mpl.figure.prototype.request_resize = function(x_pixels, y_pixels) {\n",
       "    // Request matplotlib to resize the figure. Matplotlib will then trigger a resize in the client,\n",
       "    // which will in turn request a refresh of the image.\n",
       "    this.send_message('resize', {'width': x_pixels, 'height': y_pixels});\n",
       "}\n",
       "\n",
       "mpl.figure.prototype.send_message = function(type, properties) {\n",
       "    properties['type'] = type;\n",
       "    properties['figure_id'] = this.id;\n",
       "    this.ws.send(JSON.stringify(properties));\n",
       "}\n",
       "\n",
       "mpl.figure.prototype.send_draw_message = function() {\n",
       "    if (!this.waiting) {\n",
       "        this.waiting = true;\n",
       "        this.ws.send(JSON.stringify({type: \"draw\", figure_id: this.id}));\n",
       "    }\n",
       "}\n",
       "\n",
       "\n",
       "mpl.figure.prototype.handle_save = function(fig, msg) {\n",
       "    var format_dropdown = fig.format_dropdown;\n",
       "    var format = format_dropdown.options[format_dropdown.selectedIndex].value;\n",
       "    fig.ondownload(fig, format);\n",
       "}\n",
       "\n",
       "\n",
       "mpl.figure.prototype.handle_resize = function(fig, msg) {\n",
       "    var size = msg['size'];\n",
       "    if (size[0] != fig.canvas.width || size[1] != fig.canvas.height) {\n",
       "        fig._resize_canvas(size[0], size[1]);\n",
       "        fig.send_message(\"refresh\", {});\n",
       "    };\n",
       "}\n",
       "\n",
       "mpl.figure.prototype.handle_rubberband = function(fig, msg) {\n",
       "    var x0 = msg['x0'] / mpl.ratio;\n",
       "    var y0 = (fig.canvas.height - msg['y0']) / mpl.ratio;\n",
       "    var x1 = msg['x1'] / mpl.ratio;\n",
       "    var y1 = (fig.canvas.height - msg['y1']) / mpl.ratio;\n",
       "    x0 = Math.floor(x0) + 0.5;\n",
       "    y0 = Math.floor(y0) + 0.5;\n",
       "    x1 = Math.floor(x1) + 0.5;\n",
       "    y1 = Math.floor(y1) + 0.5;\n",
       "    var min_x = Math.min(x0, x1);\n",
       "    var min_y = Math.min(y0, y1);\n",
       "    var width = Math.abs(x1 - x0);\n",
       "    var height = Math.abs(y1 - y0);\n",
       "\n",
       "    fig.rubberband_context.clearRect(\n",
       "        0, 0, fig.canvas.width, fig.canvas.height);\n",
       "\n",
       "    fig.rubberband_context.strokeRect(min_x, min_y, width, height);\n",
       "}\n",
       "\n",
       "mpl.figure.prototype.handle_figure_label = function(fig, msg) {\n",
       "    // Updates the figure title.\n",
       "    fig.header.textContent = msg['label'];\n",
       "}\n",
       "\n",
       "mpl.figure.prototype.handle_cursor = function(fig, msg) {\n",
       "    var cursor = msg['cursor'];\n",
       "    switch(cursor)\n",
       "    {\n",
       "    case 0:\n",
       "        cursor = 'pointer';\n",
       "        break;\n",
       "    case 1:\n",
       "        cursor = 'default';\n",
       "        break;\n",
       "    case 2:\n",
       "        cursor = 'crosshair';\n",
       "        break;\n",
       "    case 3:\n",
       "        cursor = 'move';\n",
       "        break;\n",
       "    }\n",
       "    fig.rubberband_canvas.style.cursor = cursor;\n",
       "}\n",
       "\n",
       "mpl.figure.prototype.handle_message = function(fig, msg) {\n",
       "    fig.message.textContent = msg['message'];\n",
       "}\n",
       "\n",
       "mpl.figure.prototype.handle_draw = function(fig, msg) {\n",
       "    // Request the server to send over a new figure.\n",
       "    fig.send_draw_message();\n",
       "}\n",
       "\n",
       "mpl.figure.prototype.handle_image_mode = function(fig, msg) {\n",
       "    fig.image_mode = msg['mode'];\n",
       "}\n",
       "\n",
       "mpl.figure.prototype.updated_canvas_event = function() {\n",
       "    // Called whenever the canvas gets updated.\n",
       "    this.send_message(\"ack\", {});\n",
       "}\n",
       "\n",
       "// A function to construct a web socket function for onmessage handling.\n",
       "// Called in the figure constructor.\n",
       "mpl.figure.prototype._make_on_message_function = function(fig) {\n",
       "    return function socket_on_message(evt) {\n",
       "        if (evt.data instanceof Blob) {\n",
       "            /* FIXME: We get \"Resource interpreted as Image but\n",
       "             * transferred with MIME type text/plain:\" errors on\n",
       "             * Chrome.  But how to set the MIME type?  It doesn't seem\n",
       "             * to be part of the websocket stream */\n",
       "            evt.data.type = \"image/png\";\n",
       "\n",
       "            /* Free the memory for the previous frames */\n",
       "            if (fig.imageObj.src) {\n",
       "                (window.URL || window.webkitURL).revokeObjectURL(\n",
       "                    fig.imageObj.src);\n",
       "            }\n",
       "\n",
       "            fig.imageObj.src = (window.URL || window.webkitURL).createObjectURL(\n",
       "                evt.data);\n",
       "            fig.updated_canvas_event();\n",
       "            fig.waiting = false;\n",
       "            return;\n",
       "        }\n",
       "        else if (typeof evt.data === 'string' && evt.data.slice(0, 21) == \"data:image/png;base64\") {\n",
       "            fig.imageObj.src = evt.data;\n",
       "            fig.updated_canvas_event();\n",
       "            fig.waiting = false;\n",
       "            return;\n",
       "        }\n",
       "\n",
       "        var msg = JSON.parse(evt.data);\n",
       "        var msg_type = msg['type'];\n",
       "\n",
       "        // Call the  \"handle_{type}\" callback, which takes\n",
       "        // the figure and JSON message as its only arguments.\n",
       "        try {\n",
       "            var callback = fig[\"handle_\" + msg_type];\n",
       "        } catch (e) {\n",
       "            console.log(\"No handler for the '\" + msg_type + \"' message type: \", msg);\n",
       "            return;\n",
       "        }\n",
       "\n",
       "        if (callback) {\n",
       "            try {\n",
       "                // console.log(\"Handling '\" + msg_type + \"' message: \", msg);\n",
       "                callback(fig, msg);\n",
       "            } catch (e) {\n",
       "                console.log(\"Exception inside the 'handler_\" + msg_type + \"' callback:\", e, e.stack, msg);\n",
       "            }\n",
       "        }\n",
       "    };\n",
       "}\n",
       "\n",
       "// from http://stackoverflow.com/questions/1114465/getting-mouse-location-in-canvas\n",
       "mpl.findpos = function(e) {\n",
       "    //this section is from http://www.quirksmode.org/js/events_properties.html\n",
       "    var targ;\n",
       "    if (!e)\n",
       "        e = window.event;\n",
       "    if (e.target)\n",
       "        targ = e.target;\n",
       "    else if (e.srcElement)\n",
       "        targ = e.srcElement;\n",
       "    if (targ.nodeType == 3) // defeat Safari bug\n",
       "        targ = targ.parentNode;\n",
       "\n",
       "    // jQuery normalizes the pageX and pageY\n",
       "    // pageX,Y are the mouse positions relative to the document\n",
       "    // offset() returns the position of the element relative to the document\n",
       "    var x = e.pageX - $(targ).offset().left;\n",
       "    var y = e.pageY - $(targ).offset().top;\n",
       "\n",
       "    return {\"x\": x, \"y\": y};\n",
       "};\n",
       "\n",
       "/*\n",
       " * return a copy of an object with only non-object keys\n",
       " * we need this to avoid circular references\n",
       " * http://stackoverflow.com/a/24161582/3208463\n",
       " */\n",
       "function simpleKeys (original) {\n",
       "  return Object.keys(original).reduce(function (obj, key) {\n",
       "    if (typeof original[key] !== 'object')\n",
       "        obj[key] = original[key]\n",
       "    return obj;\n",
       "  }, {});\n",
       "}\n",
       "\n",
       "mpl.figure.prototype.mouse_event = function(event, name) {\n",
       "    var canvas_pos = mpl.findpos(event)\n",
       "\n",
       "    if (name === 'button_press')\n",
       "    {\n",
       "        this.canvas.focus();\n",
       "        this.canvas_div.focus();\n",
       "    }\n",
       "\n",
       "    var x = canvas_pos.x * mpl.ratio;\n",
       "    var y = canvas_pos.y * mpl.ratio;\n",
       "\n",
       "    this.send_message(name, {x: x, y: y, button: event.button,\n",
       "                             step: event.step,\n",
       "                             guiEvent: simpleKeys(event)});\n",
       "\n",
       "    /* This prevents the web browser from automatically changing to\n",
       "     * the text insertion cursor when the button is pressed.  We want\n",
       "     * to control all of the cursor setting manually through the\n",
       "     * 'cursor' event from matplotlib */\n",
       "    event.preventDefault();\n",
       "    return false;\n",
       "}\n",
       "\n",
       "mpl.figure.prototype._key_event_extra = function(event, name) {\n",
       "    // Handle any extra behaviour associated with a key event\n",
       "}\n",
       "\n",
       "mpl.figure.prototype.key_event = function(event, name) {\n",
       "\n",
       "    // Prevent repeat events\n",
       "    if (name == 'key_press')\n",
       "    {\n",
       "        if (event.which === this._key)\n",
       "            return;\n",
       "        else\n",
       "            this._key = event.which;\n",
       "    }\n",
       "    if (name == 'key_release')\n",
       "        this._key = null;\n",
       "\n",
       "    var value = '';\n",
       "    if (event.ctrlKey && event.which != 17)\n",
       "        value += \"ctrl+\";\n",
       "    if (event.altKey && event.which != 18)\n",
       "        value += \"alt+\";\n",
       "    if (event.shiftKey && event.which != 16)\n",
       "        value += \"shift+\";\n",
       "\n",
       "    value += 'k';\n",
       "    value += event.which.toString();\n",
       "\n",
       "    this._key_event_extra(event, name);\n",
       "\n",
       "    this.send_message(name, {key: value,\n",
       "                             guiEvent: simpleKeys(event)});\n",
       "    return false;\n",
       "}\n",
       "\n",
       "mpl.figure.prototype.toolbar_button_onclick = function(name) {\n",
       "    if (name == 'download') {\n",
       "        this.handle_save(this, null);\n",
       "    } else {\n",
       "        this.send_message(\"toolbar_button\", {name: name});\n",
       "    }\n",
       "};\n",
       "\n",
       "mpl.figure.prototype.toolbar_button_onmouseover = function(tooltip) {\n",
       "    this.message.textContent = tooltip;\n",
       "};\n",
       "mpl.toolbar_items = [[\"Home\", \"Reset original view\", \"fa fa-home icon-home\", \"home\"], [\"Back\", \"Back to previous view\", \"fa fa-arrow-left icon-arrow-left\", \"back\"], [\"Forward\", \"Forward to next view\", \"fa fa-arrow-right icon-arrow-right\", \"forward\"], [\"\", \"\", \"\", \"\"], [\"Pan\", \"Pan axes with left mouse, zoom with right\", \"fa fa-arrows icon-move\", \"pan\"], [\"Zoom\", \"Zoom to rectangle\", \"fa fa-square-o icon-check-empty\", \"zoom\"], [\"\", \"\", \"\", \"\"], [\"Download\", \"Download plot\", \"fa fa-floppy-o icon-save\", \"download\"]];\n",
       "\n",
       "mpl.extensions = [\"eps\", \"jpeg\", \"pdf\", \"png\", \"ps\", \"raw\", \"svg\", \"tif\"];\n",
       "\n",
       "mpl.default_extension = \"png\";var comm_websocket_adapter = function(comm) {\n",
       "    // Create a \"websocket\"-like object which calls the given IPython comm\n",
       "    // object with the appropriate methods. Currently this is a non binary\n",
       "    // socket, so there is still some room for performance tuning.\n",
       "    var ws = {};\n",
       "\n",
       "    ws.close = function() {\n",
       "        comm.close()\n",
       "    };\n",
       "    ws.send = function(m) {\n",
       "        //console.log('sending', m);\n",
       "        comm.send(m);\n",
       "    };\n",
       "    // Register the callback with on_msg.\n",
       "    comm.on_msg(function(msg) {\n",
       "        //console.log('receiving', msg['content']['data'], msg);\n",
       "        // Pass the mpl event to the overridden (by mpl) onmessage function.\n",
       "        ws.onmessage(msg['content']['data'])\n",
       "    });\n",
       "    return ws;\n",
       "}\n",
       "\n",
       "mpl.mpl_figure_comm = function(comm, msg) {\n",
       "    // This is the function which gets called when the mpl process\n",
       "    // starts-up an IPython Comm through the \"matplotlib\" channel.\n",
       "\n",
       "    var id = msg.content.data.id;\n",
       "    // Get hold of the div created by the display call when the Comm\n",
       "    // socket was opened in Python.\n",
       "    var element = $(\"#\" + id);\n",
       "    var ws_proxy = comm_websocket_adapter(comm)\n",
       "\n",
       "    function ondownload(figure, format) {\n",
       "        window.open(figure.imageObj.src);\n",
       "    }\n",
       "\n",
       "    var fig = new mpl.figure(id, ws_proxy,\n",
       "                           ondownload,\n",
       "                           element.get(0));\n",
       "\n",
       "    // Call onopen now - mpl needs it, as it is assuming we've passed it a real\n",
       "    // web socket which is closed, not our websocket->open comm proxy.\n",
       "    ws_proxy.onopen();\n",
       "\n",
       "    fig.parent_element = element.get(0);\n",
       "    fig.cell_info = mpl.find_output_cell(\"<div id='\" + id + \"'></div>\");\n",
       "    if (!fig.cell_info) {\n",
       "        console.error(\"Failed to find cell for figure\", id, fig);\n",
       "        return;\n",
       "    }\n",
       "\n",
       "    var output_index = fig.cell_info[2]\n",
       "    var cell = fig.cell_info[0];\n",
       "\n",
       "};\n",
       "\n",
       "mpl.figure.prototype.handle_close = function(fig, msg) {\n",
       "    var width = fig.canvas.width/mpl.ratio\n",
       "    fig.root.unbind('remove')\n",
       "\n",
       "    // Update the output cell to use the data from the current canvas.\n",
       "    fig.push_to_output();\n",
       "    var dataURL = fig.canvas.toDataURL();\n",
       "    // Re-enable the keyboard manager in IPython - without this line, in FF,\n",
       "    // the notebook keyboard shortcuts fail.\n",
       "    IPython.keyboard_manager.enable()\n",
       "    $(fig.parent_element).html('<img src=\"' + dataURL + '\" width=\"' + width + '\">');\n",
       "    fig.close_ws(fig, msg);\n",
       "}\n",
       "\n",
       "mpl.figure.prototype.close_ws = function(fig, msg){\n",
       "    fig.send_message('closing', msg);\n",
       "    // fig.ws.close()\n",
       "}\n",
       "\n",
       "mpl.figure.prototype.push_to_output = function(remove_interactive) {\n",
       "    // Turn the data on the canvas into data in the output cell.\n",
       "    var width = this.canvas.width/mpl.ratio\n",
       "    var dataURL = this.canvas.toDataURL();\n",
       "    this.cell_info[1]['text/html'] = '<img src=\"' + dataURL + '\" width=\"' + width + '\">';\n",
       "}\n",
       "\n",
       "mpl.figure.prototype.updated_canvas_event = function() {\n",
       "    // Tell IPython that the notebook contents must change.\n",
       "    IPython.notebook.set_dirty(true);\n",
       "    this.send_message(\"ack\", {});\n",
       "    var fig = this;\n",
       "    // Wait a second, then push the new image to the DOM so\n",
       "    // that it is saved nicely (might be nice to debounce this).\n",
       "    setTimeout(function () { fig.push_to_output() }, 1000);\n",
       "}\n",
       "\n",
       "mpl.figure.prototype._init_toolbar = function() {\n",
       "    var fig = this;\n",
       "\n",
       "    var nav_element = $('<div/>');\n",
       "    nav_element.attr('style', 'width: 100%');\n",
       "    this.root.append(nav_element);\n",
       "\n",
       "    // Define a callback function for later on.\n",
       "    function toolbar_event(event) {\n",
       "        return fig.toolbar_button_onclick(event['data']);\n",
       "    }\n",
       "    function toolbar_mouse_event(event) {\n",
       "        return fig.toolbar_button_onmouseover(event['data']);\n",
       "    }\n",
       "\n",
       "    for(var toolbar_ind in mpl.toolbar_items){\n",
       "        var name = mpl.toolbar_items[toolbar_ind][0];\n",
       "        var tooltip = mpl.toolbar_items[toolbar_ind][1];\n",
       "        var image = mpl.toolbar_items[toolbar_ind][2];\n",
       "        var method_name = mpl.toolbar_items[toolbar_ind][3];\n",
       "\n",
       "        if (!name) { continue; };\n",
       "\n",
       "        var button = $('<button class=\"btn btn-default\" href=\"#\" title=\"' + name + '\"><i class=\"fa ' + image + ' fa-lg\"></i></button>');\n",
       "        button.click(method_name, toolbar_event);\n",
       "        button.mouseover(tooltip, toolbar_mouse_event);\n",
       "        nav_element.append(button);\n",
       "    }\n",
       "\n",
       "    // Add the status bar.\n",
       "    var status_bar = $('<span class=\"mpl-message\" style=\"text-align:right; float: right;\"/>');\n",
       "    nav_element.append(status_bar);\n",
       "    this.message = status_bar[0];\n",
       "\n",
       "    // Add the close button to the window.\n",
       "    var buttongrp = $('<div class=\"btn-group inline pull-right\"></div>');\n",
       "    var button = $('<button class=\"btn btn-mini btn-primary\" href=\"#\" title=\"Stop Interaction\"><i class=\"fa fa-power-off icon-remove icon-large\"></i></button>');\n",
       "    button.click(function (evt) { fig.handle_close(fig, {}); } );\n",
       "    button.mouseover('Stop Interaction', toolbar_mouse_event);\n",
       "    buttongrp.append(button);\n",
       "    var titlebar = this.root.find($('.ui-dialog-titlebar'));\n",
       "    titlebar.prepend(buttongrp);\n",
       "}\n",
       "\n",
       "mpl.figure.prototype._root_extra_style = function(el){\n",
       "    var fig = this\n",
       "    el.on(\"remove\", function(){\n",
       "\tfig.close_ws(fig, {});\n",
       "    });\n",
       "}\n",
       "\n",
       "mpl.figure.prototype._canvas_extra_style = function(el){\n",
       "    // this is important to make the div 'focusable\n",
       "    el.attr('tabindex', 0)\n",
       "    // reach out to IPython and tell the keyboard manager to turn it's self\n",
       "    // off when our div gets focus\n",
       "\n",
       "    // location in version 3\n",
       "    if (IPython.notebook.keyboard_manager) {\n",
       "        IPython.notebook.keyboard_manager.register_events(el);\n",
       "    }\n",
       "    else {\n",
       "        // location in version 2\n",
       "        IPython.keyboard_manager.register_events(el);\n",
       "    }\n",
       "\n",
       "}\n",
       "\n",
       "mpl.figure.prototype._key_event_extra = function(event, name) {\n",
       "    var manager = IPython.notebook.keyboard_manager;\n",
       "    if (!manager)\n",
       "        manager = IPython.keyboard_manager;\n",
       "\n",
       "    // Check for shift+enter\n",
       "    if (event.shiftKey && event.which == 13) {\n",
       "        this.canvas_div.blur();\n",
       "        event.shiftKey = false;\n",
       "        // Send a \"J\" for go to next cell\n",
       "        event.which = 74;\n",
       "        event.keyCode = 74;\n",
       "        manager.command_mode();\n",
       "        manager.handle_keydown(event);\n",
       "    }\n",
       "}\n",
       "\n",
       "mpl.figure.prototype.handle_save = function(fig, msg) {\n",
       "    fig.ondownload(fig, null);\n",
       "}\n",
       "\n",
       "\n",
       "mpl.find_output_cell = function(html_output) {\n",
       "    // Return the cell and output element which can be found *uniquely* in the notebook.\n",
       "    // Note - this is a bit hacky, but it is done because the \"notebook_saving.Notebook\"\n",
       "    // IPython event is triggered only after the cells have been serialised, which for\n",
       "    // our purposes (turning an active figure into a static one), is too late.\n",
       "    var cells = IPython.notebook.get_cells();\n",
       "    var ncells = cells.length;\n",
       "    for (var i=0; i<ncells; i++) {\n",
       "        var cell = cells[i];\n",
       "        if (cell.cell_type === 'code'){\n",
       "            for (var j=0; j<cell.output_area.outputs.length; j++) {\n",
       "                var data = cell.output_area.outputs[j];\n",
       "                if (data.data) {\n",
       "                    // IPython >= 3 moved mimebundle to data attribute of output\n",
       "                    data = data.data;\n",
       "                }\n",
       "                if (data['text/html'] == html_output) {\n",
       "                    return [cell, data, j];\n",
       "                }\n",
       "            }\n",
       "        }\n",
       "    }\n",
       "}\n",
       "\n",
       "// Register the function which deals with the matplotlib target/channel.\n",
       "// The kernel may be null if the page has been refreshed.\n",
       "if (IPython.notebook.kernel != null) {\n",
       "    IPython.notebook.kernel.comm_manager.register_target('matplotlib', mpl.mpl_figure_comm);\n",
       "}\n"
      ],
      "text/plain": [
       "<IPython.core.display.Javascript object>"
      ]
     },
     "metadata": {},
     "output_type": "display_data"
    },
    {
     "data": {
      "text/html": [
       "<img src=\"data:image/png;base64,iVBORw0KGgoAAAANSUhEUgAAA8AAAALQCAYAAABfdxm0AAAgAElEQVR4XuydB3Qc1dn+X0m2ZFuSrWJZxbIsy3JRtSTbcq9gTO8QiimBhABJgAS+JBDyhSTkTwhJSAIBQgglhAAfoRPAGPfee+9V7r3J9X+eca5ZL7szs7szuzM7zz1HxxjfuXPv717tzjNvSzh9+vRpYSMBEiABEiABEiABEiABEiABEiCBOCeQQAEc5zvM5ZEACZAACZAACZAACZAACZAACWgEKIB5EEiABEiABEiABEiABEiABEiABDxBgALYE9vMRZIACZAACZAACZAACZAACZAACVAA8wyQAAmQAAmQAAmQAAmQAAmQAAl4ggAFsCe2mYskARIgARIgARIgARIgARIgARKgAOYZIAESIAESIAESIAESIAESIAES8AQBCmBPbDMXSQIkQAIkQAIkQAIkQAIkQAIkQAHMM0ACJEACJEACJEACJEACJEACJOAJAhTAnthmLpIESIAESIAESIAESIAESIAESIACmGeABEiABEiABEiABEiABEiABEjAEwQogD2xzVwkCZAACZAACZAACZAACZAACZAABTDPAAmQAAmQAAmQAAmQAAmQAAmQgCcIUAB7Ypu5SBIgARIgARIgARIgARIgARIgAQpgngESIAESIAESIAESIAESIAESIAFPEKAA9sQ2c5EkQAIkQAIkQAIkQAIkQAIkQAIUwDwDJEACJEACJEACJEACJEACJEACniBAAeyJbeYiSYAESIAESIAESIAESIAESIAEKIB5BkiABEiABEiABEiABEiABEiABDxBgALYE9vMRZIACZAACZAACZAACZAACZAACVAA8wyQAAmQAAmQAAmQAAmQAAmQAAl4ggAFsCe2mYskARIgARIgARIgARIgARIgARKgAOYZIAESIAESIAESIAESIAESIAES8AQBCmBPbDMXSQIkQAIkQAIkQAIkQAIkQAIkQAHMM0ACJEACJEACJEACJEACJEACJOAJAhTAnthmLpIESIAESIAESIAESIAESIAESIACmGeABEiABEiABEiABEiABEiABEjAEwQogD2xzVwkCZAACZAACZAACZAACZAACZAABTDPAAmQAAmQAAmQAAmQAAmQAAmQgCcIUAB7Ypu5SBIgARIgARIgARIgARIgARIgAQpgngESIAESIAESIAESIAESIAESIAFPEKAA9sQ2c5EkQAIkQAIkQAIkQAIkQAIkQAIUwDwDJEACJEACJEACJEACJEACJEACniBAAeyJbeYiSYAESIAESIAESIAESIAESIAEKIB5BkiABEiABEiABEiABEiABEiABDxBgALYE9vMRZIACZAACZAACZAACZAACZAACVAA8wyQAAmQAAmQAAmQAAmQAAmQAAl4ggAFsCe2mYskARIgARIgARIgARIgARIgARKgAOYZIAESIAESIAESIAESIAESIAES8AQBCmBPbDMXSQIkQAIkQAIkQAIkQAIkQAIkQAHMM0ACJEACJEACJEACJEACJEACJOAJAhTAnthmLpIESIAESIAESIAESIAESIAESIACmGeABEiABEiABEiABEiABEiABEjAEwQogD2xzVwkCZAACZAACZAACZAACZAACZAABTDPAAmQAAmQAAmQAAmQAAmQAAmQgCcIUAB7Ypu5SBIgARIgARIgARIgARIgARIgAQpgngESIAESIAESIAESIAESIAESIAFPEKAA9sQ2c5EkQAIkQAIkQAIkQAIkQAIkQAIUwDwDJEACJEACJEACJEACJEACJEACniBAAeyJbeYiSYAESIAESIAESIAESIAESIAEKIB5BkiABEiABEiABEiABEiABEiABDxBgALYE9vMRZIACZAACZAACZAACZAACZAACVAA8wyQAAmQAAmQAAmQAAmQAAmQAAl4ggAFsCe2mYskARIgARIgARIgARIgARIgARKgAOYZIAESIAESIAESIAESIAESIAES8AQBCmBPbDMXSQIkQAIkQAIkQAIkQAIkQAIkQAHMM0ACJEACJEACJEACJEACJEACJOAJAhTAnthmLpIESIAESIAESIAESIAESIAESIACmGeABEiABEiABEiABEiABEiABEjAEwQogD2xzVwkCZAACZAACZAACZAACZAACZAABTDPAAmQAAmQAAmQAAmQAAmQAAmQgCcIUAB7Ypu5SBIgARIgARIgARIgARIgARIgAQpgngESIAESIAESIAESIAESIAESIAFPEKAA9sQ2c5EkQAIkQAIkQAIkQAIkQAIkQAIUwDwDJEACJEACJEACJEACJEACJEACniBAAeyJbeYiSYAESIAESIAESIAESIAESIAEKIB5BkiABEiABEiABEiABEiABEiABDxBgALYE9vMRZIACZAACZAACZAACZAACZAACVAA8wyQAAmQAAmQAAmQAAmQAAmQAAl4ggAFsCe2mYskARIgARIgARIgARIgARIgARKgAOYZIAESIAESIAESIAESIAESIAES8AQBCmBPbDMXSQIkQAIkQAIkQAIkQAIkQAIkQAHMM0ACJEACJEACJEACJEACJEACJOAJAhTAnthmLpIESIAESIAESIAESIAESIAESIACmGeABEiABEiABEiABEiABEiABEjAEwQogD2xzVwkCZAACZAACZAACZAACZAACZAABTDPAAmQAAmQAAmQAAmQAAmQAAmQgCcIUAB7Ypu5SBIgARIgARIgARIgARIgARIgAQpgngESIAESIAESIAESIAESIAESIAFPEKAA9sQ2c5EkQAIkQAIkQAIkQAIkQAIkQAIUwDwDJEACJEACJEACJEACJEACJEACniBAAeyJbeYiSYAESIAESIAESIAESIAESIAEKIB5BkiABEiABEiABEiABEiABEiABDxBgALYE9vMRZIACZAACZAACZAACZAACZAACVAA8wyQAAmQAAmQAAmQAAmQAAmQAAl4ggAFsCe2mYskARIgARIgARIgARIgARIgARKgAOYZIAESIAESIAESIAESIAESIAES8AQBCmBPbDMXSQIkQAIkQAIkQAIkQAIkQAIkQAHMM0ACJEACJEACJEACJEACJEACJOAJAhTAnthmLpIESIAESIAESIAESIAESIAESIACmGeABEiABEiABEiABEiABEiABEjAEwQogD2xzVwkCZAACZAACZAACZAACZAACZAABTDPAAmQAAmQAAmQAAmQAAmQAAmQgCcIUAB7Ypu5SBIgARIgARIgARIgARIgARIgAQpgngESIAESIAESIAESIAESIAESIAFPEKAA9sQ2c5EkQAIkQAIkQAIkQAIkQAIkQAIUwDwDJEACJEACJEACJEACJEACJEACniBAAeyJbeYiSYAESIAESIAESIAESIAESIAEKIB5BkiABEiABEiABEiABEiABEiABDxBgALYE9vMRZIACZAACZAACZAACZAACZAACVAA8wyQAAmQAAmQAAmQAAmQAAmQAAl4ggAFsCe2mYskARIgARIgARIgARIgARIgARKgAOYZIAESIAESIAESIAESIAESIAES8AQBCmBPbDMXSQIkQAIkQAIkQAIkQAIkQAIkQAHMM0ACJEACJEACJEACJEACJEACJOAJAhTAnthmLpIESIAESIAESIAESIAESIAESIACmGeABEiABEiABEiABEiABEiABEjAEwQogD2xzVwkCZAACZAACZAACZAACZAACZAABTDPAAmQAAmQAAmQAAmQAAmQAAmQgCcIUAB7Ypu5SBIgARIgARIgARIgARIgARIgAQpgngESIAESIAESIAESIAESIAESIAFPEKAA9sQ2c5EkQAIkQAIkQAIkQAIkQAIkQAIUwDwDJEACJEACJEACJEACJEACJEACniBAAeyJbeYiSYAESIAESIAESIAESIAESIAEKIB5BkiABEiABEiABEiABEiABEiABDxBgALYE9vMRZIACZAACZAACZAACZAACZAACVAA8wyQAAmQAAmQAAmQAAmQAAmQAAl4ggAFsCe2mYskARIgARIgARIgARIgARIgARKgAOYZIAESIAESIAESIAESIAESIAES8AQBCmBPbDMXSQIkQAIkQAIkQAIkQAIkQAIkQAHMM0ACJEACJEACJEACJEACJEACJOAJAhTAnthmLpIESIAESIAESIAESIAESIAESIACmGeABEiABEiABEiABEiABEiABEjAEwQogD2xzVwkCZAACZAACZAACZAACZAACZAABTDPAAmQAAmQAAmQAAmQAAmQAAmQgCcIUAB7Ypu5SBIgARIgARIgARIgARIgARIgAQpgngESIAESIAESIAESIAESIAESIAFPEKAA9sQ2c5EkQAIkQAIkQAIkQAIkQAIkQAIUwDwDJEACJEACJEACjiFw+vRpOXXqlDafpKQkx8yLEyEBEiABEogPAhTA8bGPXAUJkAAJkAAJuI4AxK7vD4Qv/n78+HE5efKkNGvWTJo2bSqJiYmuWxsnTAIkQAIk4EwCFMDO3BfOigRIgARIgATiikAgoev7/7BY9fdjx45pArhJkyaa+MWfEML4MyEhIa64cDEkQAIkQALRJUABHF3evBsJkAAJkAAJxD2BUMSuErS+whYW4BMnTmicMBZEMH7gEq3EMN2j4/4YcYEkQAIkYAsBCmBbsHJQEiABEiABEvAGASV2lfuybwwv/luJWPy3r9j1Fby+/41xIH5hAYbIxXX4b9+4YFqFvXG2uEoSIAESsIMABbAdVDkmCZAACZAACcQhgUjFrhn3ZX8BrDCqe0MMKzENgQwxDPdoFSts5h5xuDVcEgmQAAmQgEkCFMAmQbEbCZAACZAACXiFgLLc+lp1/S27vtZdiE5/V+ZwhagSwPgzWPIrNReIYTTlHg1BrMRwuPf3yh5znSRAAiTgVQIUwF7dea6bBEiABEiABP4bYwsQ/i7M/u7LvrCsEruBNsCMAFbX+VqkcR3mFShWmGKYR50ESIAESEARoADmWSABEiABEiABjxDwLzukLKmxEruRCmDf69ValJD3tQqrxFksp+SRg85lkgAJkIAOAQpgHg8SIAESIAESiEMCwWrsOknsWimAfceCCFY//lZhiGGWU4rDA88lkQAJkIBJAhTAJkGxGwmQAAmQAAk4lYCe2PUVvL7zt9ONORJOobhAG90nkFVYWYZ9E2cZjcN/JwESIAESiB8CFMDxs5dcCQmQAAmQgAcI6NXY3bhxoyQnJ0tOTs7ZTMlA4lSxG2i7rBTAvuOznJIHfjm4RBIgARIwQYAC2AQkdiEBEiABEiCBWBDQE7uBauyOHTtWWrVqJT169Dg7XbclgLJLACsgwcopIYO0ihXGf7ORAAmQAAnEJwEK4PjcV66KBEiABEjAZQQirbGL5Y4ePVoTwD179nTZ6r+art0C2BeMfzklVVeY5ZRce3w4cRIgARIwJEABbIiIHUiABEiABEjAOgK+llv/0kO4SyDLLv5/oFq7/rP68ssv40IAHz9+XOMQrazNgcopKTGMWGFYhvF3t1nTrTu1HIkESIAE4ocABXD87CVXQgIkQAIk4DACSsz6Cl1ldVRiV/VRU48kXpcCOPID4J84C2L85MmT0rJlS0lJSdHEcLSEeeSr4QgkQAIkQAL+BCiAeSZIgARIgARIwAICTqixSwFswUb+dwi1n6tWrZJNmzZpbuUtWrTQLMG+scK0ClvHnCORAAmQQDQIUABHgzLvQQIkQAIkEFcEnCB2AwGlALb+mK1cuVKQXbtXr15ahm3lms1yStaz5ogkQAIkEA0CFMDRoMx7kAAJkAAJuJaAm2rsUgBbf8xWrFihWYD79eunuUDDnV39wPqrhLBKnAXrMK3C1u8DRyQBEiABqwhQAFtFkuOQAAmQAAm4nkCoZYew4Ehidq0GRgFsNVGR5cuXy+bNm6V///6aBVg1/1hhCGFfq7BKnGX9jDgiCZAACZBAJAQogCOhx2tJgARIgARcS8DtYjcQeApg649jMAHseyecJSTKgmUYTWWQVrHCtApbvy8ckQRIgATCJUABHC45XkcCJEACJOAaAlbU2HWDWysFsPVHctmyZbJlyxYZMGCAoCSSXlPnDGIY/40z41tOCdfDSuyGs2Q9SY5IAiRAAs4gQAHsjH3gLEiABEiABCwiEKnYdbM4oQC26BD5DLN06VJpaGiQgQMHatmfzTblIg0xjOYfKwwx7OazZpYD+5EACZCA0whQADttRzgfEiABEiABUwTM1thFBl9Y8bp37y7Z2dna2P5xu6Zu6IJOFMDWb9KSJUtk69atMmjQIM2aG2rzfSEDF2lfqzDLKYVKk/1JgARIIHICFMCRM+QIJEACJEACNhMIJHYhJtT/VyLDdxpK5EIAw4qHOq5KANs83ZgNTwFsPfrFixfLtm3bZPDgwZoVN5IWKHEWRLVvBulI7xHJ/HgtCZAACXiBAAWwF3aZayQBEiABFxGwusbuhg0bBFa8Hj16SOvWrV1EIvSpUgCHzszoikWLFsn27dtlyJAhlrosByunRKuw0Y7w30mABEggMgIUwJHx49UkQAIkQAIRENCrsYth9Sy7Zt2YYQGGFQ8u0Dk5ORHM1vmXUgBbv0cLFy6UHTt2yNChQ60f/L9nXIlhnHf/ckoqcZYtN+egJEACJOBBAhTAHtx0LpkESIAEYkFAT+z6ujL7zs2KGrubNm0SWPEogGOx66HfE2Lw+PHj2ssPJ7gDL1iwQHbt2qVZgO1uvuWUcPaVGGY5JbvJc3wSIAEvEaAA9tJuc60kQAIkECUCTqqxqwRwXV2dtGnTJkoEYnMbWoCt5z5//nzZs2ePFgMcreZfTsnXKuzrIh2t+fA+JEACJBBPBCiA42k3uRYSIAESiAGBcMWubwkYO8vBbN68WeDGSgEcg8MRxi2dZgGOhQD2xeZfTknVFaZVOIzDxUtIgARIAJUgTiu/M+IgARIgARIgAQMCkdbYxfB2it1A09+yZYvAjbW2tlZyc3Pjeo/jxQJ87NgxbZ+c4AI9b9482bdvn1YGKZZNr5wS4oRVrHC0f79iyYT3JgESIIFwCFAAh0ON15AACZBAnBPwjclV5YaUJQpL9y8/5BurazY5VbQQKgFcU1MjeXl50bptTO4TDwL45MmTWgywUwTw3Llz5cCBAzJw4MCY7Gmgm/pbhfGigOWUHLM9nAgJkIDDCVAAO3yDOD0SIAESsJtAoBq7/mLX31nIiuRUdq9Ljd/Q0CBwY6UAjhbx0O6Ds9XY2KhZWffv36/9efToUS1jd0FBgaSkpIQ2oMW958yZI4cOHZIBAwZYPHLkw/lahQ8ePCjr16+X/Px8Ldad5ZQi58sRSIAE4pMABXB87itXRQIkQAIBCVhdY9cNmLdu3SpwY+3WrZsmDuK5Od0CrMSuErrqT+XyjL3ByxVYM0+cOKH9N2o3t23bVjIzM6PuPo/5zJ49W44cOSL9+/d39NFBoi5Yq0tKSrQXB75WYSWGneBS7miInBwJkIAnCFAAe2KbuUgSIAEvEtATu7CKJicna6LCt7nJsmt2T7dt26YJg+rqak0YxHNzmgCGJddI7Kanp0urVq2kZcuW2p/NmzfXXKBRegjndPfu3dqWNWvWTNs/vMSIplV41qxZmoW6X79+jj464IQXPV26dNEYqdrCqpwSXipACKsfxgo7ejs5ORIgARsJUADbCJdDkwAJkEC0CIRaY3f06NGSlZWlZUZ2Wsyu1cwogK0mGng8f7EL4QvhqBrOma/YheDF3/2tkv4xwLC+Io4bYhiW4mhbhWfOnKkJ8r59+0YHZJh3wQsDuPp37dr17IseFcqg4vh9yyn5Js4K85a8jARIgARcSYAC2JXbxkmTAAl4mYDZskO+jPxFLiyFGRkZ0rNnz7hHuX37dkEcZ1VVleZKG88tWhZgq8RuoL0IlgQLIm7nzp2CslZw90VTVmFYhuHRYEebMWOGYE59+vSxY3jLxtyxY4dW7qusrCygqz8+N7AOcERjOSXL0HMgEiABlxGgAHbZhnG6JEAC3iJgVuyiXzD35UCujrAAw/pWX18f90AhDBDHWVlZKYWFhXG9XjsEsFmxq1yYg1l2zYI3kwVaWYVhGYZ11k6r8PTp07Ws57179za7hJj0w4ueRYsWSUVFhW65L/WZAs7qc0OJYWUVxt/ZSIAESCBeCVAAx+vOcl0kQAKuIxDNGrtjxoyR1NRU6dWrl+s4hTphCmDzxJTY9Y3bDeTGbJXYDTQzMwJYXRfIKowYYhUrbIVV2C0CGK7+ixcv1l70IAu0meZfTkkJYfypxDBjhc2QZB8SIAE3EaAAdtNuca4kQAJxQyBSsRvpQ+nYsWM191Gnu3VaseFwm0UiI1jG2rVrZ8WQjh0jFAuwE8RupALY9/rDhw9rccK+VmFVSimSDNLTpk3TLMxOf1mEtS9dulRz9ce6Q2m+n0d4qaAycSNmmOWUQiHJviRAAm4gQAHshl3iHEmABFxLIJQau8odMRqZmMePH69ZeJye2MeKjUdyICQyKi8vl6KiIiuGdOwYwQSwf53dYAmqYNlV1t1ACaqisXBYgFECCb8P4ZTtsdoqPHXqVC1e1unhAhD+y5Yt08p9ZWdnh71VgRJnYf3KKgxBHM6+hD0hXkgCJEACFhOgALYYKIcjARLwLoFAYldlXwUVZWXxJRQNsRtoRyZMmKA90Dq9tIsVp0kJYCQHat++vRVDOnYMCGAI1w4dOpxTfiiYG3OsxW4gkKG4QBttBKzCKoO0ihUO1So8ZcoU7WWR0xPGITnY8uXLpaamRsvwHmkLZBVWtYVpFY6ULq8nARKIJQEK4FjS571JgARcS0Cvxq7TxG4gyJMmTdIE+YABA1y7B2YnjvqoyOQbjwLY17ILqy4SIfm/YIEgdoJl1+x+WSmA1T0jsQpPnjxZqzvco0cPs0uISb+NGzfKypUrpba29mv1vSOdEMspRUqQ15MACTiJAAWwk3aDcyEBEnAkAb0au24Qu4Gg4qEeQmPgwIGOZG7lpFAyB4mMUB+1uLjYyqGjOhbErm9yqn379n2tzi7OKsRax44dpVWrVpKWlqZZ+t3U7BDAvusP1SqMl0VIrNW9e3dHY9ywYYOsWrVKmyf23q7mW04JHiyqtrCyCuPPSHMU2DV3jksCJEACIEABzHNAAiRAAj4E9MSucnFWf6rLYuXGHMnGwa0TLqGDBg0Ka5hlWw9I44lTUlXQUhITE8IaI1oXKQHcpUsXzTXYDc2M2IW4hdBRbsz4O5Kb4f853V1Xbw/sFsDq3matwhMnTtQyptfV1Tn66Kxfv15Wr16tWapxJuxuelZhXxdpu+fB8UmABEggVAIUwKESY38SIIG4IWBXjV03AEJiH2QBHjJkiKnp7jtyXP7w5So5dVokNz1Fnhm3RruupHULGdGrnVzZLV9SU5qYGivanfbu3SvI5OtUAewvdmHlxd74vmDxFbuqzm4gy24oWaCjvQ9m76cEMF4sRcuSqGcVXrhwoSYo4Vrs5LZ27VrBD15+wO09ms3XKoz7qnJKtApHcxd4LxIgAbMEKIDNkmI/EiABVxPQE7uonwnRAeug70O3/wN4tB7GowEaLsGHDh2SoUOHmrrdCxPWytOjVwftm5SYILf1LpIRvQqlbUZzU2NGqxNchSH4O3fuLCUlJdG6bcD7KLHr68ocSOz619k168ZMARzZ9sIqjLrRSJwFzwHVlAu0FXWFI5th8KvXrFkj69at08o1wWIdi6Y+Z/ESQ2W1V2JY1RWGy3Q8fZbGgjPvSQIkEBkBCuDI+PFqEiABBxIItcbu4sWLtQfe8847T6t5iRbvD2hICnXgwAFtzWbae3O3yMMfLDHTVYaV5WhiuEf7DEdwVAK4U6dOWmxstJrdYjfQOiiArdtdZRVGbK36TAg1g7R1szEeCe7PcIPu3bu3tGjRwvgCm3soF2mIYTSVQVqVU4IgjvfPWZsRc3gSIIEwCVAAhwmOl5EACcSegG9Mrio3pB66MDvff1fWCPUg6xu3CwGMDKqwhjrZwmMlcdTFhWvwsGHDdIddvGW/5vbcJTdNLntumqzbddj0NAozm8v3BneQSyrzJLlJounrrO4Iaytinu0UwMeOHRMIbbssu2aZUACbJWW+H+KqYVGFYFNWYViECwoKJD8/3zGfGcgAjc+xPn36aEm7nNJYTskpO8F5kAAJKAIUwDwLJEACriAQqMauv9gNNznV0qVLNcvJ4MGDpVmzZq7gEekkZ8+eLaiPe8EFFwQd6osl2+X7by/Q/h0CuDi7hYxccm6ZHbPz+O6gDnJjz0LJSU8xe4ll/WDpRtbr0tJS7SfS5it2leC10o05kvlRAEdCL/C1EMDZ2dlSXV0toWaQtn42wUdcsWKFbNq0SavtjUzgTmy+ibOQsRovLsvLy7WYYRUvDEsxGwmQAAnYSYAC2E66HJsESCAsAoHErrLwYkBlUfAdPJJMzMuXL9eSx6AkkBNcB8OCFuJFc+bM0WIdhw8fHvTK58evlT+OCR73G+Itte4XV+bKnf3aS2WB/Vlq1fyUAIb7M6zAobRQxK6K20UCIrMxu6HMxUxfCmAzlELrM2bMGIHrc1VV1dkLA8UKx9oqjM+xzZs3S//+/R1jldYjjTwEcI9G1mpVTslXCOO/6SId2lllbxIgAXMEKIDNcWIvEiABmwj4lx1SFgJ/92WrxG6gZcB1EPFzeHBEtl0vtHnz5snWrVs1ARzsIXPTniNy0bNT5diJU5YjaZfZXB4cVirDuuZIkyR7LT4HDx4U1HI1EsBmxC5cYX1LD8VS7AbaFApga48qPodgAW7Tpo1UVlYGHDyYVbht27aSkRG9OHh4sjQ0NMiAAQM0d22nN2Rmx2dPfX29ZglWLzlVXWHfWGFahZ2+m5wfCbiLAAWwu/aLsyUBVxPQq7GLhVlt2TULC+IXIhixcxA3Xmjz58/XHpbhAu37cLlx92F54J1Fcur0absO7q4AACAASURBVLm2tkDW7josr0/faCuSB88vleu7t5WMFvY8tCsBjAzQyASNFg9ilwLY1mOpDQ5RNm7cOMnNzZWKigrdG8baKrxkyRLtpRZqe8fKAyGUHUFcPoS6b81qllMKhSD7kgAJhEuAAjhccryOBEhAl4Ce2PW17voOEokbcyTbAfdnuA+ifEhmZmYkQ7nm2gULFmiZr5EEy/dh+dmxa87W+MVimiQmyAlkwfpvS01JkkONZ7K6Wt2u6JYnd/UvltI21lrhVR1g7C2SnCFZlW/MLtbhX2cX7sxuEBH+e0ALsLWnEi6648ePl7y8PC1W1WyLhVUYyfxQ0g25DNxgMYVXBnIuwAXav/mXU/K1CqtYYTf+fpo9P+xHAiRgLwEKYHv5cnQS8AQBvRq7epmYAcdf9MYCGBJgwX0Qlggku/FCW7RokZYwB2WQfN0lx6/cKXf9c54ugte/2V0eeneRbNvfaAsqZI/+2cVdZGBptiQmJoR0D1h2fTMxBxO7vnV23Sp2A4GhAA7puBh2PnHihEyYMEHL9lxWVmbY37+DsgojNhcvYtAQKwz3aIhqK7POL1y4UIvrHzJkiCtiZ8EVL57q6up0ufqXU1J1hSGElRhmrHDIR5MXkICnCVAAe3r7uXgSCJ1AqDV2lcj1fUBx2sMKSofAetK9e3ct2Y0Xmm/pp4SkJvLBvAY5fvK0lqQKmZ9nrNuji+HFm2vkfz9eKlttEsHq5o9c2FmuqSuQtJQz9Zl9m7/YhfA9cuTIOX3wgI24XVjGIDiQyCieLUcUwNb+9h4/flwmTpwYtgD2nY3dVmF4dSCzOwSwGxos6wg5qampMTXdQOWUlBjGSzz8wFLstO8XU4tjJxIggagSoACOKm7ejATcRSBSseuWBxG4AuPhsba2Vov180JDvOCGDRs0d8n3F+6Uxz5Zpi27RXKSVOSny8z1Z6xVTmlXVOfKzTVZkp7QeLbebiCx62vZRYIqWIjQDw/b7du3D8uK5xQGZuYRLwIYLzecIGaUAEbN365du5rZAsM+dlmFEdePOsX4nXZD8y0vFep8/a3COCsQwypxFn7v3eAGHuq62Z8ESMAaAhTA1nDkKCTgagKh1NhFXwjbWMXr2gEaiWOQFblbt26apccLbdmyZbJu3TotYc67C3bKrz5dHnTZaSlJcv/QjvLrz1bEHE1Wymm5qeMpqSlo8bVszHjoDdQQ74tERhTAMd8+UxNA3K1TBDDmgVhVuCx36dLF1PxD6WSlVXju3Lma+z9+p53ezGTXNrOGQFZhJYZ9Y4Xd8jLWzJrZhwRIIHICFMCRM+QIJOAqAno1dlEvdffu3ZobMJKTqBZPYjfQZm3fvl1QFxfusXjQ9UJD0q+lq9bKwP79JDmluQz782TZfeh40KV3zEmVZ75RLRc/O9UxeB67tKtcXZMvKU2TdOfU2NiolbIpKioKKZGRYxYawkRoAQ4BlomuODuTJ0+WwsLCsxnETVwWcpdAVmHUJIfl2WysMD7DDh06pJVBcnpTycXMZNc2uxZlFWY5JbPE2I8EvEuAAti7e8+Ve4BAqDV2EQsLyyBiYVu3bq0R8sKbcySOmT17tlbmpF27dh44GSKfTFkoj3y5VU6eTpTLqvMkNTlJ/jljk+7amyYlaFmhjxy3vi5wJNAhgh84r1RyW6YEHIYCOBK60b/WSRZgeA+gXA8+Fzp16hQVGIGswqhDDDGsV1cYn2Fw90c9c6c3K2OrA61V1RXGn/gOC+Qi7YXvNqefA86PBGJFgAI4VuR5XxKwmIAVNXaRqRTZgZGVEw9cXmmwes+YMUOLD4WbrBfaL9+bJW/MDx7ni3JHRZnNZenWg7o4hnRprYnnTxZuizm2Nukp8uwN1dKt8NxaznBjHTNmjCZijGq5xnwREU6AFuAIAfpdDkE5depUzXugtLTU2sENRgvVKjxz5kzNdbxfv35RnWc4N7PbtVzNycgqDDfpeE6KF87e8BoS8AIBCmAv7DLXGHcE7Kqx29DQIEik4qVYWBwOVScWMX4dOnSIu/MSaEFfzFwi932yWU5L8DJDT19XJbPW75E3DCzDz1xfIROWb5d35u9wDLvHLy+TK2vypWlSosDaNHr0aM2NtbKy0jFztGMiFMDWUoU1dtq0adqLsY4dO1o7eAijwbUZyfqQrwDnGdZLf6swXuLBet6nT58QRo5N11hY1vG9CT54sYDmW04JGaQhhmkVjs154F1JINoEKICjTZz3I4EQCUSzxq4XY2GxHUgcAzdHuDjG8iE3xKMRcvf9R47L779cpZU76psn8vasTTJjR6LuOA+eXyofzm+QVTsO6fYryzglS/fqjxXyhC24AO7RPxjaQeZMnUABbAHPaAzhJBdoCM/p06dLcXGxlJSURGP5uveAeMPnNMSwqiusYoXx/9B69+4d83kaTSCWLxbUdyrOmUrqyHJKRjvGfyeB+CJAARxf+8nVuJxAuGLXqhq7qCEJN7ry8nLN5c8r7eDBg1qmV4jfaMX5xYLtS5PWyVOjVp29NTIq7278ygKMGF+IY6PWOuW07PS5zqi/E/49velp+fmgbLlsQJ0TpmPbHGgBthYtPhtgWYVniNO8Q/ytwlg5hFx1dbVurLC1hMIbTXGN9YsF/3JKSgirckqwDNMqHN4e8yoScDIBCmAn7w7nFtcEIq2xCzhWfzGjhiSsHV5yBQZHWCMmTJigPeDaUerEKQf54wVb5aF3F+lO5+dD8+QXY7YaTvmzu6rlohcXGPZzYof/d2W5XNktX5ISg7t/O3HeZuZEAWyGkvk+yIyPl4JOFMBqFbBkIpHf0qVLNYsmWqgZpM0TsaYnvG5mzZqlWdUhgmPdApVT8neRxt+t/s6N9bp5fxLwKgEKYK/uPNcdNQLqgUS9afb9osUkfP9duWMpcetffsjuSStXYCR7iXbCF7vXpjd+vNeJXbxlv2bZrShIlyufn27ozvzTmhPy63mBa+r6cnz4ws7yxOexrw0c7tm5olue/O/FXSWtmfFaw71HtK+jALaWuBLAThFqeqtDuSbEsWZlZQnyOZw4cSJgrLC1hMIbbd++fVrmfXzPOM3bKFDiLIhfZRUGY2SVZiMBEnAvAQpg9+4dZ+5AAoFq7KovUyV2VR81fSfV2IVL3cSJE+PeEup/dOI5S/DIRQ1y3zuLtSUXpidJfovTMnObfWWM+pRkydQ1ux342xl8Shktmsob3+wupW3SXDXvQJOlALZ2C5WlEuERTs8Qj89uWH5Rxk5ZhQPFCufn5wtce2PZ4G00d+5crbYyktM5sflbhcEUL0TS0tKkZcuWGkNahZ24c5wTCRgToAA2ZsQeJBCQQCCxiwQl/hZd34udJHYDLSreLaHBjjIsJRAObdu2laqqKteeeGSHxQM7fmBhwZ8frzwiH21ICrqm5k0T5dKqPHlnzpkEOsFa35IsOb9rjvzy0+W6/b7Ro60MK2sj33p9ris5PnFluVxVk+9aV0cKYGuPnZMtlf4rRRhHenq61NbWnvNPKlbYSVZh5JtAxQGEnOBz1+kN3+s4C3PmzNFehOBH1RaGEMYPrcJO30XOjwS+IkABzNNAAmEQwJchrIZuFruBlq0soV4oF+O7fry4+OKLLwSWEZSAckMLJHYRy+zbYA060TRNHhi1Rxp1klvd0be9dC9qJd99Sz+m99be7aRj61T5+SfLdBFdVJGrxdd+stA4ltiprC+typXHLy+X5snBXx44ce4UwNbuCjItQ/QgOR7qSDu5jR8/Xlq1aiU1NTUBp+kkqzBilhcuXKjVXsfnrhuaOgtw2y4oKNDKKeGlNoQvfuAazXJKbthJzpEERCiAeQpIIAwCEL5Hjhw5e6XTLbtml4gHpFGjRrlKCJpdm14/7OfIkSMlNzf3a9YTK8aPdAxYqJVFV/0ZSOzi4ReueYcTmsnPPt8gx0+dlmtrC2Tr/qPy8pQNutMY0qW1bNx9xDA+uDi7hazbda7QjnR9Tr4+LSVJ/u/b9dIxJ9XJ0zw7Nwpga7fJDa66asXjxo2TzMxMUy/x/K3CEHA5OTmasMvIyLDdA2Lbtm2yePFiqaio0D533dB2794t8+bNO2u19i+npIQw3KKVGMZ/s5EACTiPAAWw8/aEM3IJAbgLo8VTVkinC0E7jwYswNnZ2Vr8XCybr9hVrsx6YheCV8WjqXk/P36t/HHM6rPL8C9vBLfnI8eN44DL89Nl5faDhqWRkAzr75PXy/YDjbFEZ/u9kT0adYWd/DtPAWztMfAXPdaObu1oY8aM0URsKGEcsbIKwx0bWasxV8zZDW3nzp2yYMGCgFZrfHeCJazCaP4ZpCGInfy54Qb+nCMJWEmAAthKmhzLUwR8XaDjaeGwAMOK0KNHj3haluFaYiEcIHZ943Vh3Q0kdiFwlXXXX+wGWhiSUN3+2hzdNT99eYn8/LPVsv+4fimg8T/sL7e+OlvW7/7K4yHQwF/c11fu/tc8WbMz/q3DF1a0kSevqpBmTZ1n3YnFOTb85QqxA4REY2OjIxIMqVjVrl27atZRpzYIsLFjx0qbNm2ksrIyrGkGswojRhefP1YKOCTnWrZsmWatxotHNzRltQZfcA7U/K3CYKbEsG+ssJUs3cCOcyQBpxGgAHbajnA+riEQrwIYVoTU1FTp1auXa/bCionavW67xK5a+4mTp+S9uQ1y7OQpuaQqVx769yKZtFo/G/P3K07IW+uayY5DJ3QR3jOwg7wwca38t8Ro0L5ec4+GJf3fd9U7Kns0BbAVnwZfjaFn9bP2TpGNhpcGiAGGOzHciiNpwazCEMJ5eXmWZJDetGmTrFixQotXRtkmNzRlta6urpbWrVsbTllVgABPNJU0S5VTgiCmEDbEyA4kYAsBCmBbsHJQLxCIVwGMOLLk5GTp27evF7bx7Bqx7pSUFOnTp0/E6/YXu7Dywrri25CgKlTLrt7E3pm9WR79aKnWBcKsqm0rmbFuT8RrCTYAkkR9snCb7vit05Ll0Yu7yAP/t9C2eThl4McvL5Prusc+m208CGD8/uDz1QklZtySrAnMkAUaCaWQWMqqZpdVeMOGDbJq1Sqpq6vTYo7d0DZv3izLly8PWbT7l1NSibP8Y4Upht1wCjjHeCFAARwvO8l1RJ0AsvCqeJ+o39zGG6KWJL6I+/fvb+NdnDc0Hh7xhj7UdSux6+vKbLfYDUTvrZmbdLMzQxR/d3CJ/G7UKl34SPb06yvK5IaXZun2qyxoKX/+RpUMfXqybr/2Wc3lz9+oliuen+68TbdhRigV9dQ1ldIiRtmj3S6AVSyl0wRweXm5Zv10asP3ET674aYNd22rm7IKQwQiVAMNL/HCtQqvW7dO1qxZo4Xa4EWgG5oVol1ZhVXJRF+rsEqcxXJKbjgNnKPbCVAAu30HOf+YEYhXATxlyhTB2gYNGhQztrG48aRJk7QXGgMHDgx6e6eIXd8JHjx6QhITE7SSXMOfmSI7DhwLOv8uuWnyx+ur5KJnpuoiLmndQu4b2tHQcpvbMkXqizPl4wX65Y5QEunkqdOx2NaY3ROJx+Ae3TUvPapzoAC2Fvf27dtl0aJFjs9WjBcG+AyDIEVtXTubFVbhtWvXCn7q6+slLS3NzulaNrYS7T179tTqLUfa8H2jfvytwhDDTJwVKWFeTwLBCVAA83SQQJgE4lUAT58+XXPXHTp0aJhk3HkZhD8eIgcPHqwtwIli15/soi375bZXZ2sZnS+pzJWs1GR5dap+uSOU9UlNaSLb9utnbE5MEPHXrLj2YOOZeLZgrUliglS1bSlzN56xErGJ/O8lXeSmnoVRifejALb2xJlJfGTtHcMbDVUJ8BmGWsWoWRyNFsgqjPwRsEIbxQqvXr1a1q9fL71799YsyW5osFhDBCM/BtZpVQtkFVaWYd/EWVbdj+OQAAmwDjDPAAmETQACSSW3CHsQB144c+ZM2bt3rwwbNsyBs7NnStjLadOmabWdkUQGLn7B3Jh943bxcBLL9tcJa+UPo78qd+Q/F7g9F2Y2l5Xbz40/9u/XvShDixs2Spr14PmlWlmkjwwsvs/f1E2mrN4tr0/fGEs8jrs3ai0/dXWlpDdrYtvcKICtRbt161ZZsmSJ48v14LNr6tSpUlRUJKWlpdZCMDFaqFbhlStXysaNG7WcC82bNzdxh9h3Qcwy3KDtnDPLKcV+nzkDbxCgBdgb+8xV2kAgXgXwnDlzBIlfLrjggqhYrGzYGt0hsW8HDhzQRK6K2/UXu3ggU2WH1J+xFruBFrVi20G54vlpX7PU+vb9/bWVMmPtHnl79mZdLv+4vU4Ttv+es0W3H8Tt+3O3yBdLd+j2++F5HeWdOVtk4x798knR3n8n3A/W9be/3VOq27ayfDoUwNYiDTXzr7V3Nz8aPsPgvdO+fXvp2LGj+Qst7mnWKoxkUogn7tevn5Z80A1NzRl5IpAo0s4WrJySf+IsO+fAsUkgnglQAMfz7nJtthKIVwE8f/58wUMfBLDbk3GEInYhilGDF67fThS76jAfOHpCnhq1Uo6dOCXX1hXIB/MaNKGp1x69qLO8N69BljQc0O13TW2BvDtXfywMkJOWLDsOBo81DnaTioJ0WbxFfw62/tI6cPCHL+wsI+oLpUlSoiWziwcBjN9bhJg4IQu0W+rVHjx4UGbMmCEdOnTQfpzQIMohcmFFx57i+wT1c+EiDa74/wMGDHD0560vx6VLl2rfjcgTgfjcaDX/ckqqrjDLKUVrB3ifeCRAARyPu8o1RYVAvApgJHxBjcbzzjvPNQ8m2HB/sQvrLh4KfZuvZReuzPhRb/Lnzp0riPcbPny4oy3fr05ZL0+MXHl2We0ym59jZTWbcMpMPC9uckOPtvLWLH3rMeJ+X7qlVm5/bY7h796shwdLjyfGGfbzWocBpdnym6vKpXVaZNYwCmBrT064pW+snYXxaHiBh/CVkpISKS4uNr4gij1gFUYyMYhelUEaAhKf2Si316xZsyjOJvxbLV68WPuOQJ6IWLwcDlROSYlhvLQFUye8NAqfMK8kgegRoACOHmveKc4I4EsdX+Dx1hDvhjgnfMk79cHErNj1r7Or57Y2b948zSLhdMv354u3yf0GdXWfvq5SfvDOIsOj+fO6E/KLOcaWjPmPDpFuj481HO/T7/WRi5/VzzCNQR4e3ukcEW84sMc6vP7N7tKzfUZYL2IogK09LHgZuGLFCqmtrZXMzExrB7dwNLzwmzVrlub+DDdopza8lIQQxosFCDpfqzDCTZxcC3fhwoVaeNCQIUNiPk+9ckpKDMdCpDv13HFeJOBPgAKYZ4IEwiQQrwIYcU4oTwE3Lydk57RD7Abacjzc4KHs/PPPj6p7m9njh4zPcHuubttSrnlxhizbeq5123+cMT/oZ1ijF9c82CdDfj91r+E0LqrIlc8WbzPsxw7WEUDSsVt7t5NmTZNMD0oBbBqVqY5I1ISETU4XwEhciPwNyACNTNBObwi12bVrl5ZrQVmFzWaQjtXa8JIUc3VSicBAVmGVQVrVFaZVOFYnhvd1MgEKYCfvDufmaALxKoCR6RI/SE5iRa3DUDYRTFViKvwZzI05FMuu2fvDvQ0Pu4gBtjvBidk5qX7jVuyU77wxT/traU6qVBa0lA/mNxgO0yI5SQ4f0y9bFGgQf7fqQH2aNU2Uiytz5b25+vNA5uM+HbLk/32+wnC+7BCYQN+SLPnV5WVaRm+jRgFsRCi0f1cCuHv37ppYc2rbs2ePIIyjc+fOUlhY6NRpnp0XxCREOzyNlFU4UKywk6zCeMGAuGbELTuxsZySE3eFc3IqAQpgp+4M5+V4Aihgj0Qt8dZg/YUVGPUZMzIybFueEru+gjdQzK6K1VXZmO0Sp0hwgrqUTnT99o/79d8UiNELytoYlieqK2ol/TpmyzNj1+ju6+19iqQ4u4U89sky3X4PDSvVEmL9+P0luv3uG1Kilf759WcUwZH+Qr14c40gXjgRqaQDNArgSAmfez3CQfBC0OkCGNZUWFW7dOkibdu2tRaCDaNBTOLzHp5GqgWKFXaSVRgu5o2NjdrLYac3PJ+oH5TIQox469attfrFykXaye7mTufL+bmfAAWw+/eQK4gRgXgVwBCBEIM9e/aU7OxsS+iaEbuIN/YvPWSX2A20KKe5fvvOcfuBRhn+5ym61ty7+hcLsiwbxQejPFFaShP55afLdff23kEdZN+R4/LGjE26/ZA5ev6mfbJqh36t4bK8NFlq4LZtyWHzyCDfG9xBbutdJC2bn1uL2q0CGKEOcC+FVRB/wn0Tlsy0tLSY7ig+D1evXi09evTQkuY5te3cuVMWLFggZWVlkp+f79Rpnp3X7NmztbrrKCkUqAWzCkPcYx9iId6QZRvfZagD7JYGqzBirvH9Vl5erolg5SLtmzjLLevhPEnAKgIUwFaR5DieIxCvAhhJX5AJGhaPnJyckPfVDWI30KIQ54cHXTyQxfqhG/PbsveofP/tBdJ44qRcW1sgOw8dk79NWq+7H5dW5WoZoedv2q/br744Q2asM477DdeF2my5o59e1Fn+NGa1HGwM3U075IMZpxcgWdbPLukqXXLPCEU3CGB8dirPD4hd/PjX4lbbBS8UiB58FsUiqc+6detkzZo12gvBaIeEhHJkkZwJeQwgcvLy8kK5NCZ9kbEaHlTIAq3XnGQVnjp1qpZlub6+PibMwr2pSuRWU1OjvTzA7x+ayiCtYoXxZyxeLIS7Ll5HApEQoACOhB6v9TQBvFk9diz0WqhOh4Y6h3Clw5el0YOUr9hVD7R4kAUb1Xwtuyp2N5qWXbO8IX4hgvFA5gRLz98mrZPfjVp1dvopTRKl8cSZBxc0/78HW2duyxTZtr/REMMdfYvk5SkbDPu9dnud3PaqcbmjqT8aqFmt9x/Vz5Q+8aEBcsNLM2Xz3qOG92YHfQJPX1clSVsWSlZmK02wOaHhswDWPCV08SfcMX0/I1R5MuUBguR76IfPIpTPQV98ZqB+LMRwSkpkpaJC4YKQEPxA9DjhxViwuaM8D/IYVFRUSG5ubihLjEnf6dOna/uKUBuzLdZW4cmTJ2tnD94Abmr+XgwqcRa+v/HfEL2+5ZRgGcbLJophN+0y5xoqAQrgUImxPwn8l0C8CmA8cCI+q6qq6pxYMnxZ4sEVD6ZuF7uBDnG0Yp/N/gLNXLdHRrwyW7f7Czd1k5+8v0T2HtGPRR/3w/5aeSKjhFgzfzJIhjw9ydAi+9G9vWXEy7MMxe2PL+gkfxi9So6f/OqFSKAFVeSny+KGA2bRsJ8BgUtKkuXhq3tJTnr0hCKmhM9EuLX6il18VuCzQzUIWQhd3x/fF2IYA+7QsA7CIoWXjKpsDuIv8VAON064R8M6bPdDOqy/sAL36tVLi590akMCKZSww+d2OJ470V4XrKkQWeAaaouVVXjixInaGairqwt1yjHtr85woJc4KnGW+h1V7tEQxBDC+LH7dyymcHhzzxKgAPbs1nPhkRKIVwGMWDIk+yguLhZYZuJR7AbaexX7jIeErKysSI9HWNefOHlK3p/XIEeOn5RLq/Lk4Q+WCDJA67X3vlMvd/9rviBOWK/94tKu8sTIFXL0+FdW5ED9kbV57HL9e4a1uP9edF7XHBm9bEckQ/BakwRqClvJj4Z3krp29tRXhThVcbv4nED8rm9iQDxE+4tdeIToPVD7C2C1VLhtItET3DmR8RgNYgQWYXiqQCzb0eAZgs8GWCqdUBYu2BphLUfuhurqau0FgdMbrKl48RGpp0I0rcLjxo3TXrrAO8pNDZ5NyGaO2GV8pwdqgcop+btIs5ySm3adczUiQAFsRIj/TgI6BGCRcHvzt+zi4fLw4cPnLMstbsyR7AUeEOBCCPe2WD1Avjt3izzywZmMysjsXNcuQ6as2R3JsnSvbZ8ust7A8Io4YCRben7CWt2xILbuGdThbLmmYJ2HdG4tDw4rlUv/Ms22dXHgrxN4/PIy7aVK82TzNYV9R4FV1jduF2L36NGv3NYhalWIgxK9EKihWo/wII7PJIjrYKIWn0+o2Q3Rh3nhwRwiGGLYajdlZIBGJmg98eCE8wYeSHTUrVs3y5IX2rmuSZMmaWIMuSasaHZbhXEux44dq1nXYWV3U8O5wPlAfgsz4UeByinhdww/Kl44FvH4bmLOuTqfAAWw8/eIM3QwAbcJYCV2/UsP+cbj4QsSD5/IAA0rMB5mzXxpOnibTE0NDwhIIgP3tjZt2pi6xupO78zeLI9+tDTosMlNEuU7A4oNyxh1bpMqD5xXKve+OV93ipVZItd0bSG/mHLuCw//iy6pzBWURrrubzN1xzu/a45cUpUnP3hnoW6/7kUZ0jk3Td6cqZ9h2mq+HE9kRH2h3NanSIqyWgTFAWurCndQ7sz+JcogNH2tu0gQZcVDsRkBrCaOzzO4/uJ3V80PFjq4R6tst5HuuRnrWaT3sOJ6leiotrZWMjMzrRjS1jEmTJigvayww53YDqswfidgAUZ8NeKs3dTgGo/fk0GDBmkiNpTmW04JL7OUi7QSwrQKh0KTfZ1EgALYSbvBubiOAISir3h00gLMiF1YdpXVRtXbhUUFsU4lJSXSuXNnJy3J1rmEkvzL6okcPHpCEhJEEhMSZPgzU3STVlW1bSm/vbpCLnpmqu40enXIlG/2KdLco/VaRXaS9CtrJy9OWqfbD/dtPH5SVmzXL3eUk54sOw6cmxwuKTFBTp7SjwPGzYuymsuG3UesxsvxAhAoz0+XB87rKP1LsuTIkcNfi9v1T2QHYakELz4r7HI5DkUAq2XhGrzUgwj0TZoFizASZ0WSNEsJYNR+jWQcuw8hPFgwVwhKO+u3W7WOaLgTK6swXpDgfKApt3kIWcS3mm34XoRoR4kplJpyU8OLXWQJHzJkSMgeGb6/Y0oM4/cNQti3nJJKnOUmLpyrtwlQAHt7/7n6CAk4RQCH8DuBXgAAIABJREFUK3YDPdAhic348eOlffv2rvuij2Q7kUV17ty5WgwdHpqj1ZY07JdbXpktR46fkosrcyU3PUVemqxf7ignLVkyWjSVlQZiNLNFU9lzWD9BFtaZmCDir0/TUpIMk2Gh3BHE+3oD0fqD8zrKhJW7ZPYG/dJLr95WJ2/N2iSfL94eLfy8j4hc2f6k9GpzWlo0EU0U+MftRlP4hSOAfTcxUNIsuK1CDIeTNGvFihWasHa6AHZLvWK1V3AnhpcRPm+j0SK1CsPbC3HLOEddunSJxpQtuweqOiC0afDgwZaMqX5HIYiVVRhimOWULMHLQaJEgAI4SqB5m/gkEAsBHIrY9bXumn2IxZrGjBmjuRFWVlbG58YFWBXekM+ePVtbM9YerfbSpHXylE+5I//7wu25oFUzWbdL3025Y06qJCclyNKtB3Wnfme/9oIM0ws269cK/uvNNfLChLUyd+M+3fE+/V4fefzT5Yaxyh/f21t+/dlymbb2TAKjYO3311bKc+PXyuod+pbmaO2Pl+5zeWWO3NG/g5Tlt4zZsiMVwGriViXNCjV+Mlbg3FKvGHxUPC1CTaL9HROuVRgvhpG5uqioSEpLS2O1zWHdF1UdUJ5wwIABYV0f7CL/ckq+VmFfF2lLb8rBSMAiAhTAFoHkMN4kgIynqqi8HQR8xa6K28WbbF/3RAhbVT9T/WlW7AaaM+45atQozQoarbfzdrALdUxkmJ05c6aUl5drDznRahB6lz03TddF+KlrKmTK6t1ahmi99s63ewrqB3+xVD/L8iff7S2/+nS5TDcQo7DIQtyuMhCj9w0p0VyojTJMV7dtaSi8o8Wd9wlOAC9Tvje4g5zftY3gBUw0mxLA+GwNNV4x2Dzx8K+SZuHzTSXNwosuo9JGy5Yt08owQTyE4jIbTWa4l1vqFWOu2AN4GSFxGT5vY9VCsQrjDKF2MfJiIDzITQ3fa/h9Qo17u5p/OSXfDNJKDIeaEM+uuXJcEgABCmCeAxKIgICVAhgPBfhC9q2za7fYDbR0fJGNHDlSS/aBhCpeaXARwwMO3Ns6dOhg67LhNvzbUSul8fgpua57gXyycJthQqgnrizX3IPnb9K33N47qIO8OnWDYc1fxAgbCeBIIAwvbyMjl+i7MqemJMljl3aV/3l3cSS34rU2EoAQvr57oeS2jE5NYVUGSWV3tnJp4STNQmkh5AcYOHCgbXHPVqxRlWtyer1irBXfm8gz4ZR4WjNWYSSFg5CE+IUIdlObNm2a5qocTs3lUNepV05J1RWGpZhiOFSy7G81AQpgq4lyPE8RCFcA+2ZZNWPZVa7MkVh2Q9kYWICRSRQlgbzS8OIBLm6dOnWSjh072rrs16dtkMc/W3H2HsXZLc5xcUZCrNPGOaNMz7F/abZMWrVLt39Kk0T54fml8sTnX80r0AVwx37mhmq55q8zdMfDmt68s4f0+e0E3X6IZ3772z1l6NOTTa+HHaNPAC80bu3dTpDB286HVzsFsKKGe+D3HbG9CH3A3/HZCq8X/6RZkWTQjeYuuaVcE5g4OZ4WL53hLYCsyRDGEGt4GYzvYLjD4/uhXbt20dzaiO9lVc3lUCfibxVWSbNgHYYYhmXYiszxoc6L/UkABCiAeQ5IIAICZgSwv9iF4MXbZH83Zt94XbgyR0vsBlr+6NGjtRIV0XhjHAF+Sy/FnuBBAeIXDzl2tlFLt8v33loQ9BYQwL++ovxsTeBgHVGj961v9ZTLn9OvqQvr3Qd39zIUo4WZzeWf3+wug/8wSXf5EMG/vqJMvvmPubr9WjVvItfWtZW/GyT1wiCBskfbuQccOzwC2Pu7BxbLZdX5gvNndYuGAPadM8QYXJzxg/+GuEfSLLhH43MYAhgJ8pBAyMkP6ypbNdxckd3fyU3F00JI2v1ZGy4HiF/sO86FyiCNsRC33LVrV0d7A/ivGdZ2uPrbUXLKDN9AVmGWUzJDjn3sJEABbCddjh33BOCmhy9K1dwodgNtEkpUQID36dMn7vdQLRAxXnhQgPuzXVk+kfEZ2Z67tW0p1/9tpixuOKDLd9JDA6T/7yYa7gFidW9/bY5uP8Ry3tm3vTw/Ya1uv6ZJCdIhu4VhuaNAgzRrmmgYB4zrYEU0ygjdr2OWNo9/zmCtYMMDEKMOqA19U89CaZ8dvKZwqFOLtgD2/ezeuXOnZv1DOAQaRAMe1PFyLJISMqEyCKe/W5J1YW2HDx8WuOWi0oDd3jbhsPS/BlZhuJgjTwSasgrDWwAvru30iLBi/vg+h0dXt27drBguojGUVRjPSr7llKZMmSK7d++WG2+80dEvmiJaPC92FAEKYEdtByfjNgJ79+7VXOjwhtiMZRdflk5/O489gBDEl3r//v3dtiVhz/fo0aOCBwW7yj+NX7lT7vrnPG1+pTmp0q2wlbw7d4vhfPNbpUjDvkbDfv4d4NLceOKU4XWFqSKbDBIul+WlSV6rZjJ2+U7d8ZBhGvHNb8/erNsPdYzX7jxsKMafvaFaVm4/KH8as8ZwHewQOwJwsR9RXygDO7UW1HyOpMVKAPvO2T9pFv4N5W/MJM2KZO2RXOuWZF1YIwTljBkztJeNdudbiISp77WoL71o0SLNRR7zV1ZheErh/yGhl121sSNZQywzbhvNW9UVxp8jRowQeJ7BO8Cq5HdG9+e/e5sABbC395+rj5AA3OPgeoYGiykErq8rsxvEbiAEeBsL9+5BgwZFSMg9l6vyT3DLq6iosHzi/nG//jeA5XVolxzDxFFdctOkrijDMGkWBEmTpEQtIZZeG9FJJDmnSF6eot/v5VtrZfyKnfLatI264710S618tmibobj/30u6yH8WbjO0BF9enScfLdhq+X5wQOsJZDRvKncNKJZragu0OtXhNCcIYDVvePighAwEj2qwpEEMt27d2lGWKrck6wJHiMdZs2a5KqEUEqGBMSojYO/hFQD3aP9YYadZhXGGJ0yYEPOM23qfBfidv+SSS2Tx4sUCLwwnhxqE85nGa5xJgALYmfvCWbmEgMrY7BbLrlmscE/Dm1i4/Xml4UHhyy+/1B5uq6qqLF/2roPHZNifJ8uhxq9c5v1vgtjKTm3S5MF/L9K9/+OXl8m+I8d16wdjgKevq5RZ6/fKGwZuxL+8rKuWiXrGOv0avXf0LdKsu3prwH2r2raUhQZ1hgMtEDHD+46csJw9B4w+AYjgEb0KpTzEmsJOEsCgtmDBAu2hHPGTZpJmRZ/0mTtCPCBmFS8tnW5Bg+cUXiygnm40S85FsjdwjYebeU1NjWRlZZ0dKlCssJOswnixO2nSJO17za7Qnki44lr8ziPGHr9nqGdNARwpUV5vhgAFsBlK7EMCQQjgyw/CKd4ayj1A3J9//vnxtrSg64Eb1hdffKGV5rAqVmrrvqPyvbcXyJFjJ+W67m1l7+Hjhm6/3+jeVjbsOSJT1+zWZQ/L6OdLtssxAzfn8vx0WWIQaxzJJp/fNUe+XKZfdxhusb+5qtxUuaNxP+xvmIQrkvny2ugSqG3XSm6ubyfIIm2mprDTBPD8+fO1mGA8oKMZJc2KVTwo3HPhpuv0WGUwRKznvHnzpHPnzppbuRvaxo0bNW8vvAjJyMgIOGUnWoVVwjG8aMALByc2/M6j4gRe3MCrLla/Q05kwznZR4AC2D62HNkDBOJVAOPtPGKbhw8f7oFdPLNEO+ofvzx5vTz5xRkXeTRkzT187CsLMNyej580rndkNp53WFmOjFqqL0aRYfpXl5XJox8t1d1biNaP7+0tFz871fAMzPvpEKn59VjDflN/NNAwEzUGgRv1t17XzzBteDN2cBQBnPVv9SuWG3q01eLJgzWnCWAINbwM9A8HwQszWKxgFYZFEw2WP1jaUDYn2vGgCxcu1D6zhw4d6qh9DzQZJJPCiwVkU4bLsBsaLJNr1qzRhBo8vvSak6zCKt4atYtRw9iJDb/zZWVl2llAbDgFsBN3Kf7mRAEcf3vKFUWRAB6CECsbbw0PfYhtuuCCCzzljgQLcHZ2tnTv3t2SLYX78c0vz9Id60/XV8mP319smD151P19ZdifphjOa/6jQ6Tb48ZidNqPB0rvJ/Vr9OJmb9zRw3AN6PfdQR3kL+P1M0yjX4fWLbQEWKG2oqzmsmH3kVAvY38HEoA1+Ob6Qqkvzvzaw67TBPDcuXO1eM+BAwcGJemfNAuWLHiSQAwjk3Q0mr+lOhr3DPceEOoQ7OXl5VpsqhsaxC9EMEoDhrKnwazCOBvp6em2iz28vJk9e7aWbRsJHp3Y8DuP3Buwro8da/zd5cQ1cE7uI0AB7L4944wdRCBeBTAeThDzBBfoaFsyYrm9iAFG7c+ePXuGPY0TJ0/J+/MaNEvvZdV58siHSwyzJ3/2/T6ayNx9SP9lygs3dZPvv73A0Gr87f7t5W+T1huuoTA9STYdCB6THGwAf0t2sH4DO2XLhJVnSocEa3DRHtK5taF4vrauQDDefW8vNFwXO7iDQEnrFnJLryK5oluepKY00SbtNAEMbxgI3AEDBhhCRTgMXhzisxPXoCFpFtx88WLNztjGYJZqw0nHoANilRGzXFlZqdXVdUNbtWqVbNiwQSsN2Lx585CnHCurMNz38RLHye7mYIPEYhdddJF8/PHHIbPlBSQQDgEK4HCo8RoS+C+BeBXAiMPBlz3iyZDd2ittzJgx2tt9vOUPt30wv0F+/N5i7XLUxe3ZPlMmrtIXgeibmpJkmFwq0JyyUpsaCmdcN7hzaxm3Qr+MUcecVBlYmi2vGGSORoIj9P2tj3t3oLk9eH6p5KQny0/eX6KL89GLOkuLlCbyyAf6/ZAkrGlSojwzlmWRwj2fTr3ull7t5Kb6Qq32M4QkfpyQzAnWM8RRhlISDiIebtEQwrB24u/4HIXVD26eycnJlm+DGUu15TcNc0CVURnJBnNycsIcJbqXrVixQnN379evX8TfidG0CsNNH4nc4GIMrwQnNtSFhifADTfcIG+++aYTp8g5xSEBCuA43FQuKXoE8GCDLIvx1pDtcu3atZrbX4sWLeJteUHXgzrAeFDFW/5w2/vztugKPsRC3t6nyNBCC4F5e+8i+dnH+rG6F1fmChJR/dAgc/Q9AztIpzaphv1+dnEXaZKYID//ZJkuApQx2nnwmDxn4PZ876AOsmLbQcNEWRdV5ApqJfvGSAeaQG7LFNm2P/S6yOHuJ6+LLoG+JVlyY4986VvcSpKbnrEKx7KhXA8SX0H4hNNU0iyIYXxXIL4RVk+IYXibWBXvCKEOIWHGUh3OOqy8RmVURrJBWMbd0FSZKfBt2jS8El/+64yGVdgN1nYkb0OCrjvvvFNeeuklNxwHzjEOCFAAx8EmcgmxIxCvAhjZLlevXq099CFOySsN9RJhdQrnYfdg4wlJEBEkj7rwmSnSsC+4SKsvzpDHLi0zTDAF19CLK/PkO2/M092CW3u3k5y0FPn9l6t0+0F4b957xDBRFu47fsUu2XtE3yW7a16aLNv6VY1Us+ckMUHklHHuL7mqJl9zJ2fzHoHWqU0FtayvrsmTzDBrCltBDRnxIVzD+Uzwvb9e0ixYvyK1dkcq1K1gZXYMWFJhUa2trdVcxN3QVJkpZAO3w5XdLqswahUvW7bsbP1iJ7JGfDXKSz3wwAPy9NNPO3GKnFMcEqAAjsNN5ZKiRyBeBTC+kPCA0rt376AlH6JHOXp3Qr1E7GmoVpRlWw/IiFdmy6HGE3JJVZ60bdVMXpi4TnfixdktpHVaslanV6+ZFZl5LVNkq42WUcTpjjVwocY6fn1Fmfz0Q32rNfp9/v0+cuEzxhmm5zwyWEv+tetQ/HlaRO9ku/tOl1fnyk3dC6SiIPov4yCAkeiwb9++lkFEZl5YQREvDCsg8iyopFnhetzYMU/LFuw3EMJrEFOLZIOwgruhqSzbdpeZgus/LKI4HxDFaJHUFXbDywYkcMN37qOPPiq/+tWv3HAcOMc4IEABHAebyCXEjkC8CuD169cLXL7q6+slKysrdoCjfOcpU6ZoD7v+JU+MpvHKlPXym5FflTvy7w+3Z4hdPaswroGlC+7HOw7qiz0k1xq7fIccbNRPYPXEleXysEFcLe777ztq5NqX9a3M6Df3p0Ok1kS5oxk/GST9nppgmKzrjTu6a+WOjhw/pYv4ouIm8tm6+Ku3bXSu+O/nEqgqSJcbexTI8LIcUzWFreCHsiwQqZGERQSbh5VJs6ZPn669vMNLS6e3UEoKOWUtsciy7W8VhpeAcp83m0Ea3+Xw5jJTvilWrPG9e+GFF8qTTz4pP/rRj2I1Dd7XYwQogD224Vyu9QQQ4xVvDW+NFy1apL2hd0uSEiv2YNq0aVrCG7zlD6Wt2XlILv3LNDmp49f75NUVMmbZDhm5ZLvu0B/e00t+/vEymbdpn26/Kf8zUG74+0zD0kCTHhqgzc3InRnlju58fY5hOab7hpTIn00koarIT5fFDWcsGKG0VikJsq/R2D/6xp6F8ubMTaEMzb5xQiA5KUFu61Uo13fPl7yWwWsKW7HcaAhLK5Jm4bML8cSRJPCzgpeZMVRJIbxghXXTDQ3ZwGG51yuHZdc6glmFzdScDrd8k11rCTTuqFGj5JprrpG//OUvcu+990bz1ryXhwlQAHt487l0awggPgwPMPHUEDeEzJGIy3FLnUYr+MPag7fu5513nuFwiPn93ahVcuTYSbmue4F8umibvDFDX5A9e0O1/H3yepm7UV/c/uqyMnl6zCrD7M6opWp0TywECbVW7zhTliWUZrbcEZJwfblsh+7QhZnN5aaehYaZoyszT8vFnVLltzP0awVfWpUnyAoNcc/mXQLndcnWrML17TMsSyjlSzPawhIvVOH+is9g36RZKKXUsmXLoGucOnWqFkcMUen0BoskLJOwVofr8h3tNTolxjpUqzDyeWzcuDHs8k3R4Pzee+/J7bffLq+++qrcdttt0bgl70ECQgHMQ0ACERKIRwGMzJEoq4EyFXjL7JWGhxzUTRw2bJjhkt+YsVF++Z/lZ/uFKzINb/TfDu2zmsv63UcMu5tJHNU2o5nc2qudPKHjto0bIe73qtp8w9q7EOLDytrI7a/N0Z3fsHYJ0jHthLywNEm33/Xd2wosyEaZqPuXZktWi6by0YKthlzYIb4J4Pfj5p5t5fKqNmdrClux4lgJSyTNQgkliGGUVEKDtRRCODc392tJsyZPnqyVV4qkhrkVvMyMoUQZ4qqbNbPXgm9mPmb62OkKb+b+/n3MWoVR0QFnCGW87Ci/Fc7c/a95/fXX5bvf/a5ACF911VVWDMkxSMCQAAWwISJ2IAF9AvEogFE7EGKwvLxcioqKPHME4OaGh87hw4cbrnn0sh1y75vzg/ZDNuifXthZfvnpVyI5UGfU8X36uiq57VV98YgEQE9cWSGXP6dv8Rxe3kazjF71wgzdNXyjR1vplnlSHhmlLx5Rn7Wkdar84j/6ZZGursnX4qc/Xqxfa7gmN1k2HzwlOw7px/QWtGomW/YdPWcNiI8+YSZ9tOHusUM8E7ihe4FmFS5pHXkJN8QnouxNLIWlmaRZSODXvHlzLWzF6c0NosyfYbQ9AULZQz2rMKy/eKGNvBaRZhoPZU6h9H3hhRe02N8vvvjC1MvnUMZmXxIIRoACmGeDBCIkgId+vK2PpwYrKGLfunbtKsXFxfG0NN21zJs3T8vMCgEcrD7n0oYDcvj4SakpbCXX/22mLNqyX3fMqT8aKH1+O0G3T056sjx3Qze57m8zdftBBF9TW3CO5TnQBb07ZEpOeop8bGAZrcxtpsUQ7z+OAk7BGzJWr9ul75IcySEZ3Lm1LNy83zDTM1zD/zVzoywNo/RSJPPjte4k0Ks4Q27sXiCDOmdryeXCabCsojY4kgjFuqmkWcjRgJq/aEhSCC8dJC2Ehbiuri7W0zS8vx01dQ1vGmEHJ52DYEsJZBVGhnH8fyvrF0eI8muXP/XUU1r2Z7xssiPZnNXz5XjxQYACOD72kauIIYF4FMD79+/Xvow6deokHTt2jCHd6N4acc+IvYMLdKC35ZNX75I7/jFXm1SnNqlSV5Qhb8/abDjJLrlpsnxb6PVyAw2c3CRRjp0494VLs6aJhsmrMJaZmN4Bpdkyf9M+2X9U30J7dfFJGbkpUQ6d0BcW/76rXu57e8HXrLn+a5v8PwPkztfnGtYVHvODfvL9txfI4i2hJ9gy3Ch2iEsC8LK4pWdbraZwVmpySGt0omVVJc2CEIa3jspBAXdiCHWnuroq8KqmrpOtkv6HZOLEiZKamuqKFwyYO6zCKpYcf8f3GVznCwoKtFhyJ7XHHntM/vCHPwhKTVVWVjppapxLHBOgAI7jzeXSokMgHgUwXO7w4FdSUiKdO3eODkgH3AWZr/FQOXTo0IAPkf5xv/5ThpWpX8csGb9yl+5qEINbnp8uo5bqJ466vDpP9hw+LhNX6Y/32KVd5cP5DYbJtd75dk/56YdLZMV2/YRYH91RLvf+e6Vs2n9cdx0f3t5V7n1/rWzep58J/e1v9ZTvvTXfsLzTA0M7yrPj1hi6OVcWtDS0vDvgOHEKDiRwWVUbzSpc1dacCIDwQaImp7oWq6RZKC2EBs8VlMoxSpoVy63B5yxq3dpdU9fKNY4fP16rWYzEkG5qCGU6dOiQdoZVXWGUUIIQhiCGhTjW7aGHHpIXX3xR1q5d6ymPs1hz9/r9KYC9fgK4/ogJxKMARikgfOG3b99eysrKImbklgGWLFkiGzZskMGDBwdMzrL70DEZ9qfJuvV3vz+4RHJbpsijHy3VXfafv1Gluf3+bdJ63X7v3NVTyxz9+WL98kkf3dtbHv1wiSzYrO+S/fKttfLIB0tk63590Xpxu5Py+aZEOXVa38JbX5whM9adSdITSjNrtUbNYyNXblj4fnZxV/nBOwtDmQL7ephAeV6a3NSzQC4sbyMpTRKDknCL5W/MmDECYZOYmCj79p3JMo+/q1I5Tor/hKfNrl27Qi43F8vjOnbsWMnOzpbq6upYTiPke8+cOVPLzYCEY8oqjJhg1LZ2ilX4nnvukTfeeEM7E3DpZyOBaBCgAI4GZd4jrgkgvgZfJvHUkNgLD1Tt2rWTioqKeFqa7lqWLVsmsKSg1qMqz7Ft/1H53lsL5Mjxk3JdXVvZf/S4PDture44d/Zrr5UdGrdCPyHU3QOK5d15W2THgWO645kRgRgg3Fjd5MTTcuyUcYykmXJHmS2ayt0DO8gTn6/QXRMscA9f2Flu+vss3X79O2bJLy4rk/P+OFm3H2Kyf3NVuVz4zFTPnFcuNHICTZMS5Jb6QvlG93xB4jX/NmHCBE1I1tbWRn4zm0aACzQEGmq2I3O/maRZNk3F1LDItQCRDhdoNzTk+Bg3bpxmMXXb92Gg5F14ZoEIRriPE6zCt9xyi3z44YcCbwanu++74bxyjuYIUACb48ReJBCUQDwKYAh6FKeHm5Tb3nhHclRXrFgha9as0UpGIKEM2qtT1p9TLigtJekcCzCyPZ+0MDNxWV6aqSRPI+oL5Z8GdYdbNUuSW6vT5ZkZ+hba0qxk+cUVFXLzK2fim4M1lEV6aFipXGJQe/eSylz5Vv/2hpmoh3RprSX1wgsGvVbbrpXUtsuQl6foW8tbpyVr1rzNe8/NHh3JmeC13iEwpHO2IIN0nw5f1RR2g+trMIGG76aGhgYtFtQ3aRbco2HNDJboz+4dR7Z9iHS8aHRDA0e8CMnPz3edR5RReSzk+4AQjqVV+OqrrxbME2LcSZ4KbjibnGP4BCiAw2fHK0lAIxCPAhgWhZEjR2pvvJ1s+bD6CK5evVpQoxLuYipRyJwNe+VGAyvl766plIfeXWQ4nQ/v6SVXPD9dt1/zpoky5gf9DTNHo+7pW9/qadwv7bTc0iVBHp+tP72+JVmC0kj3/5++GzH6dc1Lk5enbNAdsLptS2k8ccow+Veb9BTZfuBcd2xY5Y6fPG3IE2Vu1uy0Lzu14QTYIS4JtMts9t+awrkye9okyczMlG7dujl2rXhhCaGel5enla7zb/g8R2Z/CGGVNAsJs+AeDVEXbasb4lKPHj2qvWh0Q4NHFHJigFeXLl3cMOWzczTrwh9Lq/AFF1wg+O5FBQa48LORQDQIUABHgzLvEdcE8PCBL494a6jJByuBU5O/2MEbSThQo7JnfS8Zu+6wHD52Ui6tytMSR41Zru/OPO6H/eXiZ6dq1+g1JKIyKneE6x+/vMwwjrhF0wSpzjot07bp08hJS5bExATZZhD3C/dlJN3ybYEs3AkJIqf99GlGi6ay1+9a/1l1K2ypWc/hHq7X7h9aosUVT12zW7ffiyNq5D8Lt8qH8/VrGdtxVjimNwj0zz0ll5W1kov7OdcFGjGeEDpmLJQQnrD44QfCDoIDSbMg7vDSLxpWYd+4VDecIuTEmDp1qhYShMoIbmpw3Q71BU40rcJ4OdOvXz/NIwDeV9E4f27aP87VPgIUwPax5cgeIRCvAnj06NFa7Ft9fb1HdlK0+F/EAe9pWSqPjTyTVRUW2d4dsmSsQTwv+iK7s53ut5kpInv0c1dpczZTdqm+OFP2Hz4qy7YfMRSjE1buMsww/fdbauW58Wtl9gZ9d+vPv99HHv90uUxarS9uv7ivr/wS/QwyYEME/2nMapZF8sxvaWwW2rN9K7mxR4EgDCDcmsJ2zTwcCyXcpnfs2KFlvY920izUmIfw6d27t11ILB0XWZQx5+LiYq0ygluaig3HC45wygtFwyqMOSKzNkKO5s+fTwHslsMVB/OkAI6DTeQSYksgXgUw3hynpKR4qjA9MkAjE/TOtBL51ajgLr6wit7Us1Ben75R9/AVZjaXq2ry5Zmxa3T7DS9vI3DnfX7CGdEdrF3dMUkaE5LlP6v0ReuLN9fIp4u2yQfzG3TH+8eNneW3ny+TRXv03c5G3d9Xs4IbZXtGuSP0W2XjtFNrAAAgAElEQVRg4X3kws7y57GrdbNpY+KDOmUblpQKtEDEAcP9mo0ErCaQ0byJjKhvK9fU5Atizp3QkDwIMZSI7Q2nbJ3KDgwXVAhjlMaBNRlWYZUM0Mp1wpqKWE+3vFwFH1itIX4hgt3SVOxyMNf4UNYRzCqMM4IX5eE2CGBY1cEW54KNBKJFgAI4WqR5n7glgAcGuKDFW0PSD7jHuSVOywr+K9eeEcB1tTVy61urZMu+4MmUIM5+eH6pYUzvXf2LpSw/3bBEz82lp2TXUdFKD+m1Z2+olv8s3CafLdb3e/79tZXy4sR1hjG4FxaelLENTaTRIOZ2QGm2YT3iSPbAzPiwxv94eGd57JNlurfKTk2Wf93ZQ4b/eUokU+K1JKBL4OKKHLmxR1vp1jY9ppYrq1x0AyXNQhgMRI6VSbOMEjM57djBQj579mwpLS2VoqIip00v6HzC8QwwWpyyCiOeHG7LaJHUFYYARrLNPn36aIk32UggWgQogKNFmveJWwLxKoDxkALrtlsydUZ6wJZvOyg3vTRDDh07Ked3zpBO+VmaS69eQ0xrVotkQ/fowZ2ytPq8uw/rx4rX5jeTuQ3GGYxRrkVPnAebc3KTRDlmwjIKN08jl2+I0fuHdpTfjFypywjJup68ukJueEm/3FFFfrq8cHONDPjdRN3xOuemycu31Ep/g34ZzZvKCzd3M7xvpOeG15NAWW6a5h59UUWONGuaFHUgyPCMcjeo296xY8eI76+SZsE9Gkmz0KxMmoV4ZViW3ZJfYvfu3YLSTbCuw8rulqZejEC0Q7xb3aywCkNQo/bvlVdeKe+//77VU+R4JBCUAAUwDwcJREggXgUwHqjwBTpkyJAICbnjcv9yR/6zhttzq+ZNZPchY2t/YoKIUWWkLtnJsnyXfv1fzOFb/drLS5P1y/80a5ooT15VYZjBGRmXX761Vi41KGOEGOKXbqk1FKN1Ra0EGbCHPq1foxcZoX88vJPc/LJ+KurSnFS5rq7gnLJTgU4PxG3n3FRDl2x3nDzOMl4IJCWI3NqrUK7vni+FGc2jtiw7Y1SRNAvWPiTNgqeTSpoFIagy5Ye6UDfUVvZdE14CLFiwQCuBBNdwtzRYaGfMmCEdOnTQfuxqkViFYV1HcrERI0bI66+/btcUOS4JfI0ABTAPBQlESCBeBTBinvDldP7550dIyB2Xr915SC75y1Q5qRM6+sSV5VrWYaMETv9TfUJeXJok+44n6C5+xk8GSf1vxhsCWvDoEKl+fKxuP8S9InHUoD9M0u2Xk54sT11dKbe/Nke3X1FWc7m6pkD+OGa1bj/EOcMiPWPdHt1+eHmw74hxtvRAGaaLs1vIul365Y5gGe7YOtXQNdwQNjuQgAUEBpVmaVbhPiWZkohDbWNTMap2Ch18z23fvl0Tw75JsyCEkWQplPqt4WQmthGf4dBY96JFi6SiokIrDeiWFgvX7VCtwnix0rVrV7n77rvl+eefdwtazjMOCFAAx8EmcgmxJQB3McTaxFtDzBPefA8fPjzelnZ2PYcaT8jvv1wlhxpPyvU92sp7M9fJvxfolzv63cXt5K/TtsrK3fqW4D9eiUzS62XvEf1+/3tJFy0rspHFGMm03p+nn9QKCws3E7XZ2rtmxodgRUmluRv36Z6dEfWFsu1Ao4xaukO332+uKpd5G/fJW7M26/Z75dZazSr8/AR91/W4PdBcmOMI4Pfl5p4FckV1nrRs1sSW+UF0oLYu3J/hBm13C5Q0C3GciBVu3lzf8q0yE+fk5EhVVZXdU7Vk/IaGBlm6dKk2X8zbLS2WrtvBrMI4I3hhgkRraCtWrJAePXrIQw89JE899ZRb0HKecUCAAjgONpFLiC2BeBXAiHlCVlAUqY/X4vRvztx0TkKljq2by+qd+hmWcdpSkk5L48nQrTpmXKMxvpkyRuhnJlYXccptM5prWaH12jf7FMmOg43yyUL9fk9dUyHjV+ySTxbq1979v2/3lDdmbDSs0fvRvb21ZF1G4716W528NGmdofX9oWGlgn21sxxVbD9xeHe3Eri2Nk9u6F6g/X5b2WJh6cP84RKN7whYhRGHjGaUNAuWZFiAwy3NYyU3s2NhfagPj3I9iFd1S3OC6zaej9QLE1jSkVcE3gKIKcd/48/BgwfLY489Jj//+c/dgpbzjAMCFMBxsIlcQmwJxKsAXrhwofZgAxdo9bY2tqStv/uY5Tvknn/NDzpwopyWS4tOyUcb9BPbILYWMa4P/nuR7iRRe3dEr0K57+2Fuv1u6dVOKgrS5SfvL9Ht99ilXeXIsZPy5Bf6iahQo3fy6t3y8hT9WGKI1n9M22goRv9xe538eewambVev+bvLy/rqiUS27pfv3jx5dV58tECfUENELAq7zlsHIPtD61PSZZMXaNfd9j608URSSAwgbp2LbXs0ed1yZamSfpZ380w3LNnj8ydO1crJ4N4ymg3vaRZsAw3bdr07JQgesaPHy9WlOaJ1jo3btwoK1eulLq6OsnIyIjWbSO+z7Zt22Tx4sVaDWC8cIh187UKI973tddeO5uc64477pCHH3441lPk/T1EgALYQ5vNpdpHAHUY462hHBDq4iIJFuoBx0uD1WL26q2yY89+yU8+Ko+M3SPrDwRfHVyDJzw4QPr8doIugtp2reTRi7vINX+dodvv2roCqSvKkEc+0Be39w0p0cSeUa3hH13QScat2GGYEOo7A4rl7VmbDV2yB3duLeNW6LuBY4HpzZrIgaPGMb3+MCDsF2/RAS4iCJn83uASw/rJmAPE/fV/m6nLHEnC3rmpo1z2mv6Lgng541yHOwjAJRo1ha+tyZOc9PA/Y5Wra5cuXTQ35Fg2o6RZ+PxFFmgIY8R+uqGtX79eVq9erbnqhpv4KxbrRHztsmXLpFu3bppl3ikNL0yQZPO5556TkSNHCs4MLMG333673HXXXVJbW+uUqXIecUyAAjiON5dLix6BeBTA+OJct26dVgYJJSvc2GBtQHwcXATVz9yGI/LckjMW3fwWp6Usu4mM2XjScHmw3holesptmSKIKz7YqD9eSesWsmanflInTCgrtamprNP+kw+USCrQAnsXZ8i0dfpWXGS/vn9IifxhtH4yLMz1T9dXyy2v6Gd6RtKst7/VQ/o9pV/uCP0+uLuX9HhinO7epKUkybvf6WWq5u8tpSfl9VXRL1NjeLjYwfMELirPkRt6FEhtYcuQawrv2rVL5s+frwlKCEsntEBJsyAekUQK1lQkz0JZITe0NWvWaN+F9fX1kpZmrfu6netXlmsIyszMTDtvFfbY//jHP+TBBx/UPALwogGtZ8+ecs8998g3v/nNsMflhSRgRIAC2IgQ/50ETBBAEiy81YynhocUvPXu16+fVuje6Q0PXCgH4it2EXvkuy8Q8tN3JctL8w4GXQ7cnstyUmTxDv3EZqkpSVLSOlUWbt6vi6Z3h0wtg7GRG/Bd/YvlxUnrDDH/5YZq+e5bC3T7NUlMkI+/21suemaqbj9kZn648qj8ZKZ+ch5keX7/7l7S60n9jNVI+PPXm2sMyyzBZRyW64fe1XcZb5GcJBeWt5H3TCT/Qt/Dx4xfZBgCZgcSiCGBzm1S5aYeBXJpVa4gs7uZtmPHDkHIilPL9OBzGDWF4ZKLz2k0fKfANdcoaZaZ9dvdZ9WqVZo3VJ8+fVwxX8UDoh3i3cmW61deeUXuv/9++fDDD7USUy+++KK8+eabct5552n/j40E7CJAAWwXWY7rKQLxKIDxxYkMjfjSb9WqlaP2E6IWNYp9xS4svbD4qga3bcwbP7A84M/k5GTZfeiYDPvTZF0r7YiqdGlXkGdYjxa1cj+a32AYvzr6gX7y/bcXyJIGfdff2Y8MloG/n6hlpdZrU/5noPR9St8lG9cjptfIPThBTsu3alvJ3+bqC3k8jA/qlC1fGGRshss4rMZHj+vUkwqyuPxWKdKwTz+cABZfWOPHLNd3076gLEc65qQxI7SjfnM5GbMEKvPT5c07zLmCuqVMD9yfYeWDmFQNrrmwBiO5VILN5aLMsvfvh+9BCHi8DHZTOJCyXPfq1UtSU1PDXb6t1z3zzDPy05/+VMaMGaOFW6Hhuxxu/cXFxbbeO5zB4W2BF03/n73rAIvi+r5XkN57ryJSpEkVEHuNsRt7Eo2m92oS034ppieaZhJrEo0lxpbYYxcFRVDsDRUEARFRESzo/zsv/83u4vre0pbZde73+aX45s2bO7O7c9499xxsOkF1HZsjcuhnBmQArJ/3TV61xDJgiAAYLyqwfgDtq7mVL0ExVwW7+He8TCkCIl2qQBdCJXhRUbxQlVy+Rs8u2MfoyQ/EejE/2m82neQ+RS91C6K9BRW0/jDfogdCT9O3n6YzF/jq0S92bUXfbs6j6zf5wFBbQSj49IrOqekCtVWiDnC2pDwBTRsV5Laetkxgixe9wl3J1NhIuFHwSvcgKr1ynWbvUL4ga5p36rAItravBLTsH0ZG0bHiK0L6tsS+TuTlyBlgGRgc7U4j470IVWFeSE3siLfWK1euUGZmJqNCY8MSSsUIVILRv4wqoKpolhQeBfwOwgqpQ4cOklsbLz9gcYEGLeXK9eTJkwl/du3axSrVUg/0KYO2jU14GQBL/W7x1ycDYP2+f/LqJZIBgDEFtUsiS2rwMrDjvX//foqNjdWp9yGUImuDXYhkKAKWTKDPKaq7+Cd2t3nVgzk7ztBHq4/+NwfEZy6pCDhpCwq1TSqqlKI+YMwV62tPWWf4PbgYNyjaQ0gDbu1qRR2CnGhmOh88Yi4na1P6eRtfEfr1XsF0/so14ThQnjPyyoUK0/PHx9Ff+87Rb5kF3DTOebgdLco6K7Rjeq9vCC3OLqR9Ago6rnfJ3iIysA4FbR9FeZwBZABA+J0+re/6HadPPrW1PYvB5IFYE/7gdxTf7wDHAMNSEZyCkjI2GTp27MgsfPQloOOBvKampjL2kxRj0qRJNHXqVLbZLnVRtH/++Ye5YkCoC1RtGQBL8YnSfk0yANY+V/JIOQN3zYAhAmD8cO7bt495H0KgoikCFQD0h6kCXvTxqgZER1TBLsBvXX2Jc/IraNh0vlLwh/1D6c1lh7iXid7amQ/G0IOz93DHoTr7zbBI6v9DBnccfHyf7BhAQwUqxuNT/CjOz54e51g24UTv3x9KN27dov/9fYR73u9HRNGeMxdZ5ZoXGLdsbxGtOVjCHYfz/pqZT0eL795bjQlg7wRv4FuCdnltfZBrL8rd1kzYa41jHknxoxmCa2+K512eU85AfTPwQpcA1htsbnInAJOq2q+ma7148SLt2bPnDssmhWgWNl4BkhEAwADCsPBpTuCJ/mpQXkHRlSpNW1Ou4eQAn2YpA/fnn3+eZs6cySjmza1gzvtsYqMmIiKCMcuWLl3KBNxkAFzfbzNpHCcDYGncB3kVep4BQwTA2PGGt2RkZGSjKIuCMgT6G0+kCjQ4VbCLF6D6ehDX3LrNwBuEke6LcGPg9h8BnXnHq2lCuyM8qqueaS8UmApysaIXurWip37nC1ahVzXYzZq+3ZTH/RQMj/MiULlFva8j473pnyOlVCzw3u0a4iLMBxakLaisvXgoYovWgGOGxXkxeyZeoP/4q6ER9OTvd/dsxvGwO1r3XAp1+JyvMI2xuW91oYj3N+j5N4+8/HspA9iAe617K6YWrRrwaz9y5AjbrGzudhXR/VBYNgFAoPdXU9QWzQIlGtRoAKTmEM2Cwja8ljt16iS6PEn9vT4A9wkTJtCCBQvYe4FUKv6abuLEiRPp008/ZR7W8NoOCAiQAbCknva6L0YGwHXPmXyEnIE7MgDarqoAkyGkCL1Zu3fvpvDwcPaFX5fQRqQKlCxVsKsQqarLeXhj/8o9Ry/98a/KMBSCU1s5CgWcMNbL6jadrWwhXAbEnm7U8EuZAGTaiEE1tYJxO1872nOmQnhNT6QFCEWjLEyMaOqwSJrwWw53PgdLE2Zj1PHLbdxxTlamBJGw6A83csfhvBteSNVqg2LuuDgaNXO38HrhjfzjVrHytnAieYCcAR1m4NsHwpkgnSL0we5GsVb8roBZpI1lEzaWQe8GwEcFDuHs7MyAsC5Fs1CxxuYtLAH1KXJychiwRAVYqjFixAhatWoVQeejvpvdTX1teF7RCvbggw/SjBkzmCWWDICbOutNP78MgJs+x/IZ7oEMGCIAxo53RkYGe1ERqTGKRKpAX6sNdmF835R0sqV7i+i1Pw/c9elD3+8A9NZmFwkBWrcQF1qQxa9Stg90JCtTY6Fo1oRUPyYaJVKERsXzreUHhb3Efz2VJLQdwgVmvd6JYgWeulBv3vNGJ4r6QAxGVz+TLAS3AK2gUY/9JZubY5z38Q7+9N1mfhUck4S6W9Ohc3yqtaaTOVu1pPOVN++BbyP5Eu+FDCT629PjHXwpzteeqSpDjRYv6VJT7K99LxSWTWFhYVq31mBDFZVjAOHmEM3CRjB0KNBLq0+RlZVFV69eZeJdUo1+/foxSjzeN+ra2qSLawI1PykpifLy8gg91VAtlwGwLjLf9OeQAXDT51g+wz2QAUMEwNg53rFjB+vVQq+LIhQiVejTQj8XxqmKVAHUKmyHFKBXJFLVmI8IKM8At6jh9vpmBxVWKAW0ap+nT1s3ejDJh4ZP51cLIQgFFeP3/j7MXeqvY2OZLdKiPYXcceufT6FXFu+n7Hx+VXbLS6k0cFomlVXyPYn/fCyB2R3dFDTXfjIonLspoFg0lLIXCgA/xsL39+zFu+f3bkmoLUJ2t3HwUN6ZV87NZaSXLbXztRcqR/cPdySLqlKaf1J/RGwa83Mhz2WYGVg8IZbMqs4zz3Yp+70qst9QxWpUggGEURlWFc0Cnbqp/OqhWg2GF9SU9SmgrIwcJScnS3LZ2NiAqBT6f/FHigB4ypQphD5l+BVDARohA2BJPk51XpQMgOucMvkAOQN3ZgA/jgCGhhSgfG3bto3RzQBkAXYBevH/VaMxRKoaK2/HSq4w6isUmPtHuZO3vQVN3ci3O+oU7Mwo0iv3F3OX8VCSD6WfvEDHStRFumofNLa9L83dVSC0O+od7karDvDPibm1sSNqSP7cLIiK+Q5ObHrkadNRvvduvJ89+TtZCjcAxiX7UksjI/ppG59+DIupy9U36bN1fK9FCI6du1RNH65SKn1rysmoVjVkYu9Gs7P419GQfMrHyhnQdQaGhNlQhHk5dU+NbzIQ2FjXpFCshrYE6Mz1Dfzmwv8YYFhVNAtAGKJZjQmmdu7cydhK8NPVp5D6ugGAUV0FSIfXclMywupz38CsQAsYmBWbNm36bwoZANcnm9I7RgbA0rsn8or0MAOGAIDxYwQFZoVIFShJECNRDdCW4bGrqOw2RKSqKW5zbbuj2vZG+G+AXW0sirRZn7O1KZ2/wq/OYp6UVo5Cr1yMG53gLbQJQtV1eJw3fbGeDwqhMA1atqr9k6Zr6uXbgpysTGjuIf51TB4QRhcqrwvB6PQxMZSTf1Eo6jXrwRhGF58rsEX6bHA4rcwtpo0C8P1oqj+h75tX8cf1t3WzoP3aIH5tHgB5jJwBCWVg8di2FOzpKKEV3bkUhWBXVFQUo5M2RgAAY15Ul0FZhWiWp6cn+9MYolnbt29nNkLx8fGNsVydzYF1Q7VYqv66eOeAsjKeA9C1pQaA77//flq7di1BBE3VokkGwDp7hJv0RDIAbtL0ypPfKxnQNwCMHx7Qlmv77aoKeeElAjuzALmgQeOf+DGVcuSdr6T7vttJUIC+W8DuCPTevQX/Wm3cLRaMjxdaJ7VoQbTxhVTqJBB6QhV3zkOxlPYFX524e6gLPdO5FfX7fid3begjhoewyBbprT5tGC16sooHsqaJx0eY0lVzV5q3i+/RC+/dlQeKme8vL9DPu3DPWbpQeYM7DsJk205cED5S2giOaZpEm6o1jvt4YBhNXHJQuA55gJwBqWdgypAwJpCFvnopRlMKdilEs0CnVbTlNIZo1tatW8nS0pJVAvUptmzZQmBotWvXTpLLxntIYGAghYaGEnIstQAgx4Y/NmtUA88W9FFQEFCwAubPn691T7vUrvNeXY8MgO/VOy9fd6NmQOoA+Pr163eAXfw/RUCkqnbfLgAwjN+xiw66mlQDPb9frj9Olddv0rBYb1q+r0hYVYQ68cSlB+iwQExp2ROJNOSnTKHa88+jo4WqyKjcjkrwoU/XHuOmElVbKCOjmsmLnmGudKT4Cp0qu8odh5fhzcfKhLevvlTr2lX2u50IFWlRFRdzTerTRuhjbNrSiP54NEG4UYC15LzZWagwjXF7J3VmGxQVVYbVyiC88fIAg8uAv6MFzRoTRWCoSC10IdilEM0CEC4r+/e7D5VgtPPATgm/bXUJWN+A9QSbKX0K0HYdHBzuAHBSuQZU693c3Ji91OrVq6WyrP/WUZeKNESyRGKhkrvAe3xBMgC+xx8A+fIbJwP4IsfusxQCvcighKlWdxUWElgfvtQhFqKqyoxd4tpf9niJWLNmDdvVlPIP/4LdBfT2CqU4VbiHDR0oUqdua7ov9RVw0vYea1u1tDbTjpKtDdAM87ARqktj/WMSfejXjHzupeB8Xw6NoOcX5nLHweppyeOJQl9kXOfWl9MoRmB3BM9f+DG3+0jZc3W3Bax5Npl6Tk0X3hLQqF9dfID4plVEqMCvO1QqnE8eIGdA6hlwtDSh+eNiyMPOXFJLBX305MmTjE7cVKJVqhfcGKJZGzduZDRdKW8E177J+P3GutEP3bZtW0k9A4rFwD3CxcWFhgwZQosWLZLkGjUtSqZA682t4i5UBsCGcR/lq2jmDDQXAMZ50aerCnZri1RBgVkV7OKlAxVfbQL9L/jhlzL1a+ORUi4VGEDuyY4Bwp5UVF3Hp/jRJ4IKLYSekgIc6ZtNfHEt9PNevVEjtFn6oF8oLckpoqwzF7m3ZNGEeHpq/j4quXyNOw7gsf2nW4S3N/etLhTx/gbhuMyJHSnh483CcaiqD5iWIRyH6520/JBwHCrcaw6WCMdpu9FQe6IEf3vKPMXPufDk8gA5AxLPQN+2rvR2n9ZkYaLdd35TXw7ALwAEqKP4bdJVKESzUBVWaFuA9SQSzcJvLCqpUgaSmnKIjXBQoFHxBsVYigFrK1RNoa4MlWV9CRkA68ud4q9TBsCGcR/lq2jmDOgCANcWqQLoxQ85zq0I9KSogl38wNeV7qWaSlCgAZgTEhKaOcN3nv5o8RWqulFDbT1tmQXQ/sK79/S62JjSsseTKPkzPjC8P9Kd2tlW0nvb+BXkt+9rw2jRot7aXx5uxwAwPIl5AS9f9KDyrgHHL34sgSb8li3srf36gQhms4Q18gKAf/r208J7G+VtK+yZFk7CGaCNty82KEDn/jOHn0t4NsMWSUQ1h1p3YoCDsI+6IdclHytnQAoZSAqwpx+GR1BLCfQFw68YNGio/6KvtjkCDCkAYahIq4pmgSKN31DV0AcgqSmHqK5CBAvX1KZNm+ZIs/CceA5QnX766afpm2++EY6XygAZAEvlTjRsHTIAblj+5KPlDLAMAJyq9tQ2NC2aRKrwo61qtQRgqwp28e+NLVIFChVeCKTmf7gz7wI9NHsPSzPAU4K/A83Zyaf0gqrbIchJSHENdWpJ5Vdv0LkqvogMPITXHSoRgkxthZhauVjRiVK+xVJDnitvBwsqKBf7HWnTMwyrI4DHBbvPcpfUL9KdPO3MadpWvt3Ri11bkYmxkbD6Dh/jq9dqhH7MXw1tS6WXrwsVsF/r0Zp5LGuzCdCQ3MvHyhlo7gw4WpnQ+GQfGh3v1axqu7C7AfiEN21tsKnrHKFtqbCwkClIq4pmoSqM3lm0BeF3XWEHKFUgqSlvV69eJdgg+fr6UlBQkK5Tq9X5Dh48yDZCJk6cSJMnT9bqGCkMkgGwFO5Cw9cgA+CG51CeQc5AgwGwQqQKIFfht4sdXEVoEqmCqEddRBrqc5tAocK5U1JS6nN4kx3z+64CevcvZd9v7RNBnTnUXbt+WFSHAZZ4oW2/sLZgd1yyH81M51deHSxN6OlOgfT+yiPctcX42NGIeG969c8D3HFD2nky0PrKYv64l7sHEc795jI+TfnLIW2p9Mp1YRX8p9HRlH2mgn7YksddH7x8QWcXVXgn9mzNqNHZ+RVC8P33/mKuIjgm8LAzo6IKPq28yR5keWK1DLR2tRL6bMspa1gGJiT70LOdAxo2SQOOPnLkCAOcqampzFpICoENZ4hlYV0K0SxUp1E9hQrwrl27yMfHh7kh6EugFSozM5MCAgLYHykG1tetWzf64IMP6M0335TiEuU1GXAGZABswDdXvjTdZaAuFWD0IilEqhRgF7u1itAkUoVeKSMjI91d0P+fCRQqrDctLU3n5+adEH603aZsp8prNXcd9mqP1lR57SZ9t5kPvOY83I6+/ueEEFBtelFsd4TF7Hmjk1DAKcjFinDelM/41g89Ql3o8bQAGvRjJjf/j6T4EcS/XvxjP3ccclJ1vUbYv/x6r2DKya+gVQeKufM90zmQVu4vFlauUQlevo+vao0T+Tla0OkL4ip17UVpu0HRxeMWbSgSf47gUfzcwly6VC0rQuv6g//98EiquHqN3lt1jKpvKNs7dL0OQz5fl2AnGp3gRdAz0HUcOnSIioqK2G9Ky5YtdX164fkUolmoDINxhd9d0KSl3Eur6aLQIgVvXVR/UQWWYoBh1r9/f5oyZQo9++yzUlyivCYDzoAMgA345sqXptsMqFZsFWfGDyd2YmuLVAEwKwI7zdhlRr8u/lkXkaqmvsIdO3Ywaljnzp2b+lTC+UsvX2OgRGF3dOHqdfpmI1+ICoJLm46ep/WH+cq+Mx+MoXdWHKZ8AUX4+xFR9NzCfULa85u9g+nDVUe51+RqY8Z6WhftKeSOQ/8tvHwPFPL7kkEDzzzF9+fFiYJdrehoiVk+2VsAACAASURBVJhqXV9xqTZu1syeSRTa9B9jDdNGRtMjv2Zzp4Pn6eYXUyn1c7GX5PLRATRo3imWU17sfC2N7v9uJ6tyy6HbDMT52tHDiV5kZ2lC3285TTvyZLGyprgDnwwIoT7hrk0x9V3nPHDgABUXF1PHjh21FmPU6QL//2QK0azTp0+TYoMabUaoCkMQqzk2pOuSBwhM5eTkUHBwMBP6kmIsX76cRo8eTTNmzKBx48ZJcYnymgw4AzIANuCbK1+abjMAoIgfSlWwi0qvqkgVenRVwW5DRaqa+gpBUcI1gKbU3PHLzjNqoBI9bRcqxdZTlqbGBK/gpgorM2NuJVpxXvTCFlZUC5fhZmtGxZf4lFz04J67VC2skA2K9hBSirGg4UG3af5xfs8z9HMWjI+noT/v4l4DPHq3vJRKSZ/wBccwLuv1TlopUWurbD1/fByNmLGbVPaXNK71uS6BNGUDf/MEB2oL5oU3VR5QrwwEuVjSuPY+FONjS7/vLqRfMvg95/U6yT1+0DMd/WlwjDvzHtdF5ObmUmlpKdtUbeoWnsa4HkUlFRvTlZWVQtGsxjhnY8xx/vx52rdvH1OARvVaivH777/TY489RgsXLqShQ4dKcYnymgw4AzIANuCbK1+a7jKAii4sgxRCGjgz6F0KkSoF6G1u0Y+6ZgQUKvRE9ejRo66HNvr47PyLNHz6bu68UGf+39/8nln40b7fL4xeWMT3t23tYklPdAwU0or7R7lTmLsNTV5zjLu2V7oHUcHFakL/Mi9mjImhn7edop15/Gru+udT6KHZWXT2Ih9UZ7/Zmdp/ulkIlnPe7EzRAo9erBvn7fb1duH9/Xl0NE34LUc47vE0f5q2hS+ShUm0UYrWdDJna1M6r0UVd0CUh1CtW3gx8oAmyYC7rRmNSfAiWPr8c6SM/reK/1lrkkUY+KQzR0fqhBINUIbfFCmwirS5paqVVFR+Qd9WFc2Cjy2qwgrRLG3m1MUYVNlRbYfKMtYtxZg+fTq9+OKLtHLlSurdu7cUlyivyYAzIANgA7658qXpNgPZ2dlsR1sBekFt1ocdbl6WQKE6d+4c9ezZs1mupebWbfor9xyr4EJ1eeKSA7ThyHnujUVVMXbyJu4YvFD/OjaWuk9J544bGO1B3UJd6Knf93HHvdc3hEqvXBN6DYNqPS+zQEjJnvdIHL21/JCwt/a74ZE0celBuizoVX2pWxB9+c9xYWW0SxtnYX6RCBvzlsJzakoYaN8iH2Mc1znYmTYe5d/ncE8bSg50pJ+38cXEBsV4ULyfA72+9CD3Hj7ewZ+SWznSg/+vLq7bbw/5bNpkAM/d8FgPGhnnRSfOV9LzfxykKxwdAG3mlMcoM/DjiLaUFOBARlARbKLAbwqqqqBA60MoKqkhISHk6enJlswTzUK1VQq9zehhPnz4MEVFRZGTk5MkU/3VV1/RO++8w/yKO3ToIMk1yosy3AzIANhw7618ZTrOAJScVXt7dXz6Jjkd6GrY7QYFujl+1FfuP0cvLPpX2Akvv2lBTgRlX1FA7ThDUEG1MDEiFxszOiMQXYLPsMifF+uBoMyu0+JexUBnSzp5Xil6JrqWuv69NqrWmBPgMf3kBe70dhYtqWeYGy3M4lNPMVeEly39KLA7gvcuKrKfrTvOPS8q+XgJ5yl9YwLYHVVU3RSO+2RgGOWfv0zfbuVbZY2Nd6Oii5W0+pi4h7mu90UeX/cM3B/hSqsOlN7Rr21q3IL6R7rTw0neBKz2werjlH5S3P9e9xXce0f4OpjTt8PaUoBT03j07tmzh1GJ9QXwwCt4//79FB4eTm5ubnc8EGh7wm8kKsMK0Sx3d3fWd2ttbd1sD1B+fj4dO3aMYmJiWHVaigH1508//ZRQPIiOjpbiEuU1GXAGZABswDdXvjTdZgCegqr9vro9e9OcDRQq/JCCrtbYHsParHjp3iJ6jWPvg5ffnmGutPpACXc6iCklBTjS1uNl3HEAp5XV16n4Cl/9V9tK6aOp/vTTNj69Fz3Kr/cMprdW8G2HApwtCRZFomp05zbONCzWix6ft5d7rbBiaudrR0/P51e3AUYtTIyFFdSpwyKooLyaPl3Lp6f+MDKKMvPKadaOM9z1fTQgjNkirTvEFzADhRr3/1QZf1Mh0c+OMk7zrZOwIJMWt+nG7aargGnz3Mtj/s3A6z1aUdc2zjR311lauKeIKmv18uMudQtxZn3C/k4WND09n2ak8zc55Nxql4ENzyayDcLGjt27d7NWIdgg6UOAAQW/2oiICALd+W4B0SzQjgGGL1/+V7AQbDAAYRyna9EseNWePHmS4uLimMCmFOP111+n7777jgF1qXoVSzFv8poaJwMyAG6cPMqzyBkgQwTAoFDhhxSWFaB06ypg1QNl31u3b1Ovb9K5Pq3wtwU9etwvfKXgTwaF08nSSmGV8udBfvTh2lN06gofBGW90YliP+JTrZGvvZM6U9QHG7mpC3G3JihMd/mK31vbK9yVRsZ7C2m6sEWCNZCoH/qFrq3o0KlCWn2Cbz0E0agdJy9Q5il+hXtMog8t21sktA8CzVLU44yEmZsYCXuXNSW2faAjW68ohgTU0B95xqJh9OdjCfTU/L2yX7AwU40/4OP+UCp2ocvXamjRniL6LfMsna+8U5k73s+Oxib5UHKgA60+WEoTl93dJ7zxV2mYM97X1pXe6BlEtuaNZ1cEYUVUSpOTk/UiaQC08C7WlkoMFhiEI3EcADH+G37HoE/jj650QAB+8dudmJhIsFGUYjzzzDM0Z84c1malqbouxTXLazKcDMgA2HDupXwlzZwBQwTA2Jk9ceIE263XFZ3rRGkljZy5m65U36RBMZ4E9eSvN5zg3l30edJtEioev9WnDS3JKRJSmke1qqG/zppSRTVfPRp+uR+vOSrsrR2V4E1zM/niV+iP9XW0oN0CGjXAMmjbImVrbRWMbUxb0OXrfEsgTcnHS7E2Prmo0K85yK/QQ2H6nftC6J2/+KAFlfw/Hk2g/j9kCD/tf44KoEFz+R7QmCTrtRRK+3qnUMl7wwspNGz6Liq9LNsiCZPfyANg3TW2vTf1DHVhn7W/9hfTrJ0FdKrszo2b1hib5E29wlzoeOlVGjU7W2hb1sjLNajpXKxNad0ziWxDsjEiIyODgcKkpKTGmK7J52gIlRhtUaqiWdAEcXZ21oloFn67sXZsNOgKdNf1ZowdO5YWL17M3DMsLCzqerg8Xs5AgzIgA+AGpU8+WM6AMgPY1QYNypACu8hHjx6l9u3bMzqXLmLOjjP00Wqlhy5evCCGpQjQnlsatdD5S62DpQmVXxXbLuEF/JgWPrthHjZ0sIjv7QuxLtgFifqUu4a4MA9gkRjWi11b0Zf/8DcTkGcoUYu8d/E+vO65FOoqUIQGaN39eidhFRz3GQJm2ihR//O8+Ly4jvFtamjGEWPsjXBjWJwXLdgtttixtzChi1XiZ0AXn5N78Rwetmb0UJI3DYxyZ+yAjUfLaOaOfNp39s7PET47DyZ60eBoD7p28xY9/8cB2pN/6V5MW4Ov2dXalOV9ZLwX++5tSMBb3tjYmBISEhoyjc6OhQ8wNoEbQiVWiGYVFBQQVKURYFRBPbqpRLPA3oIQFnqtTUxMdJavupwI1kcbNmygqqoqSXtC1+Wa5LH6kwEZAOvPvZJXKvEMGCIABoUKP6R4WXF0dNTJHTh5vpL6frdTDfTWPvH/7g9h6r/55XzqLlSXRdRoiEZ9MyxSaLGU0sqRHmrvS48KrH3Gp/iRh505vb+Sb8f02eBwyjp9keYLgNeSxxPokzXHhJRheOXCo7dAkBNQshM+3sxAAS+09d5d/FgCDf4xU/hsfNg/lN5cxu9zxiT9It1p+b5zwvmsTVrQlRsiaHvnNIEOJnSynA9i4e08Is6bpm/nK0wLFykPaJIMQJxtRKwnA2T2Fi0pu+ASzdqRT5uO3Ul7B1NhOBvrSXYWJvTVhpOyn3A970rvMBf6dGBoPY/+97Dt27czPQkASn2IvLw8wh/8BjYGC6q2aBY2AyCaBTDcGPMrcgr9DlCwobaNc0gx+vTpw6yaoLSt6x5pKeZDXpNuMyADYN3mWz6bAWfAEAEwKFT4gYqNjeUKgDT0tqLnFzTnyms3aVicN/2ZXUjzBH658KMdO2ePEARvejGVOn25jbtEfydL+nhgmBAEo1IY7mFDb6/gU3UB0A+fuyK8hh9HRTPPXxHtGf3B7/19mIovXeNeByjeoGTfqOEDQ4hkLRAoO+NEwW7WdLS47orIqBLdVKna323RyOUBQRXcxsyI2rmb0ubTfL/jlEAHivd3FNLl+wZbUffoQHpuId8H+plOgQQ18dGzshr6eMvHN1EGzFsa0YAod3ooyYu87S3oeGklzd5ZQH/vL7nj+TNraUT9I93ooURv1mqw8kAJvbZU7hOu663p1saZbSZA9b4+sXXrVlb9xG+KPsTx48fpzJkzjLLdmDoYCtEsVIWvXPn3O7YxRbPg4FBaWsoELKVox4iqeKdOnRj4xUa7DID14dNgWGuUAbBh3U/5apoxA4YIgEGh2rdvH7NSaEqRigW7C9RAZbS3HeUUiBV7taER45HQxhoIVb9KLTxFW7lYCf15cU4/Rws6LbBYwji8mIuqsZoea23XG+NjR9n54lz2CXOmlQf53rvoxezQ2plmCCqjqOIGOlsJwSjEtazNWtKHq5SUd03XOiqohloYm9JvR/gtBlCixiaBaD5Uo6FY/cMWfo8wlLKLKqpp1QGx9VYzfvXcE6e2MjWmAVFutGRv8R3978YtiHqEudC4JB9Cj/y5S9eYcjREs2orR4PBC+VoPwcL+llWjK73s/Ny10BGi65rbN68makS4zdFHwItQACpKSkpTeKEoBDNwjlguaQqmoWqcH3dF6Tut4zrBAsA1WmobEsRpOvD8ymvsf4ZkAFw/XMnHylnQC0D2NEFCDakAIUKHn2RkZFMwbKpYsORUnqCY9uDvl94yM5M51vnABQOjvGkX3byrVBQ2fR1sKD1h/kWO91DXVif7tmL/OrjhFQ/RsnmBaqi7/YNoUnL+TRgiM582D+MHp2bw50PmwQvdQ+iMYIK5cBoD7o/0l1IBX8i1ZvCvBzpmQV8WyRUyq/duCUUrILdEXL3zcaT3Ot4Md6aMgoqaXsRv2oNkSwAUfQ682J0gjetyD3H/IF5Ee5pQwcK+T3Ymo5HLzhA1XUBhbypPiv38rywRYIy8YKsIgZwL2joyYcK9Lj23pTgZ8+UoxfuKWTK0WWVcu92Yz87T3f0oyExHuRkZar11Js2bWK+tFBV1ofQZS8tRLOw6QwF6WvXrjFQCNEsWCnZ29vXCSRmZWUxcSmp+i0DAIeGhrL3CiiDywBYHz4NhrVGGQAb1v2Ur6YZM2CIABgUKvyQhoeHk4+PT6NnF4rPVTdqKNTdhob+lMmlw0Jc6ufRMUI6M8BolLfY3/bn0dG05VgZ/ZrBB8ugUD8+L4dRmnmxb1JnihTYHUG4Z8tLHVgPLi+ivG3p/X5h1O/7ndxx/aPcqXMbF3peQOeFHzEqzd9s4oPRZzsHMgEvUcUT3rvw58X944W2/byeVi2osLLu/bzailINivYQKoTjOqY8ECGkRmPcmmeT6dHfsrWq8Df6h+Yen/Ct3kFM2OpGzS1avq+YZmcUUH75nRtU4R7WNLa9D4GyCzr+X7nFNG3bGVYdlqNxMzBlSBjBG10UAD0bN25k7TTw1dWHQHUSNj267KVFnkANBhBWFc0CEEa/cMuWYlsqqdtN4RrxTtGuXTv2TMghZ0DXGZABsK4zLp/PYDNgiAAYP774IQ0JCSF/f/9GvXcZeRfooTl7mK1JhJctJfo7CEWH4G2LcX/mFHHXMrSdJ52+cFXoW/ty9yD6LSNf+FIM9WSAR1FvLXxwRYAaC08NcqJtx8u41+BhZ8ZyI3ph11Z1GrkTVbIbcoND3a3pkGCTAPN3825B6wv4YBfK0VOHRXJZAZgLoH7VM+2F/skYm/VaKsV+wu8FxziIhKV+vlWoqL3iySR6eM4eKtPgSduQPMrHijPg42BODyd6U79INzIxNqL1R87TzPR8Oqjh+VOMbR/oQE8t2E95GqyTxGeUR4gy8N2wtpTayoGMQNe5S9y6dYtQAUY7DTZV9SGau5e2vqJZO3fuZFVV+ABLMfC+hOp27969acWKFVJcorwmA8+ADIAN/AbLl6e7DODHHV7AhhQVFRUE24rg4GAKDAxs1Eubl1nAhJ14AXGqU2VXhedFX58WmkvCeTDAzcaUirXwem3raSv0E8Z8EFLKyOPTdm3MW1IrZyth33OCvz2VXL4uzMlDST60MOssVd3gKz1DifqVxQeEeYES9cBpfKVn9GF+ltqSXtzKpx6jCr5rYieKeH8D97wAwemvpFG8oFqOSZY/mSSslmPciFY19PsJsSJqtxAXIT1emDR5QJNnwNHKhEbHe9GwWE+yMTOmjFMXmT9w+kn+563JF3aPngA2Vd88EE7wINcUaBHasmULq2KGhYXpRZb27t1L5eXlTLCpOUOTaBZo0egTRkW9toiU1NW2AezxHAwfPpx+//335kytfO57NAMyAL5Hb7x82Y2fAUMEwFCn3LZtG7Vq1Ypat27dqEkru3Kduk/dzhWeer1nazp1oYp+FyhCw+7o5cX76YKgzw9Vu/sFtOIAJwt6wPsyfbKXTzNDXy3+iGyRJvZsTaiJTF5zjJs/eO/+lXuOlgiq21C/fmXxfqGwVdYbnaj3Nzuo5DKf8rlsdCANmnuCam7z/T3XP5dM3aakC5+BSan29MG2i8JxL3RtRV9p4UmszQaCppMBQIsq9jgO9lbbT9xpn6M6JzxlR8Z7a+WhLLxweUCjZ8DS1JiGxnjQmAQvcrM1Y0yEWTvzac3B0kbbGAPbAD2vX/zDF05r9IvTwwnXPZNI+MzUDvS44vcEfZ9gFelDQAPj8uXLlJaWJonlaiuahY0G2CqBYizFgOBXUFAQPfLIIzR9+nQpLlFek4FnQAbABn6D5cvTXQYMEQBjlxY/pKA/N8YLy/kr1+iFRblMRAg+q1DsFfWlThsZxbxyNx3lKxSvfLo9jZy5my5qEMZRfQq0qWb6Wd+mYZGO9Gk6v5IEYS4Ib327if9SDNVh9BuvOVjCfSDhRzxlwwlm58KLjwaE0eTVR4U0XfTqTttySvghCLW/RYcuGgnHWRjfpqoaPlDWNAlEcrShCicFOAj9jgOdLSkxwFG4KdI3wp1ZVn2ylr/xgBxFeNrSU/P54l8vdQuiSG9bemj2HmGe5AHNkwEIzfVt68p6f/2dLOiN5UeYJVJDw9XGlMYn+9JP287QeZnyrlU6u4c405u9gtQEsiDshMokelnBKtKH2L17N1VXV1NqaqrklssTzQJwd3JykqzY2MmTJyk6Opqef/55+uqrrySXW3lBhp8BGQAb/j2Wr1BHGcDOLH6QDCnwwgKBCl9f30ahrP2y84yaRY029kTIp6edORVW8JWYMc7azJiuaGFlpM09sjFtQZevi4WZ0KtbVCEW1tHWtkibtWkaE+RiJQTOOK5riAv9I1C/tjYhinG8RVuL+aC4faAjQbBLBLIfTPIhF2sz+mL9ce7lwce45tZt+mg13xYJdkcll67RBwL7JGyeQNRLdN4P+oXSsZIrNEegHv5we1+WY1H/dn3voXyc9hmAGvegaHdmdXSpuunU97EZNiDOn77fekaNUYCK8/WaW7Rsn2yRxbtreyamsj5tRFVVFWupwe8Jqn/6EFIXk0IOsfleVlbG7JpA11aEogKsjWiWru8F7BWxqTBp0iR6//33dX16+XxyBkgGwPJDIGegkTJgiAAYPVvr169nfUaNodqZdeYijZyxm5vxV7oH0Wfr+EAJYPKZToH0sYBWjGphjzBXIUCDgikEpzYKqszwhV2SU0jlgirze31DhDZBoG1+NTSCHhPYHaEPevKAMBohyFunYGd6tIO/ML8AcQm+NvTkAn7v79hIK3Kxs6JPt/IraN8Oj6T8C1XCSuv0MTGUfqJMaGWFKvjf+8/R6gP8877RK5iW7i1iVku8gC0W7pmoR1xb3+ba58LGQ8HFKqoW9Fs30teMPI1KBib2aEUDo9zpj+wi+iWjQKve/bokMMXblIxuVKttBKHK/EQHP9p+8gLtyb/033SwL8P3DfqQ5VBmAL3ZqMg/nORN16urKCMjg/z8/FhbjT6E1MWkauewsrKSAWEoSCPgs4teW1TdraysJJPy9PR06tWrF3388cf02muvSWZd8kLunQzIAPjeudfylTZxBgwRAOOa1qxZw35AQVeqT9y6dZtWHiimqus11DvcjV5avF9IZ85+szPFfMi3RgBddlKfNtT3O75VEPqILU1b0lsr+P67ix6Npzk78lkfLi8yXutIg37MECoqa3MNeGleOCGBOn/FVydGn+pjHfzpQQH9dkS8N0EV+n9/H+FeQy/vW4R2aVGF97kugYySLBLxGpfsS8v2nhPSnDu3caaNR/hUdizc1cZM2Lus6QK1rYJr49uM+Wc9GENjf8kWPvawynpodpZsiyTMVOMPAAh+oJ0Hm3jymhO0KJuvEK/NCkDyH5/iQxnHztG+EqWwIarOj6X60uydBWrq7FFetpQW5Eg/bD3NLJfkuDMD7QPs6Yv7A2jXrl0UEBDA/uhDAKiZmJhQfHy8PiyXrVFBNYdIFjaxoeWBwH8DCEN9ubZolq4vbt26dTR48GD67rvv6Mknn9T16eXzyRmQK8DyMyBnoDEzgB8eQwsAYPxgxsbG1uvSVu4/Ry8s2v/vD7CFCXUMdmJgSRQ9w1yFPbNhHjZkbdaSMk/xe3UBDEFbzS+v4p728Q7+NHvnGWE1D5TeXwR0WZxIG7oxxJr8HC2F9GVvBwsqEKwf5/RzMKfTGnxRa1+4jZkRXb7GV4nWlCxtqdwdWzvR5mN8qyc4przcTVzxtzAxIlSQR83M4t4/rG39cynU/tMt3HFQDd/3Vhdq+z++EjUmgZhY2hdbuWJtGIcNlPG/ZlNFVdPRcUWfmXv176E+DHCqyQaprjlBG8WTaX60MKuICfApItjVivUXf7/lNFXfVH5u7o9wJVNjI1qco/xOQ5UYQHl5brFGj+K6rslQxif52lCU5UXqGxvQ6LZ6TZWjrVu3kqWlZb1//5pqXbx5od2ByjWo5qi0w80BFWEIT2FT29TUlLG6IEZmZnanWJku1vznn3/Sww8/TLNnz6aHHnpIF6eUzyFnQC0DcgVYfiDkDDRiBgwRAIMCbWdnV+8dcNBPJy45yM1yhyAn2irwxcUErVys6IRAIEpb9V9tfXFjfOyEistYmzaAD2tD3ywEsXgR7GZN5i2NaN9ZJcVS0/j72rrSrlPlVHKFb781PtaRpmfxlY4xP9S0xwkqnni5X/1Me6EiNCje219JE1bysSmy+aVUivqAX/EHMFn9TDLz6OUFQPW8cXFCyjjmgEK3iEaPcbCfypSprY34TSnNqXwdzGl4nCf9sOU0XVbREujaxok87Mzpt8x/aaUIbKJMSPFl3w2Zpyv++/9OViY0rr0PqxKXXjEsTYjGumujouxpYt/IxpquSefZvHkz2draUkxMTJOepzEnR8UXvcu1K+2aRLNgoQQwjOowfIN1Fb/++is99dRTBCA8cOBAXZ1WPo+cgf8yIANg+WGQM9CIGcAPDHZYDSkggmVhYUFJSUl1uqxrN2rIyKgF3ay5TT2mpnMprWMSfSjWz56eX5jLPQfEj/7OLRZWhrWxOwJAW/V0e+r4JZ9+DPAzqU+I0GcWNOAYH3t6ZgFfTfjTQeF0uuwqfbeZrxz952MJ9MOWPFp3qJSbkw/ibtJ3B4ypqIr/8rJ3UmdK+WyLUCQMFO/ETzYL77W23rvoc4bytyjQmzx7xxnRMMLmwNHifyl9dQl7SxOhQjjm08YDGL2ew2K9hNZWdVmfPLZ5M5Dob0+RXjY0Iz1frV+8i+dtumXlRJuOKTeQbM1bsgrvvN2Faq0QYe7W1LWNM/247TRdr1H+DvSPdCP813JZMOu/m4xNguGxHmxjQcqB3z+oKUdG6gdgRy5R8c3KymJCY6gC1w5NolnoDwYQRruTLkSzpk2bRq+++iqtXbuWunfvLuVHQF6bgWZABsAGemPly2qeDBgiAIYNEoQ0UlJStE4qqrSjZ+1mNj0PxHqxnk6R5yt6XGGV88eeQu554JcLVV+R+BEoqRDc4nnBopo5bVQ0o67yAgJT6MP9UKA6/GznQCq+fI0W7FZWijTN+8mgcFq4+yxBFIwXk7p60/fpRXShqoY77rk0b/p++1mh7y1A24Is/tpwItgHHRCIS2n9MGgY6ONgIaSj4zBtqurtfO0o1N2G5mYWcJcEGnxVyRlaepqvbP1i11bk72xJzy7gg3aIcGGcyAe6IXmSj9VNBobEuFPVjVtqlkmg3fdvZUKbz1RT0VXl5hI2PwZGuTEqNI5RRM9QF7KzaEkL9yh7kPH9MiHFh3bkXaScAiWbw9XalHqGudCvKhVl3Vyp9M7yxaBQ6hHqIr2FEbHNbABgV1dXatu2rSTXqGlRFy5coJycHGrTpg0DtbyAaBbo0UVFRVRTU6Mz0azPPvuMqT+jx7p9+/Z6k1t5oYaTARkAG869lK9EAhkwRAC8bds2ZrOQlpamdYZRyYNPrSK0pSWjKnv1Oh/sYU5joxbMLkeXgR5Dkfoz1oOX4KbsA3WybEllV8V9pnF+9rT7tFiRtlcbB1p9hN9DjZf+1CAnYd9zn7ZuBHD741a+9/AznQMJJTGRBzQ2CmB3JLIxwqYINkRE454Mq6HCm1a09CjfUguq23vOXKRFgs0Y+EDvPVtBe84oKbC6fCblczU8Aw8lelN2QQXtO6tUE0dP8egEL/p+80kmFqcICF0FOFnSnAzlZgugMVSOD567TDvzlJ83fF880t6H2IHnhgAAIABJREFUfsksoJLLSio0qsztAxxYpVkWzPo3s58NDGGVc4VdUsPvauPMAAEpbACjKhoWFtY4k+pgltLSUsrNzaXQ0FDy8PhXIE4UuNbi4mIGhnUhmvXuu+/Sl19+ydapT5sLojzKf68/GZABsP7cK3mlepCBGzduMLBoSAHfxurqaurcubPWl4UKcN/vdnCtZ96+rw19vu44F/CigvLxwHB6efG/Ilp3C/TzPpEWQJOW85WekwMdKdTDhmZsP82dr7O3EZ29cpuOXuSDbFQBRZ616BX8ZngkPfU7nxpta3KbHg6uoakHWnLXFu1tR2/2DqahP+/ijhsY7UH9ozzo4Tl7uOMea+9J18vyadZRY+64zwe3pUvVN4QK07Mfasf6kkUU79/GxtKyvUVCkPn9iCial5lP207we5ih9v377rN0quwq9zqSvUwp/ay4N9PN1oyKL9Vd1A494/sLLwmr8Vp/mOSBTZaBF7oE0NxdZ9UAajsfW4r3s6fp28+QCouZRsV7Mr/vDUeV/fvoS380xZdVfQsuKjdVQtysqHuIyx1UaIho4ftgea7S4gubgxOSfWnjsTI6dK7u1P4mS46OJ7YyNaYZoyIp3NNGx2e+++mwoY0NYFRRUU3Vlzh37hwdPHiQAUtUr+sSqHqDQg0rJQBp/DeEsiCY1ZiiWS+//DL99NNPlJeXpzeCaHXJozxW+hmQAbD075G8Qj3KgCECYIhpXL58mbp27cq9E7A5QkUPFdzhcV40L7NASLdNfyWNen+bzq2Y4gVx4wupQvGjAVEeNCBaDPi+GtqWTp6/St9sPMm9ng/bm9DfxTaUfpIPvPa80YmtTVS5njvEm0b9wafptnIyp88Gt6VBP/G9kvtGuFO3UBdhzzRUrVFVEVVa+/nW0CVjO9qUx38Bf6lbEPPoPSx4UYdK9sKss0I1bQiC7RDkFzdJW+Xp2jc01tdeSDPHMbguUfUYwGXeI3E0fDr/3mA+PNdDf84UWmXp0VebwS31uc7+NG3rGbqmoujcL9INvFd1gGpE9GSaP606WEpHSyr/y4O/owUNjHanH7edUfvsdw9xZorUqlRo4xZE45J9aNfpCjUqNGzQUGmes7OALqh4i6MCXVSPzRdDuElLH41lYodSCGz8gqLr4+NDrVu3lsKStFpDYWEhHT58mKKiolj/cn0Dop6YC3/w7xDJgmgWrJQgjNkQ0awnnniC5s6dS2VlZeTo6FjfJcrHyRmodwZkAFzv1MkHyhm4MwOGCIAhpoEfqR49enBv+YLdBfT2isP/jdFWOVdbEBTlbUt7VfroNC0mMcCBzlVUC/1YR8Z707J9RUJrG4hz/ZqRL3zUAUhF/sGYJMDmNuVd5otVOVqZsMr5RZUXYk0LAC0ZQF4U2tonmRgRqbQ0iqb97++17edFRXpJDt+jFZsdb/Vpo/YcaVoIaOaoNA+clsldp5OVKa15NpniJm/ijgP1HuJfEe+LbZEyJ3akDp9vVQNOmib//ZE4euTXbOHGiNaJlgc2WgZQ5d2Tr+zJBUAdn+LLlL6zVb5jHMxbUBdPon+KjOmiir1VSqADtXKxpF8ylP30+FQ/lORNh4uvqFGh7S1aMop07UozqNAQ3pq1o0CNCj042p0uVd+kdYfFftmNlhCJTQTP4I/6hZCztWmzrkxhJ+Tn58fshPQl8vPz6dixY9SuXTum7tzQAKvt/PnzjB5dXv5vuwxEswCE3dzc6iWaNWbMGFq2bBkD1rBlkkPOgK4zIANgXWdcPp9BZ8AQATDENECp6tmzJ3fHd/2hEnpqPp/mq60IE0RR1grUj23MWxLUWM+qUA81PVy+jhZ0RsXP824PIMSUtOnl7NLGmTYcEb+cRjneor0X+IJLHnZmFOhsRdsF9N7UVo6sIiSygIIS9fzdZ4Wg65OBYfSawJoK9HOAOBHVGvdh5dPtGSjkBYTQ1j6bTNEf8u2OAKiXPJ4oBK3I3a9j46jb19u558X6pj4QQWMF9k6YBL3JImYAxrX1tGU0Zzn0LwOmxi3UFJqxmTI+GQC1kM6pVF2jvW3J1/Qq/XXyJqk2tQxr58HsjVSp0KDvwhJpcU6Rmu8vvIO7tXGm6eln1M4J+zIA5r/2K6nQWNcjyT70z5EytUqzl50ZqzR/u5nftqF/d0K84oxXUgibU80VYD7t2rXrDjuh5lqPtuc9deoUnTx5kuLi4piFU2OGJtEs9BmDJg5QrG0MGjSItm/fzthlENmUQ86ArjMgA2BdZ1w+n0FnAEISUFI0pNi3bx+jQHXr1k3jTm/e+UpWDWvtak2Dfszg0mMT/B3o3b4h1OfbHdwUvdajNaEa+IFAdXnB+Hj6eM1RoU/vlpc6UNoXfICGPuLfH4kXjusUYEVdvI3p7a18APRy10CyszSjt1bw+5LhvQuro9938enR659Podf+PCCk9IKS3fObdCpVEd7RlGzYIom8d3GcNrkza2lEcx5uJ6QHY8Pi5e5BwgovxnUPdaXF2XxFcDwjANaiTRBN14/jSi6Le3x7hbvS6gNKoKJpLvQt9ov0UBN+M6TvAEO5FmzqqApPBblY0n3hrozGXK1ChWa9ukYt1GyLAFABctcePk/HVKjQfo4WNCDSjX5Oz1fbeIJ3MDyuF+ec+y99jArd3ocyTl9UE91ytTGlEbGeNDujQK0dJMHPjoJdrVn1WLeSf9K542OTvOnpjv5k2pK/mdgUKxbZCTXFORtjzhMnTtDp06cpMTGxTqC0LudWiGahVxigGOHg4MCAsLOzMxkZ8e8XGGVYJzbXRWPrsi55rJwBbTMgA2BtMyWPkzOgRQYMEQAfOHCAQKnq0qXLHVQliB2NmZ2FtjlCvyUALrxreYFx8HIVAb6JPVvTtuNlQvGjWQ/G0OtLD6pVbzSdH5RZkSAU6MLPdAoQVkfbu94iRytT+juPr8Y8qXcw7cgrp38O8718vxzSlolGiSq8H/YPZSDryjX+Jou2lUxtwB1yqS3NuXbetVX/DnC2pDwBnRuCQ9E+9uyZ4AWsk9xszVkPMi8mpPqRlWlL+nrDCe443ENbCxN69c8D3HEf9AslOwsToQ+0Fl8j8hAdZKBjkCN5O5izyq8iFL26WWcq1CjSsC1Cr+7MHflqVOjkQAcKdLKk33apU6HHJHrRkeJKyjilrgr9YKIXzdtVyCrIikClOcbHlvUBqwrbgwpdVnmDNh1TPu+wZgKAXp5brFZp1kG6mvUUsb52NGt0ZIN6TutzAaD7ZmdnU3BwMKP76kuA/ozf7OTkZDI3b1qfZYhkXbx4kdGjtRXNwjGpqams+otKdUN6ifXlnsjrlF4GZAAsvXsir0iPM2CIABhiGqBUdezYkSwsLNTuztyMfPrfyiPcO+ZiYyqsRkrplqPQoFIMYksDXbF2BQbVnYtVKh4pd7mI2lUnba9VW/AIwRgRcMY5OwQ50VYBeITYVPcQV1q6l9+rC7p4Gzcb4SYGxNAgwiXqo4aqdVFFNc1MP8NNDxSh9xZUCG2WwAzYeKSUpgnsmOaPj6NV+4tpzk5+nzeE07CJ8VduMXd9j6b60/YTZU3qoazt8yOPu3sGRsZ5MtbA5uNKgTuwDkCFnrdbnQodaNuCurb1ZuBXVRX6gXYeTD1aFaCCCo05/sg5p8ZKgCo0NmYwh6ov+f0Rrow9s/aQsqUCbApUPdEDfEJlU8jXwZz6RrjRrB35av7DCd5WlFt0hapq+NoC+v48hLpZ08Ptval3mIvOABP6XsGACgkJYQrI+hL4zQZrq0OHDmRiYqKzZStEswCGoaB9N9EsAODo6GhWnUZ+ZQCss1skn0glAzIAlh8HOQONmAHQnwGCDSmwmwyqEnZsra2t1S4NFNKeU9O5PaewCtp1upzRfHnx3QixVRBAJ7xhH5ubw50r0suWhrTzFFJtO/qaUc2N67StiE8wfL5LK1qSUygU1/piSFt66Q++ZRN62gDkRNVoiFzBAuoBgd1R5zbONC7Zj8bMyuLm5JEUPwJwFdkx/e/+EGpBLYTUbXjv7jtbQVM28NW0/3g0gZbmFNJvmXyK9+LHEujnbaeEdGOcF326OQV87108dzPSTwutjAAqRMAWiYUgz3mVyp22n3FtRd60nU8eV/8MAFzCtmjlgRI1cNnK2ZLQl/tTLSp0gpsRsy3aeU7ZBQwqNASzoFFwvFQpQgdV6L4Rrszft0pFTQ6q0PjML9un3DzBphhA7raT5WrWR+62ZjQkxp1Vgy+rsDxQafa2N1dTlgbcHRnvSbn55bTvXFX9k6JnRz6Z5kdPdPDTyapLSkpo//79zAMYXsD6EmBtwdMXm9bN0V+rEM0CPRrVYQTeHUCPhio1bJWgqh0YGEiwWZRDzkBzZEAGwM2RdfmcBpsBQwTAAL8Awe3bt2fWB2VXrtNLi/cTbI9GJHjT6bKr9P1mPu150YR4+nTtMdp1WkkJ1PQQbH+lA6V8xu/VBTD8Zlgk3ffdTu5z9EynQEJf78SlB7njXo01oawyY/rnlNLHU9MBO15No1EzdwuVl7Pe6ESxH/FVhwGm5o+PFwo4oWo0NtlPCJYhfuVtbyGsxsMrF36looos+rQhaqaN9+7cXQVCkbHRCd40b5c6xVNTjuG/KnpGcFx9q+phji3o4AX+ZgcAz8SeYn9n9CTOfySOBv3IV6LGeqEc3WNqulDZ22C/GCVwYeizHRXvxQAqVJYVkRbkyL4nft+tpELjGYBy88b9BXTykvJ5Yb26cZ5MuVl1DqhCo01gfpZyDgBUUKH3F15Wo1M7WZmwdfyWeVbN+gg031B3a5qbqd7vi0pzfnkV7chTfneiHeDBRG/6M+ecWusHKs3wOkel2ZADPdegpLdxU9+QbexrVvjpRkREMPsffYnc3FxGR+7cuXOzV1dVRbPQU/3ss88yRwnYS4Favm7dOn1Jq7xOA8uADIAN7IbKl9O8GTBEAAz6MyhVENSAyMWcHWfoo9VH/0s0Xh61ESEK87Chg0WXhTcIyqmqfpuaDoBVEPo38WLIi2hnoiPlt4X0wGFxXrRgN79nFOcZFONBf2bz6cEYlxrkJOxVBcUZPcei3ld/J0t2nTWqDYIaLhovg0eK+T6+OAzqyUUVYvEn4Y26y4BwDxutKMCjErxprqAqjJ5HgHGRYjUErX4eHU39f8jgLtvFguh/KZb0xHq+fRRytOaZZIr8gK9Y3aLFv56/yZ9tYX3wvJg7LpbG/ZIttE+qb97l4+6eAVgOJfjBckidxgwwW1BeTVtVVNhBhUZ19vesQkZxVsTdenWhCn22opq2nfjXHgZhY2ZMDyf50KLsIjWAGu5hTYn+DvRLhrr1EQBdRfVN2nhUvd/34SRvphSdX67cnMMGIAS2UCW+rsLJTgu0JSsLM1p1QJ1pA69h1Z5jQ3pOvn0gnFHLmyoay0+3qdZ3t3nh3ACwiQqwVALMuE2bNtGLL77IWqoQrq6uNG3aNLr//vvrZaUklWuT16GfGZABsH7eN3nVEs0AqD+wQjKkgJgGKFWwVIC6I4SvRgvotk93CqBvN/GrwqigwY939g5+36eDpQlFeNnSFhUxGE35dbdsQWVVt+jGbX4vnLZ2R20dbtH+crHyaO9wN1p1gN8bit7apABHoRgWwCPUZ3PP8hWmQduFdVK5wCv4xa6t6Mt/+CJPrNoVXEMzjvCtKFB1mjsuTggyPe3MCXTm9p9u4X4MmBDauDiKFXj0wv8ZlHERMwC5+3RQuJAZ4GrRgt4bGElPzNvLXR9oqw8m+dC0Lf++rPEixN2aq34uOl7++6bNQFsPG9qvsvlm3tKIxqf40MoDpWqMDlChe4a6aLQtunXrNq06qASXmAOCVCsPltCpMuVGHABqjxBnmrWzQG2zoxfrXSU1gIpNMIBcAF9VOjXozugPnr2zQI1ODeEuO0sTNXVqfH7T3G9RcY0VHSpRrsPZypSGtnNnPc0VKh7GTZtp3c/+avdAGhDpTrA7a+xQ+OnGxMSwzV99iaysLKqqqmJtS1ILvCMtX76cXnrpJeYtjH5gHx8feuyxx2j8+PHMV1gOOQO6yIAMgHWRZfkc90wGDBEAYxc8Z+8+umwXSKaW1tQj1JWeXZjLrXDipWzX62Iq8NB2nnR/pDs9OHsP9xkB5XnHifPsZY4XU3s40DtbLlF59d1Vko2NWrCqXeInm7lztbK5TV8Mj6EBP/P7jdFbG+dnLwRU6A+GZZRoY2DZE4lMmXijwGt452tpNPSnXcIqeO5bXSjqgw1qCrOaLnxOP2d6aDnf3xg92AsnxDM6Ly9Q2UYvMSqevABYgDf05DXHuONQBW/raSPs1QUzAPdXZAGlSWAM/ZeqPrCaFoS54QMt6meH0jl6sz9fd/ye+e7Tlwt1szGl4XGeNHNHAV2uRYUGxfmPbKVtEba/egW0pDPVFmoAGs/K0BgPmrUzX02RvUMrR8Icta2PxiR60+7TFWpzYBzm+CXzrNo6kgLsycfeglWPFaHo9z107ooanRqbg72DrGj5oXK6ckO58YeKd4SnDaN1qxJH+ke6MUq2qriWvtw30Tr/GN+u0SnRsBJCC1BT+OmKrqchf5+Zmcm0SKACLcXAOwWExcaMGUNBQUH0448/MtEuiGzin/b29lJctrwmA8uADIAN7IbKl9O8GTBEAIw+qFnr99LsY/9WCJ2sTNnL/R97+GAUYx+I9RLa0fSPcmciWiJQMbJVDW0qMqLCq/wKL6iwzy3M5QpzYW1Th0XQswtyuQ9Mgp8tdWrjxvqXeYF+46JL1cKcfDY4nOZlFgh9i79+III+XHVECOTe6xtCH6w6oqYsq2mdsPz5edtp4YcjrbWTsNKOSbQRhNIEMkFpVhUIwlwAlbXp3drYLkFd3NfBUuiLDKsn4xYt6O/9/Cr9c10CqfJaDU3fzs/T5AFhrP9dpH6Oe1h9o4YmLuH3oAtvijyg0TJwNxozqNCnyq6q9dnaW7SkNLca2lxEVHFNyW9v52NLYBugh1eV9T481pPyyq6qWR9hDvT7ojcYlkaKwDpQla7t7wsBLLSTqPb7gk6NfleAalVKNvqFQeuGuJyqOjU8jK9cu0mbjikVrlGtxhwQ7jqjQqdutMRKZKKfR0ZQor99o/W95uXlEf4kJCTcIQApkUvWuIydO3eyHKBtSYpx9OhRtqnw8ssv02effcZYc8uWLWNMs3feeadZl3z16lVau3YtrVixgrZt28b8lCEkBqA+ePBgRuGuLQbarAuWT17vDMgAuN6pkw+UM3BnBkDngfy/IQXENL5btYd+P8GnyMb42AmBHfICqppq5UVKudIE2rRdLyizAPJNFfaWJlqJKGnbg6sN2AXIRDVz9YES7mVhLvROitSUYRN07lI1Ld+nrLJpmvjjgWGUkVdOS3L4/da/jo2lFfvOCTdZ/noqifUbi7ynVzyZxCj5i7P5mzvYZIGol6hKD1ANmyVRT3tTPTPyvOoZgCIz7IUUgQ0ZiF3huVUFhtAh6NjakWamq/cM94sAuKyhDbV6dccm+dCy3GI1LQTMkdrK8Y5+XwDUyus1d/T7QtTq7/0lTKROEaBkdwp2YnOo2ifhOhCq12Ji1IJGJ3rRlmMX1Cq80GiAdRDAturmE4S7UEFGj7EhRWtXK/ppRATbpGtooPoLAJSUlESWlpYNnU5nx2/fvp0pLQNkSjH27NlDnTp1onfffbfZAW/t/EyfPp0mTJjA/ndoaCi1bduWLl26xES74FuMyvXmzZtZ/7Ic+p0BGQDr9/2TVy+xDBgaAL5+8xZVXCyn9Ixd9HGuGV2oujvAe7yDP7nYmNH7Al/grwaH0ZQNJ+hUOV+I6ZOe7vTaGj5QAjX29V7BQlukriEuFOVlK+yHHZ/iR4eLrwgFrEDvffevw1xaMZSKvx0eSY8Lek0h4PTlkLbCvmoA0ee7thLaHYFW3qmNs9Du6JXuQWRrbiK0O/pueCTLCayHeAG7o2V7i4QK02ufTaapG0/SX7n8e7vm2WR676/DlH5SWcnSdP55j8TRuysOCUHm233a0FfrjtBlQYs+KPkA1aKor7+1NgJponPLf9/wDHjYmtHgGHem6AxAqojOwf9u5tS2LUKv7pbjF9Ses7v16nYJdiILU2MGaBWB7wOAXAhuHSup/O//A6ACFAPkqgJU9Pti800VoBq3IBqV4EW7TlXQIRXBOzvT2zQw2oP+2FuqRslGNRTXuVTFggn8maHtPOhIcSXtVdEasLNoyaqnqp7EDc9y88yAjY3lj8cTqOoNCVQqYeUDKrG5uXlDptLpsVu2bCEbGxtC77IUA+vr27cvffHFF6yiKqWYM2cOA7vPP/88A8CKKCoqovvuu4+ys7NpxIgRNG/ePCktW15LPTIgA+B6JE0+RM7A3TJgSAD45PlKenBWFqvWtne5SX4eTjR7j1LpVFMOADJyCy8JK3dvRt+kHw4Z04VrfDrzP8+nUNevt3MfuJ5hrjQi3ltoFQT6cUF5ldC3FsDrjcU5lHWWrxS8541OlPr5Vm7VV6ESLBKEQvX8nftCaMA0voox7IRi/ezphUV8r+FJvYOZ8M03m/ig9fPBbWnT0fNCMPrV0LY0K/0M7ROIc+H+/7A1T0jdHpPoIwTKuOnord4tsM7COORZVYUZAmvYvBFFp2Bndv28AHCZ2LM1fbBKqXyuaTyEzuZpIRIGlsHO1zpS3ORNQuVo0frlv69fBkBjhip9bcuhkXGedKSkkrLOKD2mbU1b0JgkX1ZBvagiJgWw6OdocYc3LyjPuYWX1cClQpBq7q5CNfskzOHjYK7Wd4xvRPQoo983p0AphudoacKA64KsQrV1hDqbkqNxNW0vVhfsGxztznzLd6tcCwA1VKuX7i2m85VKplKomzVF+9jSwqxCNTp1/bIrnaOQgzd7BZGJsVjMUNOq4X6AntQOHTqQiYmJdC5MsJKNGzcyv93IyEhJrnnVqlU0bNgw1vv76KOPSnKNmhYFz2JshqC6jqqwqWnDWQZ6c/EGuFAZABvgTZUvqfkyYEgAeFb6afpYRZzIzLgFXVNtNrtLmp2tWtL5SqXP5t3uhpedGZ3Vwo5HG3GicE8bOlteTRer+OU99BujuidwFKL7Quzo78PKl+C7XQP6S0X0YByrjfI0KkE3b92m4kv8yni0tx3lFIjXBuVskZo01qZNfjVdv7ZevNpS46G4/MtOvn8pqlRv9AoW2iIBmEwdFilUrMZzM2NMDCV9wlesBq38l7GxQn9nWM78+Xgidfic72WNfEJR++E5WcL+7eb7NjPcM8NG6J8jSsshtC+gwrt07zkqVPlO8rG6TRFuZrQm77oaMASwgmDa9pPq1kesVzf7HJVcUYJLiFGBfTJv91m17x3MAfuknSr+vuj3HRnvxfx9Va2LYJ+EvuHaolb9It3oTMlFyjmn/M7AtQDIo3KsKuoGanCinz3rR8b3jCJAp75Rc0utZ9jUuAWNiPOijUfP633PMCrpXw0JqxcIPnjwIEEDA3ZC6APVh4AOCeyGQNEFfVeKsXDhQqb4PHfuXBo5cqQUl6hxTegPtrKyYn+HjREPDw+9Wbu80DszIANg+amQM9DIGbh2rek8Vht5qdzpjhZfoX4/7ORWqZ5L86YpWwq485gYEU1I8qDv0/n9nBDX6tPWTVgZhHKwWUsjViHhhbZAET6SmwUWSziPtmAXFek1B/l9dQCdXvYWQgGnBH8HOn3hqhAUQ0l5QZbYxxjgUdXDWVP+zE2MaOoDkfToXL76tZstvHdjqN/3O7n3AWI9P46KobQv+KAwpZUjszES2R11D3WhiT2DhcwACLU92TGAKWXzAtTyMUk+9PxCviCar6MFwfLqx618WyQooIe4a+d5rcvPs3wuzRlABRYU5NqWQwCGZedLaM95ZfUQwPChJG9ad+g8nbqgbn0E6nTtXl303l67eUutZxiCVGMSvJilUu1+3w5BjkxcSxWgwpbpes0ttZ5hfP+h0rzucKmaR7C/owXrGZ6366yaRzDWBiG49SrK8tjAQqU5/WS5mhUUKNO9wl1o/u5CNUo2FNYvqAh56dPzhPv2SrdW7HrrEvv376eSkhLq3Llzowlr1eX89RkL9WdQjAHOVCm89ZmrqY6ZNWsWPffcc8wOCR7A+hJ4HiIiIhgbAP3AqATLob8ZkAGw/t47eeUSzQBEsFAJ1seAau0Pm/Po6o0aGh7nTdO3n6I/Vew4NF3Tpwk36dVMvgcj6IawMhLRmV/t0Zr1301afoibPvjMfrX+OG07we8P3fFqmtCPFpY9C8fHU/Jn/CogqsegWg+fvpu7NtCPjVq0EKoEQ8Dpjz1nadlefr/pphdT6dHfsoU9rjlvdmaeurUVlVUXC6rwvkldKOL9Ddxr8LAzI/T0isAoKqgf9Q8TVloTAxwItOen5+/jnhcgGKD/K4F3cbyfPTlZmwqr70EuVlRRdUOtmqZpAags1/ZKxYZMmQpNVNNxoDMn+jsIn8OkAAfChsw0AXjWx+8MfV6zJhozNjAALkE/BpVZEbBPGhjlTr9mnlXrGYb1kb1lS1qRq97vi2owwKWqABpYL33aujKQW7vfF5VbVZ9hANSR8f8CVFWPYE87M+od7spAruocyQF2ZGdpquYzjJ7hB2I9ac+ZCkbtVoSrtSnBSxx0atX+53g/O/KwM1fzGcYxqFajb3mfSj708b5P7NGK3VttY+/evVReXs4Em/QlsAEPESxvb28KDg6W5LK//fZbeuONN2jDhg1sc0FfAuJYEMkCaAd4l0O/MyADYP2+f/LqJZgBfQbAC3YX0NsrDrOs4kUwyt2csouUqqR3S3evMBdafbCUezcCnC0p2NVaWB19Ii2AduZdECpKT2FWQUep5DK/4v7DyCihRy9sd6BQ/NYKPvAeGe9NeFEVWeV82D+U1h8uFaoE/zgqmj5ec5TyzvP7jSFE9eqSA8ymhxfv9g2h9/4+LOwtHdvel2btOMOCzV9QAAAgAElEQVSdC9cJ0CYSoQLtFxWr8qt8+rkmQKmpV1eTVZI2YBSg3dK0JZ0oVb7oa7rARLcWZGzlILwu9P0eKb4i7GfHc3is5IrQ33nmgzF0srRS2Esswa80g1wSAC02SNRozOYtaUy8F+vrVe2RBf0YTAZURVW3NofFejBguCf/zl5dUI1VN1UALn0dLNQ8gtHvOyzWkw4WXVYDl05WJjQo2p3mZxWpKeZjDi878ztErZLdblGFkS3tL1KyYtAzPCDKnf7ILlLrO47xtiV/JwtaslfdFmxglBvrGVa9FvQMD4l2ZwrXqtVf9AwjH38KNu+k+ODE+trRU2l+hE00UUDwCJW+tLQ00VDJ/D1ourBB8vX1ZdY9UozJkycT/sCvOD4+XopLvGNNK1euZMJdLVu2pF27dlFUVJRerFte5N0zIANg+emQM9DIGdA3AIyeIfzIX7x4kdYcLKYvdipf5jSlpleYM60+yBcOwnHa2vE0cvq1mk6T3ZEmMIZNgNr9wvYWJsJeYywCVOLqG2IhJq0WrGEQgKdqn+Dd5glxt6bDAro4jm3jYERHyvnrBQ0YFSJYFPECNHAA4sxT/HGwCdqZVy6cD2rav2Xks7G8+POxBKYwLRK22vBCCn2y5phwM2bjC6lsg0JEaV84IZ6+XH9cuL63+rRhVkzHBSC9vs+EfFz9M3A3y6EUb1NqaW5Nm48r2SbYHBoV78kqpcWXlf2+Ye7WFONzZ6/ugEg3Krp0Tc0jGOByeKwHLclRF6SK9LRh4BIgXBVsYw5QpmuLWnX1NaH1eVfpyg2loCB6hsPcbRj4VZ0DVG9sGGaeVmoIWJka0wPtPJhitWrvMnqG23nbsjlUpR9ADYfdm+rGQf2z3nxHzh8bQ2Cw8CIrK4uqqqooNTW1+RZaxzPjtxwALSAggP2RYkyaNImmTp1Khw4dYrZCUg+IoUH8CmyAr7/+mtG35dD/DMgAWP/voXwFEsuAlAEwqNnV1dUM7FZUVLB/Qs2w5Oot9pLjbE70ea4JFVbencLdI9SFHknxp2HT+b2VH/QLZYrQC3bze1MhBjRqJp9WDNCJSu6IGfxx2NUfGutFr/55gPtUDIvzYlXShYK+2fFxTrTqeKWav6emiWFj9OIffGVmULs/H9KWHv2N31sL/9DXegbTI79mc68B96FPhLuwd1Vbe6px4SZk6uRF07bwe1znjoulpTlFtGgP3yt3/XPJ9OnaY7T2EJ8ZAJr6C4tyheBx+ysdWO4OFClpqZoStPTxRHp6wT6m+M2LyQPCGLitTX2ufcyQdp70h+BacQxEzM6qeLhq+7WUHOgorEZrO5c8rn4ZiPM0J3cHG/rrgPJZBQW5o3sNHblsQgWXlcwLXwdzQh/6rxkFan22AIa3bt9WE9dCvy9si9bU6vcNcrGk9gEOTNRKtd8XPcPwGYZVkiLAiEDv6uoDpQxEKwJzJPjZMxqzKkBFz/CVazfVACrW8UCsB60/fF5N5At6Ckn+9gxsq64DPcNopYDtkyKwaQigvO1EOasUKwLPfefWTrQou4j1O+tToIIPD2dcg6YAkLxx4wYDP/oS+F0HcEf1F1VgKQYshmbOnMkspry8tKekN8e1nD17llJSUpgfNCybYN0kh2FkQAbAhnEf5auQUAbwg4mqqhQCghj4QVSAXfxTVaQLdJ5zNdb04Y4rrNKJnrgEf0ehfc59bd3I0cpUKFg1fUwM/bglj3YJrGxgd9Rjajq3fxU0ZfQRi6yCnukcyKqUbyw9yL0F88fH0aKsQlqczQdymRM70pCfMumMykufpolhi9Tuo03ccwLcfj8iirpNSeeOA+iCINi4X/gg+M3ewYS6j8iiB+fcfqKM5mbyBcvQl4z7JeqtBp0Xfs8i6jZAJiqtInXuccl+NDP9tPAjg/5gUVUZkxgbtVB7ljRV/DWdLK21E20RCKJhrhe6BjFwzwt7SxOmMD34x0zuOAdLE8LzL3p2hMmRB9QrA3EuLai8+haduKysoELwaUiUG2MdXK1R/v+kAHuCbzcqv4pAn+2IeHjzXlTrs71bry5Uic1MjNT8dhX9vluPX6C8MiW4hEBX1zbOd4hadWrtyHQGNhxVKlnjuQSdetvxC2oCXfAqhjAWLI6uqyDltCBHwjGqathYx5AYD8o4Va62Doj2dQtxpsXZRWp9x/i9QP+8qncwWDN9wl3V/IvrdWN0eNC2F9uTncWdNkegErdo0YISExN1uJqGnerChQuUk5NDbdq0kSy4RC/tggUL2HuJra1twy64CY9GLmGBBTXwsWPH0owZM/RGDK0J02IwU8sA2GBupXwhUslAcwFgVHevXLmiBnZBh1IEfshtbGzIzs6O7O3t2T8h6f9rRj7rpeWFuTFRda32U20pvtr0b+Lc2lB68bLVgloIAVWXNs60/cQFYUVCW/VkbauA3UJcWO8vL/ACDQVlkUURqtknz18VCjFp42WL9WjrqVvfSiaUabWpAGlri4R+63m7+IAdzww2PBR963fLO2jgb98XQiMFDAJUYz8aEEadvtzGvYcAyp8MDBcKrEV62dKUByKp81f8+UBD/WZIGxo3j79pI5XvOENeB6yPwlzNad2pa2rtD4Oi3OlMubqvrr1FS+bNu2hPkZo3b5yvHfP3Ve2zBYxGFXZ/4WU6oNKri2f4fg2CVADb+O4ENVkRAJc4X3b+JTVxLTvT2zSwnQ+rBqsKY2EOsGdU9RnYHDEelF2gPgfW0TvchXkSg+KsCFyLi426uBauZUCUGx0prqSDKu0V2My5r60rLdtXrNa7rA/Py5s9gwi2UqC3KyI9PZ0p/upLnyrWXVpaSrm5uUwBWqo2PbA++vvvvwlsOWzCSzHwLtW1a1fWpzxo0CCCdZO+WGFJMZ9SXJMMgKV4V+Q16XUGdAWAUclVrezi31HxVQQk+gF0FWAXgFfTF/i5imrq+U06t191WGtjyiy+RXmX+OrWAA+iyisqY48k+9EX649z77O/kyUBuIh8dqO8bZkQjepLm6aJtaWadg1xoX8EIBbzawN2AQqjvO2EVUv41sLqpEjgi5wa5ETbjiurPndL4OgEb/pNUO1Ftee1nq2Fmx+4X1B6fvL3vdz71crFij4eGCa0HYLS85u921Cfb3dw5xsQ5UGPpflT72/446AujQ2K/j9kcOfDOC8qo48z+IJjUPtObuVErwlo9FC2hkiYyBYJmx0etuZaeTfr9RefASy+Y6AtVV69SrvPKb9HTY2IxiR6M4VmVY/gEDcrgqCSJm9efKeq9tmi3xf04SV7z6mJSUV62VBrFys1YSykEarLUH7ee1apxwBwCdAJn+FL1cr1BTsak73xTcosVVaqMQcAOxSo96u0DGCOfhFuTLzqssocEPkCYFdVssYcAISnzl9VE+hCKwf+/4rcYrX2AfQd4ztAtTqOOSCQiL5jVXEtqT4qqPxveDaJMUgQ27ZtIwsLC4qNjZXqku9YF3yLUbGEBzC8gKUY/fr1YzRttGAZGSltxqSyVrxb9enTh6lU9+zZkyk+m5qaSmV58joaKQMyAG6kRMrTyBlQZAAgtKaGr9Zb12yBUo1eXdXeXYhzKAI/IqqVXYBec3PNfU045kLldXptyQGC7dGoBB+mQip6kf8o2ZRmnzAl+APzYtfEjhT/8WbumMExnjQoxlPY+4u+38y8cqFiMayChv6UyRWFQsV660sdhGtLbeVIL3TypcEz+L268JiFiqyo9xe07Yy8C0JA+tdTSTRxyUHaX8gXIQMlO+WzLXRDtfGvVrYBbrPf7Cy0O8ImA+yO4ibzqdsArVCY7i6gbsNaBfZZo2dlce8/erDb+djRa0v4FU+Mc7Q0pR+25HHn6xfpzp5lUb9xuLMxnb1UQxeVukUa5wXdPr9WD7GVmfEdKty1qdaYDAJGIo/qYLtb5GRGtKNEei9/df1uMpTxo+O9KOtMBR1S+X5zNLtNMU63acs5I1LVs+sS7ESwFFOlD2Oza2ScJ609fF6tFxy9uqAKL8hS77NFtfXi1Ru0I+/ifylUCFL9tb9E7bsMzxQAJsBvbVGrY4VldOSC8vfGxsyYBkV7MIB6QUWZHcejBWPp3mK1OfqEu9C5S+oA1drMmFk+/X2gRA2wA/RjLbXn6BHqzMapCnShdxkq1P8cPq8mruVoYUQXqqTRIqTp2W3nY0tPd/QnVL7hpwuKbkxMjN485oWFhQTRJqgUOzk5SW7dYKp169aN9f/ij9QAMN7dhg4dSkuWLGH059WrV5OlpaXk8igvqOEZkAFww3MozyBnQC0DDQXA+IEAuK0tVKXqLQzqsgLwAuxaW1vX6Ydk9o4zNHm1kvYMIHSqjF8Zw0VqW0XVhpYLpWAm1iLw8n2vbwgDwKL1ASxDTImnvIyN/S+HRgiFo7q2cSLLqhJacUZJh9P0mMPzF5sHf+YUcT8Fsx6MYd62+1QqOpoOgMDUswtyhbTnaSOjmKeuqnCNpvnevq8N/e/vI9y1gZId7XSL1p7i2xjhxdfB0lQo2NTW05YKK6rUXpw1LQCbB9qoIWtS3dampxeV16rrNWrVMk3rAHjGfRE9X1BwBr19x0m+9/S0ERH0995CWnGQX6mf0tebcs/fouk7+T3o8tdr82SgnbcNmVyroIxS5SYF6oK9W1vRiYrbdKRE+X3pYWtGvcJdmE2SKgUZfbamxka0/ohSNR/P7vBYT9p8rIzOlCst5mBNlBLocAdQ7tbGmapuqKsuQ9QKVOh1h88z8KoIgG1sLKFXV3V/DAAVYm8Zp5RgGwB1cLQHrT1cSiUqStaYAxXhJTnn1ObAdyIEulTnwDoGRrvTxqNlauvwd7Rg1XFQoVW/o0Ltb5GpqRntLeF/1zTPHVc/KzYGetmdYyAyMjJSCkvSag35+fl07NgxateuHWN/SS3wHpOUlMTExY4ePSq5ntopU6YQRLoQAwcOvGuP8ueff07Ozs5SS6+8njpkQAbAdUiWPFTOgDYZqCsA/j/2zgO8iip94196752WQiD03nsRBcWuWP/2joC61tW17Oq6yq69996xYgMFpPfeW0IvAUJCgFCS/J/fCTf3zM3NnAsGDDrneXjWhblnZr6ZO3fe877f+/JD4GlURW+Ma9CD5JIxu/6Xv/s9g5f4q96dazuFL1mxTACQNcXEsF1iZLDsKDZQb7/npLx81htD520X3gBVZGC5FB+2ygq9fdbXHmdfe6aPtQTIG01ZvMzt62IHDrH0INsN5uKFRneF9bY9pmnzNxYaXZLvGpCtjLo2F9pnT79+eRt5ePRy43w/Dusqwz5ZaATaU+/qJUM/WWDMnkbdMPSThUZJ+wNtDsv7qwNkXbH9/YN7OLFNJvB9rPeE87ljq8CZLZNly+79MnuD20MhMthfeqaJTNxUKnu15wKMIYoBwJ5rcNUBqIs277GoAZKjgpVBlGevLsCX3lMArWug4kA2PXVtQRVTq96N4pVzs64CwVwLdlh3bg4OqDC14u+IUHINWi7oD4ZR1gEqc5SWlyunZ9dgDhhlnKl1l3Mk0zhZfznfOgfnAjuuz8G5DG6RJFNWbpP8Evd3gizm3o0S1LnUxnFKnTI5t0Wc9Op48mS+5uXlydq1a1XfMp4ftW3we9GyZUu1sIAMGm+S2jQefvhheeSRR4yHlJubKxkZGcbtnA1qbwUcAFx7r41zZCdpBZDQ6L24+mm4jKpgd10ML2YLlS9OR4yq9N5d5Dc18SPBvn9dka8YUvpXb/hwvm3+alpMiIy6obN0GznR9kogBeYF8D6D6zKO0GSlwpjaDbJczzM455JRea8PUUGDmqdIdnKEPD9+re0+iQrC+XTeBnc+prcPPHRGE3nk++W2cyGFpBf29s/tY5HqxITKfQMby7BPF9rOh/Px+W3TfJILN4gLk5Fj7Xur7zutkWwqLJH3pm+w3S8s81fztxgXN767pYv864flMlNjl7xNDMi87oN5xus///6+yunbBArn/L2PnPnidCNY/nl4NyW1Ny2+IFWnLcDUS35x22T5ZJ7bmKi6ImbGh0ruLnsg7+2z7RrEyNz19vfhSfpoPCkO+6ou9VRckA4Yq4sc6pBYJnvLgmSZLkEODZQL2qYqmbC+IAWrSo623iPLq/95bVIVSNbNpBIjgpWZFNFC+v1Ynety91Q/2XwoTNZoC1aw0v1yEpSplW5O1zUzVkICA2SC5nYOQEXyPGv9bsnTXKiZA4BK77I+B+AZ9nfCKrcaAjfss1ulytyNhZY5kiODhVilrxdus8zBwgHOy7DHtX3c0D5WbuibI/hq1PaxZs0aFdmDczVKsdo2eA/JyspSJl2TJk2qbYfnHM9fqAIOAP4LXWznVE9MBXQATOaup1GV3h9Mn67O7tJvdLycBn9YvE1JhBnEWvTNSZKPTS67UcEyuEWqsQf3zgHZqnfVZFj1zc2d5eaPFvgEWk57zj4qaHDLVEG+CpC3Gy9c3Eodmynf9rc7eshtny8yguCFD/SVVo+Ot90n4JbeWtPiwZmtUuWKLvWNxlEAZRyw6RG2GzCjxLG8Ntk+y5fr8NJvuUZwC4N65xeLjdm7n9/QUYZ+vFCZ3diN5y5qqcyldJmot+2H9ckyRnHxuZ7ZCTLJB1Mw2DUTsPV2HB0aRMvs9fY92UH+Ipe2TZR357jZO29zITX/3wUt5P8M/dGApFE3dDL2qp+Yp5mzl/ZpIRIXHWWRMStWtGWiiiEiQ9010mODpUsWoNMqQUZOm198UGatcy9s0KvLwhbMsQ6UW9WJkozE8CpmUme3SlFKBt1BGtOm9gllMmlTqcWlH/kxIPpnLYOb9o9zWqXKoi17lGmga7Ddac0SFZOrfy/pgaX9QJdvMwcmWhhrYdKlz9G/SYI6Zn2OtvWilZO1PgegH3CPQRd/XANHbTKMf1iyXfYcqFkPjZq4i69sVCYDmiZKZnqDWh3dg/wZGTTZxXY+IDVRk2OZAz+TlJQU6dOnj+qvdYZTgT+qAg4A/qMq7+z3T1uBHTt2CKuwMLwAYNcA2NK3q5tVncgfqM9mb5J/fLfMtu6+9mV6m8RXia+3nk5v8/ki6cWFd3V+sepNsxu4BH8932pC4217nIKJhTKNC9vVkc/n2vduAljbNYiV8Vr/n7d5u2bFS1HJIVmy2Z4ZB+xPXL1TGefYDbb7duFW0yn4DB59lUx77hBWydSjzGeapUUZWWG2w535mwX254VqAVO3/xpYcFhWnMiRM9uNNvFlMqBemYxcaB/VcV7bNLm1T5b0e3qK7XwoEkb0y5KBBmdr3M8fGdxULnpjlvE6OhscnwoA1LqllMmWgyGytsD9nUO2O6h5sur3LTnsBr/N48rFX8plUYG7ZxigPKR9HfUM2KQ5vMMot68fUwUo45i8c68VKFcaUi3eXsXUqiFAeZFVjXBWy2SV4Yv82jUAl4BOAKoOLnGhrhsTqhyu9YEEfPX2fRZDMJ7HHB/mWvrzljlYUNWzgJkL0J+7Y79ljvDAcumdESmTN5RYjqNZaqRix/W4JuYY0CRRMcS+PEeOz11gndXfr1yGNi1V/c316tWTpKSko/LeOBHHiAEWRlgYOP3eVqnjcbw4LFO3Cy64QD7//PPjsQtnTqcCPlXAAcA+lcnZyKmA7xUghmDGjBnKmMrTqKompMy+H0nFljg+/7h4m5zdOk0GPDfF1pxoeN8sJZE2MYj/Pb+F3DnKXuIL6/b3gY3lgW/tQXe9uDA5tWmyvDV1ne2pNa8TpXreTC7U7RvEypz1brOX6ib1NVKIzNeJmlywuvnI7Z21zn6/GM/ERwQbe1czE8Ml19B/y3H4yoD6kqkb5FcuI/o3kv8a4qkAmbf1zzbGBJH3e3OvTCNDT3/wkA515cp37HvSr+2eLuQ7X/aWvcM0aoSWdaON8911SpbEBh6W+39ab3vfXdU+UdLio+TxsfZO1CyKcG1NburUJTQowGimBfAxLewc7bPA2d73ClzePkW+XrDV4gMAo0nvqw46Acr02S7YVCgrNWOsuOBy6Z4eIWNzSyzS354N4yXAXyzyYYAyPcOAPT1qiT589slx6KZWAENYY911meftua1TFJjFkdk1mqZESqPkqkB5ULMk1QqxcJMbKBPXNLhFsmJhMc1yDQBqekKY/LjECpQBxLil66w0zDZ9zj8ty7fM0TgpTCLL9srcnVbnc85lW9EBS9QS5wKAHrdipwX0+371ju+Wd7cuk7rhZUoSXbduXfWntoDNJUuWyLZt2xTDWtscltX7yK5dqnf2qquukrfffvv4XihndqcCNhVwALBzezgVqOEKYGpVGwLeS8vK5c0p6+TVSbnqRZoe3PU798k/f7B3BX7pktby7cItRjnzjHt6S5cnf5Nym2jg5mlR8syQlsb4HNyUgwP95cHv7Ptrv72lizzqQ78px9b5CfsoJli2Vy5tI32emmx7BwAe++Qkyg0f2Eut/3VmU9m0e7+8MslefvzxtR1UBvJsA1gm2mnAs1Ns447oN556dy9p/2/7GCOY/U+v6yjtDXFHAMwHz2hirAk5w+e0qSMXvDbTtna39WuoerBxrLYb9w9qrP75sR/dzuTetqd/edueA/LWVHvQSl/6im3FxjznzkllsqbIT3YcsDdiAbSa+sM5Xm9RSUmRwbbxXHyuU0asBAcG+JTxXMOPK2e6aipAT6sOOgFkuCXroBPASGYvPbI6YGyREiYRfgdkxlY3Q4x8mH7f+RuLLPJh2FMclj17dXs0jBM/8VPmU67hMqRCCaID5bQIP+nWqAKw68fMvGQG69JrFuHo1aXPecdetykhvgo4vX+30BqTBEBFvs1xuwYAFaCMaZcu3yZmiXl+WLzdErXEcWzdvV+WbHPLpjkOWGlk5Dpgh9XOSYlQYFv/acFRm9SA2pIn3CQxWP6v4SGJ9D+kgGZqaqpihVn4/iPHwoULBRVa3759a8Q7pKbPZf369SqjeOjQofLCCy/U9PTOfE4FfK6AA4B9LpWzoVMB3ypAjwsg+I8emE1c8c7cSsfaximR8sX1HeWsl80GQ4DD5Vvt8345vy6ZcTI91+0Y6u2ckdDWiw2VyYa4o6G9M2XCqh1GKTA9vQ9+t8wYs/PaZW2M7CPAhkxiE0t9R/+Gsnv/YSNLTdzRm1PXG4EMQP7mj+YbmWD6iC95c5YtCKbmr17WRm409ELDJpHR+28t/srb9YIZJ8bkg5kbbW/hgc2T1Uu/KRYI2S+MvKk/GCm4aS4OqG5sqLFu3g48IrDc4t5b3clxvGOWbRcWkOwGsUgsMJkcq9+7qp28MCHX6BzNPfHBjA3y2ZxNf/Sjw9m/VgF6vMmj9iZjblsvRkbN3yL6rQKo27y7RObpgDGwXDollcvMfH/Z5yZWBSMoesN16S9AGUOqBZuqAuU+jRJU5NpBDeU2jxcJ8PeXhTvcYBtXe+bgmasDZVc8kSdQ7tMoXvYeLLUAZUyuzmqVolhpALBr8BxpkRYpZBXr580cgG0doDIH9fht1S4L2M5MCJMWdaLke485YMf3HrTOAeiHUZ6aW2CJa4KJZ2zQoqT+iBt31OUNpSh/ixQVVSwQxMXFSf369ZXL8R+h+Jo3b546lt69e/8R5TDuc+nSpSoG6d5775XHH3/cuL2zgVOB41UBBwAfr8o68/5lK1BbADAXAPOn8zVH5X+f00xiQgMtvY9/OyVbMZJ2g5eyHillMnGrVb7m7TO12cXWWyySrz3JOF0j9zMNXwHasRozmfbv+ndvbKS3uKfY8CBjXzFz+nK8yNlhwe1UAczla3SWL/cm8z1/QRMZ9oW9eoDtRvaOkHt+K5YysWd8Z9/XRzBhox/Tbiz6Rz856+XpRrn69Ht6KfMr3XzI27yAZdzU9bgZX6+3s13NVyAqqFz6Z0fLT6v2Wvp9AWqkt+iRQ6gxVDbvsnzZpuXqwormJIXK6CU7LYxm38wI2VHiJ4u2uBcaXb26GGPp8neAMmZSekySy9Rq6qqtslVLK4NRhi0F5OpAGfdnnn+e8UTntE6RaWsLLD3KDeJCVZ/rd4u2W/pvYaUPHi6TmZqZFwD1zJYpCmzr503UUuu6FSBXZ6U71A0Tv8BgC9h2gdxpuQWWOVg4bVs/WrHBeh8wbtgs8OrHUfNX3/cZL2qXJjd0SpTtWzZJfn6+OrawsDDFCKelpUlgoL2HgO97Mm9JtND+/fulR48e5o3/gC1mzpwpp5xyijz66KNy//33/wFH4OzSqUBFBRwA7NwJTgVquAL8+Ok5vjU8/VFP97cvFsvoRRXmQbANY4Z3k2vfn1fZJ4sJ0SfXdjA6G7dJKJPhA5rJNZ/YAw36g2flFcinBiYLdtMkoU2KCpYXLmptNAPqlhWvQNVDo+2PDTnzjuIDMkZzR/VWUKS7z49fY3lx89yOF1DkwuTR2g0ANn2pJpYZhv7iDnXln9/bS9QHNE2SxsmR8uJv9j2p1/dIl53FBxVjZDcePaupfDJ9jSzebg/2Pri6vToHUzzRL7d1lwtenSm799urIIgx6vrkRPVCbTcWP9hP2jw63miEM7LTYbl3VoCUltuD24faHZYnFgZbAI23/b9zZTu5/oN5RvadvnmyfE3D1950z3mQlJqAs2nfzr/XTAWqkzHXiQkR2Fncn3XQCSvK/yfL1zVCAvyka0q5zM0vl6JD7nu1SUqEAJY9Ta1gUPnO6X22LkMqTK1gbl0DoMy//brCHS3kcm5euHmPJdcbM6+e2fHKGEs/ZsAlBnZTtGPm/2OMBeDUF2dY7OvYIEaxwTpABWzDDs/QotEC/UU5VuftD5ZtxW4anDna14+WH7yAXM7LOoefDGqepFhm/TgA/Z3SY6rUrmauum+zYGz2xXXt5dDBA7Jp0yZlRIUSDPNLQDBgmEjD4z0AmMQw4gJdG8f48ePl7LPPlmeffVaGDx9eGw/ROaa/SAUcAPwXudDOaZ64CtQ2ALyxYL8MfH5q5Ys84K5bw/0e49QAACAASURBVHgZ8rrbYfaJ85oLPVnDP62ISapu9G8UK7GR4TJqnr0DMnE8L0xYKws0GaC3OceO6GbsD8b86uEzmsiF2vF6mwtJKuNfhh7n74d2kWfHrTGC4Ff6h8qICSViZzCN0/O423sYe3BPbZqkjKNOf2GabX0Byunx4cZsYPq5F2wsNOYbE2P04oTcygWQ6nb+9tkp8vCvW2VdsT14JMv3vFdnyNYi+7ijH27tqhY3TNFDnMdNH843gtubu6bIy9O2Gb/EpzZNrOJG6+1DiZHBxlxgb59jkcJkwgYzeEmHevKRIWKMF/+7T20kIz6z/87lpEQKcv7ehl51Y3GcDX5XBaJDAwW2lHxfpL6uAehMigyxRA7RP3xem7QqubrIdrtmxqnIIR0wtowvlzL/YFmyw71ohOKC6COijCymVqmRggwZZlUfynV5536VKewagGG+EzC5+ncRYy2UH3oGL0B5cMsUWbSpSM3jGslRwdIjK15GL7YC5Y7pMRIc4F8FKJ/eIlnlWOs5yuQJt0oNlV9W7bYsUDGHv59fFZCLuRY9x/ocAHbAOSZfmCHq9Yd9n5brNiDkKcazmbaVEznY5/DeGUoJgBIMMyoiifburYh7QhaNPBqZ9PGSR0+bNk31JJMDXBvHd999J5dddpm8+eabcs0119TGQ3SO6S9SAQcA/0UutHOaJ64CtQ0Ac+ZP/Lyqsn8VaezY4d0VUPxxSQWowNn3p2Hd5Kp351rMfsiZ1F++2JYXfJPEle18kcyynS8SZHJ19x8qtRiueLuiROUgQTQBL9jRt6euNwKvgQ385Kf19r2gmHed2yZNPp1t37tJjyuLDOMMsUiXdaqnDLIwcbIbN/XMkE/mbDLKl6/sUl/em7HBeM3aJpTJPA+HVm/7xyhHf8mu7hi9yc19+RbWiQ6WzUX2bDTzdEmPlunr7DN6U6JDlMO4Kdqqe8N46d0o0dgfTb84DPxNHy2wPRUcq09vkWJpP/D2geu6pwtZ0Ge/PMN2PvqSL+9cXy57a7YvJXS2qeEKwO61rhutgKv+NICd3bBrv8XBOD48SPWsfrlgq+U5BEMZHhwoEzRHeZjVQTmxMj1vt+Tvd89cPyZYOmTEKXbW09QK0ylLn21AufSoFyKzt5dZAF910UIwqGvz98kKLYOXY+6fk6hArp7j26ZetGqZ+W2124gLoMz5kQWcpwPlyGDp3jBOAXOdUWaBICwowAKUWSDAQwCwvV7r4QVs4ytBnrw+B4A9LDjAwqRzHOQGL91aLOt2uQF7QkSQdMuKUwthBwzqkhq+TSqnu75bfRneN1P9f94HiEQECGNOxYiIiFCMMMZZMMQ1OSZPnqzyfzt06FCT09bYXB9//LHceOON8umnn8qQIUNqbF5nIqcCR1sBBwAfbcWc7Z0K+FABsu5q0yjcf0g5CrucSpECX9OtgQx6YVrlajr9lh3SY+WSN90v2Y+f00wBu/kbC6s9HQDxMxe2NDJZyJmv7pouT45ZZVsaWDYA74SVFS8L1Q2ibniBMg1fpac48c7UJHvVzdu6XrSR2eaznIPJIAnwbJIAMxcZmeu1l7zqjs0XUzI+e07rNPl6gb00mlxncpFfn2wfT4XJGTnLpuxdIpt6N0qQRw1Oz/Sa140ol0/X2r8Ycr9yT9371VLbW+A/5zZTLNPdXy6x3e7Fi1upBRaTVB1Xc0yOTPcx7C4RZG9Msa8fTGFhyWGjYzVSaGSfpsUd0/fB+fejr4BnXz/mTue3TVUgSzeIYnEIsAzjqg+yeVdu3yvLt1UwgQzcwfvlJMg3C7ZZ5Pg5MeVC3uyy3W6/BXr3z2mVqhyhdfUFTHCiX7HMyieB2D1wXd5RfEgZabkGsVoqnmhpvoXBBihzfnp/MZ+BhV2zY59Ffg+j3K9xgopJ0oEyWcAsZOo90bCwgG0Wy3RGOT48UMW3cRw6QAVsRwRbgTJznNYsSRky5nmA3O5HQK6exdyyTpTA1Ovybc4FJ2vUSNs1M6+jvwuO7hPIwG/o0UA6NIit/CC9uRs3blTy6NLSUtUbXKdOHQWGAa01MSZOnChRUVHStm3bmpiuxud444035I477pAffvhBBg0aVOPzOxM6FfC1Ag4A9rVSznZOBY6iArUNAHPo70xbL48fcQCGnRs9tIsCt/w9gxeksSO6q57Wn5dWvMDxYvTjrV3lrBenSl6BPaifdncv1dNpNwBUfRonqh5ku/HuVe1k9MKt8vlce6n1pDt7Sq//TbJlN2EBv7yxk3QfOcl2nxUsWz1jzizAi1X9p35dYzvfy5e2lnenrTe6ZOP+e/6rM2x7TQGj9G73+p99ZBNxR+9d1V66jbS/Dv2bJMm9pzUyys/VIknzFKP8nBijurFhcsvH9szov8/Iki279sjz06x5op6FfPrshrJy12F5eZI9eERqz736heE+efK85vLdwq0yabW7N9LbxRvRL0u+XbjVaGpFTVzqCbubwJdFEG+fpy8foGvqtz6KR5KzaQ1VgGdij6w4GeUhYwYYIo3WY5IAdMiYAYy6HBegxr2BvNk1AHu4Li/0kCDHhYh0qh8p43L3Wp4RAEBk1HqPLFJgenUnrtplAXuAcqT0nvFEp+QkKkANm+sa5PjSsjFm+Q7Zo0m9AfdImYkt0gcs7Jodey3RTgBl+p8BuTpQTo8sV5na09e71S2cN/tbud0DKEcEqTqzyOAryF2dv9cCtjEV69EwXn5dscNyHDV0K/g0zeuXtlSstj7o0d26datihQHFyKGTkpIUEI6Jifld8mh6bJFat2rVyqfjO9EbPf300/LQQw8JQL1nz54nevfO/pwKuJ+55bzJOcOpgFOBGq0AJli17asF00gPqsvJ+JQmSfLY2c0UM+zqaQOg8oftXD1q95zaSNKjRG4ZZc/cUkDMqKaudcvlvBUVuTB9ybMMObgjz28uz41ba3ReJnoIQG2XWoM7MYDPlEd7Q48MIdvT5IpN7+rX8zfL6EX2fam/jOgmN3+8wGhi9Ott3VXN7SR7sECfXNfRKKuFob6+R4bxXGGBGyZFGM+VmqAgMJmaDeuTJTPXFcgMQyzWKXXKZM4OPyk4aN9v7AtLzf3Vqm60Ag2m4emAjfxU78Os7vO8QJsivPgsjK+JFWa7969uL7d/vsjYg/zz8G7y0HfLjAsopvN2/r3mKtChQYzqLdVNpriPiBwipkc3ZiLqB1YTR2f92QQbua3ogEU2zZwwrsiHdffnZkkhElR2QBZomBP5ML265FLr8mGAOTJrb87NgNA5690qHloxYIPHr7Jm8AKUGyZGWIA51YNRJk5Jb33gOTkgJ1HGLM+3HDNAOSUqxCL1Zo4e6eGyevte2brf/b0HoKIKwZRQB8rN0yKVmZfuWM0c1M5XkMtxIO32ZIP7Nk5QahrY7RM1LutYR67oXE8teuiDd4SdO3cqVnjXrorfTdhbgHBKSorq5T2aQd/xhAkTJDk5WWXt1saB+/OTTz4pxDW1adOmNh6ic0x/kQo4DPBf5EI7p3liK1AbATAV+GHxNvXy7RofXtNeScNcL+68zH1/a1eVR+rqm0RS9sXVLeRvn8yVRQUVP8gwyLBgLndpu+rycueSXp/Yq2Ddm689yb667raoE61ipkzD1/mIOTHF7pj25fp3Xh6R8+qDnjnPRQIkxPlaZEt18/PCrL+g+nockYHlUnzYHugyF9nDkw3sLNvd1CtDXpmYZ7t7gO7TF7Y0LgDwAv/pdR2NxmTcv+Nv7yHt/j3BuN959/eVto+NNzpHL3igr5zy7BRj7TETu/LdOcbtfL0ezna/rwI5yRGW3tnEiGA5pUmiihzSWUp6ULnrdfAFOwsb7Jmri/MzwBMXZH0gH87dsc8im44MKpdW8eUyZ4e/xZyvWWKgxMdEVYk4gg2GIdazgIk4YpHMM4OXiKM9JaUW2TTfe4D5hFW7LM8TnmlkCnvKpgHKLALoUm++Z7DjY5dtl32H3HxLBVAOVnPrA1Y6b9c+C6PMd5Bop1+WW5ncpimRkhBZFSh7A7n8jnGO7E9vI+BckLQv2uxmwX/fXVL9p8cN7yxJUSFeN8AoCyC8ZcsWZaAVHBwsdevWVX/4b18GzDLMKq7TTZs29eUjJ3yb++67T1588UVZtWqVZGdnn/D9Ozt0KuCqgAOAnXvBqcBxqEBtBcCsOF/0xqzKHlbYMxgp2EcXe0Gc0MODmyhm2MVGXNo+VTJKN8p/FgRWgqj7TmskoUEBxugh4nP+/s1S2x5WXg4/uraDkd3EERp28zaDc+4ZLVIkMiTQyFoi8UUaq/fxebsdkMY+O84+6oZzuLVPlpFRRZKNS/Az4+wl1G3qxQh9ziYDp8EtU5VB2K/L7WXFQ3tnytjl+UYXYxzBHxm93Nhr+tL52XLLKPv8aCJfPr+mtZz1+nzbbxlma8jv2xtAJiwXZm0t/zXOdj76konZ6vC4PWjF/O3jaztKH4PDMosnb13RVi5+w2xC9cjgJsbvBAfvaxYy95WuDKjJhZLj8Oj7y0zZIi1K6sWFKplv5QtVNTLmujEhSgYLG6yrDnpnx0vxwVILO8u9NrhFsmJFddk0vbpJ4f7y21r3ohsgu11imWw7ECQb97jjkJKrMaTCRZmhy6ZZMBrUPFkpDbZri2EA3KZpkfLTknxLfzFAFGNEXTbNMZ/aJFExyvpiJ+CeLF9P2TSAGIdn+qJdA6DctxFy5Z2WaCfioYjv0/uL+QyxU6iZdCYXkEu0E4sMOsjlOOi59mSDyXPGp+FEssH3n5atpO7UzNsgOokeYcAwrVTIo2GDcY+GHbYbbD9lyhTFIDdu3LhWfheHDRsm7777rpKAc17OcCrwR1XAAcB/VOWd/f6pK8CPGKu4tXHgMKy7yT59YQspLRO5c9TiysP9+NoOyonYJQWGGb6v9SGZUxwrP6yq6N9iVR7Qct/XS43gCybr8rdnV3GU1uvDCwGgxRQVhHNui7rRRhAMoP52wRb5xODOPPu+PnLWS9NtDat4SZxzXx9jVnKvRgny0BlNpP8zU2wvPYC6eZ1oueEDe2D4yqWtFWA19Rv7Gnc0697eyul7idbz5+1AF/2jn/T87yRjlu/jHQ/LfbMCbc+V2n0/tKuc+txU2+1grZ8d0lKueGeu7Xaw1kN7ZxnzlwGKpzRNMrpzAzDTE8KNCwPeDspXMEq7wS+GBQpk+pd1rCdPGEziYO/+cXoTY4Z2bXz2/FmOCZaSRTPdZArwBWvrKWPGBTkqxOqkzPP0rJYpMj2vwMLOZiSECf3BnuwszOq2ooMW0BkR5Cet40tl7g4/KSl1qywwpIoLC/Lq3EyrgC6bpqe3Q3qM/Oglg/dQaZnFbZrvCYZUU9bskp173eoSpN6wqPTq6gNwj+mULpsOCSiX/o0TZVJuoaW/GIBKlrInGwzI3bh7v4UNBigDwiestAJl5sBF2lM2zXFsKiyxzhESoHqDAdV6jjJMPPJtT6Bc0/ct98pvt3dVecvVDd4fcI2mT7iwsEK+Tn8wQDgxMdGrPHrfvn0yffp0SU9Pl4YNG9b0YdfIfFdffbWMGjVKONawsLAamdOZxKnAsVTAAcDHUjXnM04FDBWozQCYQx/68YLKF3JevH8Y2kUufWtOpaS3bf0YeefKdjLo+WmVwJCYnBE90mToTztk75FwXBjUC9vXlcEvTpdSuyZc4o7Cg4yRPUirYQNNslyiaOZvKDQyt0hm35u+wchm3jUgW4F9wynIrX0y5YUJubZXnz5oXJtNwJve2mVb9xiNmR48I0dJ0tcaetYA3s+MW22Um9/Rv6E8O36t8XoNahQpPx5Z7LA7YVglnVGqbltvsmxfHiSYs+l9kXzGWxSXL1LzyGA/qR9eanHY9XYMvBzzvTBdQ/rlU6NDZORYeyacBY9GyZFGWfbfBzaWpmlR8n9vz7EtzfC+WdKmfoxc8569mZwv9XW2OfoKIN3dprGl3HsAMM9sXm+RQzCRALjRi7dbmP0umbHKzM/T1Ao2mOgkHXSyv6yE8Cq9um0TRQoOBUpeoTv/lucpIBCQq8u0iRYKCfKX6Vp+LoAMyTP9wlu0rG9Y3JZ1o+TnpfmWZyRSb34L9IUAZNPIwgGiehtG/ehAiQs8KAt3WftaqQU90XosE995wO9vq3bKHi2IHYCaFh2q3LA9wfbvBbmYimEIprPBAPamqdEyf1PNy6NREIzom6GyjU2ZwHv27FFAmFxhVFwhISGK5cVBOigoqLIUbDdr1izJzMxUf2rjIPro119/VeZfNR0BVRvP1zmm2lsBBwDX3mvjHNlJXIHaDoDX7thrAa3ImZvViba8eD93UUspOVRmiY95vF+8bPeLk6ePOCDD7v04rJu8NWWdfDRro7pixGHcdWq23P/NMtsrmB4fJl0y440yZWKRdhQfsGWP2ZGv+bTIqJf40O/VICZQ1msvktWdDJJmXuBO5PCVefT1XNumBMu8bfbZu5jvwAB59ip6njfy447psUYH7345iUraaAKZ13RLl4OHS+WDmRX3V3UD2f66nfvk7SOu5tVtd11OqZTHp8ub0+znoz940uodxgUPVAu/LN9u7E3GsZporw8N58FiDEydy4m9uvNAQr186x5LBuqJvAedfVVUABktLQi6+7NLxozLsy4Jht0FAOuSYEhAQO6CTdZridy/ff2KXl09C5j9YVpoAZ2BftIrM1Im5e6RfW7sK02SwyQ1JtxiSFUZLbStuEqOb+fMWCXpPqTtEOMvOnd1Ey2e+7g/ExunRwvxTGchgF5d3V1VgcuCPbKmwH1wAGWeAZNW77LEMgFyAdyebDDnvXXPAYuhIEAZyTNz6Itk1TG59ABvKbSCXOYAyE9ZU2Bhg+tFBUik/yFZXnh0RlRH+704vXmSPHGOb/26tFZt2rRJ/eG/MckiSxhWmGxhmOI5c+ao3toGDRoc7aGckO1PP/10Wbx4sTL/OlqTrxNygM5O/jIVcADwX+ZSOyd6IiuAGQU5f7V50OfpAq0uOfM9Xy2R8SsqpGywmEhXL35jVqVktklCoHxyU08Z+PzUyjxK+m3vH5QjA56bUskMX9s9XWXNnvnSdNsSEE+zpbCkElBXtzGOuNe9P8/WEZoXql9u626MO+qaFS9EGV3w2kzbYzu3aZTI/t3yVZ59Hu2/z2kmPy3ZJhNX2UfsEO107XvzbJ2HOQecns9+eYbtsQEyX7qktVEujiR7RL+Gxt7qnqll0jyuXF5ZZn+uMJQw+cZM3Utaybqd+42uyJ/f0FHGLN1uzBr+aVhXeWvqevlszibbuhAVNXLsKhmrxct4+8BHV7aSkePWKSddu0F7AL3fpjgiZPl8l0wZveRs01pwtMNXs7KjndfZ/tgrwIIQvZwz1xVa3J/pnYUtHb1ouwUE4mCMz8LSre4IoOpydds3iJHgAD+Z5sHOApSn5RZY2OeUsHJplBQuk9fvt5xMy7gy5bS+ca9bZstzHmbV03W5VZ0oiQwNlKlrCyrn4PxObZYkCzcWyaZC9wIfUmVk+GOW5luAOUwmC6Y6MEc2zXnjkE3fsGsg9YbB9uwNBihjBKibaLGYAIONE7snG4z6wlPyDMiFyV2d73Z5BuR2z6qYw1PyzIKEXmeOkePI214om4rdbUxEWnXNjFP11+c49jvI/ckrO9eTSzrUUbGDvgzk0du3b1esMKwvIy4uTmJjYyU3N1dycnKUeVZtG7DXffr0UdLuvLw8BwDXtgv0FzseBwD/xS64c7onpgInAwDeWXzQAlph2i5oV0eBVpecmXxXpJv0jbrGixe3kj0HDsu9Xy2t/DuAzJTVuyqNnYID/VV+8OuT84wM34On58hnczfJcu3F0NtVwqzr5o/mV5HD6tuSl/vKpW0sx+ttros61JUWadHyj+/sWeobmpRKQWgd+Xy+fdwRLsEjPltojOOZcU9v6f3UJPWiWN2gP+yrmzob+4iR6d7cO9OYW3xJmwRJCC6VF2baA68hWaUSHJsqH8y1N9N6ZkhLGbt0u3y/2L4mz1/USt6csk7mb7QHmY+e1VRe+i3XtgebWt3SO1PNZxcVxXYqw9QAgNmOl009tsbXJ4OvSgO+T29Ntc8xRvL/8iWt5YYP7XvBkXyPHd5NLnh9lrGNwNfzcLb7fRXA2ApZsi4r9mYyhcPwGS2qRg5h7lQ/zuqkDFQd2DxJPQtzd7oBLZLrzplxKsdXN9Hq1CBK8guKJHePG+SyiAY7O37lDikscS/C1ov0k/rx4TJtvdt4igoAUJH96i0WCRFByrSLhaSDGhuMbDowwE9mrXN/p5FND2iaqBhi3USrflyoNEmJrMIGd06PUcZfS7a4FwI45j6NExQA1xlz+oupkacBFgB12x4ryAWg8kycstbKBjdMDBdUOjq457xhfVl81esMUAbk0gOsL2ZlJYar/mJdLs4cMN7rdlkXHn7PXfXgoEZyYbs0n6cAUBYVFSkgnJ+fXxm9CCuMCVZgoL0/g887qqENOd4OHToo6fPSpUuN0u8a2q0zjVMBrxVwALBzYzgVOA4VOBkAMKf9ysRci5wZh93XJudVGgfB9vHifdeXS5R8kwH7+N0tXeTC12dWglYkr69f3lZOe35qpRwYd+L7BjaSAc9ONTJjx+ESGKdskhppBN1M0iU9WqavM8cdwbaaWGDmo7/axDwCjHjxMzGPmYnhqt4m5jEzqtzyklxdcZBMLt9ufqE7VvDIeZl6xTk2XyOmhrSva2SFYZDuHJAt//x+he09ARP0zJBWFoM4bx/g/ic+rPvISbbzkbH89U2djY7V7BflQutHxxvv2cl39lSsvyu32/gBZ4MTUgHg5+CWybJo0x7J0wBRdTLmPo0qnJQXaq0YrlxdZNM6w9i6brQAzHRjJkAn/cUz82CD3cwqEUfN0ip6dXUJcru0EMkvKpENGhvMnLgxe7ouk8FLG4u+P2Ta9PUu3VKs3JtdA2COW/2vK3ZYgDmyaWTUOhsc5C8CK523P0R2aRFtMOY8x3Bu1kfXzFhVI703mO8yUmiy5nU2GJALG+xpXgVQppdZB/fVgVzmSIwMruJnwHEwR562IMEcndJjZXrebuOz92hvQEAw91JYkL0ax3PekpISWbFihZIWMwCZ9AjTK1xbzKYAwMQzcVwzZ850APDR3hzO9jVaAQcA12g5ncmcClRUAPkzILi2j/0HS6uA1ntPa6Qce12g6voeFXJmjK5cL1Wwtry0XK2Z8Lx4SSsp2n9YuUK7Bv2R9FG6IoRghj+6poNRfoz8+oHTc4wuyT2zEwQg+/pke6btvDZp6mVsTb6V/fC8PpgamWKH+MzVXRsYe02R/8E0Y8JlN2AnVETKgq222yE7DPT3lznr7ZncNgllsrrIT4oP2efvcl1NdYN5JNbnwe+W2x4bL6Y4OF9vcLXmXF+7rI1R4g3LCpPf2xBPhOHY/y5oIV2fnGh7fLDC/zijiXK2thtsd8cp2TLw+Wm22yGjv61fQxUpZjf4jhCN9bcv3A7r3ranp/KSjvWM9wqfBYCbFkZq+3Pnz3R8KDZgUX9cmm8BQ7g/ExOnM49c5zOaJ6u/03tn6VnNTAivkqt7atNEBd50OS8LJoAy9qf36nZKj1EgdO4G92IdzyDmoL9VB52pYeWSFCayaJf1GUF+LoymDhjjw2GDYxVQ1tUXAHPOR+99BpgDlFng003CWAioE1Yqs7cclHKVkFwxYMz3lBy2yMJhzHs3SlAO2TobjGy6fmxYFQMsmNztXthg/p4664sJ1YFctt28u8SyeBEWKNI4RmRlkTUDnTlgyJG+64Ma0V9cU4zw+1e2kTb1oo/qq0JvMCAY0FtQUCBkCzNwjebvkEmbDLeOaodHuTEAmN7ktm3byvjx5gW/o5ze2dypwFFVwAHAR1UuZ2OnAr5V4GQBwJzNl/M2VwGtE1ftkOfGV+TeAlp/HtZNHvx0ikzaXAGBVW7r8O5y2+eLKl2Medn/9mYrM9wpI1Zeu6ytAtS8pDDObJUqgGwTgza4ZYpc1KGe0RH35Utby+JNRfLib/buzLBn130wz8j6EgFkypntlBEn/z2/ufT632TbG+LGnhkCWNIl5N4+8PSFLWXDrn3GuKNXzkmXt2ZukZmb7Q2rJt7eVS57Z75tzzTH4cu5ogL47Y4eRoYyJyVSZeWariug9b6BjY394UQHXdqpntHpGDOoHg0TjHL2vjmJEhdwUL5cas/mt2sQI+FBAapf0G7wUk+/oi5n98ZwAxJ0oMKcGLsRb2U3YKP6NzHHOHEcSDlNDua+PbmcrY62AgAfT2nsoGZJirnUgaSSMWfEKhM5XcYMS0lLyULNaRg5L6AaZlVnOnEOjg0PtPS9+km59MqIlNUFhy29utwXbE/2t35vdMuMlfyi/bJqp7uvF7DXMytWpuTtsQBGFqLoU9ZBPPC1f06iLN9mZYORCLf1wgazEMD56udHf3Pfxokya/1uS28wDDYLAb+ttn73qDFssJ4bzKIbtaMnVzfAqk6urEBuYYmFyY2Cyc2IVee3X2tLAeQGlpbIigJrqwoLD7RN6FFSMPft68fIjDzrHLDmv/c7+dblrQQ23VfQihR61apV0q5dOxWZBAgmT5ieWwZGWRhmkb/7Rzgw814EGB84cKCMHj36aL9qzvZOBWq0Ag4ArtFyOpM5FaiowMkEgJGknvvKDFlx5IWcF4JXFWidUhlHdFarVOkdWyB/n3JAXKkUN/XMkNNbpso5L0+v/KEniic9IcwCWgCoxGH83YYZru6+4VgwNFlv6LMa2jtTuUnvKLYHhrCZ//5ppbGPlO0eGm3PegLk2jeIlecnVCwUVDeIwOH4v5q/xXY7XLffnrreKI++pVmpfLwmQAoMxtNkCI/4bJHxXOnBfeBb+15omKSruzUwOh3z0t2ybrT8tGS77blmJ0UIL4j6C623D7CokmuIf+JzuEm7Flhc83iLTwr0Fzns0X5dJybUvLUrYwAAIABJREFU2H+MbJ1hkq6jIOBeH73Ins1nAaC45LDx3nni3Gbq5ddkOuY8d2tHBbjnTm2SJGOW51tAmb2MebeFLaXvle/H2OXWXF3kyusLrJm4cWGBkh1xUObvCpBDGtoCdDJ0NhjQSXwcgFE3pKoT6S/xQYdlcYHV7RiZ9oaCEkssEGC4S0asMq/S2WBMtIICUadYe4NhlFHe6L3B9E6zAESOry7T7khvcEmpLNMWhmCDcXkmGkqX/cMG140JrSJ5BijTEuLZ18vCgzeQy0Ku3s9MzexA7vTcAkvPN8w9CgC9zszBcQCUqd/vHezjtUtaSlJUiHEqjKXWrl0rHTt2lKioqMrtydwFCG/ZskW9mxCdhAwZo6zQUN+Mt4w792EDjoP+5Isvvlg+/vhjHz7hbOJU4PhVwAHAx6+2zsx/4QqcTACYyzR59U659n13piigFZMsHRg93DVUSdhG51UgCEARrrsAwC/mblZ/540ZZkX+m5u7KNmzG2THKSmszgwj7YRtNjFj9MZuKDD3qfpqUELvGCDbNLzlGMNCmPpvmdfX7UzHUN2/e2MZvW3rDSh6244X8NUGuTifa54WVekQXt2x4WDMfk3RUxjYFOw/ZNwO+TkycKKC7AbAftS8zUbQijv3a5PyZIqB8R09tIu8MGGtEdxjiPb8hDXy5Tz7BQ++O5h/fb3Afru3r2irIqB+XW5vTnas947zuZqpAM+5RkkRVbJ5YXJzd1plzMmRmFrFqmxenQ0GqAEs529039sYRAFc6ZFFLuwasLPRwSIz1ruVBK5eXb5rns7NLepEKUMqCxucFacWbJZpBoRk37ZO9JfFu0T2HXJDVEy7eAbqbDdscL+cBOXarBvKcX60bHDM+vk1jBYJj4ySRVrvM8AcyTPgWZdpwwanx4dXkTxTI5QXuiwcxhzQiZuz/jyuTq4MG7yxYL9XJtdXkAtQhgnWzxuX7TZ1o1VvsL5AwHFEhARYWPCjvevG3NpJ0mLsweqaNWtk3bp10rlzZ8X2eg7asgDBgGFyeFlcS0pKUqxwdHS0z0zz0R67a3ucq4louvbaa+WNN9441mmczzkVqJEKOAC4RsroTOJUwFoBYgrIAj6ZxrXvza2UfbpA6/mvzqhk6ZolBMh1TUrl8QXBkn+EaT23TZrc3j9bTntuSqWE7KZeGXJ6CyszTEYrwNUTZHtjhp8cs0qZu9gNJLmm/lDAGRFFpkghnK+bpUbJP3+wN0nCSGnOut3KXdVu0JN616jFtvI3Xvru750kD42zZ0qTI4Pk8XOby7Xv27sEw1Be3yNDbvl4ge2xcb1grU2M7/C+WUL/r6t3u7pJ/3t+C5m7fndlnFZ12310bQd5b/p6I3gcO6KbMquatNo+Umr6Pb1k2CcLZZYhUmju3/vIle/OlUUGsDzt7l5yxTtzLBmj3s7lq5s6qRrT62c3Hju7qTzx8yqjWRW96V8alAHs51hNx06m58/JfqywrjoTyKLXaU0T5ZcVVuCKLBmgpBs2uTK2+by+GIdBVKPkqmwwUUYbd1vZYFevLiDX07mZ77InG9y/SaJiVi3xRPGhkhQqMmuzlbnskRUjmwoPWphV2GCMoHge6vsj65gFOX1/9AYDqlfvLpVCTaQDG8z5/bZqVxU2GD8J3QCLhQCijJAa67JwGHMW2DgXfQCItxYesPT1IldGUjxtrW9MbouEACk4HGhZTIgNC5RWgNzcAst5cx4AcX3xguPhOFAAbTY8M3y5/89rnSoPDMqWoADv2cQrV65U4LZbt262zC69uJhlIZlGJs2AMQYIJycnH7d4ItjpNm3ayG233SZPP/20L6fsbONU4LhVwAHAx620zsR/5QqcjAB4+dY9cs4rM6T8yKI/MuC02FCLEdXNzcqlTsNmlf2WvFjhdPvz0u2KzWIQRUTPMD3EMHCMhIhgGTOim5LkwjYzvDPDVXuGq7uPMNgyZfme3iJFBjZPluGfLrK9HYnsWbKlyCjxnXBHDyEreUauPUBf8EBf6fSf32zlx9FB5XJPmzK5f5a92yfHf1PPTHVt7AbZxvXjw+S2z+zPlfxgWPZnxq2xnW/UjZ3ko5kbK69hdRuT0fzQd8vUC6Hd+OHWrjL0kwVGSTMOy8M+XWh5Mfc27+PnNJOHRy83Sryv6tpA3pm23vg48jWjl3ve9R1hUm/KAG87o1eZ74ndQAFx/8DGRvm98WScDf7QCqA+IQIIR2d9eJMxY6hE9A7beppaHThsdVIGBGIyNWHVLgsb3DA+RFJjw6s4N9Oru3RLVTaYxUH6i3U2GGYV0GmRIAeINIstkyW7/eRAqdu8CjY4JizIAjr5V5jclduLLWCP3mBA/4RVOy37I1IJllTPRWZhsFd2gsxev1t273ez3dSTRSDPKCOOmdYHT8kzqQQ8jzz7ell48JQre2NyAbn1wg7L8t3WlonGyRHq903vZ+a8u2bFqecabtGuwQJBs9RIVSOdBUfSjMOzzoIfzc0KoH7uwuZeXaKXL18umzdvlp49eyqZsy+juLhYgeatW7cK7y3BwcFKGs0f/rsmx8KFC6VHjx7ywAMPyL/+9a+anNqZy6nAUVfAAcBHXTLnA04FzBU4GQEwZ3XfV0sqGSlMeAA3MG3ETjBwDx3zt35y/mszK9kyemGfv7iVnPbc1MoeXJit2/o3VH/negm5uVemAqM6yK6OGd6975DFmMtc8eq38DW39YwWKcZsW/biS/QO2/WqHywTN9j3JNMz2Dkz3ihvpRf64OFyY6Yubt0z8nYZGcoL29VR0ltPcybPKg5qniI/LrHP++UzvoJH7ilTn7a3K4mMOn+PfS35XHdyQA1S5gC/crmobap8NNf+vHjhxsFZdzX3dmzN60TJI4ObGhdjMEP73/ktpNtIe8dq9X26qJW0f3zC77ntnc/+QRXw5sasZMxNEmW8B3AFIAGUPNlg3MjnbbSywYBAJNa/rLAqUACo+/xCJa/A/f1w9eoCcnV2FldhABtzuwags19OosyEDdbiiWBW68WGyqQ11oWt1kkBsutQgGzY7d4f7HP7BjEK5OrPFNhgFox0wAgb3Cs7XvUGk6PsGnzf2Odkj/3RG4xSSJc8w67Ti+wZQ8SiKseiO1MzPyCXflw9wgkwTG+2J5OrQG6gvyWiygVySRHQ3a1p+WmaUhXk5iRHqLxkPeuYOZC9Y4ym90RzvBy35zGbbt/7Tm0ol3asa9lsyZIlsm3bNunTp89Rs7go1gDPgOEDBw4oOTRmWbDCej+x6bjs/n3q1KnKAOs///mP3HPPPb9nKuezTgV+dwUcAPy7S+hM4FSgagWQGB08aH5hr22121pYomKRXM62mEsNaJos576qM8M5khYTJjd86Jblvn55GxUj4TKOqo4Zpu8RWa0dM+zNTZp+sn45SZWZxdXVDadfepdN/aEAcZNRE/ton1gmc3Z4l5vpx9C9fphM2WDuS/YFoCHTgzE3Rd34ahBFxJKJneVcOieVyYx8+3PF5RhnaxfbX911IEeUBRAYWrtBVi5xQjC+doNzuKV3plzxzlzb7c5unSqXd6ovF75uH090absUGdIpw8iq39onU/o0TjKCWxZ3WKTQY8G8HSgLD90axsvtn9vHIjFX94YJxvu9tj0/nOMRQdar99/Sy4pDOtJk3fTJm4wZNhhWEwMsHUgi2z1YWmYBkoDqrg0iZFpekezX2FnAF8CMfljXoDe4X+NEWbp1j4WdrRMTophqenX1Y+MYWITUJcgRwf7SMilQ5m05IAfK3Gww+4sOC7SYSbE/2GB6i3VJd1yIn7SqH6f6enX2Gfk4vbv0ErsGIJRe3VnrCy1sN7Jw4tQ8Jc8cM27oukMzBlUwzZ49ubCwgGhPJhd2FYDqC8iFBff387Mw2Jw3xwFYd7UJcT5cV4A1iwylWqGpHb+V+nkfzXfoHwOz5cJ2aZW9uzCsSJsBwL46R3vuj8V7XKORRxcWVpia4SgNEMbB2d/f/HtY3TmMHTtWzj//fHnxxRfllltuOZpTdbZ1KlDjFXAAcI2X1JnQqQASyZMTAHPtnv51daUUmJesn4d3l6d+WV1p1pN4RM5ML6QLWPHjPurGzgpQuLJ2MTV69iIPZrhtmgI8mF+5QLY3Zhg3aZw+dUCBdJcXnH8ZenUB2f/4bplRpjzv/r7S9jH7LMIGEeXy+BkZctln9jnDvVLLpE2Svzxnrz4WjJm27Tkgzx+JmKruu/LhNR2U4dK0I8x7ddv9elt3Oevl6bLXZc3tZUPMyqbc1Us6GBjF5NByeemcdLngE3u5MNnL/zm3mTHuCKYc5+hBhkxdFlkAhZe9Ncf20YFzMr1+t39uX+R/nJ6jJIeP/7TSdj4k47v3H5I3p9hfW0y3iE8xyZeROCP/NLlWezMYwyDH8xoihz7oaVntPFxPqgrAipaVlVsYV5eMmb5X3dnYW+QQvcHEgc3faM3VBVSzeARw1UePhkT9HKiS44skeNxKK6iG/SyXqvFEfRonKKCmS5BhKNOiQ6q4LjeNLZMdJf6Sr7UMA/aYe+LqXRbpb0aUiJ+fv+QWuW3Y6RXmd4K+WVhe16gfF6rYZx3E82+w6+Qn5+10LzaiomGBAECsS54BuZEhgVV6cmGDkUzrwLw6JjcjJkDCw8IsIJdr0jkzTlZu2ys79roXuclnbpgUrmqng3sY4tLycovjPSx4h/QYNYfOujMHLDjO1PqChN1NT60eOaOxcI3nzZsnRUVF0rt37xr5njAXjDCsMu80OEYjjcZB2leJtX4gX331lVx55ZXyzjvvqP91hlOBP7ICDgD+I6vv7PtPW4GTGQATzzLguSmVPZiYRCEFPfXZyXKwtOKSDeuTJbCt5706s/IaYvwDc3nTR24jpjf+r61sKth/bMzw8G5ec4aHvD7T4lrq7SbCnOmR75dbmANv2yE1NbGPmH91TA2Ud5fYGx/dfWq2kum+beg3pcf11Ul5MnGVvdHTT8O6KpbdFAH1/dAuSpKu59F6nivM7XtXtZfL3ppt+53LiA2SW/vnyJ2j7BlKMjxb14sx9hFjugVL4mL8q9s5zCiMt8nUigzp6Wt3WdgVb3MiNzYtHvA5XyKQvM2PczhOtCYJOcc7f0Oh0bUccE9vvMn860/7wPyTnRhM4IAmSbJoc5GFcQWswLh6ssG9s+OVPHeNFvkFkATUsK3eQwqoZmFE7yENDazI1SW7WjeIgmGkR11nSzk22Gd6b3UQWJ0hFawobQu6BFnl56bHKLnyAY3SzIwNlOjwUFmw2e1MDWAkymjeul0WAywANYtBHLMO9mCDWRjQ98eiQeeMOJm5zuryDFhE7u0thsjTeIrtmqdFKhdrvZ7UiOej3ovMMTeKLpOtBwJld4kbsANQAdbUUwe5SNmJoVq13c1gA3KRb8Pu6uCenmjk7J7xS8xBT7R+DzAH/drIxU3jh1s6yva1S5W7M322NTmQRG/atEn9QSoNC5yWlib16tXz6jZd3b7ff/99GTp0qIwaNUrOO++8mjxEZy6nAkddAQcAH3XJnA84FfCtAvxonKzjw5kblBsvgxcmYozenbBUvlha8UOMfAymdeTYVfLNgorMU9g5eoZv/HB+pYszeY+jbuhkZYazE+TZIS3l1GenKhDBOO8IM6z3DOMmfUaLVDlbyxl+8IwcyUqMkKvedUthkdvC5JmGr1FEQf4ihzyyYiODRIrNuxCinEzSZY4TRgWpnWkg9SPX0jR8jUHynIcXLP1lkH/3xkZ6q523nF0MYuyAuGv/nkZS3s4PVYEpJ5jP0fdsihJiu78PbKwyoE3jnSvbqYUHE/vK/f9/78wxXh8cpq//YL4s3mz/Ejvnvj4y4rOFlU7spuN0/r32VgCgBYDTo3AAdoAmz4gjsnInrbYCV1hDZMU6cAWU0au7YGORYkFdIzG0XBqlRMu0dXssBYENBlTrbClMZ/v6MVXiiegNPlxaLou3uOeoLoOXZxdA0FOC3CrRXzbuKZVdB9zy6MQIQGeUuqd16W+rulFy6HC5xXALpQpmYHM3FFqYccBiSlSwzFznzhjmRJEaE0Hk2dfbqg6S5wLL4hQOzSEB/pbzc8mVV23fV4XJzUoIVfsrVx3TFaM6kEu7AkZjOmPOAhkMtmdfL/cFUm/dtIsebFz8AeB6zBVzsEig92ub7vh2yf4yJNtfzujbzbTpMf078mjYYFjhPXsq7pX4+HgFhBMSEoyy61deeUXuvvtuGTNmjAwYMOCYjsH5kFOBmqqAA4BrqpLOPE4FPCpwMgPgQ6VlMvjF6ZVgrlejBBnWPlKu+iJP9h6ueCm4qH1dualXpuoZdoEF4nN6N06U8zVmmCgijD50ZvjN/2urchhNPcO4SXvLGb7ji0Xy2xEGFdAJoDbFHZGlSV+lqS+1b1qZir6Yn++Bgj2u710DsmXk2NW29z3MApJc0z4B8bf3b2h0/0X2iLTYJO9Fptw0NUpem5xne3yXdKwnew8clm8XVixiVDc41wkrdxgZ2hcubiX/HbvauAjw5Y2d5Jr35hkXLib+racMeHaK0ekZOXun/0wwMrI/Xt1IznpnpRwqd7/YejvnhQ/0le7/nWRUEEy+s6f6npgWYIiBuu79ecbM6LtPbaTaDTwXJZyH68lbAYAWbsxLtlj7b2GDMbUa5yFjxiCKnHMdJNF20rZ+1VzdFimhUli8Xzbsdd/PLFb1bBivQOdel2RHROhZjQgJVHm7rgGoplcXNlnvWQW8ZSZ4z+ClhUMH1ZhJAarZn264VS+iXMX15Ba5+V0XG7xw8x6LyzsGWMi6PSXPSJuRGev7g30GMCI1LtFaBFRfb1BAFfMqZTyVv8+6aBARLNnJXuTKqZHqu+fJ5AK2uX46yAWc1osLrcLkYvy158BhyzED7llkYI5irV2FHmwWjj2jk5iDZwrGXa7BgkTLuuSuF9s+R7Jj/OSrW3sKv+HVxSX93m8TCjf6g+kTzs+vcDoPDw9XQDg1NVUCAwO97mLkyJHK/RkzrK5du/7ew3A+71Tgd1XAAcC/q3zOh50KVF8BTLD4oThZxy/LtsvQT9zmRI+fmiazV26UUXkVsT282H13SxfFvr0+uaKPkpcvslz/8/Mq+e4IqPLGDGMKQ4yRsWdYuUl75Az3zJDBrVLlrJemV8rQHjw9R7KTI4wmScM7RcvmXXvli9VHtNzVXBx6ax/+bmkVB1TPzRf9o59y67VjC3m5+/bmLkZXX5jMG3pmyOkvTLO9Ze4f1FhJd/Vr4+0DMJnIb01xRzCZz41bJaMXWyNbPOeceW9vuemj+TJXe4H2tt/59/eVwS9NVwscdmPGPb0VuNX7IL1tj6rgzJemGxnZd69qp0B1qa5N9DLhBZml8kWuffQUH0OV8OW8Lcavr6+sv+dEfAdWbHNLRY07cjY46SpAnA4ROb96ZPMiYz50uMwC1pD50n8LG6yDJNhgVBk6m4hyA+Z49roCKdjvfpZhEAUo83RSBhCv27XPYhAFqIaJZSFRZ2dhqvcfLLOwsxwbhlTIh3VQDegkDkkH1UDxLhnRKmpt5373ImJMcLlkxATJwvzDFskzwLD4QFXJMxnDGGDBmLoGkmcWCz1ZUQDqul1V+3qRmxNZp58f9SwrL7cYfFFPb0xuYniAZCZFVgG5repESZEHyAWgtqkfLYs27bHUCGl5YmRIFRkztccFGxbbNagz4JcFCb2fmd+QuLAgC4PNZ7wpiXLi/OXSbg3l1cnr5f0r2yiAfTxHSUmJYoRxkD58+LAEBASoHmHAcFhYmGXXDz/8sDz11FOyaNEiadGixfE8LGdupwLGCjgA2FgiZwOnAsdWgZMdAAPeMSaas77CTTQ7IURuzt4rz6yIkA27K2S5fRonCv22pzw7RbmGMi7uUFcBuYHPT6sELSP6ZUmvRmZmuLqe4bHLtssLEypyhllNBxThRPzZnE3q7+jvGjuiu9z15WIZ7xET4nn1etbxl1nby6XksP3ixM09G8hrk9dJqYEtxNTLBDKJ8TmzZZq8NdXecIncYl7GTIwsPdjTc3cZGVnYZzJwYZTsxt2nZMlz49dIieYm6217DMtemZRrycH1th29v1/NN4PHNvVijNFOzO+rfN3zWHzt8e2RnVCZT11dnbiGpzdPkXenb7CtZfsGsUqWjRGb3SDq5squ6ca+7GN7+tTMp3Ak/+Dq9ioP+tMj37WamfmvMQvAzLP/FjYYl3rdaRj2E8b1t9UVcXOuARsMsOOPayA/BjxNWGkFrrClSGh152baFJAVw87qgArDLZ6jOvPoiieav6nIws5WZ0iFmRTyY52lROkDgCPWSVcxpEeJWpjaqDHVSH85NsCsvghGLWj98OyRpecYd20dMMI+kzHsmbVLXy/eA3qmMewzIHeFh/EU8uoGXnpy0yPLpdQ/SDYWufOIAbkw8bhH6wsBMOb4X3j26mIGtqP4gMUVPCI4QJqlRSqgrDPY1DkqJNDSi8w151rTBqPfL1xXWkQWb95jYd2TQkWiQvxlbWHFwgP332uXtlS1ON6jtLRUZQkDhvfureiFxjUa9+jY2Fglj77rrrvk1VdfldzcXMnIyDjeh+TM71TAtgIOAHZuEKcCx6kCJzsApiwLNhbKEC1S5vLsUmmSnSUP/OQGcjBvq7YVy6M/VvRXIvuFGf5y3mZ544jDrq/MsLeeYXJRkdbSH+yS6QGw7jglW057dqrsO1TBEJzXJELaxh2Sh6YdkLIjvVvZ0eWyusj848+LEZI602jXIMbIgDIH5wEDYhoAd90gxbS93b976931tr2vjCVOp7AnpgFo/2GxfaYu159r9uHMjbbT0avXv0lSpQt5dRvTCwl4furXNbbz/V/n+qov2+Qcfkf/huql+56vltrOh4s3oHDEZ/ZO1E9f2EK98N1m2A43bYDB/d/Yg2XTNThe/07/cnxEsFKyzF63Wy5/296p+3gdx59hXsAhzr/jVuysYmq1/2CpBfgAknBHnrh6pwW40ocKcNUZUHKte2bFycItVkdhXPTpI4W11QegGqd+PaoJYyaYUW/xRJ6GVBwb5lwz8gosx6byc4P8LdFCgE6e3/TI7tRcnuOCy6VeTLAsyrcaK8A+79p7SPI0wI/kmRg8ALHeUw37TC30rF1USTzLV3v09SbjrpxYIXnWlz0Bz3sPHrbIzZmzZWq4Ylv1BUFYWFhzT5ALg52/xwpyAagsMgCU9WOmn5lnIfFQ+iCqaVNhiSUfmAgnzpE59MUEWP6gQH+LTJu5OI612wql6JD79w4FAiwwz8ATNXhWFBQUKHk0kUyMX375RZlmkVP80UcfqZgleoad4VTgj6yAA4D/yOo7+/5TVwC3REwjTvZB7IwL4MQGl8unVzST+8ZsrgSCmJx8cl1HGfzitEqmAofoJ89tLgOem1ojzDA5w1sLD1SyavzEP9Y7Sqbm7ZHRR7B4oF+5/LNzgIzfFixjcytkZTAEPw3rJl2fnGgEXm9c3lZ6PzXZdrvz2qTJwBYpcsMH7gxkbx+gl7Ng38FKaXh1k754SSt5aUKu6g2zG5/f0FEufM0+25Zz5TqYYocAmURKDXh2qu0+cZVlkQH5sd0AZA5snmJkMqkJL6E3ay7h3uZ96oIWKvP0XgMYReK9YuseefznVbbH9+l1HVX/8ssTKxQE1Q36dL9ZsEU+nV2hKqhusBjDdmOX2UvG7zm1kfy0dJsyLbIbLAz8sjzf2G98op8jZGU/O6SVZbe83N7B82DJ9hN9OCf1/ry5MQMO+Y4BqPT+W0ASjCIsqj4UcN2xz8KAJoQHSFrIIVlS4G8BdrClxOvoTsoAKlhiz15dQCAEoe4qjale96x4mbexUAr3uxlQQDUMtCc7izya+K8tmmEf2wGKp+UWWB2Tk8OkcN8B2VTs/m3ExRpQPWdDkUXyzP5iQoOqgE6Yzdyd+yyAEddsXKVxkrfEEKVGKiWS7q4M+4wMHQZVd80G5AKWPSXWCuQWH7TUHpDLb9+8DYUWFhaAGhYUYGGfuY6A+40FJZZeZJ7ZDROrglyk3iwk69eP3zwWAnC31qOTWETlnkFVoJ83NXrszBy1sPdHjX379sm6detk8ODBqlc4KipKQkJCZNasWQ4D/EddFGe/lRVwALBzMzgVOE4V+LMA4A279smgF6ZVGgxd1zFJBrTOkIvecAOykec3V6vxwz91M2PvX91elm3ZU+m8e7TM8E0fzlcsA6NBTKD8o1OQPDh5n2zZX7HC3TimXP7WMULunVwiBUeiKs5ulSr3nNZYxTi5clWv7Z4uxOwgybYbnTLi5LJO9YzsHk7UhfsPybPj1trO9/VNnRXoMuXHTr+nl1z8xmyjcRTbdXnCHsjXjwsTFgtM50pmLQZYupu2t5O5qWeG1IsLkwe+tWcoyW3etqfEyNw+cV5zmbJ6p1Hi/eR5zeWLuZuMrPwDgxrL+zM2WCSi3s7jmm7p8vGsDRbGytt2GAK5zNXsLi59ddv3mN25PefwVfJ9nB5JPk97fts68vDgJqKyiA8elN27dytWhz+7dxfK8t0iLy8z91H7vMM/+YYAGk9TK0DVhFVWNtibjBkGtEtmnOoN1iWzANeDB0tk5U43iwqw65WdoOKCdFkxIAugpPcR8xQlnmj5tmILkMTcid5STwBOpA8xbzo7C6jmPAC5eiQYbDIiHJ3phKlunRIqawpLLaA6IaRcYoNF1uyxKnWoBfnb5Bq7BowmzCoA3DPKCDjtaV4F4750S7GlFhhPwYx7RichVyaVQHeVDqcnt260korrTK4CudUwuXxeX9DgmKknC2F6LzJ/xxnrwBwGm+MA3OuGW7h314+tALk6gw1DjHu3fk1YWLm1T4Zc3aW+AtG1YezatUtwgH7zzTcVEMYk68ILL5QRI0ZI586da8MhOsfwF6yAA4D/ghfdOeUTU4E/CwCmWrgO00vK4KXg19t7qJzdn44wQfRa/jisqwLCrn2pAAAgAElEQVRUrIgzWtSJlo+v7SBnvDitMssW6eoTHswwQOz6Huky8LlpivljDGkaJtnhB+Tfc9wsweWN/aROfIQ8Od0tH3vt8jayveiABaDhMEzGrqsvFzYDFvjtqevkA4ME19eeUV/lwZzvOENPMufrK/DC/dRV3+ruYkxiyP40xTE1SY1U10U3mfE2Jz2trj5wu29O8zpRsmSzPZPN53n51PNHff02+toH7KtMHeYa8Gw3uHeQPZuk0RzbR9d0UKZudgP5NCZxpoUMX2tyPLa7u3+GnJYVWgl6Xf187IsXV/r54uLi1P/e+8M6mejRt3o8junPNCfgMDwkwGIcRf8t2bxEAOnsHsCZxRa9jxhIAxtMr6/+PQLYAao8DbBgAtlO7yNGjk1vKdvqQBJzJ4Ce3kdckcEbq0Cn3vcKqI4MCbSws+At+nqJL9NBIH22Mf4lsrLQ33Ipkf7u3HtA1he4QW5YgEiT5FBZsv2AhVkF7OFqbAXVIh3SYxXw1evG/li408252DHnh7vyes1dme8ufcsAVH2BISm0XOIiw2TlDrdJFXN4Y3JZXKD2mA7qIJdjxgdTB7kAVJhc/k5n15FX14kNsUjI2R+KnZJDpZZea55LLICszt9rYbBZTLirR4Kc0aV2GkwRfbRs2TLp2LGj/Prrr+peAAC/+OKL0r59+z/T19w5l5OgAg4APgkuknOIJ2cFcETEGOLPMDC4OuWZyZU/toCHK7rUV47FrpX/Owdkq5cR2EzXwCCLH2u9ZxJmePnWPfLYkZ5hXpoe6xEuv67dK79sqlixDvEvl//0DJOv8/zkt3UVBjBI6saM6C63fLxApq2tMIvh5eDLGzvL+a/OqMyMBZy+emkbFc/kytAd3DJF7h+Uo1yHXQ6rZ7dOVcyAyTRrQEawjM1z525Wdz2v6dZA3ppasUhQ3eBcr+zSQN4+sphQ3XbI685slSYfz7LvmUX61iQ1ysgy0xe372CZMYu2Z/1gWbSzvFK2Xt3xYYZlkhQjq3zs7Gby96/t+2rpG3zl0jZGNhqTGe4dk0s2Nfn0+o5GkAmThGS89aPjba8ZCznvXdVO2v17gu12yC/fu6q9dBtpz9Ije0SWzXkYDKtP+KMjJEDkyU6a6U9oqAK7rj+RkZGWrM+ysnKZsGqHUdZ+wk+klu6QbF4WnXQAhuS2WVqU6vfV7wcYV/phdfAEm8giGDJmnXFtkRYhpWVW0yeAK2B0et5uyyIXsmRAn26A5erVXbLVGk+EFBtg7S2DF5d3vY8YlhJwP93DdRmgtu/gIVm70xrpgwQZqbG+AFc3OkiC5ZDkal0D/CLw/CI3XQfVAMbMxDCZrfJ63YOsXYC6Hp1ELVrVxbyqyKICwXgKibWef8xMzVNClYt94UFrPy0xdL8H5PIblhZTFeRyTaiDzj7D5iOxZjFCrxELiCxgkBusj0FNE6RP5DbJaZguDRs2rHXfANonevToofKD165dq/qBn3vuOdUTvHDhQsnKyqp1x+wc0J+7Ag4A/nNfX+fs/sAK/JkAMGV8adxKefa3CoAHY/H9rV3lw5kb5L0jrrguduuh75ZXAjJ6qn68tatc8c6cyheuhrGBckcbkYemH5IdJRUvGC3jRYZ1ipY7xxdL0YEK1hc36Rt7WnOGh/XNkv45SXLuqzMqnYhh6FJjQlXOqmu8elkb1YOr95HSRzt9bYH875eK7F6AOcf25JhVMsbQz0m0D3FHdhE7AK8vb+os7Q1ACYfg63qkq/xYu3HfwMaCOc3tny+23Q7nbBYE3jxiOFbdxj/c2lXJ0SevrjAmqW4QT3TuKzOU/NBuEAHV8l/jbLeBiZ54Rw9pZQCZvFjiNmzq1YY5GXleCzn1Ofv+ZVhgeo71xRhvBwqYYCHHVGNMzQY2S5bnxtvL3nnBbV0vRvX0mgZMvSk/2DRHTf/7A51DpH1GQiXD6xljUt3+AMKXvjXbqE6o6eM9meZjUYvnh6cbM88hjI5cA+CDNBnGVZcxwyYiOdalu/CpTePKZOvBEBWp4xoAV569OnPMv9Gru27nPgtwBUjmpFTt1UXazP4Bnq7BObStF6Mk1rokGADHb4IOyvj/3vJzOS4YWk8JMszqlsIDlj7iiMByqRNeLmv2+FsWB8g0hrnWe2SpG99nz6xd9pcQHmSJnOJ8OD+YcZ1FZ3GKcyHqTWdyYbtZ0NP3Vx2TWx3IpQ8cYK6DXNqGMDZDhq7fF8jQeT7oLtYcM4t2u/YetDhCY0r2wKBs6Z0ernprMzMz1Z/aNgDAbdq0kYiICAV4MQlkFBcXCwtrtWHs379fHn/8cfnkk09k/fr1Eh8fLwMHDlTZxXXr1q0Nh+gcQw1WwAHANVhMZyqnAnoF/mwAuKCoWLFWuw5U/HDRR/rImU2UmRLxGwzAxOWdKphhl7Tu4iYhUie4RJ5a6F5Nv75FoMRERsh/p1fIpRmezLCrZ/ir+ZstOcPk1v537GqVP8zghYNYpOGfLlTMCANARQ/ukNdnVkrmMFkBLGIS5QJ3g5qnyEODc+TUZ6ca82jpc75r1BLbmxyTp//rVF/++cMK2+1g0GE+XfnJ1W38xLnNlITa1EcMeHzsxxVV3EU95/3kug5y6ycLZUexPaP95v+1lZs/XmDM3qWn954v7WsC+3J9jwwjeMSshV7HbxZsta0d0kZeDhdvtjeXYj5eFnWmzNvEvPTqUkR1T0UFq35HfXA/ei6AAMhNJlewOI2SIyvv19r4lEyMCJJ3rmgrjVKjj/nwqA33KaZ5zjBXgGzeNTv2WnpcAT4Nk7zLmLcUlliYY0yf0qP8ZP5Wt+s9e0VWvMcjVxfgSk/ttFwrcPXWqwsg75IRJ8QhuZ7rzEvfKwtaOnPME71zZqyszd9nMXdi4Y5YJ08A3iQpRPYd9rOcB8fWok6UAp0HNdSpQGd5mazWmGNAZ8vUMMktOCSFR35zODZYUf7ox8bfI/PmWaf3EdNTTfvHvA1FFvk3Ema+43ofMYod5a68w9qTW51c2RvIJTqJ/ZH5rYNcmHUWNJZvq4gMcg0AMce8XXtGUyOOj35mXbKOdPuJc5oI3g/06c+dO1eys7OlQYMG5hvwBG8BAG7UqJFieqdNs/fjOMGHpnZHnnHfvn1l+vTpyrG6Z8+ekpeXJzNnzpSkpCT19w5L/UdcmeO3TwcAH7/aOjP/xSvwZwPA/ED89/Pf5P3VbvMbenznrt8tI8dWsKqBfiKPdAmSMbkH5LetFf1eYQHl8r9+UfLB8lKZuqFCzuxihq/00jPs6SYN46fnDF/Uvq7c3DtTxSK5WIhb+2TKgKbJqgeTnivGI4ObSHpCuEVai+sycjIdyAIK560vlCfGuN2Efe0FRvaHTFEfANuSQ1b3b14qPYEYkl5MV0zD2z68fQagqb9gmeZ1/bs3YOfts4mRwUbgzOd4UdNZo+qOA2mxCcSyuME1JILHbnTNihdeVqccWQCpbttzW8TL6k07ZFGBtRfRc3vY96Vbioxg/JkhLdX971JBVLdfosLmrNttXATw9ZrV9Haz7u0t0WFBNTLtodIyOe/VmT7FgNXIDk+ySQBgLMZhMqWzqIAZwI3e48p3mkUhgKQugwVowR4u1HruYVyRWCMr9nRuRjKrM64A165ZcbJ6+14L0AJEomTxBK7IlWkn0dlL5NhIt4kW0kEZLCX3gM6WhgT6SWZEqazbGyD7tfx1QDXxbXqUEceGeRXPEJ3Vjgv1l/jgUlnjEWuH5Jnz1Y8NVpS/X+ARQ8T+qJve48z+UIxgPKU/y6OCyiU9IVIWb7UC1OpALtm+XDtfQS5ybl3SzX3BAqonyCUXOTDA3/JM5Ziv7VZfbumVrvqiGRhNzZ8/X3JycmolWwkArlOnjnTt2lXGjh1b6761DzzwgDz22GPq+MaMGVPJSj/11FPyt7/9TXr37i0TJti3wdS6k3IOyLYCDgB2bhCnAsepAvT/AoL/LANTr7G//CrPLw+VtbsrzqtRXIAMbVYq/5xdXskMt0/2k6GdEmTYmF2y92AFELyyS325tFN9OUNjhpGo8uKhy1T/d0FFz7DuJk3/JZm6rpxhgM63t3SR0Qu3yiuT8tT8vCjSH/z0r6vly3kVzDAAc8yIboqRwhSLQR4iGcUXvzGrMnoI2dy7V7ZTTtebdlfIfgc0TZIzW6VajsPbdbyhR4ZiW0y9ujhHI1F2zV/dPfH0hS2NDBovjPRWm+KEGsSHCUDOtB0900Pa15W/fWEvtcYZGDbTxG4P71vRy2WSC5OBi0v4u0ck9NXVhLij0Yu2yhdzN9t+lUYP7SKvTcozOkw/0u6wjN8dJxPW2ht2kYGL+/WvBjnzxL/1kLu/XKJ6H+3G59d3lIdHLzdGXp3o58W/zmwqQzrUrLwPAPT94m1GdcCJPtfasD/kuzrrB5gh8xeGUGf97GTMGNzprCaSYnrQp64tsPTDwvriVq73HANc+R4DcnXgSq9uyeFSC3Dludqufowy59KBHXLs4AB/i+QZdrZjRqws31pscTCuGxMicWEBsnirW0rNdUDyzDnoEmTMpJgb8yq9H5qaYVCl9/UG+ZdLZpTI+r3+UqKBagAj5lyePbLsb/2uEtmhLTqyuAgohg3W+4jTYwJl7wF3iw7HW11PLkwufcSecmUAOCoS/ZragVwWInWncH7nuE7r6UXWoqjoGf/32TnSOSPOcjvjrrxo0SJp1qyZpKam1oZb3XIMvAshKT777LPl66+/rlXHh9N9cnKyFBYWKha9bdu2luNr3bq1km3Pnj3bMeuqVVfu9x2MA4B/X/2cTzsVqLYCfwYAzKotWX6uGJSNGzfKqkI/eWGpmwUe1jZUgkLD5alpFfJjBqwqrB1SZQaglh5UmDKX865dz7DODOMu/Mm1HVUercvZuE/jRPnf+S1U3JFr1Z6oI3qE6Q91MbC39M4UZM5nvzy98oXqwdNzpGFyhFz5ztzK433uopZK3qr3gn54TXsZPXWhfLzcyvB6XnDOC0Oo7xbaS3fpI8YR2w4E8xI0574+0uYxe2MmTGGePK+F9DHkFl/dtYGc1jzZ2Av72NlNZfWK5fL2cv01sOqt7SuTCRjFNdwEWn+5rbsChaa+ZGTvwz9bqF6ubUHmDR2VFJ5eQrvxYP+68syUbUbZ+9DemWqRxa73m/1wP5I1bBq1re8XKT6LJMcrLuXAoVI5/cXpylDIGVUrAOBr7cWNGdltsYeMGfAEEwvI1aXC9SPKJSKSPlI3U4nslmcEsUc6cwy4JKNWz/ytrlcXAI4CwzMTl4xhYne2ay0CbEdmr2c+sDfXZeS8yHyZV1fFcGwMnTnm2NrWj1bnpsuxkYpHB4us2GH9nrdIDZftew9bjq26GCIVIVRWbgXVAX7KEZqFOZ2pVj254UFVWkwUyEWurNWiOpALs07bqw7iXSAXh2693xtgzj51Zpza9G2cIP88o7E6Fs+xdetWWbp0qbRs2VJJdmvbKCoqknr16snll18u77//fq06vPHjx0u/fv2Uedjq1RXvLPqgB/jBBx+Uhx56SB5++OFadezOwRx7BRwAfOy1cz7pVMC2AicjAGaVlh+qirzP3eoPzK8+CLJ/Z02ITN9QsaLPD/vooV2rsKowd579tjChuhMzzPBlMMMvut2kvTHD9N/y4kb/qmsw/9ode+Wf31f02/Iy8c3NXeSHxdsqHYqRIwOeXpiQK5/N2aS246Vz7IjucteXiysdoGFLvx/aVS5/e3ZlTyf5jyOal8rfJ+2V7Yb3dxygYTJNQAnG+LXJFay13fAloofjU7VftM12Lky3thSVyAwDQzmgvp8s3CmybZ89CCZX+dPZGyvdtKvb+UUd6sqnsytqbjf6Nk6U8T6AR1+l1Z778tbj6+14yIGeeSR32u54WVQwuXjzgvrAoBy5c5Q9q26qzfH893+f00xg9Y/3OHi4TL5ZsMWYJX28j6O2zQ8Aiwi2xggB+LpnxaloIT0HFnDpKWPmedciMVDydh+SokNufwUY1zqxoVXAKIZUAC2dcQW48r1Cxqx/6wHg9M/rzDH9qgA+bxm8peVWQypkxswB0PZ0eY4OD7EAyUoJ8o59ligjmE7Ow7OvF6Z61z5rX294oEhaWLnkFYuUlrtr4S1rlxrTG7wqf58FVNO3TG+vJ3MMWKdVZZsGcgHxDRMjlJpDZ9Fhn/39/XwGualRIVX2x31BzXSGn3redUqWDGmXZnFh1+/pTZs2yYoVKwS2MiEhobbd7rJ582Zp0qSJ3HTTTfLyyy/XquN75pln5Pbbb1fZxJ999lmVY/v+++9l8ODBcu6558qXX35Zq47dOZhjr4ADgI+9ds4nnQrYVqCsrKwKeKxNJYPdxfXQBXT5XyIK+HsGLo3R0dEq79P1Z/Lkyeq/4zOaKUbWBfgeGNRYGqVEWljV5y9qpSR1er8t8S+ADN2JGQYVVtjTTRpm0DNn+Or35iqzFAb9Z8ynM8O9GiUIMmJMrVz9tee1TZPb+2ernmHXy9iNPTPk7NZplnP4+8DG0rxOtFz2ljvG6Za2YXKoZL+8vsx95XwFbL6ygr5mCuNOSr6m3QgO9FdSPVfUU3XbEsVhYkn5rC+5w2x3eosUtfBgGoBnk1s1yoBhfbKUY7XdwAzrrgHZlogtb9sTf3LvwMZy6Zvu6+ptO67rXac2MsYssaAwvF+W9Ht6iu3x0at+Y68M43ammh2PfyfG6rb+JzYqBUZT/14ej/M6meaEYdX7VgGjfMc9Zcywvpgieeb40ms7LbfAIhWGcS0+WFrFubl13WiZtW63hTlGVozMWH+mALSQTXvGE5FHzAKkDg6RPBN7x+cL9rkXSZEEk13sCVwzo8qluCxI8ve624IA9fS98kzXATjHxrNaB+DIsXnmL968x9I7zSIgzz3dvMpPyqVhjL9sL/GrTBXg3lAOzdEhVRyhqSVRf1uK3IxySEC55KREK2mzzlR768mtTq4Mk5sSZQX8HAcGX5yfvj9Ye2L9OA89jxhA/OQ5TdW/2Y0NGzbIqlWrpF27duo3uraNlStXSocOHeTOO++UkSNH1qrDu+OOO+Tpp59WIJieX8+xYMEC5WBNbefMmVOrjt05mGOvgAOAj712ziedCthWoLYBYI6HHhcd8B444P7BDw4OtoDdmJgYCQhwS5052XHjxqkYA8LrH/xuWSXDB+M1dng31QvpYvO89dvS8/v2FVZmeGDzZHl4sNVNGmb48s5Vc4Zh6Ya8Pquy7rgQsxo/9GM3M/zWFW1lw6798tDo5Wo7ZGc4QhNN8/yRGBte9H4a1k2xsa7+XeSp9Aw/8M3SylikxDA/+XubUvlwU7zMWV9hxMTL0ttXtjPmzJI9TObvhdrxerthbuvXUKLDAiuZ7OpuqmeHtJQxS7er3kq78cUN/8/eeUBXVaxf/EsPISEBktB7IKF3CB1EQBRRQFABC4gCAmL5Pwuo7z0btqeCIKIIVhBRURQQEKT33nvvvYeW5L9+c3PunXNzSwJphDNrZSnJ3FPmlDt79v72rifPTlzvUXbKmPw9sJG0/MQziMP4Cjlz/Hues20Zk28ery313p3r8djuiI2UN+6tKI0/nO8ZPNYpJk80LOU17qhPk9LSqlK0dBq1zOP2nm9ZTioVzWeKynL1gRfujFHRUy9N8pxdzAJKeJ4AFaHlqcGwkrlqyP5zyitzyUtNJX9IYJYfzuVrifLL6kNe7/UsP7Bs3iGAjwVH3QCLdxSsLfWwxOcYDUAU7O9nyq41ZMwwrrqUFnCIAkKPWQKsIY8GuOqmTwBDTLCcJc/UzlK2oTOgOFDDrjpn8MLOnr18TfafdkSoKUlw/kDZePSSiZ0FBAJ6dcM8SmUA64yDfs6w2pi06ePDeND3wJkEk1lWgRB/icrjI1tPmpVLFaJC5OK1JFMJCqA6tpDNvEo3JIsO8RXf5EQ5kuBgk/k/3Kr3n04wsfOAeMbNmTl2BXK5puWj8sqO42aQy+f5HtPl35zfQ7WLygsty0hwgPl72NXtimMx+bp169aVsLCwbL6jU+9+9erVykgKCTFS4pzUnnrqKfnyyy9l8ODB8tZbb6U6NGTROFjzA5C3Wu4YAQsA547raJ1FDhyB7AbAuDbrYBfwa7C7DBdfkgazmz9/fiHz08jmczecc+fOlYCAAGnYsKEcP39FARSDVX2ycSmBHYORNQxMXrs7VmKc6m2HP2RzYgYsGw0md8Xe03Y3aaNm+Pul++0mSTCDyJmRPE/baAOBMJkAWTKAYThoRE5MfLKecoTeedzGmGIy8+lD1aX1sIX2eJv7qheWl1pXUHXEF6/YJpg9G5YSpLu6Wdd9pRKlW+t4M/DuUEkiQgKl9w9rPN55gFt/Px97LbS7ztTW/r7msPy6xmbg5a7Neb6xPPvTellzwBEf5aovBk7kDHtzmZ71rHcQjDwcc7LOXzgWHlzts2HZAvJw3eIyYIJjMcJVvw41ikhc4TAZ4oXh7VavuMoW9WaS1b1ecSXr9Ja9ixJg7b7TslOLVXF1fM3KF1RxWt7k7K4k2a7cvjELuppodgXPrtcVbNvo7jUF9jw7G/JanN2N5y47jyW7992gTITsPHHJVEcKGC2RP1iW7TU/59TfwoqasmsDReKKRqRybga4Alp1zwHAGkwi70rdZArgipmfzjIDyDBhwgBLZ0D5PN8jrjJ4nSXPsKUsAOn1ye6ihVh4QhKsO1tzbajJxchLB+CAemKW1h08ZzoPFgc4Vv08AnxFqJM+cFHkapJZKp43yD+Vqob97T1xQc5ddXDSlM0UCw82LTpwbLwDqHM/qHkOGCCXiCvdOMwdyCWK6uiFK6bFCOqW32gXq2p+09p27twpe/fulfj4eAkJsdVT56Q2b948JSP+8MMPlatyTmoWAM5JVyPrjsUCwFk31taebrMRYJKAu2BWNMA28mUD8FLDCwA2mr+/vwK7AF3+C7vL79LbkEBzXmTk0YbP2WVnVZGhTR/QUD6ft1smpNTbwgzDNFILaZgEuWOGv4YZ1pyYXTHD1MbCDtPPmJTB2sWXzW8CaDgMw+j2GbfWfopkAB85e9lUi/hr73oyf8dJ+XjWTtUPAAOgxsDJYO2IcZr1fFN5e9o2O/vKZIZ+fcat8er+W6N4uFfAyr4B6UaOsafrQuTP4l0OwzF3fTEP26jFpLjrRySVN3dqJsMwJN4ydV1Jq12BQlf9ALt6PR3Hi+P1jYAkMoCJbfHWkD3P23HSK9jFDOvbpftNNYOuto38/uO/dyjn1pzW7oyLkg86VVGAJCe0i1euy8SVB2XIdM8sek441sw8Buf73pUbM8+fKxlzqXy+cj0xSQ5qlRGwmkbpgrNzM/vSwSjPJhJrZMV62QTMMfvUTZgArvQF+OqSZ96FgFedZWa8OF6yi3UX5PwA18iQVK7LgMBzV66b3kNEGcUWyqvqiPX3DvXQvj4+JuaY8wK4wqyeT1nM5Bg4tvwh/rLZKcqoTLifnL3mI6cuOeTYgOqS+fOoul59cQCQSx27LlenzATmmP3pY4wbNwu1zkyuK5BLP2TwuH/r+4P1f/veWOEdlp4GM4lJZaNGjQSfjpzWpk2bJg8++KCMGjVKAJw5qVkS6Jx0NbLuWCwAnHVjbe3pNhuBzATAAGsd7GJchemW0ZApG2AXwMu/vbG7abk8ixYtUqC+efPmqjtMrjOr+q9W5U3MMMZPsK06M4wTc9movKaMXlc1w7hJUx9mSE2Z6Ezp30DJlgGpBkgCZL89bavdEIrJA2C897g1dvMn6ut+6V1fOo1aal/1p/52VNcacteni+ysCtLlwW1j1TkYzqPd6xWTxxuWlrafLrJPxp5rWU6alY+UDqMc2cMYJP28+pBXoIQ79Wdzd3sccianfZqUkU/n7PLYj4lb93olZISX7bHwAODzZuBE7ig1fJO9uFrDqB47d8UraMeZe+bmY14dnJGzAx51dsvViePOTbSTLvV01W/mwIbS4fOlXuuhl77UTN3DetSIq+2tfbWFtBq6SLFRntrQhsny5kqRE1ccbFNanq3M7oMqoEDerJc9ezuvo+cuKym+t8UVb9u51f9OTS3PHgBMN8CCRUWujjGW0QwZ86aDZ+SctsaKVDjKRf0tdb2wonruLKAVAKbnA7N9zKt4BvXn0F2tLqUPvCN1cAhwBhyuPXDOtKBVOE+yBAYFy74zWtmNn4+SFTvn53JceQL9nOp6RaoXz6eSAPTxoa6XOtsNh82xZhwbSgOTeVWgrxTO6yO7Tl+XJHE8nwB+vq/1mmOuBzXHSLR1OTbjRvmDXnPMuJEPTMSSnl2M/Bu1hTPI5ZomJosJ8PPd1r9ZaenRoLgC+OltmzdvlsOHD6vFaVRaOa1hLtWrVy/54YcfpGvXrjnq8CwTrBx1ObLsYCwAnGVDbe3odhuBjALAbOfChQv2KCKAL9FERqNOVzeqgt2lnjcz2tKlS+XixYsqMsBosDjkpdL43oZVnb3lhB24IQmb/kxDGTnXwQwbTswumeGvltuZS1cZvW0qRas6UtykDRCEDLZHw1IKyBoTaeTHmGJ11OpDifsplC/YVAs6qlsNOX3pqrys1X2S2YpZ1wcpMU4G8MbVeMyivepcYdIAWUQ9TUqRLjMZ41yZ0OssifO1IKP4n+caSbW3PMcdtYyLEmTk3uKOYCjjyxaQR8Z6NuhAysyEFYMxT43zp9bYWGRw1xdJ9ptTt3rNyiXa6dFvVnplpNe/docyKzt01qFecLVvIqWafTTfK2hd+K8mCrTqTrSutkeudOcvlpnqAF31G/FwNRnw4zoTY+OqX/dq4TJ+w1nJIcpnoQa6d9MymfFKyJBtXrh8XcYtP2A3x8uQjd5CG6GmFmnx0t2p3ZgxwNIBJmC0QqG8yrlZZw5hQM8mXEvl3AwQpI5YV1fASCZcS1RxRkbjfcY2Vu8/azLLQlaMLyIybaPBgAJGYYj1ZwvZNmZZurEWYHWYi6YAACAASURBVD0uMlD2nL4il647gB1sKe9B59pZjgGDPj2vl+8Ltr3+4HmTWRZjdgnmWJMgw4BXiKau97w5Lip/sIr7MsUQSbKUCBU5luAjCY71YwkPEgkLEDnglLoGyAXg6scG4C+RP4/KqgfUGg0Qzz91dQ3fIxzzvlMJJlDNub13X5zg7H+jbePGjXL06FG1OO3r63ujm8m0z40dO1YGDhwokydPlnvvvTfT9nMjG7ZikG5k1G79z1gA+Na/htYZ5NARuFEATOwQ9bpGFBH/TzyRfaISEmICvNTyZgS7m5ZhJAie42rVqpW9O7WS5OwaK+JIdD972FxvS23w/7WKMTHDGAm1r2ZmhgF7TBAe1TJ6YYapoXzhZ0ekzPgn6sjaA2fl3RT5JBMLzJp+WnkoFUCFPf59rS2jNyosUGY800gG/LjWzlyWi8qrTLK6fLnMbrKCu+mYR2pKy4/myfFLtpkRwPvN9hWVk+2ZBJvBCjWvGDHBFhsmKv2bl5G7KheS9lottKuxZfL3TIuydrMud+MPI12qQIhXhpf4qO3HLtjBuLvtYaZFbbVRM+2uH5LxN6ZsUZM1T41r/fKkjV4ZWRYf/v3HllQyZ+dtM37EVnlrjIu3CCi2ARsFA5Pellb5dfn8frL9tDZ7Tu+OMrn/x52ryN1VCmfyXjJm83tOXJA2ny7JmI3dQlsBtOlSWhYNkRvjpOyc4xvg66uciY3m7yNSt3SEkgrrMubSBfIoFlU3juI9SW3wZqdcXcAaShJd8uwungjgikJEzxLmWIgWArjqLDMuyGzbWR6N6ReKC90FGbaUdzFybB2sI0FG5q2zswDwioXDZNuxC6ZxgwHnnHUJMudBLfP+MwmmBTOOLTpvoGxxctYvGe6v3mUaUS3IsWGJAfb6sVE+AsDXTb9gjisUClVmWfr1YJEDIO8sj763arQMbhMj1CPfTFu3bp2cPHlSWrRocTObybTPDh8+XAYNGqSMNHPaMaJqi46OVvMuzLpwfNYb0VKML/Of2rVrZ9oYWRvO2hGwAHDWjre1t9tsBHSXZVenDkiGzdVzd2F7jcZKLoyuzvBmZ30PXw6sMrdp08YEuuduOyFPaYZQX3SvoeSxOjM8qXd9xRQakl5XzLBRM6xn9Bo5ww9/tUI2HLLJAA1m+O4RS+xux60qRsnb91VKBVCRYLf5dJGq46IhyaUeEpOslMQn+W+7OClVMMQkyR7xUDXZte+A/G+Ro9523BN1ZMPBc/aIHhiFP56Ol8nrDsvn82z5vkxmpz/TSEbM2WWvheb3TBqd5bN83tlsidowQ3pt3AfUMxug29MjlNbMW1d1uWl5NGGJvLGpbIc6v90aY+Ru27jRwmR5a20rF7Ibn7nry/hyD/yw7IDHzRHHgmHXD2tPe+zXsFiglMhzVSbs8Hx01KTXKhnhNY7J2zlmxt9Z2KlYJOc5wro7V7wMTp5PkHHLD8pn820lDrdbo26VKCFnaXLdUuGy92SCqaY2IkiU4/H2M+bs7prF88lB6m+17FoybksWSC15JjoJ0KqDUUyYAJ6r959LFU9Eja3OasKAUl4CyNXBIS7I/Fs3pOKdT64uoFyP+oEBxSxOZ5kBklWK5pNdJ1Pn9cKC67XM3CNkFCPb1iXInAcgVQf29OXceI/pMu8gfx8pEiJy4HySXNeyhAHV/n6+pvMA9MZGhyoHar3mGFDNsTmDXPbHO11fHABUv9o2RtpVKZQhtzjfzZRC4bScE9uQIUOEn2XLlimn6pzWXn31VXn77beVweeMGTNU2RiNWCRMuxjXOXPm5LTDto7nJkbAAsA3MXjWR60R8DYCrCzqzsswuc5RRDC+RgsODjaBXXJ4c5KciTw86oxat25tOi7Osce3q+3mTEa9bcdRS9PNDANY769hzuglZzi2cJhJ4guTmZScLM9NdDDD1Idi/GRkyBoA9bc1h1XkEQ0Qh5v0R7N2yK+rba7LsLFEID0/cb3M3X5S/Y6a2Y9bR8ozk/fK/os26R6GVt/1qC33jFhsZ0ZbxEbKh52qmDJOH6hVVJBg6y7ZOEzDwBjH4e7e4VyRHyNF9NQ4/4E/rffYhwnnyK7Vpee3qz32Q7rdp1qgvLnIM1OKnPK1e+K8Z+rGRqoIqMe/WeVxvzg9Ny0f6dVNGwlvyYIhygHbU8P8jCvlLcbovy0Li+SJ8Mq+D6ofLEeuBsmY1Z6vxfc9aqt731sdtrf3RUb+HRaKxZlbqQGAeUfy3x0nEqTTl7dX5ibg8BLS5JMO1QXMKIZ2RA7pABMW9fT5i3LUoUxWTCVAkCgjZ+dmWNTd2nZZqKP+FuCqRwCR+UsNqg5GWTBDmgzodJY8847RAR/AFSkvn9cX8iICkyU6gixz7YBTXJ4B1Ke0LGGAJE7YzsCVc6afDuwZH97Vmw6fN0mQYcCvJSWbwDrMMQqjnccvmQA4+woO8DWND89NsZBkOXPNRy5qiUqwuMTDOdcAM24Y9ummX4wxC7iMj37tGMv37o9T0umMarCTGF82btw4ozaZodsBYA4bNkyoVY6Li8vQbWfExhg75OOUeRUpUkTVUuOqzb+joqJkyZIlUrZs2YzYlbWNHDICFgDOIRfCOozcOQLU6+rsLk7NBiBGtgzA1d2ZAcA5uW3YsEE5TbZs2TKV0camw+dUva3Bqr7VvqJiPdPEDG9NndE7av5u+XHFQTUcRs7wS5M2yuytJ9TviOeZ0q+BdBuzQsVh0KoVyyc/9KxjAqhkz77fsYqqGTbqch+sXUz6NS+jAOrlazZmuG/TMnJPVbN0uW+9guJ/4ah8uskhT/ukS1Ule3tmggOMEWME42nU1hrZwzDew1Kyh3HJ/mtAA8UU/5Tiku3uWqua2a9XKkMcT42a2epvzfZYkwobO65nHWnwvucs3/pFA6Rl9GV5Z41nl2DGCcmlN1CN5Jl7wVABuDuPz7tWV4sW3sy+vn6slkxZf0QmrjrkcUzGPlpTvl2y355H7a5zn6r+Mm33Ndl7wbPhzCt3VZBvl+zz6pTdtW5xVXfobeEiK55v3IG/e7JRup1ks+LYPO1DB8As/GFi9P3yg/Llwv3ZfWhZsn8ArG645MqNGYCJPBowqhvBITXOF+xvqqnlPYVaBrdi3eQNhhkg5yx5xgALxlYHo5g+RYemNpkCxFGrrzOuAFfigpzl0aXD/eV0wjU5e9XxrKF0AaQ6uy7DHJMX7VzXS37ulqMXUtf1+viYaplZZIwrFCq7TzqZV4UGqrx1Z3YWUI1Rlu7ZkNdfpEAeH9l/3sysF8sXINeSfUwAPNjfV3CmBvDriw4w+Swc6PJozr5XwxLSt2kpCfDL2DpdmFWMMBs0aJAl92p6d/Lcc8/JV199peYPxYoVS+/Hs6R/QkKCYqnHjRsn+/fvlwIFCshdd90lb775phQvXjxLjsHaSdaNgAWAs26srT3dhiOAlIaXKg1jKh3sAn4xsLqVGqu3rIqyUuoKrL/464ZU9bZ9taggV8wwctQRTjXDuEZT06obGJEz3KFGUeUmbciGB91VQbEj3cY4mCJqHmEwdHYU1nb70QvyxtStariZGGJ8NHXDUbsbMwwAzPCIOQ6zrnxBvjKo2lWZeipS5u20SXVZtZ/av4ECqAbYocbsx151VS00rqE0I3sYUydD+nxvtcLCMesO024BWtPSdlm1p3ukZ8OSMmaRZ7kosUMNyhTwmjNcITxJCkdFqWggT43abepqvdXWwoSTz3tGY3dcbTet9by45C7Z7Vm6bFwjavDS22DCdZmiu8/D+v+TshCT3n1kdv/60SK9a+eTRvH1MntXGb59ZwBs7GD9wXPS9WvPmdsZfjDZvEHAKFFeujQZgAlodJZHu5IxI8UFmDnLmGGIAXuHNOMoSifKFgxRTtO6sRamTxecTKaQPMe4qNUFuOLVoAM+GFAY182Hz0vKOqMaVVyQeUfrJlwAVxjwHScumVhm2FlUOzojDZCsVAQJ8mUTsKfOFjWPbsLF/jgGFlOcHZqRR9NXP2cWHc5dvCSnNRd3soSj84gcu5SsALDRWBwAAOv1yfyN7zmum86AR4cGypD74oSyj8xoixcvVvOJevVy5nP/5JNPyoQJE5SZJ2VdVrNGILtHwALA2X0FrP3n6hHYvdtm5gPwzZMnT5aZVWXWoJI1uGvXLiUPMmpk9H0dOnM5Vb0tDKw3ZvjL7jXUZM/ZTRqQoTOoRBshISYGSY1rngDlxPzKb5sU0KIxqZnWv4E89s0qO0CllgzjLMAzMRq0ZuULykedqyrXYZxWaUT7PN/SbNZ1Z9Ek6XVnFen2/WY78H6lTXmpUSJCHhy93H7673esrBgY5+xhwO+g3zbZ+/38VD1ZuvuU3WGaP6QVUDWOKSgLvIBTtmfkgHq6D5AuwlLoNXqu+jOeTJi91f7WLhkhK/d5r+cFPHuLWOI40mKGBcOC0sCb5Jks54G1guXd5Z4jjIjP+qFHbblz6CKPjxCsOtex9js5ryZseGPeN+E5ss7O23vJHQDmczyjY5fsl2+X2lQhubmRBYsBli5NduXGDDArF+Enu88lm/pSc0ozFuP4f553JM9IhXXDLQA1pSKuJM+u4olYKHSWPLMIyb500yeAa2iwf6ooI1eGVNQnR4amruvFrfrYBXNdL2C9aHiwydyL8wOAA9b12COAM4AWubIuQXbn0MwY8z7Ux4dFMZh5Hayzv6IhyXLuuq9cuOpgiXn/A4qdWeYWFQrKG/dUUEqmzGoLFixQi9J16tTJrF3c1HaJPpoyZYqKUfT3vznDr5s6EOvD1gikjIAFgK1bwRqBTBwB6nuZ1OWWtmPHDuGnUaNGgvu0q/bhzO3y5QJHVBCs6gczUzsxPz1+baqaYT2jF7ZvZNcaCqAaDCrg6eU2FaTVsIWq3or2RKNS0rlWUWk3Yol9kvNym/JSvXi4YJxlNOp0YST6/bjO/jtktXtPXrLXgrqSLvv7JMuExyrLr5vO2Q2WmIThJo3kedrGo2p7sKx/DWioJN9LU1hKmIBf+9SXB75YZs/BhQEY3b2mtB2+2C6rxWG6X/OyyjnaU8NxmtrO5zVHbFf937m/kuw4dtHuiO1um98+XktGzttjvw7u+iHdxpnbUwYuDM78/2viVWoNQzP7uUZS3UsElOHOXfXN2R7HpGJkoPSr6iv9//EcndQkpqAMblVK7hrpuS6Z6CzusbuHL/a4X67j/7UqL12+dCyCZPdzPvyhauJzcJ1iWHKi0Yy38fEEgI3PLt1zWnr94LkW3Nt+bqW/wzfWLJFP1afqMl0AZkDSZdmnSfjpC3MMWNP74txM3apzTS3OzQdOm+tvAXz8OMcTVSkSJofOXZZTWkEsjHThsKBUfQGuRAXpaooQ/2QpExWW6hgAnTClOnAFcMJebzlijhYCzAJkdRMugD3gFwCvLxgwPpSd6At8KH94J8McOzs0k+2rLxhwj3BssMb6WFJzHJnXX/acumIyCCuWL1CuJYtJHs2x/evOstKlVpFMX/yeO3euKqmqWbNmjry927dvLytXrlQMcE7yNcmRg2UdVJaMgAWAs2SYrZ3criOQ2wAwjPbWrVslPj5esdquGpOZO4cutMteH6xTTPo0KWNihon/gfVMxQznC5KnvndIHb/oVkOOX7gig3+35QzTyBmet/2kfDJ7p/o3LCDAc+yivfJ9igMwK/EzBzaS1//YLNM3HVP9YA0Acj2/Wy0r9tqYSkydfnqynnKE3nn8ovqdIcnWgXfrChHy3/urqfMygHePBiUFEyeArFH79cKdMdI4pkCq84JFxSTMaEQHkcOpRztRu7zlyHmVq+up4bA9f/tJ+W6p57pI8ojZljfGeNG/mkrXMSvszLi7fc97obEChfrE0VXfKf3ipd1nS+y14K76UBv+YafKprgrV/0A+yxwvPTrRo9jUjafSO2ieWTiFs+y5+rFwiTo6llZdtxz/R33BZPntQdsteXuGvdUk/IFhXzo7G7UUreIjZK///47VwNgxhm1yBcL98lPq2wmdrm1sdAGuIMN1mW63J9k/qZFxkyNK7XCel/qb5E8rz9k3i5S4YtXzH2RPMMoU6ev59zyuysuanWRR8Mc64xr4by+cj0xUU5cdsiHMaQir5f6ZN0RGtdl6mN1xpW6Z+LMALN6jTSyYlhmZ+AKyD16/opJHk3NMxJpZ3YW8yrGR5dHB/klS3Refzl4PtE07rzHMRPTwbq/r0hUULKcuCJyLclxfoDn9++vqOTXWdHIsi1YsKBUq1YtK3aXrn3ge3LnnXeq+l9+LACcruGzOmfSCFgAOJMG1tqsNQKMQG4DwPv27ZNNmzYpdokvW3cN06C3p21TfzacmCetOZRuZpjJw6+960unL5bJtpTsy/pl8ssomOFPF6mJMK1d1cIyuG0FZXRlADQAKjm9ODYbAPVfrWKkXun80llj7d7rUEkiQgJNTsRIsmE7deD9S+96smjnKfnf37ZcHIA3Umtid8YuttXgkh3798BG8t707fLbWtvknOxhpNvPTlyvgDsN11IcegGe1DfSDAMvXabtbnxhKY1teXrSYD3np0EyXatkuKza59np2DhuQ0Luab9piUsCYBrRVMa2XH0u2E/kslPMbnigyFmbat3eYFt0Bog/YJTmLccYGTjSRNgmT40x53jTUoOc1W8/atJhzGm3GgA2TAH5r5GdjpkP9YzePBLmbDspAyZ6XhzJ6muRUfuD7eQdowM2/s17wlnGTF8UGGmRMRM5BMDUQSOfRZqcKlc3IlhJp537AsD5nQ5GYVzJ4NX7wrjSd/fxC3LJEWUvAFdXhlT0PXz2spxJcHSmlhn22rmuF4CJWZfOSMPOFgkPVpJn3b6K8Um4mtqhGT8HjtcE1sMC5erVK3JKqwFmfGCkYZ51eTSAGrbauQa4eTEfGdCkuJQtVSJL5L4oJ4joKVSokFSuXDmjbsEM2w7PNeZcyJ8po8IA1GrWCGT3CFgAOLuvgLX/XD0CRHowmcst7eDBg7J+/XqpVauWCo531wAK7UYstsvPYHs/6FjFJTN816eL7MAFZviO2CjpMMqR0UuNZ+HwYOn1nYNBHdWthjI1ofbXaNRkEkXjDFC/XbpfuQLTYD6QZL81dauKGqIBgGBLe/+wxg5uDLOu+0Yskl2nbNJagDPAmOM9nGIgQz7tf9rFSethC+1sA6zwk2QPD3Oc14DmZaV1pWhlkmUwOa/fHSuxhUNTGXiRh6nLtImF8hadxESzX7OyXp2UAehPNCxlr6t2d/1gNjvVLOp1e8RC1SkVIaMX2iTv7tpdlaMlf0igvXbbXb8OcaFy7NxlWXhImy276Pza3bGybM9pO7vvbnsjHq6moq5w4/bUJvSqK6MX7pGZmz33mzaggXz6zy5lnpZT2sA7ysrTzRzxHDkZAOtgl/Hj33qJCP9m0VCPjvMGhHEiHvrPbpm60fO1yynX60aPA1lyobDUbswx+f3k1BVfs3NzqE3y7CxjxiwL+a/u8kz9LdvenLLAaBwfhlTk5DrHEwFenTN4YZmJ/9HBKBm8vFud+wJcz1y6riTSRuO9XDw8WLk868AV0In3gB575C5aCHY2KSnZZBrGggFMN2yyvjhGnS7vWcbCaECyclEhytn60lVH2RIAHEWRcw0wx4a5nw7WOecB9SKkqJxSYI97t2jRospBGA+QzGo8M/Pnz1fxPRUrVsys3dzwdnmeq1atqlyVV61aZQHgGx5J64MZOQIWAM7I0bS2ZY2A0wjkNgB85MgRWbNmjdSoUUMKFy7s8XpP33TUFBWEE/PWI+flLSdm2FVG74czdzgY1NBABVAHTFgnC3eeUvs06kM7f2murf2ye00TQL27SiF5/Z5Y5SZtOHI+Ur+EPNagpLT9dJGdGSZnFimrsyQ7RK7I85N32c+TTF2286Imyf2xVx1Zu/+sDJm+XfWD8f6zX7z8vuawfD7flj3MpG3GwEYKPBkRSEjykGm/8ttGO/AyDLye+G61LE+RaSP9A9x7q4VtULaAfPRAFa81uI/Gl1Dg9r6RSz1ePwA6Cw/UantqSLKJgBryl43xd9d+71tfuNYGW+6u3zv1RaYcCJSFB50oXqcPLHu5mcptXpByT7jb3spBzaXHN6vsUVnu+iEF7z52RSo5pXN/2NavFu6VX1Z7jmPKipchxmNfPVJTMW9Gy0kAOC2A1zhugxXiM7w3DUbY+Dtggj7u5JNTNhyTl3/fkhXDnuX7QAkDENRrX5EmRwZcl30XfUwyXdXXybkZZrRsZN5UkmfAKCUdutM02y3jIlcXqTCRcXpfFBv8futRs8kUjOu1xCST7DrQVyQmOlS2H79oigtyZUgFcI2JzKuijHR5tKtoIRb/iEjafwbg6lhshp0NC0oNXDlnJMy6QzNSc4CunpPMRcYgDHm0vgjAOcN2c2y6LB3jsnfax6roPxZ1jh49KiimLl68qO5bsmRLliyp6nQzul25ckUWLlyogHaFChUyevM3vT2eZTJ0AecAdatZI5ATRsACwDnhKljHkGtHILcB4GPHjqkVXFZzvWX58aWHCZURFWQ4Mbtihk0ZvXWKqUxeZwb1zopRqlbXyBl+4944KZ4/jymPltra81eum2pGf3qyrizfc9ruuoycbUr/Bqpuc8wiG3MJMzrzmUby3oxtphin8d3ipP/4NbLlrK1mFPffyX3j5aHRy+0ZvTguf/t4bVUfa0TvtIyLkvc7VFZmXQYrglHXwDvKqQgkY6IGu4vztG7gRfwTObudv3CYK2FqBfsDMPbUcNyuUyq/vD/DBsbdNRyWmdgZzLi7fu92qCR/bz5ud9h21w+m9bO5u1WdoKf2fN1QGbvugpz2bMYsnO8707Z6rTeG/Rw+Z7fdndvdvhljmGBvDXmpkSntrW92/x2lARnFznmi2QmAneXMjJEOZHVmF1BggF5XkkjdEEv/HADY+HG+Bjx/787YKfN22BbKckMrE5YsRxJ8RFMFC6AxyB/Js6PmnfcaLs9IhXUgSF8ApQ7ujMghwKgu6XVVf2vk6u48Ye4LCEQe7apWl9/px5A/SCTIT+SIzYBfNRjX2EKpDalgpMOC/VKBUYA9JS969jGMK6Z6uvSbbQPKYWadzatweXeuAWZ8APY6Ix3omyyFwwLl0PnrZnl0viB17DDjRmN8+jcrLT0aFFfRTnrjvj116pTKlOW/NAzqAMKRkZEZxoReunRJlixZIqVKlZJy5crluNueZxl5NvGJf/31V447PuuAbs8RsADw7XndrbPOohFA/gwIzi3t5MmTsnz5cqlUqZL6EvfWVu07k8qJOdDfx8QM40RMfa/ODE/uW19F5YxKYVBZdYcF/vjvHfYsWyR+yJnJ+zXqXA2ASjwRdXI0WLKxj6Z2XX6zfUVVM3w2ZWbZta5NuqxLsnvFF5GCl/bLB+v97av9/74nTspGhchjXzvchIc9WFX9/dmfHO60MN44Mf93io2Vgqn4rW+8/L35WKpoJ4C4YWqFHJBop7embpM/1x9Rn4VVMFhw3dSKvjqTQV+cWXUportrlNbMW+R/+qTT2zV3TAxFrqfBAB22yFsUE9tMawYw7LY3djY00Ed6NCqjGHlPjVrtvk1Le41ZSuuYZFQ/8pXfvq+Sy81lJQB2BrzuALABdj0BXndjcyNA+KdVh+TNabZa/dzWYqOC5cSlRJNpE2wnC2TOkmcyfynX0BlM+gIytx6zmf4ZjfpbgJ0OGnmX0Ne5/hbJMyyqqa+bWl2A65HTF+X8Nce+YFx5p1GrqzcMv84kXEuV1wtw3Xn8kkkeTZYw4F13mkZpg4oGRYpu2FU0PEgBWV1KzaJAyfx51KLlVa0zDs9J16+ZaoB5d/MuYHx0YE899Xv3xUnVYt5Z3QsXLihGGGaY5wRJNN+hKKm81bp7u4fPnz+vvpdhWUuXLu2te5b/HYYaBvyBBx6QiRMnZvn+rR1aI+BqBCwAbN0X1ghk4gjkNgBMhAErzbGxsVKmTJk0jdwzE9bZazVdZfSSIfnjE3VNGb0tKkTKB52qKIBqTLK61C4m/ZrZ3KRZsaepf1cuJPdrtbUAVIDw4984ACrxMNSA6a7L456oowyoDOmuIV1GpmsA72B/XxlU/aosOBshM3bYTJKYFMIW/9+vG4ScYhpmS1P6NZBHxq6UNQdsZlIG403dr2EMgynVsAermaKd7q1WWAbdVUExwwaYRab8eIOScteni+1GUdRHt6poriPGdZq650W7PDNeMLlvTNnqMcuXSV6v2ET5YotDTuvqAiORpAa725iVHq9/gaBkebKiyHtrPBuewLq+dV8lrxFQsOow6N6ioh6qU0yZn3mTeHPv3BEXJZ1GLfN4Hi8pRj6/irLKKW3Ws42U+sFVy0wA7MzmOkucAas6yL0RwOtujNMLhFlUGTx5q6xNMZnLKdfuRo8j2N9HCgcnyb6LIknJjmeqeD5/Sfbxk4MpvgRs352MGedmAJzOYNKXRSicm3VJLzWuGEc5xxPxrtt61KkvJlPXzH1VBm/+PMpYSwejgEY8IvTt8p5lf7CzuiEVwJVj0o8X4AoYJb5OB67U9cLG6m7XuEfzXeDKvCpPgJ+pBphxgznG/PCiVgPMAiDlKs6LdO2rRsugNjGSNyh9mbaAQZyQ8dNgcTwgIECpqZAvBwYG3tDtwfcyyqzy5ctLiRIlbmgbmfkh2G+A+eOPPy5jx47NzF1Z27ZGIM0jYAHgNA+V1dEagfSPQG4DwKw0U2sUExOjftLScA2+Z/hi+8QGiS+yYeeMXuR01PkaDWYYhsCIBQKgTX46XrGin89z1NZOf6aRDPtnp/y8ylaTiSQOZviFXzbInG02gGq4LrPPDYdsrssYOMHS4hJtOAW7ki43iE6SPo1LSJ8/Dtvlgn2alpb21Yoo0J6YMmsExMIEOJ8X8uq+4xx1tNRsEtExyMnAa+nuU6lk2j+vOmhyzoYFHjZ7p0xMyqHZZQAAIABJREFUOVejjrjvuDX2mmF312TD63eo+mBnxljvHxqQLFP61JFmn3oGt9UKB0vfGnmk71+nPd4CnWoWkUfql1TSdU8NMEpuMxnKntqrbStIcICfvDrZEYvlqv+b91aUExevyNDZnhne/7aLUzEs3iKlWGgoUSCPieFPy72fGX1QMzQs596BPaMAcFrqd+mTWYDX3dgBhHmv8pMWafSYxfvl49m7M+NSZOk2qV3V5bu+kiwlQ0XJo3WXdEAjDut7Tprl0XGFQsVZxkxfJPQ6uANEYgJIjasuj0by7O/nI/tPO4yj6AvDyzte7+upVnff6QRTX4ArAFh3UuZdD1gHzDrX9bpyXYY5BrieT8mG58Igjybb1xm4UtcLI66rWqiRLhgaaBoztsGCLYsAOoPO/l9rW17uqeLeBDItNwbgF08NWOHLly8rWT8yYVjhvHnTF52EMmvt2rVqYdpbaVJaji2j+3COVapUkX79+snw4cMzevPW9qwRuKERsADwDQ2b9SFrBNI2AkzWcGjMLQ1DD0wskFqlx2wD12UDZLjK6DWY4ce/XWWP43HFDDevECn/e6CKtB66SE6muIgiB32mRTlpM2yhCaDeW7WwAqgGq4FzMLmysLRG+6RLVVWLhozaaIDi7ccuKMaU5iPJMuzuwrL1UoiqN6UB1gHZmFyNX35A/S4iT4DMGNhQXpucOnu41/drlGsxjWMgyxjmESaFVq90hIzubpZpt64YJe/cXzkVCz6gRVnFIOt1xIwBNcg6e+LqnnuuZTn5eJYtP9ldY4IH2+7NrKpE3mQpFuYnS4541jnD5l+6lihLd3sGyxiWbTx0zqscuk2laPln24lUEUrO54NrtzHmns43rRLs7H6GWcQZ3b2GlCgQ4vFQbhQAp7d+Vz0bWh1vVo+POyDMMSEp1c2yUGD0/2mDCbxl9fFm5P7yh/gLdbW7TpvLa+KiU9yYLzm+c9zJmGORJjtl5dIXMyjnOll3ffPnCUhVf+sqgzfUXyRfsK8cumB+VwDqT1y4anJSRh7NIqZztq8r12WAa1RYUKq+1PXyftSBK/JogDkLA7rTNMCemDy9BjjAJ1n1PXz+mumdiov2u/fHCfFJGdV47o4fP66A8LlztsVZIgZhcvPnz5+mOmE+TzoDpUnezCkz6rjTsx2iE+Pj4+Xll1+WIUOGpOejVl9rBDJtBCwAnGlDa23YGgFRbpC5CQCzUk3eIGYb6YlbILJIz+hF3kvNrQ7aYIbJo31o9Ar7rfNhpyoSHOAr/X90MMNfP1ZL1XjptbW/942XvzYelRFzbQCVz5C9izHThJUH1e/IeiWj96VJG+2xOExkcPV99OuVqcy69DzeWkWCZHSPBgp4GjVnHWoUkX+1Kq+MrnBSpfVsWEqQ4OrZw//XKkZwaNaltm/fV1HlVfb81mFqhYHX5WuJ8vzPG+zn/0PPOso5+42pNjAOM8K5zth8zF6/Ctvz14AG8vXifSZTK0D1sj1nvD6Gac0ALhqSLIcueZYzw0gz9kZMlLudxxUOVay7zu646tuqYpTXaCI+16tRKa9RTPT7z93l5T9TPRuEIYWHpdcl9F4HMQs6LPi/Jmqy762lFQB7Arz6326mftfbsWbE39MDhIfN2S1fLrRFot2qDSB47XqSSfKMwVR0cLIcRB6tlvRsza2MOX8e2XosteT50hVzVi7y6GLhwaoG2BRPVCCPMqjTQSN9iU9zzuClVvfMhQQ5d81xXCyyFY0Ilp3HL5pk1wBXSlWc63rZLiyzLqUGuLLgp/dlYZLFVN4t+mIg0U0Mi14DDHtdPH+welfpEUkRBI8nXZczVx3Hy//1alhC+jYtlcp0LiPvo7NnzyogDKClhYaGKkaYyEF37uf0g0kGZGJOSa1tTmvUJ7ds2VLeeustGTx4cE47POt4btMRsADwbXrhrdPOmhHIbQAYMD9r1ixVr4SkKT3ti/l7UmX0frNkv4kZhkH9z59b5K+Nx9SmmfgA7nRmuFKRMCG3tf3IJQoI05qWLyifdK6q6mhhFGgdaxSR5++MSeW63CHFddmQLuOkSx2qLl2GZQbI9RvvAN5jHq0pB09fltf+sMlvMfyEyZ23/aSdVaU+bdqAhvLdkn3CualJDA7TAxvJu9PNDtMznmkkA39apz5PMwy8uo1ZYXci5rgAwToYd1dHPLhtBcWMG9I+4p5gQXVZuavr1bd+lJy+cEl+3Gg2pHHuO6xLVZmx+bjdmMvdtSey6Y0pW7y6Kc9+rpFa7EC66K4B+Je93FwafTDPNEl17o/MfMmLzbxGRQHQX6uaIM8v9Vy3h0HY3BeaqJrxaRuzP/OXOnEWg9LS3AHgrDCsSsvxZVYf3rUGGNazhY3oJMNoCMn7Q2NWe7yfMusYb3a7GFVh2gT4NFpUiJ/kDQ40uTH7+iRL6fAAOXwxyauM2V3kEACT50+vLTZydZFH6/W39OV9qNffuqvVhVllu3pfwChgHXm1DkZ5DvmbHr1EXW+pgiFy6MxlU0QS5l5IqfXjBbiWKphHuUfrEm3k0YBwvS/jCVg/ceGKXLrmgPtItIe0j1MqnaxqCQkJyjn68OHDSuofFBSkvnPJFKZm2LlRT7x161apXr26Yo9zWvvnn3/kvvvuk6FDh8ozzzyT0w7POp7bdAQsAHybXnjrtLNmBHIbAOZ8ZsyYIUWKFFFftulpsJs4LBvsIJJXZMk6M/xYfAnpXr+EYoaRpdH+1SpGmRB1+dIRC/Rex8oq41HPqKU2ksnh63/YXJeZkP3Wp76K8DHcfmFLYYa/XLBHxqVIl5HcAVB16bIhye757SpZsc9magVrOfHJetJx1FK7eynOxJ93raHOyzBquYfzuic2FRiFHdYdppEyt3YytSKzmNxf3WDq485VVE2fDsbd1RET9/ReSgQSE0fyiDH1MvKI3V2vQTWuy4yD/rLCRjy4bYtfbCp9xq2RtQdsUj13bclLTaXj58vk0FlHvaCrvv8811jafbbYzqC72x4ZwjDoniTesD+w6N6iooL9kuXxGvnk85WeI5s4FibrugFPeu73jOr7ZONS8lzLGJUvnZZmAOA6derYa2QBvzooZDuZaViVluPMrD6cl5El7HzOgGB++PuQGTtl/Irsz3K+mXEoFpIsFxL95OwVh7QYBpNa/gPnzXJjpMncy3rtK5JnSjec5cb0PXz2sqmmlr753OTqsl0dlNOX97Nz/S2SZ+e+LEohZdZrgBkTADGLmfp2Aa6U0Dj3pYwBlZFeA8w2Uf3oNctsF5aZMdDHATDMMTv3bVGhoLxxTwW1nexoLDgDbjHNunr1qrp3+e5FHo2LtNFgjXfs2CG1atWSiIisA+ppHZM//vhDunXrJl999ZX07NkzrR+z+lkjkKkjYAHgTB1ea+O3+wgw0eKLK7c0zmf69OnKrKNmzZrpPq3f1h42ZfROfLKuLNl92sQMI0mmXtjIqDVigf7751Y7G1ckPEj+GtBQen232m7+ZABUDJeQ1tEalSsgwx+qLq2HLZTj523X4b7qheWl1hWcpMsl5aE6xU3SZQW8S0VIF02SjZtygbyB8tT3DrOmL7rVkNOXrpqicsgeXrn3TCowOklzmDainQDnP6XItA1Tq1d+22iX/hpgvNf3q+2SZkDyL051xBzrmEdrSdvhi+XAaZsBTpMy+aRfnTB56vdDcu6qLmJMfelalguTWTu9g0Jqk2GCvTXip1bu8y7Bxs3YOF5P2wQAGqw9/QD43mqe6ZdWEItrt2GQ5u3csurvHz1QRe6pWtjr7nR2d/bs2Uo6yWTYMKgy3JtdZe+6yuD1usNbpINhQqi7V3PoAAnOe/vxS/LAaIdb/C1yWkI9a4mIINlx4pLJERqDJ+rtdalvkF+yRAaJKl/wJmMGNBZOkTHrYwEYBTDq8Wr0dZWrCxilrx6RlMcvWQqG+MuB8w7mmu3DuAJa9b6A0aiw1IZUANeLV819eYfCEiN5dq7rvXw9yXwMAb4qeolFUt3tGoaX94h+btQAP9u8pDzSoHSaanAz+75hIYf4JIAuPhw0ZNHIo/Plyye7d+9WP3Xr1pWwsLDMPpx0b3/8+PHSu3dvmTBhgnTp0iXdn7c+YI1AZoyABYAzY1StbVojkDICuQ0Ac1ozZ85U5hwwTOltSUnJ0umLZfaM3jqlIlS9pc4Mt61cSP7dDmbYEQsEM4ykF3BnMMM488aXzS+dv3AwwwDU/CGB0ltzEx79SE05cvayyTkY6TLZwYYhlCFd/naJo44W4I3RVf8xc2TlCV91qkz4YJBhno3ooZiovDKpT33p8uUyFSVCA/xRq6yDUepZ38XUathC+2QLsylXpladahVN5ZyNnFmP4qGOGIl4D62O+I1WxeTM+Qvy0RIba00bUOm6HL/qLz9qsaiP1C8u3y21mXe5awDMHg1L2l2o3fWDQe9at4SMnOfZaRcTp3ZVC9mNxNxtj/Nk/Lxtj4WMIvmCvbLbvZuUFl8fH6/bw2Ea+eUHM3NGfiz35IbXW7ocJk/1u4sWLRIklIBgokeYKDvX8ab3ub3V+7uLUAIIIzR5Y9oO+X1d9kvd0zrOAN09pxwuz8iCK0SHyp5Tqd2YcYs+dM6xCOvvI1IyIlAOnLuWSsbM/nW5MaoKAC0MsXM8EYtRepQRfYk4wmRK74s8+tLly3JWq6l1V6tbKCxQgVO9rjfQz0fVCx84fTlVXS+gV+/LM8M7EeWJ8T3BOZFljIDiWEp5DL/j/YYLNuegy65LhfvLw6Uvy/0t6qfbjTmt1+9G+/Hcnz59WgFhooVo4eHhKj6JumGMpkJCPJvk3ei+b+Zzo0ePlueff16mTp0qbdu2vZlNWZ+1RiDDRsACwBk2lNaGrBFIPQK5EQDDMBHTUL9+/Ru65OTW6gZDIx6qplb2X/x1o317MKjIeQ0wwsQGZviHZQeU2RPNqK19e9pW+XO9bfIK2wcz3HvcGrvrMHK+X3ojoV2qzFxo9cvkl1FupMs68CaPt8zVPfL2Gj+5nqIofPaOcoIbdYdRSyU5hXZ44944KVnAnD3MeVEn99xEh8P0Dz1rK+dnw2HanakVIHvMor32+miDBX972jb5Y90RdQ6ReQNk9P3F5T9/H5A1R22urxjhvFQ9UUZsDpBd52wHV6lQXpnwVD3p8PkyFflDw5SLmt667871eA2po+7TtIyqo/bUAPHxZQoI9cueGgsUQf5+pjFx1Z96a1h8ztdTQ+I+fdMxr+D274ENlas194+nNnNgQ6Uo0COqbugmv8kPcV9MfKqeypKmpcewCsUJE2RkkwA/nlUyu1FteDLSuclDviU+7ilLeOuxS/LQWM8xXDnxJPMF+Up0vuBUzs3EEyE31mPPwoN8Jdg3UY4mmA2eykWFqNIU3sNGo6YWhlWXBRvxRM65ugDMIH8fU00tfcsUDJGDZy/bc9vZNtsN9PM1AW36ki985OwVU10vsuQgF30xL8Q7wLmul4g055IFQDlSar0vMmrOzbnvw3WKSvuSSXLs8AFp0KCBSWac0679hQsXVJ0wBljG+4F0BuTRRr17TjnmTz75RF5//XWZN2+eNGnSJKcclnUct/kIWAD4Nr8BrNPP/BEg+D43NVygWXFu2LDhDZ/Wk9+vtps/GRm9D41eLhsP2yS4MIDU9MKgMtmi3VU5Wv7brqKqGdaNnnCUhkE2VvyJ+sEoquOoZfbjgy1F/vakJl0e1a2GnHGSLiPJBgC9r9XRDq6VLCtOBcqUXTYWhYkTQOl/M3fIr2sOq99Fhtqyh3Fwds4e7j52hb1mlpzgcT3rpDLwGtqlmnKYNgyh2lcrLJhzATyNCWzn6pHStmyQ9P79oFxLAeNtiydK9YLJ8t5af7sE8OVWZaV6yQImU68POlWW8OAAU84u0u0zCddMCw+uLmjfpmWEBYhh/3jO1H2rfUVZf/Cc3XXb3c0x/KFqSvJtmH+56zeya3VVu70p5Z5w1w+Z8Iczd3itNyanmbxovabwhm/gTPwgRkcjH66upKiGdNcdAPbk0AwQ3rt3r5okIwWmZhAgTA2hBYSThBxWo17YuJwsWP172k6ZsdmWH57TW2RQsiT7+cvJSw7gajgs73BybobJPX/FLGNGmhwe5CNHbF6C9gbDzLvhTIIjZgnQCCDV84X5APJo5MN6Ta3qGxJgYqnp67JWN9hfwoP95UDKe944COTRSKOd63rJ9nXuS5nI2YRrpmebBVL6Gt8fxnZhfdmmvjBAbfGb7WKleYWCykyKutvGjRur77mc3phfrFmzxi6N9vf3V4ZZ5AFjnpUTGu7P77//vqxateqGSqdywjlYx5D7RsACwLnvmlpnlMNGILcBYHKAmXgzQbjRtu3oBblvpCOjF/OnspF5UzHD1LP96xcHM4z7M3WlOkCd0r+BTFhxUDGmNByBZz5jc12enMKWUlOG63L/H9fKwp026Vi5qLzKJEuXLiPJHvOIGXjXjBR5qmaovLLgipoU0og6Ahi2+XSRnd3o16yMYOzlnD1csUiYdP3KwYwC2GAqdAMvGE/YCJ15/LxjGVm086R8u9ZmOIWz6yvVE2XZCT+ZecDG4FALOK1ffRk5f1+quKdXJ28yuWlPG9BA+oxbKzDwNKTbv/Wtr5yY9dpXtuxcLVw2MiSVUY6ra5/WTF0m0nrNXVrvI+TWZ7VJubvPpbWeF0m2oR5I6zFkdr/Vg5pKgGZ4pdfvsm9XdbyejgkjHRhhfgB9wcHBShqNo2xOY4oye2ydt+8uQmnt/tPS80db9FhOboG+yXI1ycHmIiFG2uvs3Gw8l7osWOXfXr8uJzTwHOgnKTFCl02RQ8XCg+TKdXNWrpGri9GVXlNL34TrSabnm+NEsXL4/HXTuwUwCjNrqhcO8FV1vTDP+nsIdQ9Gijoo5xjIDAbk6n2p6716PcnUF9k1C5WYe+nHW790hLzTPlYtkNKIE4JVbdq0qQAmb4W2ceNGVSNcvnx5pfygBIL3BJnAMMKUQ2Rne+WVV2TEiBGyfft2iYmJyc5DsfZtjYB9BCwAbN0M1ghk8gjAxBgMTibvKks2T40hk+pmzZrd1P4G/75Jfl5lc2EFEAFan/95vcxNiQWyM8NfLZeNh2zMMJm1X6cYPRkr+5gyvXVfJcUMG+CoW73i0qtRaQVQmQjRnmlRVlrGRQkmWd6kyxioEIFjtMH1g0UKlLRLcjFk+uPpeJm87rB8Pm+P6kZsEizwiDmps4c5V6S6NFemVuWj8sjQe4pJ30m7Ze9ZG5sTky9J+lRMkiFr/eVkiplyi5j88l6nqtLm08X2SWPnWkVl4B3lTHFP5OI+WKeYyU2bmmmYcV26/d92cVI2Kq88Mnal/Vz7xEfLhHWnTZNSVxf6vQ6VTMZfrvrAHGNCptdku+qHEy2Mrx5F5aofhlmwoywyeGoA4E+6VJU7P1nosR/xWR90rCL13/MsBb+pGz0dH36pdTnpXreYel84A92bNasC/MIGwwrz/MJuAYRhiywgnKRYcn5YsDx58qRs3LpTJh7IKysO3xoKHhyWifvRGVPeq6GBZodl4DKSZ2KI9Bzu8EARP59kOXXFAaipLeY9zLuWd6LRAKi8A3UJMcAbGTOGdnpEEsCX70A9B5i+vAdd1eqyDz1fmL6YHiLR1muLkVLTTl60LUrS6GuY3ul9YaNJBXDu279ZaenRoLjyCDDahg0b5NixY9K8efNbRimxbt06dc+2aNFCvTtOnDihFrzIFaYVKFBAGWbh3XGz75F0vM7sXQcMGCDffPONWligFMNq1gjkhBGwAHBOuArWMeTqEchtAHjp0qVKbnXHHXfc1HVjstZm2EJ7bVafpqWlXdXC0v4zjRm+O1ZiovPKo187nFo/fZDaWjNAHfdEHSW/HfKXrWaUyRkRQL+uPmQ3cUK6DED96G+zdHk60uWJqYF31zEr1DZp5cJ95LdnWki7EYvt0R4tYiNVNivZuycv2uTRnWoWFSTYSJeNySUxNp1r2cCoMSnr37ioxOQTeXaqI4bl4XKJEhEoMnKzn31cP+4YJ0k+fvKCxoKTC7z16HlTHfFvfeNl1pZjMnS2TaZMbNK0FDdto2YaZvzvgY3kgxnb7dJt2BOyl6m/nrXF5uxcOCxAZj7bRO74eIHJYMb5YiMxXJyG7F1ym795rJbXeuM7YiPl1btj5Y6PPYNWjMO61i2uFjI8tScalZKGZQt4jUWqUChUzl++Zo/nuqmb+iY+3K9pKendpJT4+doM1zJrogrIgyXas2ePAibkipYqVUoxRbcK43UTw5zqo7BlZ86cUeZC/Fy65NADw1adSA6Vx753LIZl5L4zYluwoIDJnccvmVhQVw7LeAkAHF3JmAGHuiw4xD9Z8gX5yZGL5jgl5NEYT+n1wrjX8351lhvDPKelVhf4Sa0u23Wu64W51c226Isp1skLV02gHHUIfXUHbMYXRppz0wE8+3r//opSpWhqx2QdTGbE9cmKbaxevVrOnz+vWGu9AYABwhhk0WCCec6z2g+gR48e8ssvv6hnS49vyoqxsfZhjYC7EbAAsHVvWCOQySOQ2wDw8uXL1YSxVatWNz1yQ2fvlM/m2tyDDQZ1+Jzd9lgggxn+v182yD/bbHV5BjMMW2hId2sUD5fvetRWIJOYC9qdcVHybofKcufQhXLmko0lgBV92oV0uW2VQqmAN8Cou8aMwiiiTH1mgsPU6pvHa8nuE5fkP3+as4cBk0bNLC6m3z1cXr5bdlD+3GYzoaL27rWaifLrXl9ZcdwGeCLz+suUp+vL/03aohyqaWUiQ2Ry33hlLrUuBYxXK5ZPAMHtRy5R+6Y1jikowx+sphhvFhZoyHtfuztORUAZzDjAkYUGAPrllEJi/n1/9SIqAioxZa77UuvyUq9MfpW966kx4YRZfidl4cFdX4zImlWI9OoojTkX8sXf19qMvtw1mPyLV66rCC1PDVC9/dhF+z1x0zdsJm3g0y5VlDohKxtA+NChQwoIX758WYFfWCJ+AMW5scGOMQkH6Bqgl3M3GvJwWDKcdfmhhhKZNBLdwX/ukKV7He7qOWV8QgJ85ZJhCsDil5+NiXXlxowEWmdX3cmYi+YLlAuXr5mi0+iLTNg52xfwfeHKdVNpAotjgGLnXF3AKLXCOkutanWD/U2ybcaWvmcvXzfV9VLfTH2x7lRNX+Tc1Dfr9f30BfA7G121rxotg9rESN4g1/Jm6mkBjjercMrK+2PFihXqGXZXlsQiD+qPw4cPK5UD6g+AMGUQWfGsE300a9YsJc2+3dUmWXlfWPvyPAIWALbuEGsEMnkEkBsyicotDSMLVpRbt2590ywVEyfMn3DppHWsWUSeaxmjfmcwqH2alJZ7qxVOVVsLQNWluwBU2rM/mV2XNx8+L2+luAkDYJEu/7H+SCrpsg68jTzelyY5mFGcR3GifvTrlbJ6v20iXLlImPzYq66qZyYqhBZfOlwGN4uWxybslFOXbde9dmSSdCqdJG+u9peEFL+aLjWipXfzGGk7fIlJpt2qYnSq+ujYQmEmh2VXdcTEPZ24cEVenrTJfqth6rVq3xkZMn27+p0h3f5z/RH7wgMgFhZ8xKytMnGtjSlgkgkzDKOug1Hqpo2MZU/3s6t+jL1ee8fnmaiT4empwVL7+/nYgb27viwMHDiT4LW2uG5Usuy56CfHL+WMZ7Jr3WJCBFN2Nd5NTIzJETUmqEyOYYVvBRMgT+MG4MUt12B3Ab16LjsO2REREQr08l9ndsowyTIMs9YePC89xzk8CbLrmrnbL1LfPE5MLM8dTCxAUGdXcW7muXKWMcOOYjKl1wuHByarshFdxqziicJtfXW5scrVTUyWUymLjhwrubowz8cuXk+Vwetcqxvs7ysFQwPlkHNdb2igYnF1sy36skiKPFqvAUaiTV+d0QYQv9a2vNxTJdrjZVu5cqVaJLmV3IqXLVumgC3O1Z4acxEWvQDDPAeAUUzxeN4zk5m9++67BWk5Mu3b3YAvp70zbufjsQDw7Xz1rXPPkhHIbQB47dq1asIMAM6IL7Mflx+QfzsxqDM3H7PnxQLQkC5/Nm+3MruiRYQEKDnvi79ukNlbbcwwYGpKvwYKFK85YAOohusyNaN7TtoAaosKkfLhA6mly8+2LGcC3uTH3l+jiMrjNYAbzsywzQ+OdmQP/7tNafG9fln+PcvBWvapmChnr4qM3+mQM3/3SBVZd+SyPdqJejUMvH5ZdUi+WGCrIzZk2rDHOCXTDDA+6LeNMmOzDaA66ojXyLI9NhaUBQHyjTt/4cgjxtRr7KO1FLtrAE2k2//rVEWdq5GhCQNM7W+H0WskIdFWD0fuMjJi+hk5mU83KyNMOj+atdPjs0Ms1IZD5+3n4K7zF91ryPdL93t1hOa8Xv9ji8msy9U2Zz/XSHp+u9p+rd3t95OW+eSn3f72LOcseRG42AmT8ukD4qVA3ux3mwXsYaQDEKbEgWeb+mCAMMzordA4h3PnztkZXgAv4NVoYWFhdrAL6E0PwAdgsK1DZxLk9ak7ZOV+my9BTmkAV8ChbhIHA5o/j7/sO+1guTleADFlGzpjihMy96NuoMWbgPcqqhJdQhwagGLHz2SgRb0w7yXnXN2IYD9JSryeqgaYTHXk0TrQBsCLj5gWsXhPAqqRNpvqeqkBThYT0KYv4Jf3mt63WtEweff+OGER01tD4QQ4bNSokbeuOebvixcvVmC2Xr16aTom41kHCLNARIuKilLqD5QPGdlYhKKemrpk1CYZMWfIyOOztnX7joAFgG/fa2+deRaNQG4DwKzkUkPYsmXLDJFPXU9MkvYjl9qZxcblCsgw5LwaQOtQo4iS2uq1tU81tgFUwG1iCkIl6qZKsXypXJcD/HxlwIR19iuOdHnX8Uvy3ylm6fLfm4/Lp3NsdbQAbzKF3/51qfy91yahhhn9sVsFeWfmblmwz8ZcRgQmy+AaifLFFj/6AvlcAAAgAElEQVTZfs4GHssUCJKfn6wjXb9eq3J/afVKR8jo7maHaQy83rm/sjLwMpxQH6xdTPq3KJsKjHesWVSBcWNi92Lr8irPWJcpE0WEUZSes0zsEOMzUGPGOf/9pxLk1cmb7WPybbdK8vP89TJ5nw20GwB90upD8vl8s9EXsvUfUxYj3D1Gi19sKjDo3uKOVg1qLtRbbzliGyd3bcUrzeXezxZ7rdWd90JjaTdiiYkpyqJHPV27qVUiXD7pXEU50+akxoQVEyCAMHWF1CITqYJhVmayRDcyBoBS5KoGw8v/G2objjtfvnwK8Bqy5oyQexpAeMmeM9J3gkNtcSPHn5Gf4XnVQR+y4CuJZjdmtzLmlGggnV1Fmow5nXPkUOFQf+WufNmRvCRhQTa5McZaegMQn7wAeHbws7xDKXdJS60u2yQHWJdt84bF6AqG2ViYM97NmO7pRlf07dWohPRtUkr4DkhLw+OCZyA+Pj4t3XNEnwULFqhns3bt2uk6Hs6TZ4c64VOnbOkAAGCAcGRk5E0rvNge+6hbt64CvjhsZ5a3QbpO3OpsjQA+G8m5yZ7WuqTWCOTAEYA1YNKUW9rmzZuVkyyruhnFDM3eelz6jltrH6KvHqkpB2Fa/nACqFuOq2xYmiHdHTV/j4xffkD9jgkbGb24LjuzpY9/u0pW7XMvXaaOFoMtamaPn7dJsu+pHCWtIs/JSwsuy5UUZrRFkSRpXDhJ3lnjJ4nJNsDbt2FRuaNSEek82uGmDBjFrAVG0mifPVxdRXmQF2w0ZWp15Ly8MdUWu4JkcfLT8co1Wj9XwDhRT98t3a/6MTnkXN+ZZo57mj7AnEcM2/Nnv9TS7QlP1pWOny+Vbcdsdcm1S4TJw0VPy/sbgpVUkdaqoq2OWjf66lijiPyrdXkF2r1l6vZoUFLGLt7n9dZnm0amsqfOLI4sSImx8tSPOnGD8fe682zo0Kx8QRnapYoEpnFSng2HaHeT3bVrl2JVmbgilwQIIx3OjsZiIqyuUb/LcRlTGCbYyJgNSTMT+cysNwRo7zx2Xv4zdbusPpBz2GCY2BIF8qiFIh0gInnG7NhQfXD9kDEXCQ9W5lXeZMyAZxZrDjjFE7EAeDVJ5NJ1h5MyfWFzdTaZ/QFcKXvR3xuoXgDFzrW69AWQ607VMNSY+TmDZ+Kf6KtLvGGNh7SPUwuP6WnpZVPTs+3M6jt37ly12FOzZs0b3gVMMIwwTs08UwBqpNE88zfzHLGtihUrqnpjpNoWAL7hS2R9MINHwALAGTyg1uasEXAegdwGgLdu3arYIRwnQ0JCMuSC8yVJbe2yPWfU9mILhcrPT9WTDp8vlR3HbQCtUbkCKlJHB6hId//VOkZaDXXUDCPbxSlYZ0tfblNeapaIMEmX3+9YWUKD/E15vMM6VpBdR0/LJwttUmMfSZYXqibKlrM+8mcKM0pG68Se1WTShlPyzRIbGIUtmTnQlj1s1Mwa2cPPTFiXJlMrXaYNQPqkixmMt69WWJBgw4IbtW3IlHs2LCV3feqQKQ9oXlbuqhytWHWDGR/ctoJUK2aWbr/XsbLK0Oz1nQOgPxmbKBFRheSDBTZZOe2HnrVlx7GLJpn6pN71ZcHOk/LhzB32ftRp/5GSu+zppiBD2Rt7DLgn3mnMIs/gGaB7T5VCMiLFSM3dfpkEt4yNstdCZ8hNexMbmdqvvjJzuxUazybsEEAY4EkjX7RMmTKZni9KJJEBdvkvjLTRMO0ywC4ML/Lm7JBXAoRnbDwqz0+yLdZlZwNMUjLh7MaMI/SJi9dMYJJ+AGDdYdmQMQNG9Sgj6nd9xCdVPBEy5iNnzZnB4UE+Ij6+clajiP19khV4PnbhmqkGGFCOo7/OPLOwybE5A2L6XrmeaDLQohwjXx7/VID4jgoF5b/3VFClMultsKks7NapUye9H82W/jyfc+bMkYIFC0q1atVu+hh45lB4HTx4UEn+ec5QgFAOgSlcehvHB6MMOP/nn3/S+3GrvzUCmTYCFgDOtKG1NmyNgG0EchsA3rFjh/BDjRSTzoxqRA498IXDdXjI/ZVUbaSeIYvRExMuQ7oLo0F96NxtJ+WT2ba6VCMCiPgfgy2FYQCg4tY8beNR1Y9syR+6xsozv2yVDcds0r2iITbA++E6PzmcYGM0KhbwlZ4xV+V/W/LaJ2WArtfviVMsqDF5616vuDzhlD08oEVZae3S1CpUuo1xsMUfd66ijrvfeIdMe+yjNVVO5uDfHTLlX3rXk6W7T8v7M2ymVoZMmbgnmHAa7Mv0ZxrJZ3N32YGmwYxTaz11g+38YVgwv+o3fq2dVY0OTpZRHUrKf+aflbUHbBFQ1FGPf6KO3D/SsRgRXya/fNGthrQdvtg+2YYtxj36zqGLPN4SgHak694cppG8Vy4aZmLQXW2YPOKgAD+T+Zmrfm0qRduzmDPqnr2R7bzSprw8Ur/4jXw02z+DXJLFL8xsaNHR0QoIwz5lRMOES3do1iOJqNc1zKr4L5EuOYlN2nTonLz11zZZk4PYYAAx4DWVG3NEsJxLuGYCk8iYWRB0dlgujoz5ojmeSMmYiRxKMS/k2qNcKRDsI2cuJ8n1FGUMv88X5CtJSYly4ZqDIXZXq0sdMg2JtdHoC3g+fv6KJGpOV4BkFvicwfOLd5aVzrWK3PC9MW/ePHVv1apVKyNu6UzfBgswAGCijSpXrpxh+0O1htcHrDDPJc8aC1+wwoxPWhvbQU591113yZ9//pnWj1n9rBHI9BGwAHCmD7G1g9t9BIyasdwyDkyAYYGpkYKBycj2ws/r5c/1NoAGu4Cct/e4NQr00TB6+uWpetJplEO6S3TOyIerO0UAFRZYT12m+0i9otI2Jq88+uN2uZ5iAHxvyUSpEJ4s/1vviMQY1LKElIyOkD7jHW7ST8UlStm4KvLybw4w+lOKw/K7KQ7LTNT+6Bcvk1YfNplaATKHzd4pE1fZMn8NU6tXftsoM51MrZ74brUs32tj2eIK21hwgKKjjji/jO5uBp7UEQ+hjnjYQrt5zAO1bHnEzsz4w3WLS9tPF9mNZ+jTIjZK7h/pyF7uUydCmlaPMdVRk3fMpPepH9bYL/eobjWUnPEFTc79fY/aqpbbMDVzd28AWolpGTnPFoHlrn3etboao19WO/KSXfVFMo+ZlhGVlZH3ZEZua3S36tKwXIGM3GS2bItaWxhhjG1oTHABwul5H+iRRAbodRVJZIBe1CY5CfC6G3jM6/4zxZZHnp0NM6hE2PuLNv8CGuwq0mAYYt2Rnd8Ri6aDScUm50kdT8TCGQoUPQfYnTQZeTTSaCTSRgNoB/n7parr5RjwQdCZZ5QgKG50R2mANoCYvrqBVvnovPL+/XESE3Vz8nzAJPdc9erVs/PypXnflAXMnz9fSZWRGmd04znlOadOmOeeVqBAAcXqMk7enkkWsQDODz30kIwfPz6jD8/anjUCNzwCFgC+4aGzPmiNQNpGILcBYL4IMbPA2ALZVUa2A6cTlJzXmNgA0KjN1dnCt++rKFFhQfLU9w4whpswUUqDfnOY0nzbvbLM3XJUvlphm6T7+STLoBqJMv+Ir8w5bDNEIUNz0hNV5dOFR+zAm6xLXKefHr/W7hJcOE+yTB3YRLp/s1Y2HbbJMGuXjJCvH6ulWFCOm2ZkD+umVsixFRM8dKG9Rg2HaYy9MGsyau9gT+uUjpDOXzgcpmHBWQjQ64hHdq0uCVdT1xFvO3ohlanXP1tP2JlxDGKmDWgo45YdULXE6vwDkW43lI9n7ZSfUwA6jM3s55uqOmrqkGnEnfw1oIH0GecYE6KOfu9bXwFlI6PYFVvs7v7AwMtY2PB0DxFvZGzfUz8cXo0M6Iy8JzNqW9P615dSBW4N2XNazxlJMkAY0yxjYgwQZoLs3JhI09+QNAN6mbwbTY8kYmKdUf4CaT2XjOy3Zv9ZeXfGdll3MHtqg3GExsdAd26mJpcYNL0GmEU7AC1yY70GGNYYgGwY8zE2gGe2QV89csiVNBkVCkAXybPeCob4yeXrYgLP9IV51o+Lz0SHBqpsX72ul/cVBlo6qKfvw3WKygsty6pjvJnGPYpMF0fkqlVtsXo5vbFotGjRIiVRrlAhc+PUAMAwwsbzDhMMIwz77K78gMjEcuXKSa9eveTLL7/M6cNpHd9tNAIWAL6NLrZ1qtkzArkNAFMfhBM0jpNMFDK6vTd9m732E8OTmc80kiHTt9nrSwGosKoA1MW7bM6VrPqPebC8PPbDJtl92mZgFZMvSXrHJcnba/zkzFWb/K552TD59z2xct+Xa+xsB5LcxxuUVECWTErawDvKSosKUdJhFI6gtjN87a4YKVcon8lhecRD1RRj8dxEc/bw1iMXTKZWv/eNlxmYWjk5TOumVkb27ltTtwk5vWoSmALGcbCev8MmOy0TGSKT+8arXGADGAISMdPS84gxjKJmmgUFo54O6fa/28UpU6szCbbJKTW5/ZqbAToO27DIxCcZixFIkpuWLyj3f+4Yk/+0i1OsPCDYaIotzuNvWqDo16yM1zpdPv/ve+LsIN7dfQWQ/98DVeSZCY4xd9UX9uhfLcvI61NscvHsbNS0//JUHfFFs58LGwY6RJwgmaTBBGOWRf2gAXiZPLuKJDIY3vREEt0KQwiY+mLBXhn6j2eVQ1acC27MgFndUIrnA/CpG0pxd2Lcx2KibqCFNJl7V2diDWkyfU3xRCEB6t86m0wNMNFJRMMlk3OU0gDU1ADrpliAWN6FzoCYvF9Yav0cOK4328VK8woZsxDLdzWGUhktJ87Ma0xkGc7VxJUBNLOiIYkGCPO8M2Y8uwBwaoWdndZZIKtRo4YMHDhQPvnkk6w4PGsf1gikaQQsAJymYbI6WSNw4yNAjY7OdNz4lnLGJ/nSIwuYLzWkTRndziZcU9JlI8+ym6qtxejJAVD7NyslNQsFSK+fdtjZiIfKJkr+IJGRmx3Zu0PuLiXJ/sEyaLLNYZmGdHnl3jPynlMdLdLFrxaamdH/zdxhdyeGFZkxsJGS/M7ZZmOVMTL64+l46T52halmdlzPOiqeyXAiBjgOdTK1uq96YXm5jVmm/Vh8CXmsQUnTuQLG74yLVuDWkC2+fk+sxBYKUyDYaB89UEXyBPqZ3LSpmSaG5KVJDmac81974Ky8Pc0m04QVmty3vkxZf1g+m2c7f+qRYXy/WbwvldHXBzO3y6+rbUCHSSkLFIOc2OJpAxqoBYqFKY7NZQHtT8dLlTdme7xd6MdiQdU3PferVypChnapLA0+WJjRt1+Gb69h2fzyYafKyqE8NzcmwjjIMjHWzaqMc9Ydmvl/wPHt0MjpHjJ9u2w9ajPzy8pGnS7vLWc3ZlyTAZLnrzjSCZAxA4pduTHzTtaZWNhd3hF65BDSZBbsqBfWpcmhgb6SnJQoFzWXaF+fZAkLEDl/zcckxQbQUudrmPwxVgBtykbYri7brl86Qt5pH6v2mVEts+XEGXWc+nZ41sguLlu2rFp0ysrGeB06dEiZZmGehVs0UmxYYSMybd26ddK4cWN59dVX5c0338zKw7P2ZY2AxxGwALB1g1gjkMkjkNsAMPKnVatWKYkYK76Z0b5etNfu2MsE6Kce1WXC8n0yYZ2N8Q3yTZZXaybK5H2+svy4TfZWII+f/Nyjirz21z5ZuMtWM2wAqgdHLzdJlzGY0g2cqKN9+75KqmZWZ0b7Ni2jwLhRlwaTeXeVQgrcGpOx1+6OlbjCqcFoUIDZ1GoMplZnHAZeHB8GXot2nbK7KcNuTunXQCauOihfLnCAcSTZQ13UEQ/6bWOquKcnf9BqpqPzyq996kuXLx3nX6tkuHzzWG1pN2Kx7D1lk243rxApH3SoKHd+NE/OppjV4Or8attY5bqtL0b0blJG2gwzy7k7kVHshS2G3aWu+WGNLXZ171SIziuPxZeUwVpGsat+9UqFS/3S+eXTuTbzr5zYnmhYUp69o6xaZMhtzYgkMup39Ugi6gJhha5evaoiVZBKMkHHNMtbzWBuGyfOhzEYMn2HfL/MFteWVY0FKl0uzPuF2mBArg4m+R2Mr87awg7DxOou0Rw3fan9d5YmhwSY63rpi4z5TMJVuaqlAAK0USrrLtE8HZF5A+TM5esm8AzQ5n4xscm+PjKgeWl5PL54hisqAHELFy7MEjlxRt0DKCz4Pi5fvrwCntnRmOMcPXpULX6hBqFRs0/9L6UMGGC9++678tJLL2XH4Vn7tEbA5QhYANi6MawRyOQRyG0AGAdYVpwrVaqkjDAyujFeJ06dkc5j18mRCzY30Kr5k6RrTJK8tdrPziTcGxcuvZuWkU5j1tnletTaUoery3T/2y5OShUMSSVdZsKn5/GOe6KObDh4Tt75y8GMwu5+M2eTTNhgM/8wHJZHzNklE1YeVL8jauPvgY3EFRh1ZWqlZ+/WK20ztYLdxvGZhlsxYPzOoQvlzCWbTPnBOsWkf/Oy0maYI+6JOuKOAM/hi+0SxBdblxccmjuOcrhpk0dMLuhjX6+yXyryjlHj9v/R4Tr9Vffq8vfiVTJ+p4NBn/hUXVm194x9MQIgx5hM3XBEhs+xSTuRLJJR/PXivXa22JCufzRrh7222GCLB0/eJH9ttNWM0pwn6WryFOhnkjryOybTuuus7Xr4ScI1c8Z2TqoF3vR6i4x+PLJte3okEaDXmOhyQO4iiahPJDMchojnmjpfaoQ91Qxm2wlmwY5RRLz+5xaV0ZvVDTALANZZWxYXMZ9CBq3LmGFck5KT7QtfHCuRSbzrqC3Wa4CRMfMu1U2xYJ6p6z1x0VaOYjTYaJhnHTwH+YkE+CabXKLpT1+YYN0Ui9rm9++vKFWKZlz6gH58ALYlS5ao77WYmJisvkQ3tD++j1FkxcbGZtqCdFoPjIUe3g0A4bFjx8qYMWPUcVH68Oyzz0r//v3TuimrnzUCmT4CFgDO9CG2dnC7j0BuA8B8wVFzxBcbk9mbbQaTpOd9MmarTvjIN9sdYGzYfaXlwEUfef9vG/AywNhva8yuy7ClAC9DpkvW7YyBDV1Kl7uOWSHEL9FqFA+X73rUVkzmvhRmtEVspPSvHSqPTdxtn6BRG/vsHeVUHq9Rj0bNbCdqZp3AaF0nU6t3O1SSyNAgU/YuTsfUwP3fLxvsQ0nsEGZbb061SbchEAGef1FH/M8u9TsDeOp1xEgYOX9THnFooKqZfuGXDYIpFq1UgTzyZ78G0uPbVbIixXW6YuFQebLUGflkc5DsO2cDlXVLRciYR2vJ3cMX2w2mGJOPHqhqymMmo3iwE1vctW5x6dPUzBYzTl1qF1XsuyGT7Nu0tJy4cEUmrrLJqt211+8uLwt2npbZKefgrl/1Yvlkbco1vdl782Y+/+mDVVT28K3YmMgCXnnWDYbXVSSRUb/rLZIIJhggzMQYqTTySOSaRYsWzZbs3uy8Jozti5M2yZQNjkWgzD4eQC5gUgeeZJezgKTX2sLEunJjBjyzYGYoQThewDPgF2myHk+kZMxJySZ5NTXA4XkC5WTKgp5xvnyeBSz9uAJ8kpXR1fmrOswWaV81Wga1iZG8QZknnWdRZ9myZereRLFwKzQUWXhysCCdGSVJNzoGq1evlv/9738ydepUBYBRf7z22mvSo0cPtRBmNWsEsnsELACc3VfA2n+uHwEmPEwAc0tD6ojrJJKrGzHdcM761OsFqSEyagX5b99fd8n6QzYn1erF88n3PeqYAOodsZHyfscqSqZsOJY+WBtTpzIKoGKaQnu6WRnBAEqXLr9+d6wycOo+1pHH+0mXqgps6gZL799VVJZv3S8Td9vAOBPB3/rUl1lbjsuwFDBKPRyRTa5Nrbaminbq/6Mje9dwU35o9ArZcMgMxvU6YmTKH3c2A0/qiF+5izriRfa6OUy9qJmGLTaMbPo3R7pdWJ0/k1PaoLsqSM0S4dL5S4frdLdyiVK6UIS8vcjhXovRF+zQwJ8cplPfPF5L9p9KsOcxsz0im1butdU70owFimkbjtrNvwL9fGVKv/ryw7ID8vWS/aofbO+UvnXl/Zk7Zdqm4x4fk+UvN5F+49fLshTQnhOfKe6frx+tKXVKZWxEWGaeK+8ozHT0RSg9kgjAyvMI4OWHf9+IlJnFLlzk+WFSjDzSAMI8+7dTm7vthAycuFGZQGVmc6WmQMbM4p3O2qJuyRuYmrWlLxJk3RQL8Bzg52tyiea+Z7GR97DOJocE+EhyUpIkJJpzgKmJP3XJXNeL5PlaYpJcvu4Avzj1v9Y2RtpVzXi/Cedx57ttxYoV2VJPe6P3AHX3pDJQkpQZppQ3elzG50aOHCmvv/66Kongu573R58+fWTAgAGqXthq1ghk1whYADi7Rt7a720zArkNADNRJneQFXJvsQtG9InBIvFffWIdFBSkvhCNyXVYWJiJEVqx97R0G+MAqABAJlo6GCN7lpxcZ7aUPGEjZxZGAWYU2S5mVzQjj/elSRsVmKUhn53av4E8+vVKWb3fJnsuHxkkfcpdlGHb8sre0zbpItFMyIgBmcfO234HC2oDowvtrqaYWj0aj6mVI9oJ9hgW1VmmXTYqrzziBMbJwOynyZSJXTp4JkEG/+7II/6ldz0VJ/S+k6nXpNWH5PP5tvpYQ7rNeIxfbqtDZAIKM/7GlC12gB4emCxDWxWQMdt8Zd52m+u0YfSlj0nlImEy4cm6poxigy3WGXTcWT/sWFnuHrHE7jZ7d+UoGdS6nNzz+Qo7o9SlVhGhvrrtiKWppM/OL4qXW8fIBzN3qozTnNhmDWwgRcKDc+Kh2Y/J1XPpHEmkP5cZHUkE+IUNhhVmv0yOAcI4yd5OQJjr0HvcOlmQYhaX2TeN4dzMO0uvAXbnxhzmRsZ88UqiKWKJ90twgJ8JEHMuyJgx0DJy1/kdNcC+vj4moyve6eF5AuRcwjUTm1w6NFkeKZ8oxSOClSwZwJSZ90dOqKdN7z1w8OBB2bp1qzKldBU/lt7tZXT/zz//XF588UWZPHmyKoX4+OOPZfv27fLoo4/KN998k9G7s7ZnjUCaR8ACwGkeKqujNQI3NgK5DQADYOfMmaNiFypWrGgaFCa2xJ3oTJIefYJUMr1MEm7CngAq2bPOrsstKkTKhw9UUXE/SPRoGDU927Jcqjra+1PyeA1mFBAL2wwja7RHYhKlUoWy8spUmzEV7atHasqRc5dNYNSdqRX1ws4O0x/9vVN+WX1IbcuQab/4a2ow7ixTnvhUPVXjS+4vzagjdjb1GnJ/ZcWC6+dPlFGrYQuFCSytZ8OS0q1eCVMEVOe4YHmsZQ1prxl9vdq2glQtFi6YiRntvQ6VVB6znlE8/MGqisF57ueN9n6ju1VV5l96HNH4nrVUhBPGQDQmwJN615NZW2HVHbExOL0u3XPG64MXGRqooluyu/VqVFKeb5k1USTpOVdKCmC3DElzTokkQg7NpJgIJVQyRKjwXsHM53Zxieb7Yc62k9LPS6xXeq63q76UR7CgpkcZ+flQg5+atUXyTA2wHk9EDTDb0GuI2Q8LiZedZMzUAONIr+cI0xegjYGWXtcLePb38zUBYrjiXo1KSK/4onL0sM1lmIUS7g8WSfhxjtu52fHh8zmpnjat54OaYseOHSqWMDw8PK0fy7J+H3zwgXJ/RjXWoEED5QXwxx9/KAUZsu2c2rZs2SK///67/PXXX7J+/Xo1rylYsKA0bNhQnnvuOWnSpElOPXTruNI4AhYATuNAWd2sEbiZEcBAJrc0JqqzZ89WkxC+xPQ6Qd0J1tfXV30hG4CX/95I1ueuExel3QiHdBeASu6t7iZMBBAyZN3UCZnuruOX7LmySJeJ2JnplMdLfewX8/fIuBRmNDyPv8wc2Ehem7xZpm+y1enlD0yWCY9VlldnHpJlKYBMZbv2dg1GnU2tMKJydphGlg2DbNS/4Tjdvnph87m2KS+1SkaYZMrUEUeFBgkGW0Yb2bW6JFxNNJl6/dCztmw/dlH+8+cW1c2QbiO9/GjWTvU7THGm9W8gP644KKNTIqAwpZn1XBMlW56wwmH0NfOZhvLvP7fI1A1H1WcL5wtScuaBP22wM1ilC+SRX5+qLU98v05WH7DJueMKhcqPT9SSB79apZh6Wq0S4TLm0Rpy38hldifqJjEF5JPOVeSeEUvtUSx3VYqWx+KLy8NjHAZeOfU5qlcsWD55sLpEhIZk+yECLPVFKCZvTDz/n72rgI7iaqMXd5cAgQAJCcFCAkRwKG7F3d2hRlv+UheqlOLuUqy4l1IoFBIguAWX4gQoXuw/982+3dnNJtmsb5h3Tk7CsjPz5ps3M+++7373KuMghbgvZYbXHSyJ2F/aqRAIc4GN4JcZP/44Aui4/AKZ6QCBcLvp+/QlH/buI4GmqXIzdQTUIJXAk6J0rPVV05hJTWZT2yYxm0y/7zsPnxmJYhE8cxFMfSzWAGfJoABtdeOzls8tNSBmDfK3TQOF/oBscnyQNcDxwSww68e5UGJPdsLNmzcF2OHCrqfQc8+dOwf+hIaGggwqd2ufffYZRo0aJeJaunRpd+tevP3h/IbZdS7aR0REiOw6qeast+YzlOdEYS+teW4ENADsuddO67kHRSA5AGBZJ8hV8uPHj4tJCCcmsnGiKmsEOanmJJsg2B7t8zUn9ACV1N3NQyvho5XH4lgAdZsTjeiLCnWZNN1fe4UK/9yztx6Jz6oWy4UxbYOMBJyalc0PqicbZ0YLo10FbyNrnz7heVG3bBG0mmJQWP6mWUl4ZTEGo/GJWrG+19R7l2By/DYl40maNuuIp+w4L2pk2ThB3DSkMr5cZ6Ape2VNJ743eNEh/HVaoSkXza34EdMX+KAOeDIzTjEtZnLl+Vf2y4kJ7csKSrZUom1QygtfvlnCWHW6vDeGvOErQLsU+mK2uF35Amg0IVIvYEU7kjcCcqHl1H16SiWFanhsNWj9pmmgEqd5B/XD4bj6VvMAACAASURBVJfWpQUoH7LYIP41rWNZoRz74QoDxXtB93I4cf0BvlinqHO7Y3vTNzVq5n0iMlmclDOLSXq/s5rakogLUqy14/3KxvtUAl7en1mzZnUojdSWcyZIp884J/TUCmDfZTytWTyzpS+u2JZZ121OyAabE5+Kj8ZMQEwBLbW3rzkaM7PJWTMolGc1vTpjagjdgacvjWuAqRSvFtVivPks+bxRgFCbNtc4Pij6ROo8S3EIRKgozvvNHsJKtPI5evSoAGoUbfKEdubMGREPgjRaD7lbGzZsGCZPnizuaWf7FNsSi9q1a6Nr165o3bq10SILz4U1zHw20ePYnbPYtpz/67CtBoBfh6usnaPLIyD9MF3ekSR0gJMNNZ2ZE2t1nSBfAFSdlBleTkCsEcaxpEu3H/xnBFAp8tSmvLeR6vIHdZVsqZqm+0PLUkLYhTRq2Uz9eAnCSF1mzevP6szo4EqYs/si5ujEmjKlTYnf36oiQOyaw9fE7vJmSSdqiwctOoQdOjBK7+FVAyIEhVqKWlFsak43Y+9d0rR/Ik17zN96+m6L4PwYVtdfgFFJU+5e0Qedwo1pyqwjrhWYR4B7Odmkzy5FvQiCZWNmnCI4/RYYzn9qp2CRiSHdWrZfe1XA0SvGqtPL+4XphL4UgM5s8ap+FbBo31XM2q0AdO57/cBwjNt2Tq/izAWKDYPD8cXaGKzT2R0R/K4bFI53lh7FNl1tsU/ODFjVPwy95h7AXt2iBT2Al/SugA4zonH0qk78zDsr5nQLQfPJe/RA3pIx46zv1AnMg9GtS4HZI05GqSTLhR9mEDjhcwQQ5oKauq5ebUnEhSgpJEfAa1pX76y42HIc6SvKSTOBjowngY49M3629NGR2z568hTtZkTj9C3FGs1ejRCU5RYsi1BX0HOh7b/nxllbZod5f1tLY5Z1vXEAcVolmywX1vg3j/V+bV+0LpffoncIF3e4EEv6L5kObLlz5xZA2BYaMBdfuLgbFBQk9ucJLSYmRlDEK1eu7JBnja0x6N+/P+bPn49bt24JCnFyaPXq1cOmTZvA7Pann36aHE7ptTwHDQC/lpddO2lnR8ATADDBrZrObEqbZOZIgl2ufJISVKFCBaeFcuK2cxj9h4G6q3jPXsTcSEVNmNQ7Upc/XXNc7zNbIFt6bBhcUdCF9+iUg0ldpmJxi8mRgiLMVtE3JybqMqPX/lXo6o3LeGFEw+Ko/fNOPPhPyXRTYblbRR+jmtmhb/jijeJxvYdNRa1+EQrTKUTmVjaKWl2MfYRPVhtoysv7hovM7k+/K/Wx5mjKnJgyCz56yxksiVbqiKXP7vAVR+NkxvvMP4Dd5+6I7/nnzYTl/cLFQgFBL1twwawgZbzuT3/i+mOld1X9cmJUq5JoNCFKL2DVoGQefNIoAPXHRRoErMoXwMDqRdBgnEHAqkfFQmgf6o2G49XZ4qKoW4Jx2qMXsBper5hQom4zzSB09mWTQPjkSI+ucw7o4/RTy1KgGmz/Xw1K1E4beIkcaN3AcCEUxsaJOYHw2bNnRRbWHkDY1JKI9yizo7IxMyqZF/ztyIUoZ8ec586MH4Ew48kFNm9vb7GwQCXq5NLUz16ZwefC1rE7KTD1pOPUsZm1pfjUXZOsLWt9n5vQmFkDzOfO3ceKN7ts5mjMrAFOk9q4rpff53e5sKemV/N59H2zQBTLY501Dt9TzIASYIljZMsmgDDBVlIXZAkkCSjdVVDK3HgnYCdwZ02qO5YLdO7cWdTSctEuubA4KOrF2uY+ffqI7LbWPDMCGgD2zOum9drDIuBuAJgTS1M7InUWidldUzqzWpRmy5YtojYmPDzcaVeCtWL1xv6N63qASu9ZY9VlZks7hBUUvrWSsvdenWIIL5oDracYBJxGNiuJXJnTos88A8ia0ikYsaTfLj+mP6clfUKx/fgVjP1LqYVl3dvaQRWxZJ+hZlaCUXOiVsOWHdH71kqF6a6z9+lp2iXzZ8Hi3qFoNjESp28awDhp1A3G7sKVe0oGiDTlL5oEos6Yv3FXV0dHivbAGr6o+8tOfb1d36pF0CLE2I94WJ1iqOSXUwhnSeHkzxsXF6Ct62xDHfGoliVx6eIF/LxH6QfbxLalcOfxC/xvlQLQ2RQBq/t6uyO9gBVtof40ZIvXDggXtcUzdikLFPQc3TAoHBO2n8eifQpo54R4w6AIfLPhFFYfVmqLabvCbPEHy4/rY0cV2DUDwtF/4SHs0gF5pw28eA7E6z6rSzBKF8ga5xu2AGFZaqDO8KpLKAj81ArN1loSuTp+STk+Y0KAQyBMwENgwxpNAmF7UF+T0hd7fJfvA7nYyN+mGXz1gsar1OnRe/5Bu9cGk/JMKyNaHMkWnxozbY8IyNVZWz4LzdGYCZ6ZTVbbJqVOqdz/6hpiHrNDhQJ4p5avyADb2sgUYEaYtkAcLxwXrCEnRdrSUhx3F5QyFyPWpHKRqEaNGhafp62xTsr2LVq0wM6dO8UCliMVvJPSJ1u/26pVKyxbtkzYO33++ee27k7b3kUR0ACwiwKvHfb1igBX+KUIjSvOnMfmCyi+STVphaZ2RAmtnlMFmtROqjo6s1E1+X8rDACVmdxdZ2ONs6WDK2Hu7ouYraMuc0LGbOlX6+L68fZfeFBsz8ZMxG99w9FmahSOX1PEmijEMqqpH5pO3ovYp0oNW72SeSFErUzAqDlRqyZBxt67FPAKLmispvx9i1LCkohZWtkIxkkdHLbMmKZ85J9/8dV6pRaWPrur+oeLbDcFq9g4kWRmfOauC3rqNq1MNg6JwHcbT2PlIYW6TXsSUpffX34cf+ooyQSZK/tWQPfZ+3DompJh9M4ETGhWGB/+fhvHExCwqlYsJ35uXRoNx0Xius4WqkGpvPiU2eKxkSLDxNYqJD+YMa8/drfeg5RWUZ3DCwrxKzlpHlCtiMjAvzkxSp8teq+2H0gRH7z4MPbpKNPOHHvqYxX3yoSpHYNB9emEmiVAmPcmAZCafaEuNVArp5OB8TpQgOOLKeMZGxsrgDDjxcYyjKJFi4oFOXdtkrIurzHBmmyWZPDtXRucneJTz4xBanxqzFykohq0kbevGRpzfIA4fSqAtr5qKyQqR3/ZOADV/e1PiaVIFsWyKKpGjQq+pwiEKZqVGACjCBvZG+4qKGVufJONRTp4zZo13XL4161bV6hUs77a0oUItzwRXadY5lKqVCmR0aZnNNW3teaZEdAAsGdeN63XHhYBZwNgWg+pVWD5t1qwinWBplmkpISUPsAEyFWqVEnKZjZ/l2Iq9M9VWwCxplUt6tSotBc+blRcCDhRvIWtS0QhdDXx4327lh+q++dG88mR+swoga139vToPseQGf2xmT8OHT2BOacMVMQFPVkzG1fUau2R65igErViffCk7XEVpj9dfQLrjyoZz/zZ0gnQyjpdCcZJB1zR35imLOuIm0zYjfO3FVEv1hGPal3GSNSraVA+fFDPH/XG7ML9p8r5dwz1RreIgmg8cY8eZParWhiNS3uh6aQovffmB3WLobyPMSW5vd8L5M2YCr+o2MeseSWd20jAqlNZ3Lz/H4arPIqZLT5y5T6+3nBK9IMZpt/6hArQPfoPBbRz4szsLhc3pu68KD7jZHz9oAhM3XkB86OU7DuzUG+/4Yef/zhjZM9i86CyYgcr+4XCP6/lgMsUCPPeYUkBJ4RUTpf3Jj/nvWmrcroVp+RxmxBMEghz8s9G0SICYcbV1Y0gTJ3hffRIuV/ZpPe5zPJSuMhSqi79ewctOizuKXs2lo9w8UmdteViGpX15TNUHo/fZSZYDYh5v/Ic1Bli3usUyyJ4VtcbRxTNjq+bFBf6CY5sfOdSxZdgWFookT7P2vz4qLgEvwTBZDZ5CrNg//79YnG7WrVqjgynVfvmc49zBPaPsbV0nFt1MCdsxHkVFxp27NiBtm3b4tdff3XCUbVDOCoCGgB2VGS1/WoRUEXA0QBYTrgk6OWkWjZOstUTav5ta60QPf14TtWrV3f6dWZ9bC+VBRDpwsyWfqCmLvcORdT5O/hhs1JHS5C1Tmf3M+NvxcuX9L3NQyrj+02nsOLgVfFZnixphcLyW0sOC1EstiI502Ow/wNMPJURp2MVr1lmced2jytqRe9hWhtJT9oWIfnxXu24CtMdQr1FHbGkadOflwrVajD+ZZMSKJwrA7rMMlgAjWmr1BGr7Z5mdQnB5buPMUJFU17csxwiz9/BT1sUSjLPf0XfClh1+Dqm7FBAJuv0JMhcsEcBmZzcbhgcgZEqSnLODKnwaYVXmHLkOY7eUaiKhXKkx+r+4eg574A+G8us6OJeFYSVi8yghxTMipldQ9B80h6c04H2Kn45MaZNaaEmLZWoWRv81ZuBaDBut95ntHlwPjDrywyyBPJOH2xmDsgsNunoljbpjU1AxOyl2iqM++BknDTNPHnyiPrF18X/1tL4JfY9UqIJhFl7zUbxIgJhPuec0RKr0ZbsGgl4baWs83hbTt4yWnyy9jxl1vbfx8+NQCptj2hNpAbE1CIgKFZ7A8tnhikg5rOF4oJGVkgpU4Cq8VyI4zPMWY2LS6yRJb2Z70m+D6WFkmkd+alTpwRgJrPJU2rMmYXkeTl7MdqS68exynpqLiYwU+1MANy8eXMhaJaUNmfOHISFhcW7yYABAzBx4kT4+vpiz549QgdFa54bAQ0Ae+6103ruQRHgJFidgbWl63ypSMqkBLzmRHEk6JWZJluOabptZGQkmNVwFe2qx5xo7DyjUJf9mC3tZ0xdrlA4O2Z0DhEg85+7Sh0tqcu0+6nzy069gFOH0ILoU7WIAK1ysjeYdbUl8xopLLcq+gIhvvnw0RZlks02WohaAUMWGVKjFJK6cNtY1Ip9+zPmVhyF6fmRlzBzlwJGCcZ/H6qA8eUHFDBOei0zyO+p6oh9cmTA6gHh6DF3vx54lsiXGQu6h6DN9Gi9qFdo4WyY3D4ITSbt0Z9/7cDcGNm0BOqbgMx3a/mJz+TEtmt4QXSOKGRMSa5aGCG5XqLviktQ3GSBfuG5UaOUj1CrlY0g1jtbenSfa6Bz/9yqlKg1ZOZKtikdgnBHLFoYJijzuoUg5sZDvd0Rp8hL+1TAmZuP8OGKY0bWKvYcy0nZ17A6fugWUSjBiZwUNJL3pqklkdoijLRAKZYlxZ1eZ4pzUq6F6XcZRwJhxpSNk1MCYQJPe068+fzls09dTkIAIpus0VYDXlvOK75tyQJ5e+lRvbe2NcegsNyjZ/KOBiiKlSldapH1VWdtmcllxtcUEBPomtb1kqnx5NlLowyxV8YUGN2W9fKu86llqQEXSSiYxfcnxwRZAxTMkvT5kydPiqwxwaSnCDbxXcxzc3Y5kiXjjfeKv7+/AIy7du2yZBO7fYfA++BBg/uBJTveunWrqKU2177++muMGDFCLFYyA1ysWDFLdql9x40joAFgN744WteSTwRsAcAEzsxyqCdc3J9sXF1V05mTQqmzNsJc/WSf6JXninbi2n1BhZaiTszI+eTMiG6zDWBsfPsgPP7vpQCQstHuhz65IzcY6mjXDIzAigNXMfmv8+JrFDfaOKQSxvxhUFjOnPoVJr+ZH9OPPo8jatVl1j7sv2TwHl5kImpF793x7RTvXakwTZr2J40CBXVZemF2DCuIPlWKCFskfS1s9aJoVDov3pxAmrIyJf2grh/KemdFh5kGmvbXbxZH7kxp0XehAWSOb1sGT56/wLvLDDXTc7qG4Myth/h8rXL+BJnL+oRix5nbGLUlYUoyxaombD8nbJBEnFK9wteV0mDNlQzYckahZFLAilnlYb8dxdYYJYMus8UU8pFK3Ky3Xtq7AjrOjNbTOYO8s2JutxC0mLJHgF628CLZMblDWXyw4hg2HjMsPrhizNGjmGJipo3gR11uYM6SSN6fppZEUtyJdWUaELbPVWX8SWNl1o+NCw4EwtaoAnN7tSiZpDVTxMr0+SuvsTMXMNg3isepfbOtjSLBbMqUltGYSXmmKJax0JWSIX6oU8yX/QjPC/QIzoxKoeWs7Zpdt5N15MwIyzpyjg0CYdYNU0SLdGJPYWKQjcW+JpS5tGsAk7AzxprZdoLzzZs3J2FL9/rqpEmTQDsnMnSof0JwrTXPj4AGgD3/Gmpn4AERSAoAlgqhclJNoMkXCRtXrfkQVgNeV6xUR0dHi9V0+uG5qg1ffhS/mWRL1dTlovTj7R+BdtMNdj+yjpYq0ZfuKEJP9NP9rnkpkRmWnpf0GB5c01hhuUVgJvSqHQTW4LIWmS0+UStai/RViVpN6xyC2w+eGtG0qf68/+JdvZpyqhQpsHpgOFYeJBhXaNqclK4dECZqY39VKSevGxCGr9afwnodKMyXNR3WDgzH0MVHsEOXGS+aKyNW9AtF51n7cegfhRJfpkAWzOtezshTt2LRHJjQvoywLDKlJFOsKlanOt0yJD/eMhGwesMbqOr1HF8fSK0XuRGWSKWYQTfYHbG2uIJPdrSeZvAophI1+9hFpUT9U8uSyJg2tVB7lo3qsY+fKTZUrmqkih4aUUPch2RbyHvT1JJI1ncm1RtbA8L2v7LM0jIjTCDM+JIJQyBMqnlCGWE1w0YuOqoBL7OFapVmVzx/TaNFO7MRq09YnQ02l7UlmCXDRU1j5oIZv0uQK/3H5XOKQl2kTcvG742o749Mt46JeJUtW9b+F9nGPbIcgRlhSZ9naZAs7UlMMMvGQ9ttc2YjyTpwRzEmznvIxGjatClWrFhht3N25o5Y59uxY0chPkjvX/otay15READwMnjOmpn4eYRiA8Am6PTqRVCubKrBrsEv+7wYia1iBNLKjy6Stnx2r0nwhaJdDu2QTWKol5JLyPq8qeNAuGXJ2OcOtoXL4G3lxiypfN7lMfJaw/wxbqTYl+c+K0aEIENR69jnLT2SQn8/lYVkSlesOey+B7VmzcNrYRPVht7D68fXFEAYOm9G0CF6X7haD3FoDBNsamZXcqh0XiCcYVC+UZALnzbrATqj49E7ENFObl5WS8BPBuOj9JnV7rTZ7eCt6ijlXXEQ2sWFaJYzKDKyeknDQPAY3eaZcgW/9CiJDKnTWXkqTupfZCwQ3lfVUc9v3s5MaH+Yp0hW/xb31BRG/2zSsBqfKN8WLr/CjZfVur60qdOIayNJu+4iIV7jWuLv914CqsOKRTVXJnSYsPgcAxfcRy/n1A8PClAtmZAGAYvMgB5V9/aOTOmxsi6+ZENjwTwNWdJJO9Re9R30u6HgjGcnPPe0qjRto0ALlgQ5JDaSqooASyBMKmMBMJ8BkuFfAl41SrcUjBQXmN3ALzmIsLzmBN5Gd9tUnQPbGmkPDO7qxa6og9w6lQpjYSueMdnSJsKtKhTU6aDvLPgu2aBKJg9A/744w9Rlx0UFGRLlxy6LRdLmBFmBpiNLCpmhJNioeTQDiaw823btonFnZCQEFd1Id7j8hlG0bFOnTph7ty5bte/xDq0bt06NGvWTDwnVq9eLeY7Wks+EdAAcPK5ltqZuHEESGMmCOYEjC8FNZ1ZnV0w9fjkZM2e9Wv2ChG9By9fviwo0K6kiv38+2lM0lGXScvbOKQyxmw9g6XRykQmZ6Y0Qujqvd+OYOtJBWQVzpkBawZWRKeZewUdmq2Md1Ys6FFBZHelwjItOn5uXUbUB998oFAemwfnx7A6cUWt2od6G3kPU9SqSjFj710qTNNqqJtKYfqX1qXw/MUrvPubgaY8s3MQzt56jC/XK8rJnGQSeG5TKSdTkMbUZ5fUbQLPMVvPYul+hf6ZM2MaIWpFgaxNxxUKcYFs6bF2YBj6LzysB+hcJKA6s5qSTJr1nG4hRtniyr45MLZtGSMBq3ol82BEXV80mrgH/z5VFiOqeqfCe3X80XHhKX1tcZfwgqDlETPNkjrZv2ph0CpKbXf0bm0/tC1fAAMWHsJeF9sdBWYHuhR7jkxplDtHZv+Y4XWkJZHMCGtA2F5PLAihIAJhPrf4HGa2jxl7AmRTFW61B7qtgoH2OwPL9rT3wl1hlcZ6+qQ21gCnT6NkeNUtY9qU+O/5KyNATFYEf56o/I34rOpVuRB4X7Pun+OYdZWstS1dunRSu+P075PZRMYVF56khVKhQoUEjdeV77n4AiHj664LDFxQCAwMRL9+/YR4lCc1ehfXqVNHMAKWLFkigLDWklcENACcvK6ndjZuGgEKs8TExIgMktoPmCu36gyvM+vHbAnVsWPHxIo5RbA4iXRVe/DkOeqM2anPlrYuVwCDa/qh3pideupev2pF8GZQfiPq8ogGAShZICs6TDdQcke1Ki1q2Ab+aqDfzupaDpdiH+Pj1YpYE8VLl/cNx7ZTcUWt5kVewiydqBXpf5uHVMK3m05h5UHFe5f1saQzE+z+dVoR8CIYX96nPLrPPYiD/yh1tOZoyhJ4EjzKOuKGpfLik0YBqDd2t76OuF2FAuhftYgQtZLUxT5VCoOKyk0mGDx1CTIr+eZAqyl79ZmbzxoVh29uU0pyKWFJNODXhAWsmC0+ce0BvtR5FKfAKwwLeoFzTzJgSYySyeZkefWAMKw4cA2Tdxgo3usGhWPG35cwL0rJqhPI07ZJWiK5amzxuNPqZEDuXDn1KurOBkOmQJiLYcyoFClS5LX2A07KmFAvOsoaXvUzmGCHz2DGlXRNdwQ6STlffpfj5ofNZzBL54VuyfZ89rHS5j/SY3QtPkDM0gxmh9UZ4rxZ0uLbpoHCO102gkhmKOnVXLJkSUu64dLvEACTgcWaVWmhxAVqjgmOj4QslFzRcY5j1qQyU01vWndrnPNUqFAB7733Hn744Qd3616C/eEzgfM1skXis5iiWFqvXr086ry0zhoioAFgbTRoEXBCBEgX3rdvn5hIqy2JPHWyRbVM1tfxxUC6mCsb1ZRNqcvrj1zHeBM/Xv57kY6Smz1jGqG6PHzFUWzWZUZJv6UfL4W09l28K06pZP4sYK1u7R+34NojheJbyTcnJrQvK+jX1/99Kj4T3sMNiwsBK1KJ2Wh11N3Ee3dAtcKg5U+LKXv1NOWP6vuDSs6mNGXSEE2BJ+tx1YI39Nk99M99ozpi1v1uOHYD47cpol6c2K4bGC4mw3MjFZCZJR3tjsLFJHmFDqALSvKgcLF/2qywMWNNj96+Cw4i8rwSE3MCVuayxWW90qJL0cf4Kjol7vynxI7n/vWbgUZK1M3K5sP7dYqJz2TsXDme5LGH1fZF90qF3aErAtDQ75ZiWWSQaEA4/stiKhqoXnQk2JWLjqQ2k/pM2xuyc7j4SNorKefuUGZij4G34/RtfL4uRq8En9A+Wfahruvlc4NNLXTF79AbWJadyP2xdOPzRgHgc1XdmD2jZzwzqMwEunujuCMBr6zz5FiiKBYXe8kU4PjJnz8/fHx83MImyd3jS49iWiV+9tln+PTTT9398hv1zxLmXdeuXTFr1iyPOi+ts4YIaABYGw1aBJwQAU6w+LJyVb2svU/x9OnT4A8nCpxIurI9e/ESjcfHpS4TjKr9eN+pVUwAVHpWsvWuUhgtQwqIbWUm48N6/ijnkx1tpu7Rn9J3LUrhQsxRTDCISWNqx2Dcevgfhq8wUJd/7VkOpB/++LtBTZnZ3ZWHrmPa35fE/ijoRJA5btt5LNHRtFlHvHFwBD5eHZem3G/BoTjAU+2zW65QNszoEiwoxBdjFVGvmgG58EOLUsJTV1K33wzywod1/Y1AZscwb/Ss5IOG4yL1NEZzlGRa/4QXyYHWUw3Z4i8aF0eROAJWpYRo10CV3dHYVoE4deEKxuwx+FJPahWAq49hpES9pHcFXLn3BO8tO2aUgXLVuBrRwF/UWFsyCXJmH80BYQI2Zik8hT1i73gRpKhFybhAIDO80gNdLjqa01Dgs5kgmPRoPqNZ40sgTOprcgDCHDOs7V975IbFoScL48kzY6ErMjjIgJGaA9wZQfKw2kXRplwBs/cK6+VJJWXmNCAgwOLju+qLtBRivCIiIoy6wM+khRIXTdiYdSUQduX7j7R+qkBzrNJuyN3a9u3b0bhxY/z4449499133a17Wn9e8whoAPg1HwDa6TsnApyQqYVVnHNUxx2F2V9mgTlR4OTS1W3z8RsYZEJdph/vp2tOiK5x4kY/3i0nbooaWTZmMjYOroTpO8/r6bdZ06fG5qGV8fnaE1h3RBFryp8tHYYHPcPEo8DxWIUe6J8nE5b0Lo9206Nx4voD8Vn5QlkxuUMQmk7ai3/uKaJWdQLz4OumgVCrKbcul18IdtUfG6lXN+5VyQcty5GmbUxTpkJzq6kGmvaXTQKFUFQPlc/umDalBXVx6BIDQp/ZORiX75K6rYh6sdF2KPL8HZH1ZeOEdlX/MKw6dA2TVKrTpCRP//si5kepBKwGRQhxnZWHFDo3PYrXM1u8POFscbE8mbCsTwW0n74Xx64pNYmFM7/CF9Wz47NdT3EuVolTBZ9sIAV96OLD2K+ry3bFmGKGa1aXENBH2p2bBMKsEWbNIoH66wKECVhNAa9UySdglWCXFMakeKATSJP2SgslAjfS3QmECd6cTX13xNijBsI7y44aZXTNHYclD2rlZ36HQPe/5y+NhK6K5c6IkU2KibIJLjTIH/U+mTWl/6u7AjTT82dfOYbisxTiOCONnosl0kKJtHmOE447Zy+Yka5N0M7j+/n5OWLY2LTP9evXo23btpg8eTL69Olj0760jbUI2DsCGgC2d0S1/WkRMBOB5AaAOQE4fvy4mChwAuDqxolJhxl7Ea0TTSJ1eVGvUOEVfOamAryq+OXE2HZlhffuzfuKqFXTsvnwYb0AYYH04KmSGe5e0QcdQgsqolY6TmBz35Qokf0VRka/0k8CP2/kj/zZ0qPPAkN97Ni2pfH02Uu8pxK1orct1ZRpW8RGkLW8bxh+P3ETY3UK02lTpRQ2RnMi49KUCTylcrL02X1v2VH8eUrx2fXJbyzizAAAIABJREFUmUEA2R5zDiBa50dcMn9mLOxRXmRtpRhOWOHsmNKxrBCw+ueuAjxrB+bGyKYlUH9cJG4/VGJCSjKzvgTo958qdG4KWHWrWAgNxqkErKoVQZMyXkYCVuayxebsjrr6v0D6VMDkE6lcPXT0xw/Mlxn0TuY19ZT2OgBhLhyqAS8zcBLwsoREDXhNfZatuY4EwhTvIRBmho3HYKaPP54OhBk3Lp7JcobE4kNrtlQpU8RhZbC8Y2h1H6RJqdQby2YKhKmuvHv3brcFaKbnz2w1NS1Yt5pY4zjke/DGDSWzzrFHIJqYzVZi+03K/7MPpG37+voKXQB3axSP6tmzJ+bPn48OHTq4W/e0/rzmEdAA8Gs+ALTTd04EOElQqz0756iOOwqVVKkETe9BvvDdoR24dA9tpxmoy9+3KAVmdPstOKjv3vTOIbh67wlGrDKIWi3tHYqdZ2IxaouSGaXC8qp+ofh17xXM1tXMZkyTAh8FP8eKcymw55ZSGyfB6NtLj+hFrehru5zeuzOjcfiKQpUL0qkpN5sUhfO3FZpytWI5RcZTTVMmmBxez1+IWkng2SlMAZ6NVMrJg6oXQb2SedFsksFn93/1/YV4VvsZ0fpzpZ0S63p7zzec/4R2ZUTW+d1lBur2nK4hOHvrET5bq2SLWa27tE8F/H32Dn763ZAtNidgtX5QBKb9fSHBbLGsLR6+0mB3lD9rWoysmhE//B2Lo3eUeLqyEfTTMooKuJ7Y4gPCnBRTWd6TGgGvFKvib0k55TlIWzip0kzQ4aisGxctqd1AtgszmcwMMpNJIOxK4T9br6VQDo65jUGqUgVz++Rz8OVL4IUK4ObImEbU8NcIyC02YYy4YMAfc0CYADgqKkpQ9Pnj7o2UXSq9lytXzuKu8hxJoedYYTyoicExQuEvR5c8cWGIwl2kP3NsulubOXMmhg4dipUrV+LNN990t+5p/XnNI6AB4Nd8AGin75wIJDcAzJc9vYCDg4PFi95d2luLD2P9UYW6TLsf+vH2nncAUefviM+Ke2XG0j6haDE5Cqd0NiHhRbKDwLDRhCi9wnJ9WvvUL4aGE/bohZnahHihet7/8NamWDx7pYg69ankjUZBBYRVkBSQ+bhBgBCK6jLb4L37U8tSSJs6hfC3lW1ap7K4eu+pqP2VbUkvhab8owp4Mru7/MBVvSqyrCOesP08Fu1T7J5YR0xRq8/XxmD9USUjkS9rOiF+NWSxwVOXdMXlfUPRedZ+HPpHZwFVIAvmdS8n/IPP3Hwkto0omgMT25dBo/FRojaXzZyAFdWl36ttnC3uHF4Q9ClOrLb43Vq+aFw8K3rOP4yz94xtV5w5nrh4QNVpRwEpZ54LnzOxsbFCLEtNjXZnIMyFQTXgffBAKSlgY8ZVgl3+doUtHEENVfwJhEk5JaghLZrZPk+uu+ZYYXnF8WuGeCc0VlmOwUW1PFniqv7HB4R5LQ8cOOC2GUrT86WiMsdZ2bJlk3zbchwTCJNGT5o+a8kJSlma4CixSwrj8T1MgTEKjblbGzduHP73v/8JL2g6RmhNi4A7RUADwO50NbS+JNsIJDcATNoXV57LlCkjXvDu0i7FPkIDUpdfKLQ8+vFWFHY/hswwMxi5MqVBv4UG6vL4NqVw9/FzfKSqmf21Z3lEX7yL701qZn+NuoA5e5Ra2LQpX2F8wzxYdzEllh9SgKf03h1uRk2517wDem9bUm4X9YxLU57cMQiNJ0Tpacrx1REPruErRK2kqBcFreifS4qzPP+33vBFDf9cAtxKgM5MZ0DeTHFUpzOnS43+Cw0WUBPbB+HB0+cYZkLnPn3zoZGAlblscXy1xTN3GSjeFMyqUyIPVh9WFixc0WZ1CUZYkRyuOLRDj2kOCHOCzCycqzPCrK9VA16CStkIGtSAN1OmTG6zMMGY8rlHIMysNBdM3CWm1g4mnhP9xdVq86b7olbA0Dd8xaJWSoopJNAkECYAJPilcBQBISm6zIo6OiNqbRy4nfTUJaOJ7zVrG8+dFHoqR0sLJb4juWhib+YAxyOZWLSYcqeFaBm7kSNHgj9kAYSGhlobUm07LQIOiYAGgB0SVm2nWgTiRoATv+TSbt26hb179wrvQXejXn2z/iRm6/wv6cdL1eWRG0/rVVDpV7m6XwUMXXoMu88p1j5+uTNiWd9QUGGZfrZs5X2yYXqnYDSeEInLuppZgtGvdDY+dx4p/raV8r5Ew8LAl9Gp8FQHvOm9S1ot1ZmlwvT7dfxQ3ic72k7fpx8GrL+loJSapsw6VNKUTeuIY64/1PvsKnXEocKuaMzWc2J/Sh1xGBbs+QcEmmy0UtowOAKj/ziLZfuvis8kQB+xKq7q9ICFh7HrnJItl9niTio6t/QoTixbHF9tsbvYHRX3yoTx7YIESyA5N3cAwqyjVQNeUkZlYwZV7YNO+qi7Z+KlNzOBsMyy0xqHWXYCdk9sT5+/QMeZ0Th21TgbTH2BH1uUROkCWRM8LcaEiwK8zmQgkJpLIMjG68n3hBSJIpXcHYGwvT11uT9pocQxz3MmSOVCgL2sA8nEohYHAbu7lCKpB8qIESMwZswY0UdPsMHyxHtX67P1EdAAsPWx07bUIpCkCCQnAMyJDtUn+VJztfgGJ1+y/kxM+B88RYPxFHBSaLUdKhQQIk5NJu3RZ0aH1CiK6gG50GqKwdqHYk30ve05z1AzS4Vlqp+aglGC5K83GEStPq+YDjsvPsaGy0o9q/TepZoyASkb65EJRr9eH6MH46QpU/xqqBmashp4yjri5pP24NxtBUBULZYTo1uXFlTj6/cNfsS08GFm+N5jZQJKO5++VQuLemOp7kqATvqyqep0JZEtN8Tk00YBoJIzKdOy/dSyJDKmjZstfvj0uVGczNUWT2nli4s37uK7HbH4TxHUdnpjrTWvtafW+1oTMGcBYR6H9bJqwEsALBuzz+oMLwGwuwPe+OItY0ogLBWBCXCYZSdV29Maz+ev07GYtvOC0C/gffJB3WLIlC51nFNRA155rdWAV3otE/TybzZpTSV3RiDsTjZT0lOXixklSpSw2+WTCyYUzKJFF1vevHkFEJaxsfZgzK7TjYGlSO4gRml6Hm+//TamT58Oaoa4E1PM2nhr2yWvCGgAOHldT+1s3DgCpEOphULcuKuJdo0vcvoPUnzDmfYLaqDLTvLf6omVBMOzdl/GqD+UzKhi9xOKJdFX42RGKfK04qCxtc87S4/qRa2K5MqAFf3CzIpaNZ0YhQs6793q/jnxfpU86DD/JO4pYsqo7ZcZHzcpLeqIH+q8h7tGFEKnMG80HG+gKQ+tWVSIyrSYvEevME2aMoGnaR0xgbVavGZax7K48eAp/rfSUEdM6vbBy/dE1puNSq4r+4eK2uDx286LzyRAn7U7ruo0bZJkTEgV3zAoQux/84mbYlvaMK0ZEAZ1ttgvT0b81icUatBeKl8mjGpUED2XnMHlfxUwXjTLK7Qq+gJTT6TGXV2cEh1sdvzCh3WLgTXKngq6bA2FBG20T2KWzlYaL/fH7JYa8KoX+pjpMgW8tp6DO27P8ycQZk2mBDgEwrYCHFed68tXr4zozrzOpDQzu5sQ4JXZfHM1rxTKIkg2B4Q5Dl2dFXa0ZzFjyHuO1Gg5Thgv1pLztzXPJO7r9OnTQoySHtfu1nr37o1FixaJ83bH/rlbvLT+ODcCGgB2bry1o73GEUhOAJiToR07dojaroCAAIddVTXgje9veXA5geDv/168jCPgxKyfaWa0dxUfI2ufgdWLCLEnS0StqJJKgSnZZnQOxsXbj/DZuhjxUQq8wkcVUuMqcmD63lviM4JxZnwX7f0HM0xoyj9vOYvfDig0ZQJPKiybqyMmXXrPBYW6TSrv4l4VBK3aiLrdOVhkdy/dUVSnawbkxg8tShqpTjcNyicyPIzJv08UgNoxzBu9KinZ4ifPlRRt3yqFhV2Ums5N4atKvjnRcooBtA+vUwR5073A22sU+jVbF/8XyOAmdkf0Rg4vmvzqfa25+awFwtyONbtqwKtWtycFWA147V3zaM25OnMbUqIJhFn7ypY7d26REXYHr/SkxMEegDe+40nVaAJh9YIws8GuBMLSs5iZ2WLFiiUlXEn+LuniBK+s4WUMqGbO4zIznBQgzLHGH9bXch/u1mh9tHbtWn0ttLv1T+vP6x0BDQC/3tdfO3snRiA5AWBOFrZt2yZWr+1NF+MlMaU1m/6bkwT5w++bmzSsPnwNHyxX7I7YFnQvJ5SPv91kyIxSrGnFwbgKy/TnXWpSM6sGo4VypMfq/uHCU1N675bIlxnMvracshcUimIrnh3oFfAcIw+mRqyuBLxBqbwgtZh2R2qaMmnJDccbaMrmgCfriCsUzo420wx1xBT1IpXalLrNLM5bS47qz5+CTwTEH+uEvihns6S3ojrNrC+bki0Pw+pD1zDxrwviM2aL1w8Kx4y/L2Fe1GXxWZZ0qbC0e2n8tOUsNp1S7J4yp3mFj0NeYMHplDgYq1DBvTKnxvLe5fDJ+rP4/YSyCODsxkw6Fa29s3uWHZAz4pQYEJZASA14SRWVjVRfNeCliJXWIOphCUyoHs1GeiqBsLWZPkfHVH2dZZbXHKU5oQxvUvtIACwzwmogbOolnNT9Wvt9LuywrIclPVzYdUbje5TK0RTNYjxYIiAtlCyhhzP7SyAdERFht7pie543rY/27dsnMsCuzvDb87y0fSWPCGgAOHlcR+0sPCACnDia0r88oNtmu0gwT2sDCmBR4MTaZprVjS/LawngNe0DAWCbaXv1wi4hBbNiZpcQNJkYiUt3lLrEWsVz45umJUQWVIpatS6XH4OqFxWfqWtmmTFlFlT6YjJ7Glwwaxzv3WwZ0hipKX9aIw/OXbmBOTEGBdUF3UNEnZ0pTXntkRuYuN1AUybwnLbTXB3xKaw9okyuKerFbPHbS45g++lY8VnhnBmwsn8Yus/ej/2XlbqzUvmzYEGPcsL6RG0BNblDWaEc/Y9O6MucgFXTIC/0j/BCy5lH8PCZkhmulu8lahV4ia8OpMKzl8q5dS6XG60qFELLaQf04l+0O+ocUQhqH2Rrx0tSt2tU2gtfNCkOWkdpLf4I8L4jyKV9EierbKzP5TOLGTvZmGVSA17aFGkt/giQKXP+/HkhhsQYMxNMIJwrV64kZfrsHeOEFjb4rOV1Jmi3J+CN7xzcBQizrIfCjgS/zta14PuUdbL8kRZKVI1m3WxC91hMTIzYpnLlynZXmLZ1zHGM1a5dW39eGgC2NaLa9vaOgAaA7R1RbX9aBOKJQHICwJwUb968WdiABAUFWXTNE6vf5U44GVJTmdV/W3QQky9FnruD7nMP6D/9pXVpAczeXWbIjFKsKebGA3y13iBqtbxvGDYeuwF67bLJLKgpGN04OAJfrIvrvUtbkd06NWVmIBd2C0LbqXtx9q6SPfPPkQrTOpRGpwUxRjTl71uUQP2xkbj9UCmQpZK08NkdtxsPdKJeXcMLolN4QUHxJtWbjaJetQJJ3Y7S2x19VN8fpQtkMQLo3zUvgRwZ0qDPAoPdET2QqTr97rJj+jjN7ByE45dj8f1WJeNLOvd7QS8Qcy8FVl5QwGSqFMDsdv7YfvEJpuxUaM+0Nlo3KByzdl3CnEhlW2aVQwpl09O2rbmO1mwzrI4fukUUcinQsKbfztyG95tU75VZXjXgZV+Y5eVCl5eXV4KTcWf229OOxTppAmFm+vgcZG0wgTCVe5NCebX2vBPL5LM/zgK88Z1DfF7CzsoIc+GH1n7UtXCVswHBL5WdmdVlTTKzwATB7I+5cgKqK/P71apVc5jXsC1jrmLFioL+TKDujHFubV+17V7PCGgA+PW87tpZuyACyQkAc0K1ceNGMSkOCQkxG83EAK+kNZtSme39ohyw8BD+PKWI09DWgxTfLrP2Czo0G6195nYvZ5ShrO6fCz+2ZM1sJG49MAajpC5LUSt6Y7ar4I1G4yP1Gc+33/BFZb+caD3VoKb8BRWmc2QQlGnZegS8EBPh0XsNPqizuwTj3O3H+GztSR3wBOizu/NMLEZtOasHlGsGhGNJ9BVQZZqNGc4Ng8Mx7s/z4nO27BnSgAD90zUnseGY4lGcP1s6rB0QjsGLDmPnWYPd0ZKeIeg8KxrHris1wz6ZX+GtUi/w/aFUuPZYye4GeaXD6BYB6LwgBv/cU/jcIlvcLC5of5+1xWMNtcXOvt2+reeNxqHFNNqdSeAJMpjpkmCXk34JeHnfUahGZv14fxK0SbEsquMStNnLwsXZY8IdjkfKK9WAqd7La8HFBcaUz1F7PvcsAbzqTL450SpXxSs+IMz4ONJCidTvAwcOoHjx4i5XLGYMSJ8nECY1m+cuLZTUVlv0AGYdcY0aNdzuWccxSHsmLqxwYcGe49tVY1M7bvKKgAaAk9f11M7GjSOQnAAww7xp0yZB5aMCJVtSBatsze5aeqlZj0v67ctXyhb/q+8P1uuaWvukSZUyrqhVrDEYXdYnFNtO3cIvOu9dCmERUM7f84+J93CEqKtdechYYfq9ZcewTQfG82VKiWGl/8O4Y6lw7r4CMpmxnd+9HEx9dpmlJU35qg541iuZR1j5MFt897GSVW5TvgAo4sXPmNFl61XJB63LF4gD0CsVyYq2Mw/oY9K66AsUyPgKvxw1WJ4Mq5Ib+XJmxburFODNNrFdGTwyyRYzg05rJgJtNllbTFukXvMP6q2nLL1etnyvULY06B3wDNlSPxf1dKQzcuL4utLvCG4pzETASyDLH1mGwZhIwEswxL/N1R0SGEhqNO9ZDQjbMkKVbZndIxBm/SevB0ENabfWjlUpTqZWaVbXaktbIrm44QnUdWcDYQqXHT58WGhacIy7Q+N1pWI0xwrvYzayBlgnzPv10KFD4v9r1qzpDt016gP7zucv4/nXX3+5Xf+0DmkR0ACwNga0CDgpAqQ3mdILnXRohxxmy5YtIoNBBUrTbK+cZPNza+p37d1hgjPTzOhHq47rhZno/8usqjlRKzUYrVg0B8YRjI6PxLV/pfduXnzUIMAo49kh1Bs9K/kIu6OnOjVlgtN6JfMagfF3ahRElmd38PlOQxb4myb+yJE5g1Ed8aT2QQLofrjCWNTryNX7+EblR0zLps3Hb4IiXmxpU6UUqtOz/z6PeXsVhen0qYCPQ55j9cWU2H1DEavKmi4FZrYsgnFRd7H1tJIZLpAtPdYODMPAXw/jb1W2eHnfULF4oM6gz+tuXFvMrHqfqoUxeJFBJdve19R0fxQX+7JJINKmfCUyJ5w08p5jxlIC4eSeheDzhSBXZng5aZb3JgEva1Bl5o+gyBKhHRlngivaJ3HfGhC2z2gmPZRjlT+8dly0IRBmaUlCizaJAV7TGl5PALzxRZTvElknrBbLsndGmBnXo0ePonTp0kKN2d0a72s+06SFEu9lPt/IKqhevbq7dVdcMy7osG8bNmxwu/5pHdIioAFgbQxoEXBSBDwdAJsqMW/fvl1EjjXAnHBJsMvPElNodlLI9Ye5+eCpcWa0sg9aBOc3svaJV9QqfWr0//Wwfl+TOwSJGl219+6inuWx7+JdfG+iprz8gFphOqXw1B23LS5N+cPfDmHraWWFP0e6V5jStCB+jHqAyPPKZ9Jnt/2MfcaiXl1DYOxHnAs/tigp1KRvPlAyw2FeKdDc5xm+jE6FRy+UTHM93/ToFpYf3ZdeMLI7ahacT9gnsU6ajQJWlf1yGdkd0aM4IG8mdJq1Xx8TWixlTZ8afVW1xc68xu/W9kOPisb1vsyAccIowQUXawiEk2o14szzSOqx+ExRA17SmyVIILg1Bbz2yIRrQDipVynx73OsMhssF21Y70kgzPpPXkcJeLn4ILO86gxvcgK8CQFhxsHUS1haJyVlMcfcMVhLy5pavs9oX+WujcJqfKYRsMt3LrOsfK7Z4/6213lzcYdxbNmyJZYuXWqv3Wr70SJgtwhoANhuodR2pEUg4Qh4EgC2pH6X2SDWCLLx5UvvRGbb3DXLNn7bOYzfZhC1WjcwXNTQLtjzjzgHAjjWzH6+NiZOzWz/hYcQeV5Rx/XPmwlLext771bwyYZpnYLReEIkLqvUlIXC9NjdiH2kgFGhMF2jaByacqtyBcS2Eni+6fMCJXOlwnf7AR1zW1CefXJkMBL1Gt26lKAcD1XZHQ0NSoGbD59jwRmD8vG3b+TExUepMWG3UgucKoVid0QlabXQF2Mye7dBwCpzulQiJj/+fgbLDyh0bulRPGLVCWw6rvidymzxiFUn9erUznoeTO1YVtRcx9c4EZNAmFkJggU/Pz8xOXPXsRrfuRD0qAEvBazkvco6TjXg5Xk6ckKsAWH7j3C+I6jqy/HKcUtQx6zwkydPBPCTTapxs76S19yTM7zWRJHZclMgLJ5rqVIlidWgPjbrsk+ePIng4GBRt+rujWMiKipKPy6o2k5qNOnbti4G2OPc+XzgIk63bt0wc+ZMe+xS24cWAbtGQAPAdg2ntjMtAvFHQL603TFG5up31ZZNptQzngPBAwU6Tp06hVu3bol/07qBWTZ39AN9+N9zI1Er2hpRKVgtakXV4PahxqJW79TyRSXfnMI+SLYvmxRH/mzp0WveQf1n49qWwdPnxmrKc7uF4OT1uArTm4/fEJlgNtKUqZw8RwU8M6VNiS/CUuLXk/9hz02Fppw7M+2OwjFs2TG9qJdXxpQYHvISYw69wlldHbFPlhT4sZ4Xhm+9gzO3FZp2aOHsIFBsMjFKrzr9RvHcoCq0WuiLMWEmnKrT/z5RJtwdw7zRq5KxRzE9i5ubZIsZpy7hhVBt1E79to4c60VyZcCk9mWFsJkljXWXXLAhwODYZg0dgTAnu+4KhAmCTAGvPFeCHlPA64rzMAXCpD3yGaCJZVkyKpXvqDO8zPKS5qoGvLyupKwT4FB34XUDvPFFUr5T1ewkfpcAUGaGLb0KzKrSV7dcuXLivvKE9vfff4tz5QI0n2tcIOPY4HuYP64cJ4wn6eQDBw7EuHHjPCGcWh9fswhoAPg1u+Da6bouAu4EgBMSrFKDXQl0ExOs4qSNQJg1h3whc+W3cOHCbrESrb7irANWizVRYfmv07EY/Yci9KQXtYq6jNk6Gx+ZBf1242msPqx47+YRYDQCby05gh1nFO/dorkyYnm/UHSeGS08ftmCvLNiTrcQI4XpasVyYlSr0mgwjjRlRWG6SRkvDK/nbww8Q71Rv0hq9Fh2ATrrXTQpmgplsv2Hbw+kxEuR+wU6BKZFcKFseH+zko1lG9m0BPJkSRsHoD978RJvLzVYQFF1+uKdx/h4tbGAVeT5O0LEi402RswW89zVHsWm2WJ+l5ngK/cUj2VHNoqAffVmIDKlNYh2WXo8Zk7OnTsnlHg51jnZJXuBtbGubgTpasBLuqNsXFRSA15Sul0BeOOLEZ8BZIUQEEvVWg0Im4+WKeBl7LjYIZvM8HKRhuOV9Gj+ZpafljgEwu64yOiq+8ceXsJcHOP4paYF4+8JbceOHYIhQCFKzi+khRLHCt/DrCXneGF22Nnt2LFjiIiIwIcffoiRI0c6+/Da8bQIJBoBDQAnGiLtC1oE7BMBVwJgU8AbHwC2RbCK+6QlA1fR6XvJCRozbIkJutgnupbt5fnLl2g+eQ/O3HwkNqCo1fh2ZYRYVUKiVp3CCqJbxUJoOC5S7707uEZRYQPE/UmFadbH0ve3y2xDfexPLUsJYD1ksUEQalqnskLR+ePVJ/QdX9KrAqIuGIAnfXa/rpIBW84+xOZ/lCwwBZ4+KQ9su5Uem88p2d1sGVKL2uIv18Vg3VGF4pwvazoQoA5dckQAfDYC9BX9QtF19n4cuKxYQEnVaWa3T91QhLjCi2TH5A5ljejctYrnxrfmssX1igkgf++xgZ5p2ZWw/lvMNFNgzFbwR/EYTng5aeTYZSaY49WZ2R9OVNWWRGRUyMY6UKnay99UCrb1nK2PuuVbqoEwt5Kq0Wr7Fsv3ljy+yfHFZ6Japdkc4JUCZaaZOwK8a9euiYUb7ofghhk+LjKa84dNHlFL+lnYAoRlSU94eLi41zyhbdu2TTBZSNuWjTHge5g0emmhRJstjhVnnteePXtQq1YtfPXVV/joo488IZxaH1+zCGgA+DW74Nrpui4CfDGphUsc2RNTwSo1nZnH5b/VWd3EMrxJ6Sv3zewaJxSc5JEK6e/vL+wb3GECTxsi1vTKZk7UanGv8og6f1fUvrLJLOhv+69imon37pit57Bsv6KwnDNjGmwYHIHhK45jy8lb4jOpMN1z3gHsu6iIWgXmywwKZ9ErOEYHPEvnTYvBQSkx/K/HiH2qZHeDcwEDQ7PhvT/v496Tl+KzinlfoZHPC3y1PzWeKG5HoB9xe/oRT4jU2w699YYvagbkMgLoHzcIEBZQHWZG68//++YlkT1DavRRCVgpdkcv8e4yQ7aYdkfnbz/CJzq7I+6AtdAvXr5C2+n7kjJErP4ur1XVYrms3t7chgQUEgjz/1kbTCBMyqm9G0G3BLz8zX/LxiyN2puVmR13uF+sjcHrDIRtBbzxxZz7lUCY4IY13hTKIuPGFVk+a8eGo7ezBghz4Za03YoVK4qsqrs3joWtW7eK5xWFu0wb/58LLgTCZJXIZxuBMEGzoxv71rRpU4wePRpDhw519OG0/WsRSHIENACc5JBpG2gRsC4CjgLAlghWqe2I2Ht7At74osEaNr58+cPsN1+6AQEBTs2wmesbY0G7I1NRqzbT9ol6XTbWzE7pGIRG46P0lN66JfIImx3WDKu9dwdUKyKyoI91POW+VQqjadl8cRSmQwplQzsVUBwUmhWpnz/G6P2KQBbbgNIpkCpdRozdZ8gEzusWIkDyF+tixHcIjUfVzY0tJ25gzUUlMyyp2wv3/oOZuy6JzzKlTSXA+JitZ7EkWgHoOQjQB0XgkzXIHih4AAAgAElEQVQnsPGYQpnOn03JFg/69TB2JtHuqLhXZrQIzoeRG09bd1NYuFWhHBnE9SicM6OFWyT9a6QbEwhTXZWNdXWk8FpLh+Q4MwW8zPjKxkm2KeBNeq/df4vXAQhLwKtWaVZneElXJ8MgvgxvUq+iZNswI0whND7PybQpWrSoR4C3pJ6vtd+Pz0uYCwfyR+6bAlhcuK1cubJHZNX5TmUGmNndUqVKJRgilibxPUytDja+iwmEWU/uqEW21atXo2PHjpg+fTp69Ohh7SXUttMi4LAIaADYYaHVdqxFwDgC9gLACdXv8ojxCVY56kWX2HVmXSOBhay5ZCaYNZecFLqqHbt6P66oVdb06DXfWNTq8bMXGPbbMX0353cvh6Mq712qKbPud/3RG0b1sRSrmrbToDCdJW1K/FI3ByZGxWLPDUXXOXvaV/gyIjWmnUiJgzcUEOyrqyPupKojLquvI96Dc7cV6nYVv5z4trEv3pwcjViZGfZOi6+alUaLGYf0lGRmhftVLYz64yLBc2HrXdkHLUOMVadJK2ZmtcXkPXrVaXexO6oTmAffNA1EpnRJr/e1ZnwRUJw5cwY3byoLBJxgMiOcGH1QDYJklpdjXzYyIdSA93XL2CUnIGwJ4OW1lirNjqrXZT8IagiECXJk7TWBcGLj1Zp7w1O3iQ8Iq72EaYHEcohq1aqJWmt3b2ST/fXXX2LhIzAw0KLukjXALDdZBBw7HCOsJ+czzt6K8QsXLkTfvn2xaNEitGnTxqL+aV/SIuDMCGgA2JnR1o71WkeALxx1VsDSYFgiWKXO8Doju2tp39Xf48uXNDPWJ7GRuscMm6uAwAfLjyUoauWbOyOW9w1Fx5nROKITtQoumBWzuoaI7O7FWIW+WsM/F35oWVJYG9EfmK1OsSxoVSwVhm6+q6cp18z/EnV90+PjXf/hucJmBmnK1f2NgeenjQLgl9u4jnhUq1JCLXrQIoMfMVWd6W+s9iN+p/RzxKbMjlmHlEw2AfrK/qHYcNSgOp0udUqsHRiOubsvGQl9MTM8astZ/HZAyRYnZHf01fpTetq3NWPB0m2G1CwKZtRdsXhDQEEgTEVeNtayqkWdEhMy4uRSDXi1Wk3lqpOOybiSninj6u6AzXRxg303zfA6A/DGd99IuiuBMBca2AhqOF5dudBo6X3urO8lBISZAea7qUaNGnYHg444P7JJqAJNkSuWGCWlSWG1K1euCHYWn00EwgTT9rJQmjZtGt555x2sW7cODRo0SEr3tO9qEXBKBDQA7JQwawfRIqBkZi0BwM4QrHLl9SCwiImJERNhrjqTisUaNmevuv9z9wkajTcWtaLYU4spxqJWfrkzouucA/qQ0XtXgFeV9+7IOl44ff1fTD+kgOIUeIVhQS9w5lF6LDutCERJmjJ9h2ftNqYpj9pi7LNLMPqhqo64UI70WN0/HL3nH8SeC0o9V3GvTFjcy9iPuHiOVOgT8BQjD6bCrSdKHXHNgNz4oUVJI9XpN4O88CFVp8ca7I46hHqD9kamdO5mJnZHQ2oURYcwb0R8v8Ohw4h1yNUDcjv0GJbsXA3YpB0Nx+q///5rVNNPoKEGvI7K+lnSZ0/4jikQlvZJ7pC5tBTwyuvtTteaAJhAWC7ckMrPBQZH1LR7wjgz10cCYQmG+ZtMDQJg3tOekgHmgnJkZKR4f5KhYk1jFpnMLKqM828+16SFkq1jmrW/n3zyCbZv346qVata0z1tGy0CDo2ABoAdGl5t51oEDBEwB4ATq9/l1o4UrHLV9ZHUPVon8UVO1VNmK/jytTcVK6Fz/On3M5iuE7XKyJrZQRHCEkmdBeVn7y8/hq0xSibQO1tajG3ghQ82XsGpOwqtuFCmV3inzEv8cDg1rjxUKM4RRbJjQvsgI4XphqXy4uOGAaKOWPrsEnj2rqwAzye61DBpy28Gxa0jLu+TDaxVlo1WQPmzpkNPlR/x1w0K458rVzHhoMFWZXrHMrjy7zMj1WkKWBFMf7dJqd+l0NfKfmFYe+Q6JmxXPIqZLSade9auS5ijs4Vy9JihaNiUjmVRJJfj6n0tOQfed6RDSzozs35qMTmOWdL5+UMg5ErPTUvOx12/QyDMEgkJ2FwBhGW9tlqlWU1f98TFDS40EghLKj/FkgiEnaly7q5jjtdW+i2rxeiYCaUNEhszofbKhjoiDgTre/fuFe9NLiDb0kwtlPgOlhZK1gqCUf35+++/R3R0NEJCQmzpnratFgGHREADwA4Jq7ZTLQJxI8BJlpxUqYGvelIt1ZulHRH3ov47ucWV50saFimRjA1ftqwPJn3PGbTXf588E9RlKWrVtnwB9KuqiFpJMNqlfB6EeaXEkPXX9XZHLYq8QJEsKTDqsCJCxTayaXFkz5AW/X810JSndAjC7YfPMHzlcf33fu1ZHvsv3dMDT9KUFZ/da5j01wXxvfQCeEZg6s4LYMaYLWv61Ng4OAJfbziFNTo/4rxZ0mLdwAi8s/QItuvsjgrnzCDsjjpN34Oj15WMtE9mYHyzInhn00293VGYEPoqiyYTI3HpjiLOZM7uqFnZfHi/bjGRLb/zyCDY5YixKI7frITT6n3V58D7kJNKtS0RJ4byHmQGjeCBk2KCCoJjThS5aENgYWvGxBHx9KR9OhMIJ0fAG9+15jglEJbibqxL5njloo0znrHuMAaZ3ZQCZVzkUNuNsQRH1mrzHudCllpHg/c74+TMhVlLYsbz2b9/v6A/kwZtj8ZnIJ9tFMyiKCDPmwwCZpmTSqUfPnw4xo8fDy5y852uNS0C7hYBDQC72xXR+pNsI/DLL7+Il8vgwYP1AiWmglXuWr/r6ItCoEFxjvPnz4Pq0VTepWI0JyaObnMjL+lVjOm9O6O1n6gNXnpcqaNNk/IVRgS/wOYrqbHjmtKbbOlTCYD62doYbDpurKbcb8GhOArTtAk6cU3ZH7O40zsFGwHPN4rnxnfNSqD+uN0CMLM1D86Hd2v5ic8ePFWAWLeIQugYVjAOdbt2YB40nxylB+gf1fcXHr/tZxjsjjoXeyFUoMcc0hUgA5jQrowA+u8sjd/uiETqJb0rCAp300l7HHY56Kvct2phpEyhULcd3TjZY5ZMAl7+rQa8VEqVFFf+raboSwYDF24IMDhJ5iSUE0UNCNt25cwBYQK2pE7A1b1QK3LLLK86w0vatVqlOTleQwIaPl+lABIXcxhXRyoB2zYSrN+a7xC1IjfvUdmkvzavN39MM5zxWSi5GxAmY+LgwYNCAIvZWns2WVPOd7KsKec4YZ0wx40lCydDhgzBrFmzxHjjgrbWtAi4WwQ0AOxuV0TrT7KMAF8oERERiIqKEmI6NIanRYCkTVryQkmWgTE5KdZIM1vBmiTGjC9drnBba0WTWMxoU3PjViy6Lz6Daw8VkFk6x0t09n8pfHbv6xKeTUrlxnt1A9BgfCQe/ad8r1clH7Qslx9NJkTh+UuF9vxubT9ULJrDRGE6EAWyGdOUx7QpLbYxBZ5nbj3E52sNdkfL+oTir9O38fMfZ8X+CULXDAjH4n1X9NTtDGlodxSOcX+ex5LoK+J72TOkEdniT9ecxIZjiuhY3kyp8b/g55h05CVO3FMy11J1usus/Tj4z7/iszIFsmBe93LiHE7pPIopCEblaUfRoMe3LYOaxR1b70twawp4JfuC2R1TwGsJ/VHa0RAIM6vEbQiCOVHUKNGJ3X0J/78tQFgNeCUQet0Ab3zRpe81gTCZN4wTs54Ewu7i027NqOG9zfHCxQ3+EPDKxWXeh3Jxg7+pxm7J+9YaL2Fr+m7tNhTsOnLkCEqWLAmWDTiqkRXDjLCk0nO88BlHSn1CcezevTuWLVsmnouMuda0CLhbBDQA7G5XROtPso0AJ2CTJk3Cl19+KerdSpcuja+//hq1atWy6IWcbANj5sQITKkYzdVjNi4aUOjD2nok7kMtbMPJEifG0pf1wO0UmBmTSt+TSW0CceXBC3yx7pT4jDlJKkJvOXkLY/88Jz6jKjPVlOdEXsJcXX1slnQKTXnkxlNxFKbVNOUiuUhTDkNXM8Cz+eQ9OHtLsTuq7JsDY9uWMaojblAqL6gUraZutylfAAOrFxGfSbsjAvTW5QuIbLEE6G/VLAK/DE8wZN1VvBJnBbxbrQBCfL3QadZ+/flTNCtb+tTos+CQQ4cdPYindQxG0dz2nyDJSbE6wysnxQS8zGSoM7y2UBy5X45V1rISYDBbzLo8ZoWdLe7m0Avmgp2bAmFz6samgFd9b7PLUpFbAqHkmOFN6qXhM5bAhiJIBHvMsBMIO6v8JKn9VX9fLmbJbD4XtuS9zftNKnLzevPaWwJ44+uPuwJhWjbRuqlMmTJi8cLRjc81ZoR5XMaaoJYLfQTf5p6dtD7asmWL8EK3ZDHR0f3X9q9FwDQCGgDWxoQWASdHgC9tAl/WxxAU161bV/y7RIkSNr2onXwaTjkcV59ZQ8SY8SVLQMFJmiXZNb6kmQmQYJeTYtaCycaJkQRB/N1z4TEcuKxkQUkfpuevGowyAzq6dWk0HL8bN+4rAlNNynhheD1/IWp1/6mi9tw5vCC6hBdKlKY8ooE/Ar0yGwHPH1uUBMW4BpjUEcc+eiZUoWVb2KMcDl+5j282KAA9ZQoIQL3pmMHuSAL0eVGXMVunOp05nSL09dPmU1h+SMkMZ07zCj9Wz4xF59Ng62lFYbpAtvRYOzBM2CJJcG/vC0516u+al0BmO/n7kvaovtYcO3JSzAmYGvAyi2EL4E1osiyBMCd+HKcSCGuTQNtGkKktFTNQvI6Mc0KAl9dds6CKP/Z8BxEIk3VDsEdgw2dsfMDGtqto3dayPl8CXt7nkr3B+0ouZBHwki1kC+BN6N4m8OaPunSJzxH5Y93ZWbcVFy6oXB0cHOyUUiHZS44XjhUeX1oo8b1MGrZ6sa9hw4YiQ83Ffkc8a62LmraVFgFDBDQArI0GLQIuiABfoKRNkgq9ePFi8YLo2rUrRowY4VA6kwtO1S6H5EuUQJiAli9ZTtD40lWDCrWIESdI/CEoko0TIzlR4qTYNAtEYSp6/srGLCjpxWrv3Wkdy+Lqv0/jqCnvOncHVJRmo5ry6gFhWBZ9FdN0CtMGmvI5LIlWfHZZj0swOmLVCWw+odQRe2dPj7UDwtFn/kFE6eyOAvJmEjW47Wfsw7GrSh1xuULZMKNLMJpOjMIFnR8x/YR/alnKyO5IAPT6idsd1S34EmG5X2LkwdR4obC5QSXqpmXzocG4SLtcQ/VOmK3uX62ITfW+XMwwBbzyGBwjasDLa+/MSRjHIimmzAhzwsixxjHrbJVzu184F+6QQJcAiGJOBLxq8UAyQ1guIe9vDfAm/UKx/IQZPoIbPjcZUy7eENg4895hz/l+lIJ0vOa8z2V9vmRvyGy+oxaz4otgQl7CfB85K1a8VmRJlS9fXpRvOLtxjEgLJY4dPnO9vb3FD+8/+infunVL0O2dFRNnx0A7nmdHQAPAnn39tN57eAT4oqeZ/fvvvy9+k4b29ttvgwISWt2M8cWVNFO+9Eld5ktWZik4QWKGSE6KmQHgpECd4bWEijp08REjMLpmQBh6zzuIvRfvic4U98qMxb3Ko/XUvYjR1ceGF8mOSR2C0Gh8FK7cU9SU65bIgy+bBIrMsFSYFjTlakVQf5yBpty7sg+aB+fHmxMNdcTD6vghrHAOtJ62Vx8A7ovguMdcgx8x64hfvQKGLjmi/96MzsGgv/HHq0/oP1vSi3ZHd/D9ZgNAj2t3lAKjamXD4kOx2HbVoGztiNtrbNvSqFU86ZQ9TrLUgFctbMNMq9qDl/eRI7JASY0HJ+2cJLKunf3nmKVtiStARVL77urvy8yuzPrJcgX2i+wN/vA7chyYo0a7+hw88fhcWCIIJsDi3xyzBMIENo5iMfDZTpEuWcOrXrzkfSyf4wS9fK67A6ByNRDmM4U/YWFhNgnE2TpG+Ywj64XjhfW+nMswKy3f08eOHXOLZ7Gt56ltn/wioAHg5HdNtTPywAjwZbp06VL873//E5lhTjZoIt++fXuHTTo8LUwy48dJEgVA1BNiKWIk7Sw4SbJmsnb+9qM4YLSCT3ZQxVm2b5oGIlemtOirqo+d2K4M/n36HB8sN9CUF3QvhyNXDTRl2h0t7xeKjcduYPw2g8/uuoHhmLHrIuZHGeyOmBk2V0f83rKj+POU4kdMu6OV/cPQY84BRF9SAHqJfJlBmyU1QJd2R40nROLy3YTtjvpX9EKbmYdw76kuDWzHQeKVJR2mdSoLvzyZLNqr9Opkto8TYk6QZWNGVQ14ba3zs6hDNnyJk0SCCmZDOI6ZXSMQdieaqQ2nZ5dNEwK8XAyUdZ38rc7wcuGLmXZmm9g0IGyXyyGywJcvXxb0aC7e8J6j+BFZDJYsJibUCwJegiW1UrMsTyHgZVZXZnil9Zh9zsr+e+G7W4JhNSuB5+HIjDABJkEnxTXdYbGc15Q1yWSykZrNdzJZGRs3btR8gO0/7LQ92iECGgC2QxC1XWgRsFcECOpYG/zNN9+I1fCyZcuKv6tXr/7araISAKkzfmoAxAkYQS4nHPwOX76cGFMx2lY62FfrY4y8dzfQe3d9DNYeUWpm82VNB4JWUqP/PntHfOaXJyN+6xOKDjOicfSqYrkRUjArZnYNEYD6oo6mXMM/F35oWVLQim89UOqImwbRZ9dPZIul3VGX8ILobKaOmJnlZpP24AVTvwDM2R3RR5cAvff8g/phSZVl2h29uyxxuyPW5NJ6yZ6N9Ozvm5dElvSp490tx74UrOJviq7IJq1LJOi1VMnVnudgj30RVEggzL95HhIIu0PG2h7naOk+JOCVIEi9oJUQ4I1v/xoQtjTySfueZDFw8YbPZLItKH7EEhRLtBh4NFPfZb7bCKplY4mCtCUi4LUVYCftDO3zbb6LeJ68r02BMMGgNQuyCfUsJiZGLFBUrlzZrWrcee7r1q3Du+++KwSz2Khz8sEHH6BmzZqv3TzGPqNL24sjIqABYEdEVdunFgEbI8BsxldffYUJEyaIjFGDBg2EejQ9/5LjRJkTBzUAIqhVAyB1xo8TJDXFldsxa86aSzZmgIoVK2b1qnjsw/+MvHe7RhRCpzBvocT8TFcg+9YbvqhWLBdaTtkDmSv9vHFxkZXtNsdAUx7duhRSIIURTXlm52BcuvMYn6w5KforfXZ3nY3FT1sUuyPWEdPuaGn0lTh1xMwe0waJTdodfbb2JNYfNQboQxYfwY4zseJ7RXNlxIp+oeg8az8OJWB3VDB7evjnzYytMUo2zR6tf9XCGFijaJx6XzUAIgjiv2VLnz69UYaXGdPkNO55TzN7w+waAQYz2FQ5z5s3b7I6T/X4Seh6S8ArFzh4/a1tpkCYMeUig6Os1Kztp6dtJ+vaSbvlM5cglSCYYNicqnZCGX0+v9W+y5YCaU+JGe9pUyDMvhME2wsIM9tKgFmtWjW3WzDg+VOkrmLFioLNtmTJErEoEBoais2bN9u8SO0p40Drp3tHQAPA7n19tN69xhEgKKTwE2nR9NPji7NHjx4YPny4xxvLSwqczPDytzoDRMDDybCs/bIEADFDzHhx8YBgiVQ9TnytsTyZsuMCRqu8dylMtWDPP5ilU1POlDaVsDv68fczWHFQsWpi1pV+vMOWHdPTlH1yZsAqE5pyyfyZsbBHebScshenbz4U20YUzYGJ7RW7o6v3norP6pXMgy8aG9cRty5XAINqFBEZZLUfMeuLG00wBujMNreYsgc6i2J80jAAFNQytTvKmj61EZ3bnrcc65RrB+bRZ4DUGV5z11sCIFvsruzZf0fvi1kwgmCCYU4QCdIIhBPz2HR0v+yxf15fWb9rusBhT8AbX181IGyPqxh3HxynrPkkEOYiJd9LfNbSqo7PYJnRVy9ova42VBII832nVo5mzPiOsqWWmQrLLAWi2JQt+3HEKOG4YHlHu3btsHDhQrFA/dNPP4n3MwGw1rQIuEMENADsDldB64MWgQQiwBfnjh078N577yEqKkrUR73zzjsYNGiQTb64zgy6tCSS9ZzmLInUgNeWDBAn3XzRUkWUEw0KuLB2LSkr70+evTDy3m1YKi8+bhggaMr/PlGUpTuEeqNXZR8BRp8+fyk+G1CtCOjTq6Yp/6++P0rnz4IOKoVp2v9kS58G/RYafHYntQ/CvSfPEqwjlnZHvx+/iTEqP+J1g8KFXZG0OyJAJ3WbIH7ZfoWGlpOq04MV1elNxxXVaWl3NPmvC5j01wW7DYk8mdNiXKviyJHSQGsmfVI2tQUVr7st19tunXbhjgiECShIaSTAII2fQJhZMk/JfLsa8MZ3+fgc4ARc1ghrGWH7DHTezxyzzEKq1fa5d7mAKbO8r/v97Qgv4YMHD4oFJtKK3a3dvHlTPL969eqFqVOn6rvHOLgbWE8sdmTeUY+Fbe7cuejUqVNim2j/7yER0ACwh1worZtaBPjyWLRokcgIsx6Lq+6fffYZaDifFHDnjEiqLYkIdpmNUU+SCOLVCs3WZGkTOg8Cbq6OEwgzE8H984WcFPXdlQevYfhKg6gVxaVolfTdptPi0KQpM7vLDDAzxmLilyalsDYav92YpszM8KdrTmLjMQV45s+m1BH3X3gYu88pdcTF8mTCsj7GdkeyjtjU7mhUK8XuyMiP2AK7oz5VCqN5cD40mWBQne5esRDocdxznqFm2JYxUjZvGnTxf47ULw2ey6Q8qi2oNJsa8xEmiOS9TSDMMcx7RAJhW66JI7aVJQsyy6vO+BEAqSmu7gCACIQplsXJOZsGhJM2KkjblwwOXnNTTQbujc94LtjwOUvbr9eFyWFpJO0JhKOjo8U1IAXa3RrvMypBDx06FKNHj3a37lncH4p5UYeFC5R8HmsA2OLQecQXNQDsEZdJ66QWAUMEONEcM2YMvv32WyEAVa5cOSGUVaVKFZdli0j1UtOZzVkSyQyvM0VOOOGgDQ0zQJzAMfPI+uA8efIkGquXr16h1dS9OHFNUR8u75MN0zsFQ62mXDswN75pWgL1x+5G7CMF8LUulx+DahRF/bEGu6NelXzQqlwBse1zHSf53Vq+qOSXE62m7NXXEX/RuDgK5ciA7iq7o19al0aKFABremWj3REtl5jNlY12R3sv3tUDdKpOE6CvOXIdE7cbq06Tys2Msb1bHe+XaFjoJbJlTdhz2d7HTW774z3O7Brr2jnxIpgkEOa946rmaYA3vjhpQNiyEUQwy2e6XOBg3GSTmgxSuEoCXWbZOW75/CcQJg2WQJjPXa0ZImAPILx3714hSkYRLHdrhw4dEvORESNGCO0ST2x87pJeThBMpe2VK1dqANgTL2QCfdYAcDK7oNrpvD4RYIbziy++wOTJk8XKe+PGjcXLhkrIjqZNSksiSWnm5EjWODEbzYm6zPAy2+vqDDXjw1pLKTrEvjFOiQGKv8/GopcqM0oP2/+EmvIx/UCb2y0EJ68/wFfrT4nPSFNe3jcMv5+4ibEmNOU5uy9hjg54ZkmXWtQMf7/pDFYeUuqIc2dOi/WDEq8jlnZHbabtxcnrSh2xtDtqMjESl+4odkdvFM8N0q0Jxm8/VFRXm5XNh/frFBP1wdf+NdCSbb1zuge8QHAuJWsZEBCgCZ3YGlBA1FgymyLVVFkbTCDMe8rRTS1KRxBkmuFV2xK5Q4Y3qfHQgLBxxLiISeAqvXjVz3Tpsy2z+gnZjvE9wPcCxy1/s1GYkEBYEyIzjnl8XsKkCcuf+MZ1ZGSkeOcSnLlb27VrF+rVqycW6an+7ImN1O0+ffpg3rx5om559uzZGgD2xAupAeBkdtW009EioIsAX4AnTpwQwlhcoaQyZ+/evcVLh1lOezXpySqzvGr6GydHajozJznuWufD8+DEjFlhxo4xIhBOKEPRZ/5BIzVlevl2nhmNw1cUu6Oy3lkxu1sImk2KwvnbipJxtWI5MapVaUFTvqmzO2pSxgvD6/mLOuL7T5U64k5hBUEKMsWvZB3xwOpFUL+kcR0xtwvyzoL2M6L1l5R2R7kzpUUvld3RhHaK3dE7Sw12R7O7BON87GNBwWaTqtMUv6o71na7I9YWz+wSjIJZUonYSjVuxpbZdtKftWZbBOiZShbD9evXxY4YWwJhewIKSwCvBL2eCHjjuwKvKxAm+JKAVy5kykVMvkf4TJcZXrXqflJGMvfLjPDt24p3OccthQmdsYCTlH66+rvxAeGEvIT//vtv8b4PCwtzdffjHJ+AsWXLlhg3bhwGDhzodv1LrEMUeStRogTKly+P33//Hd26ddMAcGJB88D/1zLAHnjRtC5rETCNACcuf/75J4YNG4Z9+/aJ7Bv/7t+/f5IFhhKzJGL9pgS8nBAnlA1w1ytFQHH69GlRJyxr1ggozNWmxlx/EEdNmfW6XWbv158ea3JZE6ymKU/vVFbQlD9erQBPtqW9K2DXuTv46fcz4t/cZvWAMPy2/yqm7rwoPpN1xBO2n8cild0Rs8Wfr41J0O7IN3dGLO8bii6z9uOgzu6odIEsmN+9nJHqNDPNtFCSKtTWXqfKvjnwY8tSyJYhjX4XXBwhWGNs2agOy9hq9YDWRtmw3f3798Uig4wtM2sEFNYsMiTkuyxFjF4nVW5TIJzcwBpBFsePzPByMVP61XLBUl5rgl57L2ISaBMIy/rrXLlyiXGbGAPH9jvGs/aQFCD8119/Cas/gjR3a8uXL0fXrl0FaOzSpYu7dS/R/lBXZdWqVTh8+LBYINcAcKIh88gvaADYIy+b1mktAuYjQBrbggULRO0NrVWofvz555+L1dj4srLSkkit0KxW7FVPhjlhscSSyFOuDyeBFMrib8aH8aJqNFfW1Y21tr8dUNSUc2VKI4SuPlxxHFtOKn65hXKkx+r+4egx9wCiL90Tn0maMuuIT91QaMrhRbJjUocgNBofJcAxW90Sea1o6OIAACAASURBVPDVm4Fx6ogH1/AVfsTS7qhnJR8Iu6Pxhjrit9/wRXUL7Y5IuVarTtt6jaiAPbSmL1KR822mcdLLRQZOuKUtFWmQmgCWrZGHUDhXKxtzkYGAghPi+JoGeC2Lu+kig6cCYam8r7ai4vuBjc86LpLKDC8zss5g7TC2BMKSyUDQzXHL344u27Hs6rvHtwiEJRiWixTsmbROYknRtm3bxDWk2JS7NYpFMfNL+8YWLVq4W/cS7M+aNWvQpEkTMW+S6s8aAPaoS2hxZzUAbHGotC9qEfCcCLB2kOqL3333nZgs04CeQlk0pmf97u7duxETE4MKFSoI8MfPZGM2SU1pTk50R3NXkBNFircQCDMzTEo3J2VU2ZaTwuv/PhV0ZtKL2fpVLYwmZfLhzYlRePHqlfjsw7rFULZg1jg05RwZ0xj57E5sVwb3n77A+8sNdcTM0B6/dj9OHfGWE8Z2R2sHhmNelLHdEf2If1bZHUmA/pGR3VE6zGnnj/lRlzBzvwLQbWk/tSwl7J4saWpbKrnIwIUGxllrtkWA9y6BsFxkkECYi1SybEECID4TZOM9rVZp1rLzca+DpwFhuZAprzd/S+V9AieCJUlh59+u1GXgc5ZAmFRT9pv94TOXmWENCBvGImOjFsyS/8PPd+7cKSjlZcqUse0h4oCtJ02ahPfffx+bNm1CnTp1HHAEx+yS7KWSJUuKRX4KecnFWg0AOybert6rBoBdfQW042sRcGAEOMFgNnjmzJniRUpxImaGmQ1itogCD2qwy7/tbUnkwNOz664ZH4oNEVAQPPAlyBpW0kw5KRuz9azeKzd96pRYPyhC2B8t3PuP6Ee2DKlBMGqOpjxo0WH8fVYRhPHLkxG/9QlFx5nROKKrIw4umBWzusatI/65tVJHLO2OGpfxAn2FqTqt9iOmvRG/9/iZAtD7VC6E6oXTo8vCU3ih4HNU8XoJ70yvsOhsKqvjRto0632LeyWtrpcTNtIfmRHm5JcZdmbafXx8XDoRtzoQbrahepGBXWN81bZjGuC1/oK5KxDmPcVFDTJ3JOilXYtszOrKRQ5nKu8nJdLsP22/pNo5qdcEwpao9CflOMnhu8zec6Ga45HXnIKOjBMBm8wMu8t5/vjjj0Kgk3XKXHR3VmvevDmOHzdYF1py3Dlz5ujrqIcMGYKxY8diy5YteOONN/SbawDYkkh63nc0AOx510zrsRaBBCNAtVbWB23fvl38plqkpDRz1b9QoUKirqVVq1biJ7lneJM6XDjR4CIBJ2YEEZxIMl7pMmUVlOTbD5VseYvg/Hi7lq8Aow//U6iFPSoWQtsK3kY05Xdq+aKKXy60nLJHb3f0WaPiKJorA7rOOaDv3s+tSgk6sWkd8dV/n8axO9pz4Q6+32yoI17WKwS/7buE2fsUj9M0KV9hRPAL/HElJbZdS5nUEJj9fsWiOfBTq1Kidtjaxkm7XGTgIgwXWzjh9fb2dgoF09p+u+N2MsMrvVm5sGDamFFj/TUzbFqzLQLuAIT5bFdneNWlKgSPMsNLwOtJDAvpf01xQi5EkoXEcgm5+GjblfPcrdXlSbJ2W53Vlwu0PEO+290FCH/22WcYNWqUyKI6M0NNOvjBg0nzs9+6dauwO4qKihJgvWPHjiAoVjcNAHvuPZRQzzUAnDyvq3ZWr3EESOVlppeNEwn6BFarVk348nESx4zwgQMHxGSJatGU+tfqMuMOGGZTSNO7dOmSoOkRTBx+lA3f/aGIVbHy9be+odgacwtjtp4Tn6VNlRJrB4ZhXuRlzNbZHWVOl0rUDP/4+xmsOKjYHeXKlFZYIL3/23GxPRv9fymI1XPuAey7qNCUA/NlxqKe5dF66l7E6OqIaXc0rnUJNJ28F1fvK2C8TI6X6Oz/El/uT4X7z5Sa3DrFsmBYbT/0XHRCb4tk7W1BYP9WLV+kTmkfMM1J7uXLl0V8GWdm2wnU6BuqUSDNX6WEAC8XsdTgR6pG834n7ZyZdtLOX1d2h7Xj3tx2pkDYkdZUCXkvU3xQTWNPDteWY5yZTT4buBBJlhKBMJ8LzqhRtuc4sXZfXOSQWX2CXvUih8zq87rzb0mRlurdPKYlFkrW9s3S7SjA+f/2zgT+6in//28MxhpaRRhDWrWnlNL8LJFlaiwRwqRRtgxSoQUVYewqQiH6M5YyGky2KG2WiraxxTSiMoyxjLH8H8/zda5PX9/l3u/387n38/nc13k8vo9vy72fe87znM/nntd5b5Rn5BCZ504SGqKduF9EdOkDQyptELfeqFEjdyjTvXt3GzJkSBKGpT5WQEACWMtDBFJGgC/D2267zfbbbz/3MC+d0ImNBSecl112mSsHhAUOd6Wjjz66aDYZuUw5bnq4ReNOjjvxdW9uaWs+L7H4dv71Tnbjcc3s8Fvm20efl9TU7dGsrl1y2MZuyn3a72IksTrslp/KHQ3ssocd3qyOHT1+YSaOeOihxBHXsN53vpLp4tijG1uNLTexgQ/+FDN8xj7f2Tffm035+0/uzNcetot98r/Nbcys99x7kcF/7t/Wttp8M1dmqart2l5N7PBmdav69grfV9razoENVg1ERbEL4WwEb7AsUWlePAfIFs3aRRBjIWIzihhOknUwkoUXwkXLEsI8S6tjbecwKGjhDcZtc0jkk1Yx72k+tIQDXjgcPmLxZOyETNSvXz9131GMFcFLqajS9bb9IYc/6Cjrvg3GCMdFCFN9YurUqS63BgfHSWheAGfTVzJcT548OZuX6jUxJiABHOPJUddEIEoCJHzATemaa64x/oz7z+jRo108TLGLj7K4k0wM6/oLb/3LJq38SXhO6tPCiV+STvn2YL82tnD1p3ZNwE15xoD2zgJM3DCNckfEEY8PlDvyccQjZiy3p1aU1M7ccUuzYS2+tTtXbmorPiuxwNbfdjObdMyvbPBTH9obH5a4vjavv53dV6rcEZmfqS/8zXclscG5NOoEE+/buN52ubytSq8ltg1rAZteNnSICIQwG79iaX4j7AVQ0KUZseM3wfzG4pvtPcqmmMMbyichqDgQ80K49OFYsbAOc5ylMxtzeJOtEGbdB2N4g/XVg3Hbfs7D7HcSrgUfRDDPBf7MfYAQJmSikEm8qsMOQR+08JY15/6gI5dDjvJKKBXCInzyySfb9OnTnfU6DZ4JcoGuzoqP73slgOM7N+qZCOSFAAlIRowYYXfddZcTH8QFcxrKRiPbTXZeOhqDD0FMcFLf7/43bNWnJdml9txxC/vzH9rbCXe/Zis/KhGjuCnf3qeF9bhtvq35tPxyR8e02tnO7UYc8cv25Y8JrA7dbVPbr+Y3Nvr1zey7H0rcmU9ouo0d2LCWnfno6kwc8fDDG9redbaxkyf/VI8Ya+22IZQ7ov/XH9vUdtx6i7xSx+UTt2g8E7zbOUIYd7+0tWwFL9a+MEqPcW97IYybJdYk7nFyAiRVTMRpTWQjhL348QKI9/iGUAhaeMOY8zjxqU5f4IZbNO7R3Dew4hCHTP1xP8ThviNbu4/h5SDVW2oZh/fiYO4rKmOWLb9caglne81cX0fpI7JUs77T8GyRAM51BSTj9RLAyZgn9VIEIiXAFzJF3yld8NRTT7mT9jPPPNP9nYQqahsTWLLmM+t956uZfzy10abWaI/6NuTJf2T+7bbezV1yrIse+cl1+b5TW9mKj/6TKXeEvL2s3Wa2aO03NvODEqvyLzY1u+mQmvbcmu/toaUlmaO32WIzl2H6T8+887N6xEOnL7dZK0riiHfZ4Zf2xMD9nKV55BMrqzRtfTs0sAsOCi/etyqdCLqd837irogRxiUwqc0LXi9+yrPwhiV4y+PEBplDLw4afCIy4iyTbFWL05rAooe13de65fCGdcuaDoofDiCCVn3Ejw4cK55JQiY4HMNbBOsiDHHp5xAnLm79fJcyz17wIn59LV/EYFDwEvIR1ZwXUggfcsghLuM/90AaYrclgOP0hA2vLxLA4bHUlUQg8QT48kYAI3wRxMTvkOyhX79+qXBlCnOCLnz4TZv55sfukjtsYXZJy29t8ttb2JsbStyN96y1tT36h3Z24l2v2psfllh69t7pFzao2fc2asF39vHXJdbdZjU3taEH1LJzn/7ENnz5rfs3yh1d0n1vO7RUuaMzOpWUOwrWIz5q35J6xN9+X2KR7tmynsvUfPfLH+Q83HE9m7jPjkvDgsBGilgyNorUuUUIJyFzeWWCl42w3wwXwtpXOhEZh1647qYxzjJf69lb+zjkoOxX0MLra/FymMO8Ryl+8jXeQn1O6UMcrMCIYMRwvl1ug/WXffiCz9SM+PNlBn3iqnwLQlh5MeyFOPPGekSQh90fePiEmxwERSXw87n2JIDzSTt/nyUBnD/W+iQRSAwBvsCpHYxrNGVrKAN0xRVXWI8ePUL/wkwMlFId/ce/vnIuzv/7sdDuyftub7ts+qld/fom9oNLQWX2+xZb2/b2lV2/+MdivGY2YN/NbfvttrWr55RYd2l3ntTCSpc7Io6YbNBXP/2We80vNt3Epp/Z3v6ydK2Nf7EkjtjXI540d7VNXVBSj7gqDQvzlL6trMnO0cf7VqV/WFEQwggLNmy4PmK1zPdmt6K+BwUv/QzG9iEuCy14y+s7VjXiLLGqEWfJ4QJCmMOGsDfHVZn7OL8HQYG1z1v1S1v7ED9Yf1kLiCOaSlOFN6PerR9vBizsCDqeDbhH5xI/m2uPfDkqb+UN1l8mf0EwI3tcXIBhhTjluz0ohBk7fQyrn3xGq1atnDs3ZZDSIIBzXR96fTIISAAnY57USxEoCAEsGCTJIlkWLpuc7I4ZM8Zat26tLzYzG/f0WzZ5XomldavNN7Fru25j9yz5t83/uCRZ1Xab/2BjO21pU1Ztagv/WRILnEu5I+KIj7htvv3jxzji/9unll3128bW/Zb5tuGLb9z1sPhedNBedtLkV+2d9V/mvE7a7lbDbji2me20TX7jfXPtqI+/Rgj72DI2uvwUIg6wIsHr4zm96E2CeysbYy+E+TN9RgirNNVPK5U1yNoLurdygEDz1j7v1ozrc/AAobRrtIRwrk+A8l/PvOBuixCGM9xx6SfGPQxvEZ+d2887Ati3bDI1hzfScK7Emi1PCFe3ljBzwYE5B5Tz5s0Lp8O6ighEQEACOAKouqQIpIkAX2jEXQ0fPtymTJniTo+PP/54lygLt7NiO+Fl/GyCsfr846MNNuiZf9uPnst2QL3vrec+W9uQl762b0r2xdZ91+9dGaHzn1rnyijRyit3VGvbLeyMqYszy+fW45s7d+cLHn4z82/39G1lb6//wkY9scr9G7bmh85oa9//8IMdN+mn8knZrMFT9tvVLjz416HV983mM6v7Gl/eByGM1YfYPzZbWH7CsmKU1Uc2wT6ZTWkLbxIFb3nzgBWYrLv8sElmg4/beZ06dYruXmetIaiCmZq9e6t3afaJq7D8ZWMxL0sIc9CgXAvVfTKYs3Dieo7rLc9o5giXfoRwLgmmosrUXP0RhnsFL4ThFiyhxHO0qkKY68CcqhJ/+9vfwu2wriYCIRKQAA4Rpi4lAmkmwBfb66+/7uKDZ82a5U7WzzrrLLvggguqVfsy7syCbo5shBFB3urDJmHuhq1s2soSayxuypQ7mr54rU38sdzRFpuZXdryW/vbms3sxbUlrtG+3BEi9q8/xhHX235Lm3nWfnbO/1tqc94pcY/2ccRkel6y5t/u33y5o54TF2YsvltstmnOpY6wJBM/nNTGvOCeT51bEuKE7bpbLIK3IiGMWzRWYdZ7MdRo5hnHoYq39HG/cyDgDpo22cRlIw/LvRUhjMWSzNw0LMISwuE8jby3CEL4s88+c3OHJwMHZWUl0ss2UzNzRLx+2lqYtYQ5POBQ6Oijj7bHHnssbag0nhQRkABO0WRqKCKQDwJsLmbOnOmE8LJly6x27do2bNgwO+2002KTibM6HNjs+7g+L3h9zJS3+njXVqw2lCoKuikf1KiWjTm6sXW/eZ598mXJ5rlHox2sW63/2CVz/2f//b5EBJ/esYH1brvLRnHE5/9mT+uyd03rNXFhptzRiB4Nba/aG5c7uu53TWybLX5hZz6wJOehbrX5ZoYVuWn9eMb75jog5osSKYgJxAqWHkon5Wqx9DVZvbUvGMMbLFfC3CfBpTlXjuW9noMAL4S5DxCBWIQRA0n3/uBZhjtrsC5rMJ5zu+22y2RqZt6jcLWXEA5rpf78Oswvc4sQ5jeNJGQIYdZyWZmamWOe66xvhByCOenrPFvCYQhhvjvxxjnppJPs3nvvzfaj9ToRyDsBCeC8I9cHikA6CCAYJk2aZKNGjXLxV/vss49LlHXYYYdl5QoYFwoIKKwEbJD44c9e8Pq4Pp/JEzfHstxsZ77xkV0YKHd076mtbNVHX9gVfy1xU950E7OHz2hrjy18x6a8VpIMh3JH952wt/317a9syryS8km+3NF1z7xtj77+o2Vom83tybM7WFnljp5evs4GP/pTmaXKmLZuUMNuPK6Z1Yx5vG9l4yjr/7E8UCeUH+YU8YIQLk+oSfDmRpmSSQhhDhsQFtwTCGFEQpIa4/DZevnN333Dyu0tvPzOZ2kdCeHoVhHrFW8R1m+w/Jh7Nv+Yqdm7svPcyMaVPbreFv7K1RHCcGYvQBnF8ePHF34w6oEIlENAAlhLQwREoFoEOPG96qqr7IYbbnDWlK5du7pEWS1atIjlyTlCCTdmb91F8Pr4J8StF7tsgEsnsikPFO/vfecrtvSfJeWOWuyyvU05tZX1nLDQ3t1QkpjqgL12csmmDrt5nn38nxKX6Ta1vrfTW2znYoY//29J0PCJ7Xax0uWOBhywux1ZqtxR9yZ17L/ffm/PrSqpAVxZ69N+Fxt88F62+WYlCbrS2rDgYQ1GqLGRYx4Rwlhy/CEHv4MlaryF14ufYrLw5roOuMfhSy1h1j3CASEc1xhW3OODFt5gAiPm2Qsf5j4OWcURaFgs5Rqd68rc+PUVZWrGyutjueO+fqtHoXrvrkot4VWrVlnbtm1daNS1115bvQ7o3SIQIQEJ4Ajh6tIiUCwE2AgTK3jJJZfY1KlTS4TciSe6xFlk4yykCxmWPi94vfDxgte7u3mX5uqc/i9a/amdMuW1zJT/6Zimtvlmm9g5/++NzL+VVe7own2/s7c+M3ts9WbudT6OeMaStTahVLmjO+astvsX5l7uaPRRjaxny52LZTm6cSJw2Yz58jPBwQcFL3NfTG6OYS0CYmURalh8aHHJalxR/WXiN4MW3jAyBIfFs/R1SgthCbWKSVeUqRnLvj/o4KAGyz7PBw5y8F6isS6IweZ3Ib+volpP1bluLkL4tddec4fgJMmkjKKaCMSVgARwXGdG/RKBBBJAWL7yyit20UUX2fPPP+9iJc855xw7//zznUtqPlrQtbW0pQ/B68Uuv+lTmJuds6YtzVhkyyp31Ljetjbt923s2DsW2aqPv3A42jTYzs5r8Qs7/2+f2Ib/lsQH/6bhTnZ1z6bW/ZZ5tuGLkjjiXi13tosO/rX1u2+xvflhiaW5srblLzZ18b7Nd9m+spcm/v8rmnfm2B961KpVyxo2bFhmMpzEQyjAABBqJCLzQoKcAFiE83m/B7NzBy371IL1ZYn4ncQERvBFqPmDBgnhkkVeUaZm5jk47xXVBPZ8sbjzjCDMBSGchhj3sB8H2Qjh2bNn2xFHHOGsv1iB1UQgrgQkgOM6M+qXCCSYAF+UM2bMsKFDh9qKFStc4pFLL73UTjnllNATyVRUj5WT/qDgxRIQpuAtPUXvrP/Cjh6/0L77oaTeUVnljsi+vNPWm1v/+39KYHVb7+a27tPPbcST72UuedVBdew/v9jernzyLfdvSOOpp7W2z776nw2YtrTS1dFy1+3tpuOaG6WV0ti8Zd/HcwaFD/PuN8Dewsv/Uzppw4YNbg3gmcBGt6LNcRq5RTUmYlgRwh9//LH7CO55+HLPhdmI7/au7Mw9IRi+pTlZWVlC2Fssw+Qb12tVlqnZ3+9VzdSMRwMxwt61nwMc+HKgE+V3Rlx5V9Qv5sKLYZ8vw31HbbKJK33Uu3dvmzhxovXv3z+Jw1Ofi4SABHCRTLSGKQKFIIA4vf32212irPXr11uTJk3syiuvtEMOOaTKmwof0+c3wcGkJnFwbb185kqbtuifDndF5Y7O/n9LbW6pckcn3f1qJo54921/sAtbbmLjlm5uH3xWYgUmmdb3P9YSrmg+iSMefMheRnmktLTKBG/QtbUil2ZEE0KY2G+S3ey2226uTmg+Ex6lZU7KGgeCFCHM/U7beeednZDIpQ5r8Lo+SZ0/6AjG7OPREbT0FYMre7EIYayxrKXyMjX7+z3sTM0+2duaNWucyOMAh6zRHOhICP/8jve1hGHFnN1yyy3u+37ChAn2hz/8Ic2POo0t4QQkgBM+geq+CCSBAGKVRFk33XSTy7r6f//3fzZ69Ghr1qxZpZsKXh9MXsRJvW/E8LER8omr4pC8aP1/vnGuy19+U5LUqrxyRwfsVdN+d/tP5Y5G9tjH1f0NxhH3a7KJbfb9t3b7is0yZZEqm+8rjmxkv2uV/HjfYOw2m+DSFt5sBW9ZvNioIdAQwlguEVKIYMRwWVm+K2Ou//85AdySEcLMHcLBC+HK3JB93W0vfIJZ2Zmb4LyHHcKQpHlMmxDmnmRMwRrMPlFVITI1c9BKRnmS6SHy+G5BCFNPuNizRPv7hDl7//337bnnnrNnn33WcH9et26d+2/CoMaNG5ekW0p9LTICEsBFNuEarggUigBflriYkSjrgQcecJsIagVedtllbnPMJpnNL5vmYMbeYNZWn8TGuzUjgON4Kj9h9nt20/PvOtRYYZ84az+7b8E/bMq8D9y/bbvlZq600bWz3rbHFvtyR1vYk+fsZxc/utyeXVliPdt1h1/aLYfXtRmvvmd3rSiJDy6vkTyL8kstdq1RqCmu1ueWTlYWdG0NurKHafFhTRL7x5pjneFBwCaXOpba5FZrOjNv5vCKgwYEsXc9h7FPQMU9z+GGt/Dy+mAZMn+vM+/VSVIXzmjid5UkC+GKMjUTi+sTV5VXfi4fs4EXEyKPJI8Icr6DOCyrX79+0T0jeF5ynyJ0Eb3k+eDZ6du+++5r7dq1y9QBJvu+mgjElYAEcFxnRv0SgZQS4Et0wYIF7oT4xRdfdBsKagdjiSODJCfId911l9v8cOoejOGNc9bW4HR99b/v7LBb5tnHn5eUOzqieV0b1n1v637zPPv319+6f6Ms0e/3380Ov2W+ff3t9+7fBnTZw45oVteOGr8gE0fcZa+dbPUnX9rqT36qV1p6aTSvv53d0ru51d52y8SsGp/Exlv38yF4y4OD4MLlkazGbHhZZyRy8gcziYEa0476jTObZSy6CGFEDYcMzLu39PHv3puD+9+/JqbDilW3SgthnpusYX7HpeWaqTku/aYfHNAhghHD/JncAQhhcgmk1WuE+xYPrJdffjkjeF9//fXMARUeM3hz8fOb3/zGWcf9gTTvjePhdJzWlPpSWAISwIXlr08XgaIiwJfi8uXL7YUXXnCnxyTMQAD5huWtffv2NmjQIGvatGnGSpRESA+/9qFd9viKTNcf6tfWFqz+l13zt5ITc1/uCAvw7S+tdv+21eab2l/P7mATX1xtDyzKrtzRMS3r2qU9GsU+3jdbwcuGPepkZeWtJ1wd2eDiqUB/8UTAiqFEOFW/A0u7tmJBgrNvWN3ZOMO4kJa+qo8wXu8sndXYl/fhQCHfLZtMzT6GOynJ6BgTbtG4RyPoWb+77767s3oSSpHkxr3KYeDixYudSzPf0YhfRDCNtXTggQc6wXvQQQfZ3nvvXXRW8CTPr/q+MQEJYK0IERCBvBAgdhfXR58llg/FZapz587O/RQxzMaCuOAxY8a4E+UknyB/9/0PLsbXlzvab48dbOKJLazHbfNtzaclG4pDGte2K49q5CzDn3xZkujqmFaUO9rLzpq2xBa9/1mFc3P8nt9Z5503iWUiJzaKvv6yj+H1pYjynZ071wWOhYcNLj9sCBFmCOFCiIhc+17o1zPHQddWDrgQCr5tv/32biON9ZdnAYINCxrWJISEkpGFM4M8b335JOYkH0I4mLDMZ+j29zxC0bs0J7UkVXBmGCteIxyWES/MumUNN2jQIFFrmPnB8wWXZn44nPaH0hxKdOrUyX0XI3hbt27tRH6Sv5fDubt0lTQQkABOwyxqDCKQEAKURyB2qmvXrnbAAQdsJCjYMJEYiyySbJgPPfRQlzG6cePGif3CffGtDfaHQLmj8b2b2xfffGcXPrIsM2P3ndrKVn70hV3x11Xu38j0POmklvb3j7+wsU/9vcyZ5TXE+zbY6lv7+9//nknkxAEDG7BCuORVJHh9/WVv7SmUhTfX24SNLSKCgxk2ivQfIYwgVvuJAIKXTbNPYAQ335hrL3xwbw4KXJhSPxjXaAQb6wQRjJBIujUtLusjSiFcqEzNcWFLPzggo3QSzwkspaxbnsGsYUR/3BpzxsETQtfH8eL1QkPYtmrVKiN4Eb/FkFk9bnOk/uSHgARwfjjrU0RABLIgwJczm2ESZT344INOyPXt29f9HTfJpDXG0+++xfbyuyVu3r+uvbU90r+dBcsdUa93St9WdvSEBfbehq8qHWLTnbezW3s3tzrblcT78hkffvih48YGLF/xq0HBi/ghltNbe5IqeMuDj8CDL5xpderUcfGVYde4rXTyY/ICBG4wW28wUR0b5mCm5mxEACKCZGRYorgWIpn4ykId5sQEc6jdCEMIxy1Tc6iAqnkxv4YRwrDmuwu3aA50Cune7edszpw5GcG7dOlPdeR5jmHh9XG8tWrVSuyBczWnUG8vMgISwEU24RpusglcccUVNnz4cDeIe++912VRTmPjS3vu3LkuURYxSGR/mBmofgAAIABJREFUJS743HPPrXI90UJxWr72czvm9kWZMkajjtjHflVz43JH1x/T1LbZYjM784ElFdb5Pbb1znZJ94a2xS9+Xt8XlzyStLABQ5wizojRqlmzZigbmmwErxc+SbHw5romSNRGRmNf6gNvBmrcVlbaJ9fPidvr8cjwFl5+B2tvM/ZgLd7qbPZLW9N8Vu40JxrK91yXFsJY5X2yrLJcW8vL1MxrcWePQ6bmfDOs6PO8VwPPYZ4XuPqzfjnQyUcSRz6fZ/Wrr76aieMl6aQPQ0DgesGL6OX5JZfmOK0g9SVfBCSA80VanyMC1SSwcuVKa9Gihfsi40suzQLYo2JD/Oc//9mGDRvmLHBsJDgAOOGEEwri5lvVKRw2ffnPyh0NfmS5PbeqpNxRgx23sscHtrdZy9dt5B4d/LwRPRra8W12qbQLxK8Sl4ZbG/zYoCKE2azm0iR4y6dFJmOEsK9xi6WHjWQ21s5c5qBQr2UN+ezcjJGNvG++9rYXvVGI/9JZuRHVuPdz/6s8VTirojwh7EvQeQt/0LofdGfnsEtu6uXPBd/RHJTh1UCZL0QmB2YIYaobhNm4X1atWpWJ46W6gs+qz2eRZ8MnriLvhuYtTPq6VlIJSAAndebU76IiwJcp2RcRwR06dLDp06cXhQD2k4xr76233upihNmYt2zZ0iXK6tKlSyJOr9f++2s77Jb59t8fyx0N7LKHHd6sjh09fmGm3FHrBjXs1Q/KTnpFnHDr3XbIac3DjEMD4tNouJATv1qeYEHwIux8PdayXJp9SSos8rIamG3YsMEJYVglOZGTP+zwoocNu28+eZG37rN+8jX3eDUQf401DVGO+OaggfJUEsI5PQ7KfTFzjXhi7ks3b933Vt60HPCEQy67q/DdzXMCIexLgPEs5kCHw4aqNF+/3Mfwkq2ZhFw0nkNt27bNxPHuv//+zgU7X/dsVcaj94hAIQhIABeCuj5TBHIkcMcdd1j//v3tvvvuc9mSp0yZUlQC2ONav3694QY+fvx4tyGmfjCJsvbZZ5/Yf8Ff/8zbdseckmQjlDt68uwONv7F92zaohKBWlZrXG9bu633vlZ3+6rX92WDi0iDHZsg4irZfLFRCmZpLi14cY30Vj4J3vJvWJ9UhsMGXIOTEL+KsCxv7n2Gbj/3cUiCg0DHvd+Xp8KqhRAO1h3N8ZFatC+vKFMzhwpYE2l4jPjM5xJP1V8uPCc4vEUI+yzLdevWdc9inq8VNZ9sDMsuYpcEVsuW/ZRIsVGjRtatWzeXqZmDcg6rNGfVnzNdId0EJIDTPb8aXQoIkByGTMht2rSxWbNm2amnnlq0ApjpZDOAxQK36EceecQJudNPP92GDh1qbCji2j7/+lvrfss8+9eP5Y6I5x18yF42+JFl9tyqDT/rdq+WO9vww8uO963KGBHAeBDg+li64RInwVsVqj+9p3QyMqwuiDTcHgttrUTUBK37iN/SCcuSEL/NoReu/fz4Os3Er5KUTBv+stdvrpma8RzB4o7nCO/lucA65kBEjKv3jPDv5v5DCGMZpuHlwDrGo8l/x7HWid31Vt5Fixa5NU/j4CcYx0vGac1NOHOjqxQPAQng4plrjTShBI477jibMWOGkbmRWM5iF8B+GtmccSJOoiw2ClgsLrjgAjvrrLNim5Ro6oJ/2OgnS0obUcrohmOb2cvv/MseWFTivubbZYc1tN5t61drUxO08mFxQAB50eM/x7vteotwQm+RWHUbscmGlg0um1jcSNnc5tNaSR+w6PvEVWy4vWWPOQ8ednDfJG3z7Os0I4RZ58Smwrh27dqJG0vYizesTM3E/koIhz07G1+PZzLPiRNPPNEd6uC6TIgTpe3I2uxj77EQI459HG+TJk0SlQMjWoq6ughUjYAEcNW46V0ikBcCf/nLX+zII4+0UaNGZbI/SwBvjJ6N/bRp01ypJFwkcfEdOXKkcXBQaMtb6UXyv+++t6PGL7DVn5Rd7qjmNpvb9cc0s7a75xbvy+dUJHgRPT5+F0sObq3EjHmRxt9xd5SACO+2xlrDpnb16tWZrNwwjqLMCKIHV3cfv43wZT24g5ZNN3WC11t4Ebxxuy+qSp2EgNzzuEfzHGBsCOGwMp9XtV/5fl+UmZolhKOZTe5Z1i0uzXh2LV++3P3w7xxINW3a1Hr27GkHH3ywtW/f3iXYS9pBVTTkdFURCIeABHA4HHUVEQidAKe/nPRiQVqyZEmmlqAEcNmo2ajddNNNNnbsWGftxGWcRFmdOnWK1cZh7tufuHJH337/w0YDaV5/O2cR3rnGL7NaS9kKXoQPFoSyRA8iDQGBSENAIJTwMuC3WjgESos02CKEmZeqtoqsfGySa9SokYnf5s8cgKS5UZcYayWWd++2ixDmsCeNjTXlE5bxOx+ZmksLYdaVZyxhVvkq8zHAeC15t2Ysvb41a9bMCV2ex8T48nzv2LGjXXrppS7XhRhXzlivEIFcCEgA50JLrxWBHAhwesuJbi7tnnvucV+CNGre3nzzzfbMM8+4eB/fJIArJvrxxx/b5ZdfbhMnTnSWNyzoJM5CdMRlE7Hsw8/t2llv27x3/+UG89sW9YwyR1v+onyhEkxeU9qlOWjhrUjwlkcOAeEzRrNRI6YSXlXNUprLmi+W1xJbicXdx1ZipeSwobIEOPBhTojd9hZefuMG7BtixFt4EdhpF7zlrZnSjGHCOk76gQ7PMe/OXrosVb4zNUsIZ/fE4p7luUode6y8/FCb14ciUDoNl2b/Q2Zz//3Ec+Lqq6+2u+++293nixcvNsoXqYmACIRHQAI4PJa6kghsRIBSPXxx5dI4GSaLIzGtnP726dPHEMXBJgFcOVE2HytWrLAhQ4a4+Gky2/br188uvvhi5+Ybh0Yfl6/9j7MEY/0tLc4rE7ylk1aF4dZKFmMyRnOIQH+ou0oCHBI6qYVDACHLYQPJ7WgkbsOSVvqwIejWivhhM+0botkLXtVj/fm8+Bq3vgQYhw0w5qAgCa2iTM2+LJUvTRRFHeZsGEkIb0yJ5zniFm+tZ5991glexK+3zvO87tq1ayaOl8oFlT2z8Wjg+2vgwIHZTIleIwIikAMBCeAcYOmlIpAvAsSwEveLiC69aUPYffTRR0bpAzbP3bt3d0JP7ecE2JSwESFR1iuvvOJY8ucBAwa4mqJxan7T6y09waRVpRMXlefSHNZ4SJqEex6/+ezdd9/d/ZAtWi0cAqXLU3EvE8NK6ANWPqyZviGOveBB8HKgo1Y5AQ50sKb5wwYOvxDC2VjdK796eK9AOPkYbuY+mLSMe84fdvj4/bh4skAAgYfbLjkFeN7yjOXQrBjisBkvrvccXPOD67Kvp8xBBTV48d6iPBEJrpjLOM1deCtYVxKB5BGQAE7enKnHRUDAC+Bshtq3b1+bPHlyNi8t2tcgLqdOneriqUg8sscee7gDhl69elV6Ch8VtKDg9S7NpTP1+o1v1IK3rDGyuVu3bp2zCCMk2NCxscUqXJnlIipmabquj+P88MMP3abZzz1jDLq1sgZkga/ezHOogNUdzwYahw2sZbJHF6KFlam5EH0v7zOLQQj7Z+Ls2bMzcbyIfxrClgNrX56oc+fObn1J8MZplaovIvATAQlgrQYRSBgBuUBXfcJwjbz++utt3LhxrkwM8dajR4927uZRb1TiLnjLo4oww5UUAYFoQ5wRu6raq7mtQ2L5gnGcHCr4hsDFysv6xPIrq3tubLN9Nfc865ia2DRKUyGE8xHrHmWm5mzHn4/XpUkI+9j7uXPnZgQvLs6+nBxrxwtefiuLfj5WmD5DBMIhIAEcDkddRQTyRkACuPqocYnEyj5p0iSXbZOEZViE2dCEJYSzFbxY+JJQmobxkC0aiwd/ps8I4bRm2q3uKgsmLkL44uIaFLxBt1Yfx8nGmvAGRBpiGFdnajSTMKdYE1tVdx7Kej/hBTDesGGDu99JQMS9H2Y8bSEyNUfBqqrX5CAH92DvGp2EElXcfzzbSFZFHC8uzfPnz8/E3+PW3a1bt0ziqjglVqzqPOl9IlCsBCSAi3XmNe7EEpAADmfq2Oy8+eabLn76iSeecC6+/fv3t8GDB7v4tVwbllI21j5TL3/2bq24DPs6vEkRvOWNn409cZW+5Ax1bRHChXInzXWeonq9L0vl5x9ro7cUIWQ5KPCid+utt67woMVb3eFM8ivi1RFoCDW5n4c3gxxMIIT57ZO+ceBQlfwAccrUHB6h6l8p7kKYe418Bz6OlzJFPLtpHIhQRo9MzcTx4uLMQVRYh6TVp6sriIAIVJWABHBVyel9IlAgAhLA4YJHpMyaNcsJ39dff92JFLJFI4Yrir2sTPAGszQnwcKbK1UslMQHY7Gk1a9f3yUYqop4yPWz4/D6ipKWhZW4iM8gZh2rOy7UuOrCWO7n4a0A7n8OLRDCCB8OGLC4kyegovs/CZmaw6NU/SshhFnH/uCMZyKHOhyg5VNQei8LX4uXJIn0icbcUz/eJ65C/PI8y2f/qk9aVxABEciGgARwNpT0GhEQgdQTYENLyanLLrvMue2xOaN+8FFHHeU2RsS24RLnN2zBTK38f9oFb3kLANGAEEZEwGG33XZz4iFtmYo58MCq6y28wfkP1mHG0kvSsjA3zVgXcT/nh3XK9b37eZifk/qbvIIBIoxwiWYt467OWm7QoIFby3iHJDlTc5zmNd9CmHllPl966SVXEQDhu2zZsgwSyhFRehArL8KX+1f3VJxWjPoiAtEQkACOhquuKgIikFACZIy97rrr7JprrnHZj5s0aeLKV1B+Cvffs88+2w455BAneL1LaxotvLlMnxcPuBLCz8euIiCS6rLLmBC8PnEVghfx6S1FhTjwYP0RV4lVmP6x/ohDpC9q4RDwmX6xCLOWEUO4wuKKXtb8I5i4/yWacuMflRBm/vCWWLRoUcateeHChcYhEo0M4D5xFaKX8m6au9zmTq8WgTQQkABOwyxqDCIgAtUmwAaXjZK3EpD509di9SWADjjgAOvTp49zk0uqsKs2qEqsaJT1QTzADvdBBBrZduO+yWTj7GvwInr58Ztm+h488KDWaSHnH28E4oPJzk0j+yyciz0Ou7prG65YgZl7fiOkgo01gEWYHAGFnP/qjjNO7/dCGK8brOxVcY3mfRxQkrgKC++cOXMySee4J3hu+zjeZs2aKaFcnBaA+iICBSIgAVwg8PpYERCBeBFo2rRpxjXOJz/p2rWriwecNm2aPfXUUy4mcMCAAXbRRRfJ6lbB9PnYVayViEjvsluV5GJRrRJfi9VbePntBQ+Cl424T1yF8IljFmY8FHDZ9fVtSZJFjHCY2Yyj4h+H63Lo5V3a+Y0A9g3h5Ocfyzvxq/w/3g2IYLwb4rgm4sC1Kn0oLYR5ZhDrDuvShw3cu8Tt+jheQlPI7E/DW4fydj6Ot0OHDs6FPe4HcFVhpveIgAhUnYAEcNXZ6Z0iIAIpIoDbMxtc4sHatWu3UQIcNlwIYITvG2+84SxAQ4cOtd///vduc6VWNgEEpXfZxUqDoCB2FXGZ78Yc+lqsXvQibHxjw03/+EHwspFOSitd1odDG7IZV5TEKSljC7Ofvhazn38s/r5xaODnn9+l72vWL94NWN4Ra/w/4kwlqsKcIXNsOWzAIjxmzBh3QMFz99BDD3WWXS96V61alflgwlS84OXQEg8NCd5w50VXE4G0EZAATtuMajwiIAKREWADPXnyZBs+fLizOCDmSJTVo0cPuURWQB3hiVs0AoKGSzQuu1FbKtlMs4H2Vj7v0k4fghY+YmnTkLSLcWIR9tmM05qQLNsb3Jem8oI3WJoKARsUvNmuRYQw4oyDHSzIHDJw2LDLLrvoGZDtxFTyOg6riLkfOHCg/fWvf3WeGcyPt9DD2sfxUp6IDPQSvCHB12VEoEgISAAXyURrmCIQFgFiraZPn25PPvmkLV261G22sYjuv//+dv7557t4q7Q3soqSJAurMeWAOnfu7KwVrVu31kasgsmHG4myiK9kw4obKeIhLCt6RS6tlBDyScv4HdZnxm2tl07ihCUbSyViOO0uu/nM1Iy4xg0XayWeBKrVXL07AZ541/h6vORg4NmKNZcDM54bzC/W3tGjR9vRRx+tZ231kOvdIlDUBCSAi3r6NXgRyJ0ALn9YQLCgEV+FFYWyEmxeEDV/+tOfbNCgQblfOGHvQGjAgbJJU6ZMcVl5e/fubSNGjHDCThaJ8icUSyUbWixy1RFoCI9gDC8xsb5hMQoK3mKpT+zHz3rESwHLO5Yzn8gtTZZKH8fNeuJQBauhT1wWLE0WZaZmhNv777/vSlR5SyVx2ElI/FbIRy5zx+GBTzpIHO/69etdl1irHTt2zLg1t23b1v0fh44TJkxwbtKtWrWyGTNmOBd0NREQARHIlYAEcK7E9HoRKHICuJz17dvXjj32WGf18G3ixIl25plnOivTkiVL3El9MTQ2cq+99ppdfPHFNmvWLMfkrLPOsgsvvLAgsa5JYQ63jz76yLnsItBwJUU4VOTOiMBA5Hi35mAMJ+/3Lq0I32xdWpPCq6r99C67xK5yYACXJAs0n6nZu7X7OO5g4jIfx53PTM2+VjNimD/jcUAtccru6DDM3AEhInb27NmZOF7cyH1r0aJFRvDiRcQBa1ncCKNACGMpptRR2r0aqnrf630iIAIVE5AA1goRAREIjQCJSp5++mkbOXKks4QWU2OD98QTT9jgwYNt+fLlrjTNsGHD7LTTTktFfGlUc4lAw5UUgYbARTgQW12rVi1XdxXBG4zh9P3ASuQtvAgehJ2ERvmz5C2VWN0QaAgMhDDrNM7cvFu7P/QoK47bZ2uOQ+Iy1jDWYIQwzJPCOez72yedw5XZJ65avHixE8I06u9Smogf4nlzPSiArcRv2LOm64lA8RCQAC6eudZIRSByAog/Tuf79+9vWISLsWGRmjRpko0aNcqVp2nUqJFLlNW9e3clyalgQSDKsAghHBDFbG7Z5PpGkqqgSzNCOc7CLa5rH4GGCPacibEkIRkiMg7NZ2r2gre0W3tFmZrj0H/fB1866YMPPsjUt+XAgXwJaVy3CFvu19dff93V48W1ed68eS5RGI15I8O+r8fLIVcaOcRpDaovIiAC5ROQANbqEAERCI3AMcccYw8//LDLkowALOZGcrCrr77abrjhBufiS3mOsWPH2r777quN348LA6ELJ+/Oyp/5t2ArVgta1PcOwoQDB6zviBeEGUI43yWqvJXfC17iwn3Dyk+//MFHEt3aS3OO24FDddYZ9yox5j5xFe7NeGzQCAXp1KlTxq2ZBIEcakn0Voe43isCIhAWAQngsEjqOiJQ5ATYCDVt2tSd+BOb1aZNmyInUhL3hqXt0ksvtalTpzoeffr0cYmzSEZUbJvBYJZe3Jr58YKXeE2Ejhc7/J01tW7dOscJXsRUqrZtuLcVmXZxP/clqurUqeOEMBb2KBrzjcj1hx4IJr8GcGH27sz8TpOVH9dtOP/zn/90zwXWORZhfiel0W+8WnziKn5j4aZxvyJyfT1exK/CEpIys+qnCBQfAQng4ptzjVgEQieA+2q3bt3spZdesuOPP96mTZsW+mck+YJsHBcuXOgSZbFp3Hrrre2cc85xZaO22267JA+twr4zbkofBTM1e7dmNsxYw7xLK5bHspIWIZBWrVrlLMVYkIgd5CcO8Z5pmjjmyR84MC6SkXHgUF2rK2uAZGXewls6U3Pw0IM1kPZDIbxB/IGDt7wjhLkX4tb83PFc96L3zTffzHQTN2Zfj5fnf1rdu+M2L+qPCIhA9QlIAFefoa4gAoki0LNnT5ekKZd2zz33WPv27ct9y8CBA238+PFuw4zQi0s8YS5jzMdrsXRRumPo0KFGPWUSv2AdPuWUU1Ih6IJlabyFl5hOGsKGTb638PLnbJPY+Nq2lE7CYpnGkj75WH/ZfAYClczczF9VazUzR17wcp24ZGrOZvz5eg2xzQhhSlXRSPqG5b2QB2LcZxxm4sHj3Zp5nvt7mIRpXvASy0sN77QfWORrPehzREAE8ktAAji/vPVpIlBwAi1btjSycebS2AyRwKSsNnr0aCfiEHNYCtjEqVVMAEFAkrDLL7/clQahZBQcDz744ERtKNkwI3aCFl4vdiCARc+7tO6www7VFvkcIOBCiqWSz8GSznrDbVcb8fDuOubV12rGMlyZ5T1pmZrDI1X9K2EdZz3jWkxjLWMRJvY9H417isM4L3jnzJnjXNRpuKB37tw5k7iK/AXZHlrlo+/6DBEQARGoKgEJ4KqS0/tEQARswoQJNmDAAGfZw0UOca2WPQGEI4mxbr75ZiNGEKvKmDFjXCx1XAUdLpw+fpPfPssro8Z65S28CF4yN0fRcKOm1AzZjPkz6w93zCTFU0bBJexr+phPLMIcdDCfe+yxh9WrVy8Tx8saKCtTs09ehbVerXICHDTAmQMxGozxqAk7Fps55RDJlybiue3jvxG37dq1y8TxduzY0cXcx/VZVDlVvUIEREAEyiYgAayVIQIiUCUCxPmS0Ilsn9T+JemJWu4E2JCSjRcr+gMPPODiYE8++WSXKItNcKE3nwjzoIUXAewbm3Nv4UV85lvsYAXGjdRnMsaNFCGcL+tZ7rOdzHfgAgvnNWvWbFSaitH4TM1+HVQ3ZjiZhMLrNbHuWIQ3bNjg7v2dd965WrHYPF+4Jt45XvRi8fWtcePGLn/DQQcd5Lx8OLgq9DMnPJq6kgiIgAhIAGsNiIAIhERg5syZ9tvf/tZtlB5//HE75JBDQrpy8V6Gjer8+fPtoosucptVxOWgQYPsvPPOC90KVBFlRKUXvFj3sPz5hrjxSasQvHHJyEwfsZ599NFHrqskcMKNlMMZtdwJBDM1swaC5ak4oGGt8gNfXNDjcFCT+yjj/Q7uQYSwj8X2SckqW9PMC/cwzxIveF955ZXMwQWCGk8T/7PrrrtK8MZ7Kah3IiACERCQBTgCqLqkCKSZADFixKpiFXrooYecEFYLjwDi45FHHrFhw4YZSZ/YsFJX+cQTT6x2DG1ZvWQegxZeYhJ9Y7MdLEtT2eY7PApVuxJCDWaMB6G22267OZfdqFyxq9bL+L2rdKZm+AWzdXu3dtYCbu7eBR03dP7MvyGElQU4/LnlAILDHdY2axorPDXFyYTuG3NAdmYfxzt37tyMWzpx+F26dMnE8WLxVRxv+PMUpyviPcA8U0KOg0DWj5oIiMDGBCSAtSJEQARyIsBmmEyxZABlY1VWI3FKv379crquXrwxAWJryax9xRVXuJjb5s2bu0RZZGGtjosiWV59hmauS+yhb7izBi28SazjiZhjA4gQRswjflmrDRo0KLPMUrGuu2CmZtZB6WzdweRlZZWnghuWRuKwqQXLwQ3us7ig81stPAJ+Tb/xxht2wgknuHwBvXr1slatWrms+y+88IITOzTWe4cOHTJxvGTv59+q88wIbyS6Uj4InHrqqUblBtaNBHA+iOszkkhAAjiJs6Y+i0ABCWSzkerbt69Nnjy5gL1Mz0cj5hC+t956qxMchx56qF155ZXuhD+bucA6xIGFT1xFhlc2Rn6zHLTwklU5m2smgS5jJLkPbqQIhmJ3160oUzMW3GAsd641luFLjDDJleAeh5I+SVij2fbRZ+VG6E6fPt1efvllZwn2jSzyeOUQx8uhJPOZlvs4W0Z6XQmBZ555xq2D/v372+233y4BrIUhAuUQkADW0hABERCBmBNgA4yQwy0at3NcGDlk8OWngt3HEoe7pK/Dyp+94EXYeHdWfpMsKu0bZQ4AsFCSaAzrN+IAKyXuumluQdf20pmaOegIWvrDSl5GNmjWqY/FJjYYCxSfp5Y9Ae5XDhUQuj6O9/XXX3dWdhreDGSKX7JkiTt0IAv6H//4R5czAJdnteIkQIJCPIXIzfDYY49Zw4YNJYCLcylo1FkQkADOApJeIgIiIAJxIMDGmPg+EmWxOUbMnXvuua781IsvvmjEZ7M5xgWOhlDGHdWLnWK2DCEIEcHeXRcmCOG0CIagpR/B62u5sg7YEPs1wO+oY7n5bOIOfSbjbBM4xeEeK0QfuK8Rt9Rnf/bZZ11JOe5vRDCNwyoyNBP+gHUPYYNbOnNONv6RI0c63iS04gAirAONQrDQZ1adwJAhQ2zcuHHOJZ7vAUI/5AJddZ56Z7oJSACne341OhEQgZQRYNP76quv2o033uiSZQXLErHxJSP3VVdd5TbNiLvy4jdThiXr4cALkeBrn2KlJIFT0sr3VJSpGUt/UPAWyrWdWHOEGS74rEM25SQlk0AzJ3hxG/eJq2bPnu1i8/2BBWXlvOBt3bq1S4BXnrcGng3EfPL+Cy64IOt7QS9MDwG8Adq0aWOnnHKK3XnnnS42XwI4PfOrkYRPQAI4fKa6ogiIgAiETuDRRx+1KVOmuNN9BAWN5DZYfbDwYS1C9BIvTBxg2l2bqwuY5F8kyvJWSm8xias4yzVTc1zmn36vX7/eCWGSkiHkyGBMhu5cY42rO+eFfD8cPv74Y3f/erfm999/33WJuSKhlRe8iF/KoMVlDgvJTZ9dOQEOU0h8hocLNZ4J75AArpybXlHcBCSAi3v+NXoREIGEELj88suNn3bt2lm3bt3cZnn//fd38ZVkgCUxFlmjcfU97LDD3N/32WcfbaIrmV/chVetWuWyYSPIsFAizgpdKgbBhLXax3KXl6kZSy8xoHG39DOetWvXOus74+KgAQsVBzhx73tVHhGMl5howhK84F26dGnmUrimcg9Tj5ffJA6T4K0Kab0HbyDiv+++++5M+IsEsNaFCFRMQAJYK0QEREAEEkAAAYTFlzjeshobboTc0KFDDWsxYu700093f69Tp04CRli4LsKOxE1YKRFnWNQRKMSu5lOUZJOpGcFLXHdSradYq0jchPsv4yUeGdbUu84pXVjlAAAgAElEQVQn67BXG2sIV2TCE3wc74IFC1zmdhoCl4MrBC8/jDnJ4w2bn65XNQJ4EZAQDfdnYsd9kwCuGk+9q3gISAAXz1xrpCKQGgKIlLFjx7oEMGwAEAXdu3d3NXN32WWX1IyzKgNhI05CLBJlsQEnDpi4wLPOOitxca5VGX913oM4+8c//uHEGZZ03FBJlBWVda4QmZqrwyfM9/rs3GzUPWtEIYc1SRGGrJeVK1c64YGVl/vOJx/DM4N66F7wtmjRIrGHFmHOu64VLoEjjzzSnn76aZdArVGjRhLA4eLV1VJMQAI4xZOroYlAGgkQ64olZd68ec5qdMABB7h4J8Re7dq13b/vueeeaRx6TmNic84BwSWXXOL4EOM6atQoO/bYY1PpcpoTnEpejCUPZqtXr3bJirC4knkXV+PqtDhlaq7OOMJ8L+IXzhxkwYcDG5KSxbFMla8t7V2aEb5Ys2m4zLdt2zYTx0t4Ap4ESRHzYc6prpU/Aqwvnk8csAQb35Pz5893Hhb77bef+y++D0j6pyYCImAmAaxVIAIikCgC1L4l0VPHjh3dyTe1bGl/+tOfnKWza9euG7mCJWpwEXQWazkxYmSGpiYwrnJjxowxEu1oc14xcDaRWIPXrFnjXoh1EnGGZTibVjpTM8nLgjWZ45CpOZtx5OM1uEOTxAcLPIxgA+vqHjpUp+/0A4sull3ELj/Lly/PXBKLG4dxlCaiTBFJ6HRPVYe43psrgVzWG/cXOQ7UREAEJIC1BkRABBJEgHg6RAhCjlg7MqcGG6fglINYtGiRE3pqPxEgxpUkWrfffruLVcR1DpdxREYum6hiZEr2YuKDSTYGK9zs8TLAwhdsSc3UHKc55cCGQwdvWcWrgzXqD7qi7Cvzh0UabxJv5eVZwv1Cw3rmE1fh2kyyNN07Uc6Irl1VAooBrio5va9YCMgCXCwzrXGKQAoIsCllA0qsIIKkdEPQDR8+3EaMGGEjR45MwYjDHQIbfCxYJMaaMWOGS6p1xhln2MUXX+ziXNUqJkCdVUoncQCDyyvlfPyBjM/WjICiIYywXnorbxIyNcdp/jl0IGM0pYNohDtw34ddrxkr/bJlyzKJq8jazGfTSDhHiAViFysvyYYKnR08TnOkvsSXgARwfOdGPYsHAQngeMyDeiECIpAFgRtuuMHOP/98F8f64IMP/uwdTzzxhB1xxBHWs2dPe+SRR7K4YnG+BCHMYQKJsrCkI84GDx5sZ555posZUyufAG7RxKxiofSWQf9qBJMXvEnO1Byn+eewgcMuDhg4VKBsEuWTSlvfs+0za/+DDz7IJK7CrdmLbDJrEy/p6/HyZ8o1ycqbLV29Li4EJIDjMhPqR1wJSADHdWbULxEQgZ8R+OMf/2jXX3+9E8HE/JZuZMJs2bKltW7d2l555RURrIQASYemTp1qxFUjCogPI1FWr169lCjrR3YVZWrGgg5DrIhYJskYnaQsxkm6QRDAWN+JyaVuMNZ3fpiDihqCF8v97Nmz3aHPCy+84K7jW7NmzTJuzeQPIAmXBG+SVkb5ff3yyy9dnojHH3/cXnrpJXdwhQUfl/rf/e53xvdJPlzrC0FTArgQ1PWZSSIgAZyk2VJfRaDICfTv39/uuOMOl9n4yiuv/BkNLEWIEH6oiauWHYEvvvjCsK6PGzfOCYz27dtnEo0VmxjINVMzVmAyGLPh5L1Y01l/JERSC5cAYpY4bO5z1iwWW1z6Tz755Ex9bF5DQq2XX345E8f72muvuUMKGhZkX5qI30mvPxwu4XRdbdKkSS7Eg9a4cWPjsIPn29y5c+3zzz93ZYM4EFGd9HTNu0YjAtkQkADOhpJeIwIiEAsCEsDRTsPatWtd7DQbR8QcruQkzsLlNK1CuKJMzVgXEbLerZnaruVxIEEbyZt8FmNiqhHCabUwRbsSK766L0dEHDuZ35mfk046yc0VGZsRvyTTouGKjmXXx/Hus88+8m4o5OTl8bOnTJnixO6gQYOcAPbtww8/tB49ehgHIyeccILdf//9eeyVPkoERCAOBCSA4zAL6oMIiEBWBOQCnRWmar0IcfHmm2+6xFgzZ850MZAcPBAjHMfarLkONupMzbhdYqEk6zatfv36LnmTYqtznanyX88cUtIF99Ynn3zSZW0mVpiGi2vnzp0zgpfavFiK03qAEx7V4roShyS+VjNWYZ5zaiIgAsVDQAK4eOZaIxWBxBNQEqz8TSEiY9asWS5RFrHVWNeGDBniXAqrmoAof73/6ZMYB9ZAn6WZ3/nI1IwgI9aU+FNiVimZQ4x1ZTGrhWAU98/0rs8+jpfEVbic0xC2lEMjARkli3CNbt68uXPhJyGehG/cZ7cw/eOgytfzJqEdrvBqIiACxUNAArh45lojFYHEE1AZpPxPIa7QuBJedtllLvMx9W8pN3XUUUfF1pWUGNCg4CVzs2/5zNSMcFu/fr2zCFNaB/GLO3mDBg1iyy7/K+znnwg3hCzuq74e79KlS41/p8HQ1+Plt088xpxfffXVdtNNNxlzfvbZZ9vNN98chyGpDzEj8MYbb7iDEu5J4oGTdKgXM5TqjggkkoAEcCKnTZ0WgeIkQJylr7tK/BYZn4OtRYsWtmTJEmcJatOmTXFCimjUCLjrrrvOrr32WifmOnbsaGPGjLF27doV3MpWUaZm4nZ9DC9W7EK4OvqYVYQw4hx3aDLR1qtXr+DsIlouOV0WPhy0UJLr2WefdSWK5s+fb9zvNFzvu3XrlkleBbuKLLsc1HBIc+KJJ7o6vmoiUJoAnizkOjjyyCNdTXQ1ERCB4iIgAVxc863RikDiCVCyB/dG4reIAfRubJRFIiEOCW/YQKtFQ2DNmjUuUdZdd93lMutSk5m/U5ImX+6muWZqjoZE7lel35SbIn6V7NFYo0mUlYbY6lxpsHZwEcfCyw/Jq3wcLyWlOnXqlInj5aCL2N58ra9cx6LXJ4sAuQ1wjyc2fOHChcbBqZoIiEBxEZAALq751mhFIPEEcG088MADnYWIuC0sPNR35O+1a9e2efPmOTddtegIYLHD0k5iLA4hcB8cMGCAixcm627YLaxMzWH3q6rXw2KNCKZ8EiwRwAhhBHFaG+MkMZh3aeaQiozZNGKk8djAnfmggw5y4hcruQRvWldD4ca1YsUKd3hKbD45Jc4777zCdUafLAIiUDACEsAFQ68PFgERqCoBkhqNHTvWla/AooaLa/fu3Z3bI3U+1fJDAFFDFl6EMDF1CLlhw4bZ6aefXi1X46gzNeeHTuWfwjp+++23jbIsNA50yBiNBTTpjTkktvKll15yHhkI32XLlmWG1bBhw4xbM8KXe1iCN+mzHu/+473C4QoHplQUIKRDTQREoDgJSAAX57xr1CIgAiIQGgEsmnfffbeNGDHCqCWMNfPKK6+0ww8/PKtkT4XK1BwagGpeCKGIO/CGDRucCCRJFomeChGvXNWhMIesA1xKvZWXP+PqTSN23yeuoiYvGbEleKtKW+/LlQAJ0vAW4hDmtNNOszvvvFPrL1eIer0IpIiABHCKJlNDEQEREIFCEkDIjRs3zojHpswIG04SZVGmprTYwZUdN0Sfrbm8TM0kriL+sxgaAhghDEfiExGJlE+K6/hxTV++fLlLXIXonTNnjkuQRiM2n/lH7OLWTMbduI6jGNZWMY+RNck6pF50r1697MEHH9RaLOYFobGLACX0fvB1BYRDBERABERABKpJgK8UYjuHDx/uyifx9969e9s555zj4oYRSmT7xYXd18SNQ6bmag47tLfDCys6rtG4SBNfjVt0/fr1C26x8nMbjOMlrpeGYG/fvn0mjrdDhw7Ogi0rb2hLQxeqAgGyruOJwiHNoYce6jI+J8mzogpD1ltEQASyICABnAUkvUQEREAERCA3AtRxnTx5sl1zzTUu5i7YatWqZbfddpuzDBP7ScIjtY0JYF3lIOGdd95xrsXbbrutK50Eu3yJSgTvp59+6jI0e9G7atWqTEebNGmSEbxkX69Ro0be+qb1IgKVESDrOlnqH330UeeNQL4CDtvUREAEREACWGtABERABEQgFAIkmaE80jPPPGMvv/xypo4r2Y35IUM0Ym7gwIEuDs9bgEP58JReBF4cIPCDKMYlnBhrxGbYDcGLxYyM6l7wvvLKK+5zabvssstGcbz8PV9iPOyx6nrpJ3DjjTfaoEGD3EB79uxp22+/fZmDprY5B0tqIiACxUNAArh45lojFQEREIFICZBgpmnTps7K0qVLFxd3xw91NkmGNGnSJBs1apR9/PHH1qhRI5e1m+zdlMFRq5gAMdJYgzlkoNWtW9dZhKtj0ULwIm6XLl2aEbxz58518ds0RLafR+J4mTPF8WqlJoUA9cl53lTWKElGvL2aCIhA8RCQAC6eudZIRUAERCBSAggqBFS7du3KjbP77LPP7KqrrjKsM8S4UtOZRFn77ruvrIlZzA4Jfd566y1bt26d40XZL+peZxvXyBy99957TvDy88ILL7js0zSuQeyur8fLPGKll5U3i4lJ0Et8Gblp06a5WtTBMnJY9dVEQAREIO0EJIDTPsManwiIQN4IYDl7+umn7fHHH3f1T3FbxWKGpe53v/udqz1JLGexN0QYG+9LL73Upk6d6nD06dPHJc6KQ7KnJMwPGbTJGM2BAmusdu3arnwSbubBBuv169fb7NmzM1ZeLF6+YZ33gpc4SdanBG8SVkDV+ognQbdu3WzevHmu7jRzzoEIGZJZQ/w7BypqIiACIpBmAhLAaZ5djU0ERCCvBHDxPeOMM9xnNm7c2Jo1a2b//ve/nVWU0ja4kGJxoyaqmrkM0dSKvfjii+3555937rxkiz7//PNdzLBaxQTghzs5FuE77rjDZs2aZeedd57169fPiN31cbyLFy92rGm77757xjUd4YsrtQRv8aw0Dp1Gjx5tHTt2dId1/kCO0mUXXHCBkcyMe1FNBERABNJMQAI4zbOrsYmACOSVAGV/ELskXkEA+/bhhx9ajx497LXXXrMTTjjB7r///rz2K+4fRhzq9OnTbejQobZy5UqrV6+esw6ffPLJrryOWvkEELYkyrryyitdjDUWYWrwkoWbhnsrbua+Hi8JtCR4i3NFffPNN+7wjTVCKTKysAcb3gCUKlu0aJG1adOmOCFp1CIgAkVBQAK4KKZZgxQBESg0AbIi77///q6uK1bhbGM2C93vfH4+G/SJEyfa5Zdf7tx2KbODterggw+WaAtMBAcGWH29hRf3ZsoVsbZwt1+xYoVRAqZ58+Z20003OaueRG8+V3I8P4v1gtWfutKsn9KNpHSEIYwYMcJIIKUmAiIgAmklIAGc1pnVuERABGJFgPhgLHO0f/7zny7+Tq1sAsS3jh071ok3yvKQgRghTIbpYhRy3tXZJ67CRZUawTR4tG7dOhPH26lTJ+duj0WYwwSybx911FE2YcIErbkiv+FuuOEGF15AbdwHH3zwZzSeeOIJO+KII1zJoEceeaTIaWn4IiACaSYgAZzm2dXYREAEYkPgjTfecBY5suoiULDWqZVPANFHsiZcoR944AFXKgmX6Msuuyz1Qo6xk+2ZRGqIXYTvm2++mYGFlRdLHm7N/K5Zs2aZBwMkybrkkktszpw5tmrVqswBjNZdcRIgCd/111/vRDAxv6UbseItW7Z0ByrEkKuJgAiIQFoJSACndWY1LhEQgVgRIDkWMZpHHnmkzZgxI1Z9i3NnEIPz58+3iy66yAlCrOjEWJPsyVvU49z/bPrGGLHUEnvprbwkByO2l0Z2Xi94Eb2/+tWvcrKEY1Hfcccds+mKXpNiAv3793fJ0jgUwUOgdMMtmhhxfjgwURMBERCBtBKQAE7rzGpcIiACsSEwc+ZM51pIQieEDclm1HIjQNzrww8/bMOGDXPxi5RLwhpM+STKACWtMR5idb3gxUpLbDgNYd+5c+dM4ipqJCdxjEmbk7T3VwI47TOs8YmACGRLQAI4W1J6nQiIgAhUgQAih+RXWOGIwcNyqVZ1AsQE33bbbc6C9cknnzi38jFjxrjapnGOD8bKS+y3T1yFazPZwWmI23bt2mXieClRg4t8nMdT9RnUOwtFQC7QhSKvzxUBEYgbAQnguM2I+iMCIpAaAmvWrDGSEq1evdrYfF533XWpGVuhB7JhwwaXGOvWW281skcfeuihThRTfioOwhHBS7mZF1980Yle6j9zGOIb/US0k+CLMkU77LBDLPpd6HnV50dHQEmwomOrK4uACCSLgARwsuZLvRUBEUgIAayTBxxwgC1btsxOO+00u/POOyVwQp47RCbu0MQ0PvTQQ86Seuqpp7q/161bN+RPq/hy9AUhTryyt/KSSIhyRDSyfvs4XkTvrrvuqvWQ1xnSh6kMktaACIiACJQQkADWShABERCBkAmQwZdkRQsWLLBevXq5kiOK4QwZcuByiM+5c+fahRdeaPPmzbPtttvOZbo955xzbOutt47sgxG3ZGcOxvFS7oq2/fbbW5cuXTJuzdQ01hqIbCp04SwIcEBTp04d55nw2muvuYzPwUZugiVLlrhkbG3atMniinqJCIiACCSTgARwMudNvRYBEYgpAWJUDz/8cHv22WedWy4Zn7fYYouY9jZd3SKxFJZgEmW98847zso6fPhw6927dyjiE6H9/vvvZwQvbs3r1q1zEClv1aFDh4zgbd++vfu3OLhjp2uWNZrqEKCsGKED5CV4+umnM5nUKYt0wQUXWNeuXV3pLTUREAERSDMBCeA0z67GJgIikFcCWASPPfZYe/TRR53785NPPhmpBTKvg0vQh3399dd2880329ixY13yMSxdJMrCIpuLIEXw4so+e/bsjFvz22+/nSFBAi7cmnFp5tpYnnO5foKQqqspIcC9Qcw5rvq45fOcIkcBf6fcFh4Ue+65Z0pGq2GIgAiIQNkEJIC1MkRABEQgJAI33nijq1FL69mzp3ODLatde+21VqtWrZA+VZcpjwDW2SuuuMImTJjgaupimSdRVsOGDcsUqgheBALu1D5xFa6i/DutQYMGzrXd/9SrV0+CV8svcQS++uordzh0//332wcffGA77bSTde/e3d0reE2oiYAIiEDaCUgAp32GNT4REIG8ERg5cqSNGjWq0s979913bY899qj0dXpB9QkgXletWmVDhw51lnlqMZ9++unu71i8sNovXrzYuazj+okFDBFM23HHHZ1LKIIXKy/CedNNN61+p3QFERABERABERCBghGQAC4Yen2wCIiACIhAvggghHFlvuiii2zhwoX2y1/+0rl6UosXN2katXeJjfRuzSQCQjDLrTlfsxSvz6Fs1fTp010ow9KlS13yqJo1a7o1QpI13IfVREAEREAEkkdAAjh5c6Yei4AIiIAIVJEAibIeeOAB69+/v5Gxmcy3Bx98sLPwUrN5m222keCtItu0vQ13YGp5b7vtti7BGa7ClDV744033BohcZQPeUjb2DUeERABEUgzAQngNM+uxiYCIiACIlAmAcoXrV271ll7ZeHVIimLAIciffv2dYnt8BjwbeLEiXbmmWe6zOKUDaLElZoIiIAIiEByCEgAJ2eu1FMREAEREAEREIEYEKDEGWWEiPsfMWJEDHqkLoiACIiACGRLQAI4W1J6nQiIgAiIgAiIgAiY2eDBg+2aa65xrvRYhNVEQAREQASSQ0ACODlzpZ6KgAiIgAiIgAjEgMAxxxxjDz/8sA0fPjyrzO8x6LK6IAIiIAIi8CMBCWAtBREQAREQAREQARHIksDbb79tTZs2tf/+97+2aNEiI1u4mgiIgAiIQHIISAAnZ67UUxEQARGIhMCGDRuscePGtm7dOvv1r39tb731ViSfo4uKQNIJfPvtt9atWzd76aWX7Pjjj7dp06YlfUjqvwiIgAgUHQEJ4KKbcg1YBERABDYmcOqpp9o999xj1MqVANbqSAuBnj172vLly3MaDvdB+/bty33PwIEDbfz48a6GNPWkKY2kJgIiIAIikCwCEsDJmi/1VgREQARCJfDMM8+4Grgk87n99tslgEOlq4sVkkDLli1t8eLFOXXhueeeswMPPLDM94wePdouvfRSq1u3rrMA77XXXjldWy8WAREQARGIBwEJ4HjMg3ohAiIgAnkn8NVXX1nz5s1tyy23tMcee8waNmwoAZz3WdAHJoHAhAkTbMCAAVajRg17/vnnDXGtJgIiIAIikEwCEsDJnDf1WgREQASqTWDIkCE2btw4e+GFF6xBgwb2q1/9SgK42lR1gbQRIM63T58+9stf/tLV/u3UqVPahqjxiIAIiEBREZAALqrp1mBFQAREoITAkiVLXPbaU045xe6880577733JIC1OESgFIGZM2fab3/7W9tkk03s8ccft0MOOUSMREAEREAEEk5AAjjhE6jui4AIiECuBL7//nvr0KGDvfvuu7ZixQqrWbOmBHCuEPX61BOYM2eOHXzwwfa///3PHnroISeE1URABERABJJPQAI4+XOoEYiACIhATgRuvPFGGzRokN19991GBmiaLMA5IdSLi4DAjjvuaJ9++qnzjOjSpUuZI+7cubP169evCGhoiCIgAiKQHgISwOmZS41EBERABCol8P7771vTpk2d+zPJfHyTAK4UnV5QZARwe66s9e3b1yZPnlzZy/T/IiACIiACMSIgARyjyVBXREAERCBqAkceeaRL5EN5mEaNGkkARw08xde/4oorbPjw4W6E9957r5100kkpHq2GJgIiIAIikBYCEsBpmUmNQwREQASyIIBVa4cddrAWLVps9Oqvv/7a5s+f7zLd7rfffu7/yH5br169LK6qlxQbgZUrV7o19M0339gPP/wgAVxsC0DjFQEREIEEE5AATvDkqesiIAIikCuBbNw6/TVJkrXHHnvk+hF6fcoJIHgPPPBAQwSTTG369OkSwCmfcw1PBERABNJEQAI4TbOpsYiACIhAFQkoBriK4IrwbXfccYf179/f7rvvPvvb3/5mU6ZMkQAuwnWgIYuACIhAUglIACd15tRvERABEQiRgARwiDBTfKm1a9da48aNXRK1WbNmuSziEsApnnANTQREQARSSEACOIWTqiGJgAiIQK4EJIBzJVacrz/uuONsxowZtnTpUtt7770lgItzGWjUIiACIpBoAhLAiZ4+dV4EREAEwiEgARwOxzRf5S9/+YuRRXzUqFGZ7M+yAKd5xjU2ERABEUgnAQngdM6rRiUCIiACIiACoRH4z3/+Y02aNLGtttrKlixZYltuuaW7tgRwaIh1IREQAREQgTwRkADOE2h9jAiIgAiIgAgUikDPnj1t+fLlOX38PffcY+3bt3fvOffcc+3mm2+2Z555xn7zm99kriMBnBNSvVgEREAERCAGBCSAYzAJ6oIIiIAIiIAIREmgZcuWtnjx4pw+4rnnnnPljhYsWGAdO3a0Pn36GKI42CSAc0KqF4uACIiACMSAgARwDCZBXRABERABERCBuBIYOXKki/tFRNeoUWOjbq5YscI++ugja9SokdWtW9e6d+9uQ4YMietQ1C8REAEREAERMAlgLQIREAEREAEREIFyCXgBnA2ivn372uTJk7N5qV4jAiIgAiIgAgUhIAFcEOz6UBEQAREQARFIPgG5QCd/DjUCERABESg2AhLAxTbjGq8IiIAIiIAIhERAAjgkkLqMCIiACIhA3ghIAOcNtT5IBERABERABNJFQAI4XfOp0YiACIhAMRCQAC6GWdYYRUAEREAERCACAhLAEUDVJUVABERABCIlIAEcKV5dXAREQAREQAREQAREQAREQAREIC4EJIDjMhPqhwiIgAiIgAiIgAiIgAiIgAiIQKQEJIAjxauLi4AIiIAIiIAIiIAIiIAIiIAIxIWABHBcZkL9EAEREAEREAEREAEREAEREAERiJSABHCkeHVxERABERABERABERABERABERCBuBCQAI7LTKgfIiACIiACIiACIiACIiACIiACkRKQAI4Ury4uAiIgAiIgAiIgAiIgAiIgAiIQFwISwHGZCfVDBERABERABERABERABERABEQgUgISwJHi1cVFQAREQAREQAREQAREQAREQATiQkACOC4zoX6IgAiIgAiIgAiIgAiIgAiIgAhESkACOFK8urgIiIAIiIAIiIAIiIAIiIAIiEBcCEgAx2Um1A8REAEREAEREAEREAEREAEREIFICUgAR4pXFxcBERABERABERABERABERABEYgLAQnguMyE+iECIiACIiACIiACIiACIiACIhApAQngSPHq4iIgAiIgAiIgAiIgAiIgAiIgAnEhIAEcl5lQP0RABERABERABERABERABERABCIlIAEcKV5dXAREQAREQAREQAREQAREQAREIC4EJIDjMhPqhwiIgAiIgAiIgAiIgAiIgAiIQKQEJIAjxauLi4AIiIAIiIAIiIAIiIAIiIAIxIWABHBcZkL9EAEREAEREAEREAEREAEREAERiJSABHCkeHVxERABERABERABERABERABERCBuBCQAI7LTKgfIiACIiACIiACIiACIiACIiACkRKQAI4Ury4uAiIgAiIgAiIgAiIgAiIgAiIQFwISwHGZCfVDBERABERABERABERABERABEQgUgISwJHi1cVFQAREQAREQAREQAREQAREQATiQkACOC4zoX6IgAiIgAiIgAiIgAiIgAiIgAhESkACOFK8urgIiIAIiIAIiIAIiIAIiIAIiEBcCEgAx2Um1A8REAEREAEREAEREAEREAEREIFICUgAR4pXFxcBERABERABERABERABERABEYgLAQnguMyE+iECIiACIiACIiACIiACIiACIhApAQngSPHq4iIgAiIgAiIgAiIgAiIgAiIgAnEhIAEcl5lQP0RABERABERABERABERABERABCIlIAEcKV5dXAREQAREQApfxS8AAAW8SURBVAREQAREQAREQAREIC4EJIDjMhPqhwiIgAiIgAiIgAiIgAiIgAiIQKQEJIAjxauLi4AIiIAIiIAIiIAIiIAIiIAIxIWABHBcZkL9EAEREAEREAEREAEREAEREAERiJSABHCkeHVxERABERABERABERABERABERCBuBCQAI7LTKgfIiACIiACIiACIiACIiACIiACkRKQAI4Ury4uAiIgAiIgAiIgAiIgAiIgAiIQFwISwHGZCfVDBERABERABERABERABERABEQgUgISwJHi1cVFQAREQAREQAREQAREQAREQATiQkACOC4zoX6IgAiIgAiIgAiIgAiIgAiIgAhESkACOFK8urgIiIAIiIAIiIAIiIAIiIAIiEBcCEgAx2Um1A8REAEREAEREAEREAEREAEREIFICUgAR4pXFxcBERABERABERABERABERABEYgLAQnguMyE+iECIiACIiACIiACIiACIiACIhApAQngSPHq4iIgAiIgAiIgAiIgAiIgAiIgAnEhIAEcl5lQP0RABERABERABERABERABERABCIlIAEcKV5dXAREQAREQAREQAREQAREQAREIC4EJIDjMhPqhwiIgAiIgAiIgAiIgAiIgAiIQKQEJIAjxauLi4AIiIAIiIAIiIAIiIAIiIAIxIWABHBcZkL9EAEREAEREAEREAEREAEREAERiJSABHCkeHVxERABERABERABERABERABERCBuBCQAI7LTKgfIiACIiACIiACIiACIiACIiACkRKQAI4Ury4uAiIgAiIgAiIgAiIgAiIgAiIQFwISwHGZCfVDBERABERABERABERABERABEQgUgISwJHi1cVFQAREQAREQAREQAREQAREQATiQkACOC4zoX6IgAiIgAiIgAiIgAiIgAiIgAhESkACOFK8urgIiIAIiIAIiIAIiIAIiIAIiEBcCEgAx2Um1A8REAEREAEREAEREAEREAEREIFICUgAR4pXFxcBERABERABERABERABERABEYgLAQnguMyE+iECIiACIiACIiACIiACIiACIhApAQngSPHq4iIgAiIgAiIgAiIgAiIgAiIgAnEhIAEcl5lQP0RABERABERABERABERABERABCIlIAEcKV5dXAREQAREQAREQAREQAREQAREIC4EJIDjMhPqhwiIgAiIgAiIgAiIgAiIgAiIQKQEJIAjxauLi4AIiIAIiIAIiIAIiIAIiIAIxIWABHBcZkL9EAEREAEREAEREAEREAEREAERiJSABHCkeHVxERABERABERABERABERABERCBuBCQAI7LTKgfIiACIiACIiACIiACIiACIiACkRKQAI4Ury4uAiIgAiIgAiIgAiIgAiIgAiIQFwISwHGZCfVDBERABERABERABERABERABEQgUgISwJHi1cVFQAREQAREQAREQAREQAREQATiQkACOC4zoX6IgAiIgAiIgAiIgAiIgAiIgAhESkACOFK8urgIiIAIiIAIiIAIiIAIiIAIiEBcCEgAx2Um1A8REAEREAEREAEREAEREAEREIFICUgAR4pXFxcBERABERABERABERABERABEYgLAQnguMyE+iECIiACIiACIiACIiACIiACIhApAQngSPHq4iIgAiIgAiIgAiIgAiIgAiIgAnEhIAEcl5lQP0RABERABERABERABERABERABCIlIAEcKV5dXAREQAREQAREQAREQAREQAREIC4EJIDjMhPqhwiIgAiIgAiIgAiIgAiIgAiIQKQEJIAjxauLi4AIiIAIiIAIiIAIiIAIiIAIxIWABHBcZkL9EAEREAEREAEREAEREAEREAERiJSABHCkeHVxERABERABERABERABERABERCBuBCQAI7LTKgfIiACIiACIiACIiACIiACIiACkRKQAI4Ury4uAiIgAiIgAiIgAiIgAiIgAiIQFwL/H9t4IWBPiYYuAAAAAElFTkSuQmCC\" width=\"640\">"
      ],
      "text/plain": [
       "<IPython.core.display.HTML object>"
      ]
     },
     "metadata": {},
     "output_type": "display_data"
    }
   ],
   "source": [
    "fig = plt.figure()\n",
    "ax = fig.add_subplot('111', projection='3d')\n",
    "ax.plot(xx.ravel(),yy.ravel(),zz.ravel())\n",
    "plt.show()"
   ]
  },
  {
   "cell_type": "markdown",
   "metadata": {},
   "source": [
    "Отобразим границу принятия решений (z = 0), которая отделяет экзмпляры класса 0 от класса 1. Классификатор, использующий данную формулу без шума является оптимальным, в том смысле, что он корректно описывает зависимость класса от $x$ и $y$. С шумом он ничего не может сделать."
   ]
  },
  {
   "cell_type": "code",
   "execution_count": 60,
   "metadata": {},
   "outputs": [],
   "source": [
    "%matplotlib inline"
   ]
  },
  {
   "cell_type": "code",
   "execution_count": 61,
   "metadata": {},
   "outputs": [],
   "source": [
    "from matplotlib import cm, colors"
   ]
  },
  {
   "cell_type": "code",
   "execution_count": 62,
   "metadata": {},
   "outputs": [],
   "source": [
    "cmap = colors.ListedColormap(['blue','green'])"
   ]
  },
  {
   "cell_type": "code",
   "execution_count": 63,
   "metadata": {},
   "outputs": [
    {
     "data": {
      "text/plain": [
       "<matplotlib.collections.QuadMesh at 0x7febf817ce48>"
      ]
     },
     "execution_count": 63,
     "metadata": {},
     "output_type": "execute_result"
    },
    {
     "data": {
      "image/png": "[encoded data removed]",
      "text/plain": [
       "<Figure size 432x288 with 1 Axes>"
      ]
     },
     "metadata": {
      "needs_background": "light"
     },
     "output_type": "display_data"
    }
   ],
   "source": [
    "fig = plt.figure()\n",
    "ax = fig.add_subplot('111')\n",
    "ax.pcolormesh(xx,yy, zz >= 0, cmap=cmap, alpha=0.3)"
   ]
  },
  {
   "cell_type": "markdown",
   "metadata": {},
   "source": [
    "Сгенерируем данные для обучения и тестирования, используя формулу генерации с шумом."
   ]
  },
  {
   "cell_type": "code",
   "execution_count": 19,
   "metadata": {},
   "outputs": [],
   "source": [
    "from sklearn.model_selection import train_test_split"
   ]
  },
  {
   "cell_type": "code",
   "execution_count": 20,
   "metadata": {},
   "outputs": [],
   "source": [
    "from sklearn.metrics import zero_one_loss"
   ]
  },
  {
   "cell_type": "code",
   "execution_count": 21,
   "metadata": {},
   "outputs": [],
   "source": [
    "np.random.seed(7117)"
   ]
  },
  {
   "cell_type": "code",
   "execution_count": 22,
   "metadata": {},
   "outputs": [],
   "source": [
    "X_test = np.column_stack([_.ravel() for _ in np.mgrid[-5:5:50j, -5:5:50j]])\n",
    "y_test = true_curve(X_test[:,0], X_test[:,1]) + np.random.normal(0,1,size=X_test.shape[0])\n",
    "y_test = (y_test >= 0).astype(np.int32)"
   ]
  },
  {
   "cell_type": "code",
   "execution_count": 23,
   "metadata": {},
   "outputs": [
    {
     "name": "stdout",
     "output_type": "stream",
     "text": [
      "2500\n"
     ]
    }
   ],
   "source": [
    "print(len(y_test))"
   ]
  },
  {
   "cell_type": "markdown",
   "metadata": {},
   "source": [
    "Отделим случайные 500 экземпляров для обучения"
   ]
  },
  {
   "cell_type": "code",
   "execution_count": 24,
   "metadata": {},
   "outputs": [],
   "source": [
    "X_train, X_test, y_train, y_test = train_test_split(X_test, y_test, test_size=2000)"
   ]
  },
  {
   "cell_type": "code",
   "execution_count": 25,
   "metadata": {},
   "outputs": [],
   "source": [
    "training_set_size=120"
   ]
  },
  {
   "cell_type": "markdown",
   "metadata": {},
   "source": [
    "Из этих 500 экземпляров мы будем случайно сэмплировать обучающие выборки по 120 экземпляров. Всего возьмем 100 выборок. На основе этого оценим смещение и дисперсию классификаторов."
   ]
  },
  {
   "cell_type": "code",
   "execution_count": 28,
   "metadata": {},
   "outputs": [],
   "source": [
    "training_sets = [np.random.choice(500, size=training_set_size, replace=False) for _ in range(100)]"
   ]
  },
  {
   "cell_type": "markdown",
   "metadata": {},
   "source": [
    "Построим оптимальный классификатор"
   ]
  },
  {
   "cell_type": "code",
   "execution_count": 64,
   "metadata": {},
   "outputs": [],
   "source": [
    "class TrueClassifier():\n",
    "    def fit(self, X,y):\n",
    "        return self\n",
    "    \n",
    "    def predict(self, X):\n",
    "        return (true_curve(X[:,0], X[:,1]) >= 0).astype(np.int32)\n",
    "#         return  (2 * np.tanh(X[:,0]) + X[:,1]**3 - 1 >= 0).astype(np.int32)\n",
    "    \n",
    "true_classfier = TrueClassifier()"
   ]
  },
  {
   "cell_type": "code",
   "execution_count": 30,
   "metadata": {},
   "outputs": [],
   "source": [
    "true_pred = true_classfier.predict(X_test)"
   ]
  },
  {
   "cell_type": "markdown",
   "metadata": {},
   "source": [
    "Даже он ошибается в 13.5 процентах случаев из-за шума"
   ]
  },
  {
   "cell_type": "code",
   "execution_count": 31,
   "metadata": {},
   "outputs": [
    {
     "name": "stdout",
     "output_type": "stream",
     "text": [
      "0.13449999999999995\n"
     ]
    }
   ],
   "source": [
    "print(zero_one_loss(y_test, true_pred))"
   ]
  },
  {
   "cell_type": "code",
   "execution_count": 32,
   "metadata": {},
   "outputs": [],
   "source": [
    "from sklearn.neighbors import KNeighborsClassifier"
   ]
  },
  {
   "cell_type": "code",
   "execution_count": 33,
   "metadata": {},
   "outputs": [],
   "source": [
    "import scipy.stats"
   ]
  },
  {
   "cell_type": "markdown",
   "metadata": {},
   "source": [
    "Вычислим смещение и дисперсию классификатора.\n",
    "Смещение классификатора на экземпляре $x$ вычисляется по формуле:\n",
    "$$\\text{bias}=\\mathbb{E}_D L(y^*,y')$$\n",
    "Т.е. это отклонение от оптимального предсказания, усредненное по множеству обучающих выборок. Оптимальное предсказание нам известно для любого $x$ (потому что данные синтетические). Ожидаемое значение отклонения приблизим следующим образом: \n",
    "1. Обучим классификаторы на каждой из 100 случайных обучающих выборок.\n",
    "2. Для каждого классификатора вычислим предсказание $y'$ для выбранного $x$ и вычислим отклонение $L(y^*, y')$\n",
    "3. Вычислим среднее этих отклонений.\n",
    "\n",
    "Это было смещение на одном экземпляре данных $x$. Мы также можем вычислить <b>среднее смещение</b> классификатора, вычислив смещение на всех $x$ и взяв среднее. Эту величину мы будем называть просто смещением классификатора.\n",
    "\n",
    "Поскольку на практике мы не знаем оптимального классификатора, данную формулу трудно применить. Мы можем оценить смещение таким же способом, как описано, но заменив $y^*$ на $t$ - истинное предсказание на данных $x$. Замеренное таким образом смещение, как правило, будет переоценено, но тем не менее выполняет свое функцию - <i>оценивает ожидаемую ошибку модели, не зависящую от того, на какой обучающей выборке она была обучена</i>. \n",
    "\n",
    "Дисперсия модели на данных $x$ замеряется как среднее отклонение по $L$ предсказания $y'$ модели от основного предсказания $y_m$ модели на этих данных. Таким образом, дисперсия замеряет чувствительность модели к изменению обучающей выборки. Модели с низкой дисперсию выучивают примерно одну и ту же функцию, независимо от выбранной обучающей выборки. Модели с высокой дисперсией могут значительно изменять выбранную гипотезу при добавлении, удалении или изменении всего нескольких экземпляров данных.\n",
    "\n",
    "Формально:\n",
    "$$\\text{variance} = \\mathbb{E}_D L(y_m, y')$$\n",
    "Средняя дисперсия модели вычисляется как мат. ожидание дисперсии на экземплляре по всем экземплярам. Аналогично вычислению смещения, её можно приблизить, сэмплируя обучающие выборки и усредняя полученные дисперсии на экземплярах.\n"
   ]
  },
  {
   "cell_type": "markdown",
   "metadata": {},
   "source": [
    "Упрощенно - смещение модели говорит о её тенденции совершать одну и ту же ошибку независимо от данных, на которых она была натренирована. Дисперсия же говорит о тенденции модели делать случайные ошибки, в зависимости от использованных для обучения данных. \n",
    "Они обычно соотносятся с недообучением и переобучением. Модель с высоким смещением, как правило, не в состоянии хорошо показать себя даже на обучающих данных, поскольку её пространство гипотез не включает в себя функций, хорошо аппроксимирующих искомую. Пример - попытка выучить линейную модель, когда истинная функция значительно нелинейна.\n",
    "\n",
    "Модель с высокой дисперсией, как правило, имеет слишком широкое пространство гипотез, в котором множество функций хорошо аппроксимируют тренировочные данные, но могут быть совершенно непохожи на искомую. Таким образом мы приходим к переобучению. Например, через 9 точек лежащей на одной прямой (истинная гипотеза) можно провести бесконечное число полиномов 9й степени и выше. \n",
    "\n",
    "<img src=\"bias_variance_shoot.png\" width=400>"
   ]
  },
  {
   "cell_type": "code",
   "execution_count": 34,
   "metadata": {},
   "outputs": [],
   "source": [
    "def compute_bias_variance(classifier, training_sets_indices, optimal_labels):\n",
    "    predictions = []\n",
    "    for indices in training_sets_indices:\n",
    "        xx_train, yy_train = X_train[indices], y_train[indices]\n",
    "        clf = classifier()\n",
    "        clf.fit(xx_train, yy_train)\n",
    "        predictions.append(clf.predict(X_test))\n",
    "    predictions = np.array(predictions)\n",
    "    main_predictions = scipy.stats.mode(predictions, axis=0)[0][0]\n",
    "    print(main_predictions)\n",
    "    bias_with_noise = zero_one_loss(y_test, main_predictions)\n",
    "    bias = zero_one_loss(optimal_labels, main_predictions)\n",
    "    variances = np.array([zero_one_loss(main_predictions, pred) for pred in predictions])\n",
    "    variance = variances.mean()\n",
    "    \n",
    "    print('bias', bias)\n",
    "    print('bias-with-noise', bias_with_noise)\n",
    "    print('variance', variance)\n",
    "    \n",
    "    return bias, bias_with_noise, variance\n",
    "    "
   ]
  },
  {
   "cell_type": "markdown",
   "metadata": {},
   "source": [
    "Оценим смещение и дисперсию дефолтной логистической регрессии sklearn на ранее сгенерированных данных."
   ]
  },
  {
   "cell_type": "code",
   "execution_count": 65,
   "metadata": {},
   "outputs": [
    {
     "name": "stdout",
     "output_type": "stream",
     "text": [
      "[0 0 0 ... 0 0 0]\n",
      "bias 0.6045\n",
      "bias-with-noise 0.6\n",
      "variance 0.359775\n"
     ]
    }
   ],
   "source": [
    "res = compute_bias_variance(lambda: LogisticRegression(solver='lbfgs'), training_sets, true_pred)    "
   ]
  },
  {
   "cell_type": "markdown",
   "metadata": {},
   "source": [
    "Результат ожидаемый - данные не являются линейно разделяемыми, поэтому классификатор неизбежно ошибается, как его не тренируй. В зависимости от особенностей обучающей выборки, выбирается разный линейный разделитель, что также связано с тем, что размер обучающей выборки - всего 120 экземпляров."
   ]
  },
  {
   "cell_type": "markdown",
   "metadata": {},
   "source": [
    "Замерим эти же величину у классификатора 5 ближайших соседей"
   ]
  },
  {
   "cell_type": "code",
   "execution_count": 36,
   "metadata": {},
   "outputs": [
    {
     "name": "stdout",
     "output_type": "stream",
     "text": [
      "[1 1 1 ... 0 0 0]\n",
      "bias 0.06399999999999995\n",
      "bias-with-noise 0.15749999999999997\n",
      "variance 0.11594499999999998\n"
     ]
    }
   ],
   "source": [
    "res = compute_bias_variance(lambda: KNeighborsClassifier(n_neighbors=5), training_sets, true_pred)"
   ]
  },
  {
   "cell_type": "markdown",
   "metadata": {},
   "source": [
    "Этот классификатор способен выучить куда более сложные функции, чем логистическая регрессия, но плохоприменим в многомерных пространствах, требуя все больше и больше экземпляров данных для работоспособности."
   ]
  },
  {
   "cell_type": "markdown",
   "metadata": {},
   "source": [
    "Оптимальный классификатор, очевидно, независим от обучающей выборки, и имеет нулевое смещение, ибо это отклонение от оптимального классификатора."
   ]
  },
  {
   "cell_type": "code",
   "execution_count": 37,
   "metadata": {},
   "outputs": [
    {
     "name": "stdout",
     "output_type": "stream",
     "text": [
      "[1 1 0 ... 0 0 0]\n",
      "bias 0.0\n",
      "bias-with-noise 0.13449999999999995\n",
      "variance 0.0\n"
     ]
    }
   ],
   "source": [
    "res = compute_bias_variance(lambda: TrueClassifier(), training_sets, true_pred)"
   ]
  },
  {
   "cell_type": "code",
   "execution_count": 38,
   "metadata": {},
   "outputs": [],
   "source": [
    "from sklearn.preprocessing import PolynomialFeatures"
   ]
  },
  {
   "cell_type": "markdown",
   "metadata": {},
   "source": [
    "Мы также может построить логистическую регрессию поверх полиномиальных признаков. Модель ниже использует разделитель формы:\n",
    "$$w_1x + w_2y + w_3xy + w_4x^2 + w_5y^2 + b = 0$$"
   ]
  },
  {
   "cell_type": "code",
   "execution_count": 39,
   "metadata": {},
   "outputs": [],
   "source": [
    "class PolynomialLogistic:\n",
    "    def __init__(self):\n",
    "        self.poly = PolynomialFeatures(degree=2, include_bias=False)\n",
    "        self.logr = LogisticRegression(solver='lbfgs')\n",
    "        \n",
    "    def fit(self, X, y):\n",
    "        features = self.poly.fit_transform(X)\n",
    "        self.logr.fit(features,y)\n",
    "        return self\n",
    "    \n",
    "    def predict(self, X):\n",
    "        features = self.poly.transform(X)\n",
    "        return self.logr.predict(features)"
   ]
  },
  {
   "cell_type": "markdown",
   "metadata": {},
   "source": [
    "Можно заметить, что его показания на тестовой выборке достаточно хорошие"
   ]
  },
  {
   "cell_type": "code",
   "execution_count": 40,
   "metadata": {},
   "outputs": [
    {
     "name": "stdout",
     "output_type": "stream",
     "text": [
      "[0 1 0 ... 0 0 0]\n",
      "bias 0.04849999999999999\n",
      "bias-with-noise 0.14100000000000001\n",
      "variance 0.05540500000000001\n"
     ]
    }
   ],
   "source": [
    "res = compute_bias_variance(lambda: PolynomialLogistic(), training_sets, true_pred)"
   ]
  },
  {
   "cell_type": "code",
   "execution_count": 41,
   "metadata": {},
   "outputs": [],
   "source": [
    "logr = PolynomialLogistic().fit(X_train[:200], y_train[:200])"
   ]
  },
  {
   "cell_type": "code",
   "execution_count": 42,
   "metadata": {},
   "outputs": [
    {
     "name": "stdout",
     "output_type": "stream",
     "text": [
      "0.13749999999999996\n"
     ]
    }
   ],
   "source": [
    "print(zero_one_loss(y_test, logr.predict(X_test)))"
   ]
  },
  {
   "cell_type": "markdown",
   "metadata": {},
   "source": [
    "Натренируем его на случайной выборке. Нарисуем его границу принятия решений. Полученная граница относительно близка к оптимальной."
   ]
  },
  {
   "cell_type": "code",
   "execution_count": 68,
   "metadata": {},
   "outputs": [
    {
     "data": {
      "image/png": "[encoded data removed]",
      "text/plain": [
       "<Figure size 432x288 with 1 Axes>"
      ]
     },
     "metadata": {
      "needs_background": "light"
     },
     "output_type": "display_data"
    }
   ],
   "source": [
    "fig = plt.figure()\n",
    "ax = fig.add_subplot('111')\n",
    "ax.pcolormesh(xx,yy, zz >= 0, cmap=cmap, alpha=0.1)\n",
    "ax.scatter(X_test[:80,0], X_test[:80,1], marker='o', c=y_test[:80],cmap=cmap)\n",
    "\n",
    "grp = logr.predict(np.column_stack([xx.ravel(), yy.ravel()]))\n",
    "ax.pcolormesh(xx,yy, grp.reshape(xx.shape), cmap=cmap, alpha=0.2)\n",
    "plt.show()"
   ]
  },
  {
   "cell_type": "code",
   "execution_count": null,
   "metadata": {},
   "outputs": [],
   "source": []
  }
 ],
 "metadata": {
  "kernelspec": {
   "display_name": "Python 3",
   "language": "python",
   "name": "python3"
  },
  "language_info": {
   "codemirror_mode": {
    "name": "ipython",
    "version": 3
   },
   "file_extension": ".py",
   "mimetype": "text/x-python",
   "name": "python",
   "nbconvert_exporter": "python",
   "pygments_lexer": "ipython3",
   "version": "3.7.3"
  }
 },
 "nbformat": 4,
 "nbformat_minor": 2
}
